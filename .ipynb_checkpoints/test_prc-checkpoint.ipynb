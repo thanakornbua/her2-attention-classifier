{
 "cells": [
  {
   "cell_type": "code",
   "execution_count": null,
   "id": "24a85973",
   "metadata": {},
   "outputs": [
    {
     "ename": "ImportError",
     "evalue": "cannot import name 'process_all' from 'src.preprocessing.xml_to_mask' (c:\\Users\\tanth\\Desktop\\her2-attention-classifier\\src\\preprocessing\\xml_to_mask.py)",
     "output_type": "error",
     "traceback": [
      "\u001b[31m---------------------------------------------------------------------------\u001b[39m",
      "\u001b[31mImportError\u001b[39m                               Traceback (most recent call last)",
      "\u001b[36mCell\u001b[39m\u001b[36m \u001b[39m\u001b[32mIn[4]\u001b[39m\u001b[32m, line 1\u001b[39m\n\u001b[32m----> \u001b[39m\u001b[32m1\u001b[39m \u001b[38;5;28;01mfrom\u001b[39;00m\u001b[38;5;250m \u001b[39m\u001b[34;01msrc\u001b[39;00m\u001b[34;01m.\u001b[39;00m\u001b[34;01mpreprocessing\u001b[39;00m\u001b[34;01m.\u001b[39;00m\u001b[34;01mxml_to_mask\u001b[39;00m\u001b[38;5;250m \u001b[39m\u001b[38;5;28;01mimport\u001b[39;00m process_all\n\u001b[32m      3\u001b[39m wsi_path = \u001b[33m\"\u001b[39m\u001b[33mdata/Yale_trastuzumab_response_cohort/SVS/O09-03495.svs\u001b[39m\u001b[33m\"\u001b[39m\n\u001b[32m      4\u001b[39m xml_path = \u001b[33m\"\u001b[39m\u001b[33mdata/Yale_trastuzumab_response_cohort/Annotations/O09-03495.xml\u001b[39m\u001b[33m\"\u001b[39m\n",
      "\u001b[31mImportError\u001b[39m: cannot import name 'process_all' from 'src.preprocessing.xml_to_mask' (c:\\Users\\tanth\\Desktop\\her2-attention-classifier\\src\\preprocessing\\xml_to_mask.py)"
     ]
    }
   ],
   "source": [
    "from src.preprocessing.xml_to_mask import process_all\n",
    "\n",
    "wsi_path = \"data/Yale_trastuzumab_response_cohort/SVS/O09-03495.svs\"\n",
    "xml_path = \"data/Yale_trastuzumab_response_cohort/Annotations/O09-03495.xml\"\n",
    "output_path = \"data/Yale_trastuzumab_response_cohort/Masks/O09-03495_mask.png\"\n",
    "\n",
    "process_all([xml_path], [wsi_path], [output_path])"
   ]
  }
 ],
 "metadata": {
  "kernelspec": {
   "display_name": "her2-class",
   "language": "python",
   "name": "python3"
  },
  "language_info": {
   "codemirror_mode": {
    "name": "ipython",
    "version": 3
   },
   "file_extension": ".py",
   "mimetype": "text/x-python",
   "name": "python",
   "nbconvert_exporter": "python",
   "pygments_lexer": "ipython3",
   "version": "3.13.7"
  }
 },
 "nbformat": 4,
 "nbformat_minor": 5
}
