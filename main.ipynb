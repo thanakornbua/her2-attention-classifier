{
 "cells": [
  {
   "cell_type": "code",
   "execution_count": null,
   "id": "438f23d3",
   "metadata": {},
   "outputs": [
    {
     "name": "stdout",
     "output_type": "stream",
     "text": [
      "The autoreload extension is already loaded. To reload it, use:\n",
      "  %reload_ext autoreload\n"
     ]
    }
   ],
   "source": [
    "%load_ext autoreload\n",
    "%autoreload 2\n",
    "\n",
    "# Import library\n",
    "import pandas as pd\n",
    "import numpy as np\n",
    "import re\n",
    "from tqdm import tqdm\n",
    "from IPython.display import display\n",
    "\n",
    "\n",
    "# Import dependency\n",
    "from src.preprocessing.generate_metadata import discover_wsi"
   ]
  },
  {
   "cell_type": "code",
   "execution_count": 5,
   "id": "3ca8d8d6",
   "metadata": {},
   "outputs": [],
   "source": [
    "# Configuration\n",
    "BASE_DIR = 'data'\n",
    "SOURCES = [\n",
    "    'Yale_HER2_cohort',\n",
    "    'Yale_trastuzumab_response_cohort',\n",
    "    'TCGA_BRCA_Filtered'\n",
    "]\n",
    "OUTPUT_CSV = 'outputs/index/wsi_index.csv'"
   ]
  },
  {
   "cell_type": "code",
   "execution_count": 7,
   "id": "80b380fc",
   "metadata": {},
   "outputs": [
    {
     "name": "stderr",
     "output_type": "stream",
     "text": [
      "Processing sources:   0%|          | 0/3 [00:00<?, ?it/s]"
     ]
    },
    {
     "name": "stderr",
     "output_type": "stream",
     "text": [
      "Processing sources: 100%|██████████| 3/3 [00:00<00:00, 139.06it/s]\n",
      "                                                         "
     ]
    },
    {
     "name": "stdout",
     "output_type": "stream",
     "text": [
      "✓ Saved 277 slides to outputs/index/wsi_index.csv\n"
     ]
    },
    {
     "name": "stderr",
     "output_type": "stream",
     "text": [
      "\r"
     ]
    },
    {
     "data": {
      "application/vnd.microsoft.datawrangler.viewer.v0+json": {
       "columns": [
        {
         "name": "index",
         "rawType": "int64",
         "type": "integer"
        },
        {
         "name": "path",
         "rawType": "object",
         "type": "string"
        },
        {
         "name": "slide_id",
         "rawType": "object",
         "type": "string"
        },
        {
         "name": "slide_name",
         "rawType": "object",
         "type": "string"
        },
        {
         "name": "annotation_name",
         "rawType": "object",
         "type": "string"
        },
        {
         "name": "annotation_dir",
         "rawType": "object",
         "type": "string"
        }
       ],
       "ref": "4c177aa2-9f13-4a6e-a07f-0337e143206c",
       "rows": [
        [
         "0",
         "data/Yale_HER2_cohort/SVS/Her2Neg_Case_01.svs",
         "Her2Neg_Case_01",
         "Her2Neg_Case_01.svs",
         "Her2Neg_Case_01.xml",
         "data/Yale_HER2_cohort/Annotations"
        ],
        [
         "1",
         "data/Yale_HER2_cohort/SVS/Her2Neg_Case_02.svs",
         "Her2Neg_Case_02",
         "Her2Neg_Case_02.svs",
         "Her2Neg_Case_02.xml",
         "data/Yale_HER2_cohort/Annotations"
        ],
        [
         "2",
         "data/Yale_HER2_cohort/SVS/Her2Neg_Case_03.svs",
         "Her2Neg_Case_03",
         "Her2Neg_Case_03.svs",
         "Her2Neg_Case_03.xml",
         "data/Yale_HER2_cohort/Annotations"
        ],
        [
         "3",
         "data/Yale_HER2_cohort/SVS/Her2Neg_Case_04.svs",
         "Her2Neg_Case_04",
         "Her2Neg_Case_04.svs",
         "Her2Neg_Case_04.xml",
         "data/Yale_HER2_cohort/Annotations"
        ],
        [
         "4",
         "data/Yale_HER2_cohort/SVS/Her2Neg_Case_05.svs",
         "Her2Neg_Case_05",
         "Her2Neg_Case_05.svs",
         "Her2Neg_Case_05.xml",
         "data/Yale_HER2_cohort/Annotations"
        ]
       ],
       "shape": {
        "columns": 5,
        "rows": 5
       }
      },
      "text/html": [
       "<div>\n",
       "<style scoped>\n",
       "    .dataframe tbody tr th:only-of-type {\n",
       "        vertical-align: middle;\n",
       "    }\n",
       "\n",
       "    .dataframe tbody tr th {\n",
       "        vertical-align: top;\n",
       "    }\n",
       "\n",
       "    .dataframe thead th {\n",
       "        text-align: right;\n",
       "    }\n",
       "</style>\n",
       "<table border=\"1\" class=\"dataframe\">\n",
       "  <thead>\n",
       "    <tr style=\"text-align: right;\">\n",
       "      <th></th>\n",
       "      <th>path</th>\n",
       "      <th>slide_id</th>\n",
       "      <th>slide_name</th>\n",
       "      <th>annotation_name</th>\n",
       "      <th>annotation_dir</th>\n",
       "    </tr>\n",
       "  </thead>\n",
       "  <tbody>\n",
       "    <tr>\n",
       "      <th>0</th>\n",
       "      <td>data/Yale_HER2_cohort/SVS/Her2Neg_Case_01.svs</td>\n",
       "      <td>Her2Neg_Case_01</td>\n",
       "      <td>Her2Neg_Case_01.svs</td>\n",
       "      <td>Her2Neg_Case_01.xml</td>\n",
       "      <td>data/Yale_HER2_cohort/Annotations</td>\n",
       "    </tr>\n",
       "    <tr>\n",
       "      <th>1</th>\n",
       "      <td>data/Yale_HER2_cohort/SVS/Her2Neg_Case_02.svs</td>\n",
       "      <td>Her2Neg_Case_02</td>\n",
       "      <td>Her2Neg_Case_02.svs</td>\n",
       "      <td>Her2Neg_Case_02.xml</td>\n",
       "      <td>data/Yale_HER2_cohort/Annotations</td>\n",
       "    </tr>\n",
       "    <tr>\n",
       "      <th>2</th>\n",
       "      <td>data/Yale_HER2_cohort/SVS/Her2Neg_Case_03.svs</td>\n",
       "      <td>Her2Neg_Case_03</td>\n",
       "      <td>Her2Neg_Case_03.svs</td>\n",
       "      <td>Her2Neg_Case_03.xml</td>\n",
       "      <td>data/Yale_HER2_cohort/Annotations</td>\n",
       "    </tr>\n",
       "    <tr>\n",
       "      <th>3</th>\n",
       "      <td>data/Yale_HER2_cohort/SVS/Her2Neg_Case_04.svs</td>\n",
       "      <td>Her2Neg_Case_04</td>\n",
       "      <td>Her2Neg_Case_04.svs</td>\n",
       "      <td>Her2Neg_Case_04.xml</td>\n",
       "      <td>data/Yale_HER2_cohort/Annotations</td>\n",
       "    </tr>\n",
       "    <tr>\n",
       "      <th>4</th>\n",
       "      <td>data/Yale_HER2_cohort/SVS/Her2Neg_Case_05.svs</td>\n",
       "      <td>Her2Neg_Case_05</td>\n",
       "      <td>Her2Neg_Case_05.svs</td>\n",
       "      <td>Her2Neg_Case_05.xml</td>\n",
       "      <td>data/Yale_HER2_cohort/Annotations</td>\n",
       "    </tr>\n",
       "  </tbody>\n",
       "</table>\n",
       "</div>"
      ],
      "text/plain": [
       "                                            path         slide_id  \\\n",
       "0  data/Yale_HER2_cohort/SVS/Her2Neg_Case_01.svs  Her2Neg_Case_01   \n",
       "1  data/Yale_HER2_cohort/SVS/Her2Neg_Case_02.svs  Her2Neg_Case_02   \n",
       "2  data/Yale_HER2_cohort/SVS/Her2Neg_Case_03.svs  Her2Neg_Case_03   \n",
       "3  data/Yale_HER2_cohort/SVS/Her2Neg_Case_04.svs  Her2Neg_Case_04   \n",
       "4  data/Yale_HER2_cohort/SVS/Her2Neg_Case_05.svs  Her2Neg_Case_05   \n",
       "\n",
       "            slide_name      annotation_name                     annotation_dir  \n",
       "0  Her2Neg_Case_01.svs  Her2Neg_Case_01.xml  data/Yale_HER2_cohort/Annotations  \n",
       "1  Her2Neg_Case_02.svs  Her2Neg_Case_02.xml  data/Yale_HER2_cohort/Annotations  \n",
       "2  Her2Neg_Case_03.svs  Her2Neg_Case_03.xml  data/Yale_HER2_cohort/Annotations  \n",
       "3  Her2Neg_Case_04.svs  Her2Neg_Case_04.xml  data/Yale_HER2_cohort/Annotations  \n",
       "4  Her2Neg_Case_05.svs  Her2Neg_Case_05.xml  data/Yale_HER2_cohort/Annotations  "
      ]
     },
     "metadata": {},
     "output_type": "display_data"
    }
   ],
   "source": [
    "csv_path = discover_wsi(\n",
    "    base_dir=BASE_DIR, \n",
    "    sources=SOURCES, \n",
    "    output_path=OUTPUT_CSV\n",
    ")\n",
    "\n",
    "# Load and display the results\n",
    "df = pd.read_csv(csv_path)\n",
    "display(df.head(5))"
   ]
  }
 ],
 "metadata": {
  "kernelspec": {
   "display_name": "her2-class",
   "language": "python",
   "name": "python3"
  },
  "language_info": {
   "codemirror_mode": {
    "name": "ipython",
    "version": 3
   },
   "file_extension": ".py",
   "mimetype": "text/x-python",
   "name": "python",
   "nbconvert_exporter": "python",
   "pygments_lexer": "ipython3",
   "version": "3.13.9"
  }
 },
 "nbformat": 4,
 "nbformat_minor": 5
}
