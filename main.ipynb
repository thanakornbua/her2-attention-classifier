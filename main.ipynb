{
 "cells": [
  {
   "cell_type": "code",
   "execution_count": 1,
   "id": "438f23d3",
   "metadata": {},
   "outputs": [],
   "source": [
    "%load_ext autoreload\n",
    "%autoreload 2\n",
    "\n",
    "# Import library\n",
    "import pandas as pd\n",
    "import numpy as np\n",
    "import re\n",
    "import os\n",
    "from tqdm import tqdm\n",
    "from IPython.display import display\n",
    "from glob import glob\n",
    "import cv2\n",
    "\n",
    "\n",
    "# Import dependency\n",
    "from src.preprocessing.generate_metadata import discover_wsi\n",
    "from src.preprocessing.xml_to_mask import get_mask\n",
    "from src.preprocessing.annotation_utils import resolve_annotation_path\n",
    "from src.preprocessing.extract_patches import extract_patches\n",
    "from src.preprocessing.load_wsi import load_wsi\n"
   ]
  },
  {
   "cell_type": "code",
   "execution_count": 2,
   "id": "3ca8d8d6",
   "metadata": {},
   "outputs": [],
   "source": [
    "# Configuration\n",
    "BASE_DIR = 'data'\n",
    "SOURCES = [\n",
    "    'Yale_HER2_cohort',\n",
    "    'Yale_trastuzumab_response_cohort',\n",
    "    'TCGA_BRCA_Filtered'\n",
    "]\n",
    "OUTPUT_CSV = 'outputs/index/wsi_index.csv'"
   ]
  },
  {
   "cell_type": "code",
   "execution_count": 3,
   "id": "1e191eb6",
   "metadata": {},
   "outputs": [],
   "source": [
    "log_dir = 'outputs/preprocessing/logs'\n",
    "os.makedirs(log_dir, exist_ok=True)\n",
    "log_path = os.path.join(log_dir, 'preprocessing.log')\n",
    "\n",
    "def log(msg):\n",
    "    print(msg)\n",
    "    with open(log_path, 'a') as f:\n",
    "        f.write(msg + '\\n')"
   ]
  },
  {
   "cell_type": "code",
   "execution_count": 4,
   "id": "80b380fc",
   "metadata": {},
   "outputs": [
    {
     "name": "stderr",
     "output_type": "stream",
     "text": [
      "Processing sources: 100%|██████████| 3/3 [00:00<00:00, 59.80it/s]\n",
      "Processing sources: 100%|██████████| 3/3 [00:00<00:00, 59.80it/s]\n",
      "                                                         "
     ]
    },
    {
     "data": {
      "application/vnd.microsoft.datawrangler.viewer.v0+json": {
       "columns": [
        {
         "name": "index",
         "rawType": "int64",
         "type": "integer"
        },
        {
         "name": "wsi_path",
         "rawType": "object",
         "type": "string"
        },
        {
         "name": "slide_id",
         "rawType": "object",
         "type": "string"
        },
        {
         "name": "slide_name",
         "rawType": "object",
         "type": "string"
        },
        {
         "name": "annotation_name",
         "rawType": "object",
         "type": "unknown"
        },
        {
         "name": "annotation_path",
         "rawType": "object",
         "type": "unknown"
        }
       ],
       "ref": "f4a30fe1-725c-413e-8699-0ed76cc3c178",
       "rows": [
        [
         "0",
         "data/Yale_HER2_cohort/SVS/Her2Neg_Case_01.svs",
         "Her2Neg_Case_01",
         "Her2Neg_Case_01.svs",
         "Her2Neg_Case_01.xml",
         "data/Yale_HER2_cohort/Annotations/Her2Neg_Case_01.xml"
        ],
        [
         "1",
         "data/Yale_HER2_cohort/SVS/Her2Neg_Case_02.svs",
         "Her2Neg_Case_02",
         "Her2Neg_Case_02.svs",
         "Her2Neg_Case_02.xml",
         "data/Yale_HER2_cohort/Annotations/Her2Neg_Case_02.xml"
        ],
        [
         "2",
         "data/Yale_HER2_cohort/SVS/Her2Neg_Case_03.svs",
         "Her2Neg_Case_03",
         "Her2Neg_Case_03.svs",
         "Her2Neg_Case_03.xml",
         "data/Yale_HER2_cohort/Annotations/Her2Neg_Case_03.xml"
        ],
        [
         "3",
         "data/Yale_HER2_cohort/SVS/Her2Neg_Case_04.svs",
         "Her2Neg_Case_04",
         "Her2Neg_Case_04.svs",
         "Her2Neg_Case_04.xml",
         "data/Yale_HER2_cohort/Annotations/Her2Neg_Case_04.xml"
        ],
        [
         "4",
         "data/Yale_HER2_cohort/SVS/Her2Neg_Case_05.svs",
         "Her2Neg_Case_05",
         "Her2Neg_Case_05.svs",
         "Her2Neg_Case_05.xml",
         "data/Yale_HER2_cohort/Annotations/Her2Neg_Case_05.xml"
        ],
        [
         "5",
         "data/Yale_HER2_cohort/SVS/Her2Neg_Case_06.svs",
         "Her2Neg_Case_06",
         "Her2Neg_Case_06.svs",
         "Her2Neg_Case_06.xml",
         "data/Yale_HER2_cohort/Annotations/Her2Neg_Case_06.xml"
        ],
        [
         "6",
         "data/Yale_HER2_cohort/SVS/Her2Neg_Case_07.svs",
         "Her2Neg_Case_07",
         "Her2Neg_Case_07.svs",
         "Her2Neg_Case_07.xml",
         "data/Yale_HER2_cohort/Annotations/Her2Neg_Case_07.xml"
        ],
        [
         "7",
         "data/Yale_HER2_cohort/SVS/Her2Neg_Case_08.svs",
         "Her2Neg_Case_08",
         "Her2Neg_Case_08.svs",
         "Her2Neg_Case_08.xml",
         "data/Yale_HER2_cohort/Annotations/Her2Neg_Case_08.xml"
        ],
        [
         "8",
         "data/Yale_HER2_cohort/SVS/Her2Neg_Case_09.svs",
         "Her2Neg_Case_09",
         "Her2Neg_Case_09.svs",
         "Her2Neg_Case_09.xml",
         "data/Yale_HER2_cohort/Annotations/Her2Neg_Case_09.xml"
        ],
        [
         "9",
         "data/Yale_HER2_cohort/SVS/Her2Neg_Case_10.svs",
         "Her2Neg_Case_10",
         "Her2Neg_Case_10.svs",
         "Her2Neg_Case_10.xml",
         "data/Yale_HER2_cohort/Annotations/Her2Neg_Case_10.xml"
        ],
        [
         "10",
         "data/Yale_HER2_cohort/SVS/Her2Neg_Case_11.svs",
         "Her2Neg_Case_11",
         "Her2Neg_Case_11.svs",
         "Her2Neg_Case_11.xml",
         "data/Yale_HER2_cohort/Annotations/Her2Neg_Case_11.xml"
        ],
        [
         "11",
         "data/Yale_HER2_cohort/SVS/Her2Neg_Case_12.svs",
         "Her2Neg_Case_12",
         "Her2Neg_Case_12.svs",
         "Her2Neg_Case_12.xml",
         "data/Yale_HER2_cohort/Annotations/Her2Neg_Case_12.xml"
        ],
        [
         "12",
         "data/Yale_HER2_cohort/SVS/Her2Neg_Case_13.svs",
         "Her2Neg_Case_13",
         "Her2Neg_Case_13.svs",
         "Her2Neg_Case_13.xml",
         "data/Yale_HER2_cohort/Annotations/Her2Neg_Case_13.xml"
        ],
        [
         "13",
         "data/Yale_HER2_cohort/SVS/Her2Neg_Case_14.svs",
         "Her2Neg_Case_14",
         "Her2Neg_Case_14.svs",
         "Her2Neg_Case_14.xml",
         "data/Yale_HER2_cohort/Annotations/Her2Neg_Case_14.xml"
        ],
        [
         "14",
         "data/Yale_HER2_cohort/SVS/Her2Neg_Case_15.svs",
         "Her2Neg_Case_15",
         "Her2Neg_Case_15.svs",
         "Her2Neg_Case_15.xml",
         "data/Yale_HER2_cohort/Annotations/Her2Neg_Case_15.xml"
        ],
        [
         "15",
         "data/Yale_HER2_cohort/SVS/Her2Neg_Case_16.svs",
         "Her2Neg_Case_16",
         "Her2Neg_Case_16.svs",
         "Her2Neg_Case_16.xml",
         "data/Yale_HER2_cohort/Annotations/Her2Neg_Case_16.xml"
        ],
        [
         "16",
         "data/Yale_HER2_cohort/SVS/Her2Neg_Case_17.svs",
         "Her2Neg_Case_17",
         "Her2Neg_Case_17.svs",
         "Her2Neg_Case_17.xml",
         "data/Yale_HER2_cohort/Annotations/Her2Neg_Case_17.xml"
        ],
        [
         "17",
         "data/Yale_HER2_cohort/SVS/Her2Neg_Case_18.svs",
         "Her2Neg_Case_18",
         "Her2Neg_Case_18.svs",
         "Her2Neg_Case_18.xml",
         "data/Yale_HER2_cohort/Annotations/Her2Neg_Case_18.xml"
        ],
        [
         "18",
         "data/Yale_HER2_cohort/SVS/Her2Neg_Case_19.svs",
         "Her2Neg_Case_19",
         "Her2Neg_Case_19.svs",
         "Her2Neg_Case_19.xml",
         "data/Yale_HER2_cohort/Annotations/Her2Neg_Case_19.xml"
        ],
        [
         "19",
         "data/Yale_HER2_cohort/SVS/Her2Neg_Case_20.svs",
         "Her2Neg_Case_20",
         "Her2Neg_Case_20.svs",
         "Her2Neg_Case_20.xml",
         "data/Yale_HER2_cohort/Annotations/Her2Neg_Case_20.xml"
        ],
        [
         "20",
         "data/Yale_HER2_cohort/SVS/Her2Neg_Case_21.svs",
         "Her2Neg_Case_21",
         "Her2Neg_Case_21.svs",
         "Her2Neg_Case_21.xml",
         "data/Yale_HER2_cohort/Annotations/Her2Neg_Case_21.xml"
        ],
        [
         "21",
         "data/Yale_HER2_cohort/SVS/Her2Neg_Case_22.svs",
         "Her2Neg_Case_22",
         "Her2Neg_Case_22.svs",
         "Her2Neg_Case_22.xml",
         "data/Yale_HER2_cohort/Annotations/Her2Neg_Case_22.xml"
        ],
        [
         "22",
         "data/Yale_HER2_cohort/SVS/Her2Neg_Case_23.svs",
         "Her2Neg_Case_23",
         "Her2Neg_Case_23.svs",
         "Her2Neg_Case_23.xml",
         "data/Yale_HER2_cohort/Annotations/Her2Neg_Case_23.xml"
        ],
        [
         "23",
         "data/Yale_HER2_cohort/SVS/Her2Neg_Case_24.svs",
         "Her2Neg_Case_24",
         "Her2Neg_Case_24.svs",
         "Her2Neg_Case_24.xml",
         "data/Yale_HER2_cohort/Annotations/Her2Neg_Case_24.xml"
        ],
        [
         "24",
         "data/Yale_HER2_cohort/SVS/Her2Neg_Case_25.svs",
         "Her2Neg_Case_25",
         "Her2Neg_Case_25.svs",
         "Her2Neg_Case_25.xml",
         "data/Yale_HER2_cohort/Annotations/Her2Neg_Case_25.xml"
        ],
        [
         "25",
         "data/Yale_HER2_cohort/SVS/Her2Neg_Case_26.svs",
         "Her2Neg_Case_26",
         "Her2Neg_Case_26.svs",
         "Her2Neg_Case_26.xml",
         "data/Yale_HER2_cohort/Annotations/Her2Neg_Case_26.xml"
        ],
        [
         "26",
         "data/Yale_HER2_cohort/SVS/Her2Neg_Case_27.svs",
         "Her2Neg_Case_27",
         "Her2Neg_Case_27.svs",
         "Her2Neg_Case_27.xml",
         "data/Yale_HER2_cohort/Annotations/Her2Neg_Case_27.xml"
        ],
        [
         "27",
         "data/Yale_HER2_cohort/SVS/Her2Neg_Case_28.svs",
         "Her2Neg_Case_28",
         "Her2Neg_Case_28.svs",
         "Her2Neg_Case_28.xml",
         "data/Yale_HER2_cohort/Annotations/Her2Neg_Case_28.xml"
        ],
        [
         "28",
         "data/Yale_HER2_cohort/SVS/Her2Neg_Case_29.svs",
         "Her2Neg_Case_29",
         "Her2Neg_Case_29.svs",
         "Her2Neg_Case_29.xml",
         "data/Yale_HER2_cohort/Annotations/Her2Neg_Case_29.xml"
        ],
        [
         "29",
         "data/Yale_HER2_cohort/SVS/Her2Neg_Case_30.svs",
         "Her2Neg_Case_30",
         "Her2Neg_Case_30.svs",
         "Her2Neg_Case_30.xml",
         "data/Yale_HER2_cohort/Annotations/Her2Neg_Case_30.xml"
        ],
        [
         "30",
         "data/Yale_HER2_cohort/SVS/Her2Neg_Case_31.svs",
         "Her2Neg_Case_31",
         "Her2Neg_Case_31.svs",
         null,
         null
        ],
        [
         "31",
         "data/Yale_HER2_cohort/SVS/Her2Neg_Case_32.svs",
         "Her2Neg_Case_32",
         "Her2Neg_Case_32.svs",
         "Her2Neg_Case_32.xml",
         "data/Yale_HER2_cohort/Annotations/Her2Neg_Case_32.xml"
        ],
        [
         "32",
         "data/Yale_HER2_cohort/SVS/Her2Neg_Case_33.svs",
         "Her2Neg_Case_33",
         "Her2Neg_Case_33.svs",
         "Her2Neg_Case_33.xml",
         "data/Yale_HER2_cohort/Annotations/Her2Neg_Case_33.xml"
        ],
        [
         "33",
         "data/Yale_HER2_cohort/SVS/Her2Neg_Case_34.svs",
         "Her2Neg_Case_34",
         "Her2Neg_Case_34.svs",
         null,
         null
        ],
        [
         "34",
         "data/Yale_HER2_cohort/SVS/Her2Neg_Case_35.svs",
         "Her2Neg_Case_35",
         "Her2Neg_Case_35.svs",
         "Her2Neg_Case_35.xml",
         "data/Yale_HER2_cohort/Annotations/Her2Neg_Case_35.xml"
        ],
        [
         "35",
         "data/Yale_HER2_cohort/SVS/Her2Neg_Case_36.svs",
         "Her2Neg_Case_36",
         "Her2Neg_Case_36.svs",
         "Her2Neg_Case_36.xml",
         "data/Yale_HER2_cohort/Annotations/Her2Neg_Case_36.xml"
        ],
        [
         "36",
         "data/Yale_HER2_cohort/SVS/Her2Neg_Case_37.svs",
         "Her2Neg_Case_37",
         "Her2Neg_Case_37.svs",
         "Her2Neg_Case_37.xml",
         "data/Yale_HER2_cohort/Annotations/Her2Neg_Case_37.xml"
        ],
        [
         "37",
         "data/Yale_HER2_cohort/SVS/Her2Neg_Case_38.svs",
         "Her2Neg_Case_38",
         "Her2Neg_Case_38.svs",
         "Her2Neg_Case_38.xml",
         "data/Yale_HER2_cohort/Annotations/Her2Neg_Case_38.xml"
        ],
        [
         "38",
         "data/Yale_HER2_cohort/SVS/Her2Neg_Case_39.svs",
         "Her2Neg_Case_39",
         "Her2Neg_Case_39.svs",
         "Her2Neg_Case_39.xml",
         "data/Yale_HER2_cohort/Annotations/Her2Neg_Case_39.xml"
        ],
        [
         "39",
         "data/Yale_HER2_cohort/SVS/Her2Neg_Case_40.svs",
         "Her2Neg_Case_40",
         "Her2Neg_Case_40.svs",
         "Her2Neg_Case_40.xml",
         "data/Yale_HER2_cohort/Annotations/Her2Neg_Case_40.xml"
        ],
        [
         "40",
         "data/Yale_HER2_cohort/SVS/Her2Neg_Case_41.svs",
         "Her2Neg_Case_41",
         "Her2Neg_Case_41.svs",
         "Her2Neg_Case_41.xml",
         "data/Yale_HER2_cohort/Annotations/Her2Neg_Case_41.xml"
        ],
        [
         "41",
         "data/Yale_HER2_cohort/SVS/Her2Neg_Case_42.svs",
         "Her2Neg_Case_42",
         "Her2Neg_Case_42.svs",
         "Her2Neg_Case_42.xml",
         "data/Yale_HER2_cohort/Annotations/Her2Neg_Case_42.xml"
        ],
        [
         "42",
         "data/Yale_HER2_cohort/SVS/Her2Neg_Case_43.svs",
         "Her2Neg_Case_43",
         "Her2Neg_Case_43.svs",
         "Her2Neg_Case_43.xml",
         "data/Yale_HER2_cohort/Annotations/Her2Neg_Case_43.xml"
        ],
        [
         "43",
         "data/Yale_HER2_cohort/SVS/Her2Neg_Case_44.svs",
         "Her2Neg_Case_44",
         "Her2Neg_Case_44.svs",
         "Her2Neg_Case_44.xml",
         "data/Yale_HER2_cohort/Annotations/Her2Neg_Case_44.xml"
        ],
        [
         "44",
         "data/Yale_HER2_cohort/SVS/Her2Neg_Case_45.svs",
         "Her2Neg_Case_45",
         "Her2Neg_Case_45.svs",
         "Her2Neg_Case_45.xml",
         "data/Yale_HER2_cohort/Annotations/Her2Neg_Case_45.xml"
        ],
        [
         "45",
         "data/Yale_HER2_cohort/SVS/Her2Neg_Case_46.svs",
         "Her2Neg_Case_46",
         "Her2Neg_Case_46.svs",
         "Her2Neg_Case_46.xml",
         "data/Yale_HER2_cohort/Annotations/Her2Neg_Case_46.xml"
        ],
        [
         "46",
         "data/Yale_HER2_cohort/SVS/Her2Neg_Case_47.svs",
         "Her2Neg_Case_47",
         "Her2Neg_Case_47.svs",
         "Her2Neg_Case_47.xml",
         "data/Yale_HER2_cohort/Annotations/Her2Neg_Case_47.xml"
        ],
        [
         "47",
         "data/Yale_HER2_cohort/SVS/Her2Neg_Case_48.svs",
         "Her2Neg_Case_48",
         "Her2Neg_Case_48.svs",
         "Her2Neg_Case_48.xml",
         "data/Yale_HER2_cohort/Annotations/Her2Neg_Case_48.xml"
        ],
        [
         "48",
         "data/Yale_HER2_cohort/SVS/Her2Neg_Case_49.svs",
         "Her2Neg_Case_49",
         "Her2Neg_Case_49.svs",
         "Her2Neg_Case_49.xml",
         "data/Yale_HER2_cohort/Annotations/Her2Neg_Case_49.xml"
        ],
        [
         "49",
         "data/Yale_HER2_cohort/SVS/Her2Neg_Case_50.svs",
         "Her2Neg_Case_50",
         "Her2Neg_Case_50.svs",
         "Her2Neg_Case_50.xml",
         "data/Yale_HER2_cohort/Annotations/Her2Neg_Case_50.xml"
        ]
       ],
       "shape": {
        "columns": 5,
        "rows": 50
       }
      },
      "text/html": [
       "<div>\n",
       "<style scoped>\n",
       "    .dataframe tbody tr th:only-of-type {\n",
       "        vertical-align: middle;\n",
       "    }\n",
       "\n",
       "    .dataframe tbody tr th {\n",
       "        vertical-align: top;\n",
       "    }\n",
       "\n",
       "    .dataframe thead th {\n",
       "        text-align: right;\n",
       "    }\n",
       "</style>\n",
       "<table border=\"1\" class=\"dataframe\">\n",
       "  <thead>\n",
       "    <tr style=\"text-align: right;\">\n",
       "      <th></th>\n",
       "      <th>wsi_path</th>\n",
       "      <th>slide_id</th>\n",
       "      <th>slide_name</th>\n",
       "      <th>annotation_name</th>\n",
       "      <th>annotation_path</th>\n",
       "    </tr>\n",
       "  </thead>\n",
       "  <tbody>\n",
       "    <tr>\n",
       "      <th>0</th>\n",
       "      <td>data/Yale_HER2_cohort/SVS/Her2Neg_Case_01.svs</td>\n",
       "      <td>Her2Neg_Case_01</td>\n",
       "      <td>Her2Neg_Case_01.svs</td>\n",
       "      <td>Her2Neg_Case_01.xml</td>\n",
       "      <td>data/Yale_HER2_cohort/Annotations/Her2Neg_Case...</td>\n",
       "    </tr>\n",
       "    <tr>\n",
       "      <th>1</th>\n",
       "      <td>data/Yale_HER2_cohort/SVS/Her2Neg_Case_02.svs</td>\n",
       "      <td>Her2Neg_Case_02</td>\n",
       "      <td>Her2Neg_Case_02.svs</td>\n",
       "      <td>Her2Neg_Case_02.xml</td>\n",
       "      <td>data/Yale_HER2_cohort/Annotations/Her2Neg_Case...</td>\n",
       "    </tr>\n",
       "    <tr>\n",
       "      <th>2</th>\n",
       "      <td>data/Yale_HER2_cohort/SVS/Her2Neg_Case_03.svs</td>\n",
       "      <td>Her2Neg_Case_03</td>\n",
       "      <td>Her2Neg_Case_03.svs</td>\n",
       "      <td>Her2Neg_Case_03.xml</td>\n",
       "      <td>data/Yale_HER2_cohort/Annotations/Her2Neg_Case...</td>\n",
       "    </tr>\n",
       "    <tr>\n",
       "      <th>3</th>\n",
       "      <td>data/Yale_HER2_cohort/SVS/Her2Neg_Case_04.svs</td>\n",
       "      <td>Her2Neg_Case_04</td>\n",
       "      <td>Her2Neg_Case_04.svs</td>\n",
       "      <td>Her2Neg_Case_04.xml</td>\n",
       "      <td>data/Yale_HER2_cohort/Annotations/Her2Neg_Case...</td>\n",
       "    </tr>\n",
       "    <tr>\n",
       "      <th>4</th>\n",
       "      <td>data/Yale_HER2_cohort/SVS/Her2Neg_Case_05.svs</td>\n",
       "      <td>Her2Neg_Case_05</td>\n",
       "      <td>Her2Neg_Case_05.svs</td>\n",
       "      <td>Her2Neg_Case_05.xml</td>\n",
       "      <td>data/Yale_HER2_cohort/Annotations/Her2Neg_Case...</td>\n",
       "    </tr>\n",
       "    <tr>\n",
       "      <th>5</th>\n",
       "      <td>data/Yale_HER2_cohort/SVS/Her2Neg_Case_06.svs</td>\n",
       "      <td>Her2Neg_Case_06</td>\n",
       "      <td>Her2Neg_Case_06.svs</td>\n",
       "      <td>Her2Neg_Case_06.xml</td>\n",
       "      <td>data/Yale_HER2_cohort/Annotations/Her2Neg_Case...</td>\n",
       "    </tr>\n",
       "    <tr>\n",
       "      <th>6</th>\n",
       "      <td>data/Yale_HER2_cohort/SVS/Her2Neg_Case_07.svs</td>\n",
       "      <td>Her2Neg_Case_07</td>\n",
       "      <td>Her2Neg_Case_07.svs</td>\n",
       "      <td>Her2Neg_Case_07.xml</td>\n",
       "      <td>data/Yale_HER2_cohort/Annotations/Her2Neg_Case...</td>\n",
       "    </tr>\n",
       "    <tr>\n",
       "      <th>7</th>\n",
       "      <td>data/Yale_HER2_cohort/SVS/Her2Neg_Case_08.svs</td>\n",
       "      <td>Her2Neg_Case_08</td>\n",
       "      <td>Her2Neg_Case_08.svs</td>\n",
       "      <td>Her2Neg_Case_08.xml</td>\n",
       "      <td>data/Yale_HER2_cohort/Annotations/Her2Neg_Case...</td>\n",
       "    </tr>\n",
       "    <tr>\n",
       "      <th>8</th>\n",
       "      <td>data/Yale_HER2_cohort/SVS/Her2Neg_Case_09.svs</td>\n",
       "      <td>Her2Neg_Case_09</td>\n",
       "      <td>Her2Neg_Case_09.svs</td>\n",
       "      <td>Her2Neg_Case_09.xml</td>\n",
       "      <td>data/Yale_HER2_cohort/Annotations/Her2Neg_Case...</td>\n",
       "    </tr>\n",
       "    <tr>\n",
       "      <th>9</th>\n",
       "      <td>data/Yale_HER2_cohort/SVS/Her2Neg_Case_10.svs</td>\n",
       "      <td>Her2Neg_Case_10</td>\n",
       "      <td>Her2Neg_Case_10.svs</td>\n",
       "      <td>Her2Neg_Case_10.xml</td>\n",
       "      <td>data/Yale_HER2_cohort/Annotations/Her2Neg_Case...</td>\n",
       "    </tr>\n",
       "    <tr>\n",
       "      <th>10</th>\n",
       "      <td>data/Yale_HER2_cohort/SVS/Her2Neg_Case_11.svs</td>\n",
       "      <td>Her2Neg_Case_11</td>\n",
       "      <td>Her2Neg_Case_11.svs</td>\n",
       "      <td>Her2Neg_Case_11.xml</td>\n",
       "      <td>data/Yale_HER2_cohort/Annotations/Her2Neg_Case...</td>\n",
       "    </tr>\n",
       "    <tr>\n",
       "      <th>11</th>\n",
       "      <td>data/Yale_HER2_cohort/SVS/Her2Neg_Case_12.svs</td>\n",
       "      <td>Her2Neg_Case_12</td>\n",
       "      <td>Her2Neg_Case_12.svs</td>\n",
       "      <td>Her2Neg_Case_12.xml</td>\n",
       "      <td>data/Yale_HER2_cohort/Annotations/Her2Neg_Case...</td>\n",
       "    </tr>\n",
       "    <tr>\n",
       "      <th>12</th>\n",
       "      <td>data/Yale_HER2_cohort/SVS/Her2Neg_Case_13.svs</td>\n",
       "      <td>Her2Neg_Case_13</td>\n",
       "      <td>Her2Neg_Case_13.svs</td>\n",
       "      <td>Her2Neg_Case_13.xml</td>\n",
       "      <td>data/Yale_HER2_cohort/Annotations/Her2Neg_Case...</td>\n",
       "    </tr>\n",
       "    <tr>\n",
       "      <th>13</th>\n",
       "      <td>data/Yale_HER2_cohort/SVS/Her2Neg_Case_14.svs</td>\n",
       "      <td>Her2Neg_Case_14</td>\n",
       "      <td>Her2Neg_Case_14.svs</td>\n",
       "      <td>Her2Neg_Case_14.xml</td>\n",
       "      <td>data/Yale_HER2_cohort/Annotations/Her2Neg_Case...</td>\n",
       "    </tr>\n",
       "    <tr>\n",
       "      <th>14</th>\n",
       "      <td>data/Yale_HER2_cohort/SVS/Her2Neg_Case_15.svs</td>\n",
       "      <td>Her2Neg_Case_15</td>\n",
       "      <td>Her2Neg_Case_15.svs</td>\n",
       "      <td>Her2Neg_Case_15.xml</td>\n",
       "      <td>data/Yale_HER2_cohort/Annotations/Her2Neg_Case...</td>\n",
       "    </tr>\n",
       "    <tr>\n",
       "      <th>15</th>\n",
       "      <td>data/Yale_HER2_cohort/SVS/Her2Neg_Case_16.svs</td>\n",
       "      <td>Her2Neg_Case_16</td>\n",
       "      <td>Her2Neg_Case_16.svs</td>\n",
       "      <td>Her2Neg_Case_16.xml</td>\n",
       "      <td>data/Yale_HER2_cohort/Annotations/Her2Neg_Case...</td>\n",
       "    </tr>\n",
       "    <tr>\n",
       "      <th>16</th>\n",
       "      <td>data/Yale_HER2_cohort/SVS/Her2Neg_Case_17.svs</td>\n",
       "      <td>Her2Neg_Case_17</td>\n",
       "      <td>Her2Neg_Case_17.svs</td>\n",
       "      <td>Her2Neg_Case_17.xml</td>\n",
       "      <td>data/Yale_HER2_cohort/Annotations/Her2Neg_Case...</td>\n",
       "    </tr>\n",
       "    <tr>\n",
       "      <th>17</th>\n",
       "      <td>data/Yale_HER2_cohort/SVS/Her2Neg_Case_18.svs</td>\n",
       "      <td>Her2Neg_Case_18</td>\n",
       "      <td>Her2Neg_Case_18.svs</td>\n",
       "      <td>Her2Neg_Case_18.xml</td>\n",
       "      <td>data/Yale_HER2_cohort/Annotations/Her2Neg_Case...</td>\n",
       "    </tr>\n",
       "    <tr>\n",
       "      <th>18</th>\n",
       "      <td>data/Yale_HER2_cohort/SVS/Her2Neg_Case_19.svs</td>\n",
       "      <td>Her2Neg_Case_19</td>\n",
       "      <td>Her2Neg_Case_19.svs</td>\n",
       "      <td>Her2Neg_Case_19.xml</td>\n",
       "      <td>data/Yale_HER2_cohort/Annotations/Her2Neg_Case...</td>\n",
       "    </tr>\n",
       "    <tr>\n",
       "      <th>19</th>\n",
       "      <td>data/Yale_HER2_cohort/SVS/Her2Neg_Case_20.svs</td>\n",
       "      <td>Her2Neg_Case_20</td>\n",
       "      <td>Her2Neg_Case_20.svs</td>\n",
       "      <td>Her2Neg_Case_20.xml</td>\n",
       "      <td>data/Yale_HER2_cohort/Annotations/Her2Neg_Case...</td>\n",
       "    </tr>\n",
       "    <tr>\n",
       "      <th>20</th>\n",
       "      <td>data/Yale_HER2_cohort/SVS/Her2Neg_Case_21.svs</td>\n",
       "      <td>Her2Neg_Case_21</td>\n",
       "      <td>Her2Neg_Case_21.svs</td>\n",
       "      <td>Her2Neg_Case_21.xml</td>\n",
       "      <td>data/Yale_HER2_cohort/Annotations/Her2Neg_Case...</td>\n",
       "    </tr>\n",
       "    <tr>\n",
       "      <th>21</th>\n",
       "      <td>data/Yale_HER2_cohort/SVS/Her2Neg_Case_22.svs</td>\n",
       "      <td>Her2Neg_Case_22</td>\n",
       "      <td>Her2Neg_Case_22.svs</td>\n",
       "      <td>Her2Neg_Case_22.xml</td>\n",
       "      <td>data/Yale_HER2_cohort/Annotations/Her2Neg_Case...</td>\n",
       "    </tr>\n",
       "    <tr>\n",
       "      <th>22</th>\n",
       "      <td>data/Yale_HER2_cohort/SVS/Her2Neg_Case_23.svs</td>\n",
       "      <td>Her2Neg_Case_23</td>\n",
       "      <td>Her2Neg_Case_23.svs</td>\n",
       "      <td>Her2Neg_Case_23.xml</td>\n",
       "      <td>data/Yale_HER2_cohort/Annotations/Her2Neg_Case...</td>\n",
       "    </tr>\n",
       "    <tr>\n",
       "      <th>23</th>\n",
       "      <td>data/Yale_HER2_cohort/SVS/Her2Neg_Case_24.svs</td>\n",
       "      <td>Her2Neg_Case_24</td>\n",
       "      <td>Her2Neg_Case_24.svs</td>\n",
       "      <td>Her2Neg_Case_24.xml</td>\n",
       "      <td>data/Yale_HER2_cohort/Annotations/Her2Neg_Case...</td>\n",
       "    </tr>\n",
       "    <tr>\n",
       "      <th>24</th>\n",
       "      <td>data/Yale_HER2_cohort/SVS/Her2Neg_Case_25.svs</td>\n",
       "      <td>Her2Neg_Case_25</td>\n",
       "      <td>Her2Neg_Case_25.svs</td>\n",
       "      <td>Her2Neg_Case_25.xml</td>\n",
       "      <td>data/Yale_HER2_cohort/Annotations/Her2Neg_Case...</td>\n",
       "    </tr>\n",
       "    <tr>\n",
       "      <th>25</th>\n",
       "      <td>data/Yale_HER2_cohort/SVS/Her2Neg_Case_26.svs</td>\n",
       "      <td>Her2Neg_Case_26</td>\n",
       "      <td>Her2Neg_Case_26.svs</td>\n",
       "      <td>Her2Neg_Case_26.xml</td>\n",
       "      <td>data/Yale_HER2_cohort/Annotations/Her2Neg_Case...</td>\n",
       "    </tr>\n",
       "    <tr>\n",
       "      <th>26</th>\n",
       "      <td>data/Yale_HER2_cohort/SVS/Her2Neg_Case_27.svs</td>\n",
       "      <td>Her2Neg_Case_27</td>\n",
       "      <td>Her2Neg_Case_27.svs</td>\n",
       "      <td>Her2Neg_Case_27.xml</td>\n",
       "      <td>data/Yale_HER2_cohort/Annotations/Her2Neg_Case...</td>\n",
       "    </tr>\n",
       "    <tr>\n",
       "      <th>27</th>\n",
       "      <td>data/Yale_HER2_cohort/SVS/Her2Neg_Case_28.svs</td>\n",
       "      <td>Her2Neg_Case_28</td>\n",
       "      <td>Her2Neg_Case_28.svs</td>\n",
       "      <td>Her2Neg_Case_28.xml</td>\n",
       "      <td>data/Yale_HER2_cohort/Annotations/Her2Neg_Case...</td>\n",
       "    </tr>\n",
       "    <tr>\n",
       "      <th>28</th>\n",
       "      <td>data/Yale_HER2_cohort/SVS/Her2Neg_Case_29.svs</td>\n",
       "      <td>Her2Neg_Case_29</td>\n",
       "      <td>Her2Neg_Case_29.svs</td>\n",
       "      <td>Her2Neg_Case_29.xml</td>\n",
       "      <td>data/Yale_HER2_cohort/Annotations/Her2Neg_Case...</td>\n",
       "    </tr>\n",
       "    <tr>\n",
       "      <th>29</th>\n",
       "      <td>data/Yale_HER2_cohort/SVS/Her2Neg_Case_30.svs</td>\n",
       "      <td>Her2Neg_Case_30</td>\n",
       "      <td>Her2Neg_Case_30.svs</td>\n",
       "      <td>Her2Neg_Case_30.xml</td>\n",
       "      <td>data/Yale_HER2_cohort/Annotations/Her2Neg_Case...</td>\n",
       "    </tr>\n",
       "    <tr>\n",
       "      <th>30</th>\n",
       "      <td>data/Yale_HER2_cohort/SVS/Her2Neg_Case_31.svs</td>\n",
       "      <td>Her2Neg_Case_31</td>\n",
       "      <td>Her2Neg_Case_31.svs</td>\n",
       "      <td>NaN</td>\n",
       "      <td>NaN</td>\n",
       "    </tr>\n",
       "    <tr>\n",
       "      <th>31</th>\n",
       "      <td>data/Yale_HER2_cohort/SVS/Her2Neg_Case_32.svs</td>\n",
       "      <td>Her2Neg_Case_32</td>\n",
       "      <td>Her2Neg_Case_32.svs</td>\n",
       "      <td>Her2Neg_Case_32.xml</td>\n",
       "      <td>data/Yale_HER2_cohort/Annotations/Her2Neg_Case...</td>\n",
       "    </tr>\n",
       "    <tr>\n",
       "      <th>32</th>\n",
       "      <td>data/Yale_HER2_cohort/SVS/Her2Neg_Case_33.svs</td>\n",
       "      <td>Her2Neg_Case_33</td>\n",
       "      <td>Her2Neg_Case_33.svs</td>\n",
       "      <td>Her2Neg_Case_33.xml</td>\n",
       "      <td>data/Yale_HER2_cohort/Annotations/Her2Neg_Case...</td>\n",
       "    </tr>\n",
       "    <tr>\n",
       "      <th>33</th>\n",
       "      <td>data/Yale_HER2_cohort/SVS/Her2Neg_Case_34.svs</td>\n",
       "      <td>Her2Neg_Case_34</td>\n",
       "      <td>Her2Neg_Case_34.svs</td>\n",
       "      <td>NaN</td>\n",
       "      <td>NaN</td>\n",
       "    </tr>\n",
       "    <tr>\n",
       "      <th>34</th>\n",
       "      <td>data/Yale_HER2_cohort/SVS/Her2Neg_Case_35.svs</td>\n",
       "      <td>Her2Neg_Case_35</td>\n",
       "      <td>Her2Neg_Case_35.svs</td>\n",
       "      <td>Her2Neg_Case_35.xml</td>\n",
       "      <td>data/Yale_HER2_cohort/Annotations/Her2Neg_Case...</td>\n",
       "    </tr>\n",
       "    <tr>\n",
       "      <th>35</th>\n",
       "      <td>data/Yale_HER2_cohort/SVS/Her2Neg_Case_36.svs</td>\n",
       "      <td>Her2Neg_Case_36</td>\n",
       "      <td>Her2Neg_Case_36.svs</td>\n",
       "      <td>Her2Neg_Case_36.xml</td>\n",
       "      <td>data/Yale_HER2_cohort/Annotations/Her2Neg_Case...</td>\n",
       "    </tr>\n",
       "    <tr>\n",
       "      <th>36</th>\n",
       "      <td>data/Yale_HER2_cohort/SVS/Her2Neg_Case_37.svs</td>\n",
       "      <td>Her2Neg_Case_37</td>\n",
       "      <td>Her2Neg_Case_37.svs</td>\n",
       "      <td>Her2Neg_Case_37.xml</td>\n",
       "      <td>data/Yale_HER2_cohort/Annotations/Her2Neg_Case...</td>\n",
       "    </tr>\n",
       "    <tr>\n",
       "      <th>37</th>\n",
       "      <td>data/Yale_HER2_cohort/SVS/Her2Neg_Case_38.svs</td>\n",
       "      <td>Her2Neg_Case_38</td>\n",
       "      <td>Her2Neg_Case_38.svs</td>\n",
       "      <td>Her2Neg_Case_38.xml</td>\n",
       "      <td>data/Yale_HER2_cohort/Annotations/Her2Neg_Case...</td>\n",
       "    </tr>\n",
       "    <tr>\n",
       "      <th>38</th>\n",
       "      <td>data/Yale_HER2_cohort/SVS/Her2Neg_Case_39.svs</td>\n",
       "      <td>Her2Neg_Case_39</td>\n",
       "      <td>Her2Neg_Case_39.svs</td>\n",
       "      <td>Her2Neg_Case_39.xml</td>\n",
       "      <td>data/Yale_HER2_cohort/Annotations/Her2Neg_Case...</td>\n",
       "    </tr>\n",
       "    <tr>\n",
       "      <th>39</th>\n",
       "      <td>data/Yale_HER2_cohort/SVS/Her2Neg_Case_40.svs</td>\n",
       "      <td>Her2Neg_Case_40</td>\n",
       "      <td>Her2Neg_Case_40.svs</td>\n",
       "      <td>Her2Neg_Case_40.xml</td>\n",
       "      <td>data/Yale_HER2_cohort/Annotations/Her2Neg_Case...</td>\n",
       "    </tr>\n",
       "    <tr>\n",
       "      <th>40</th>\n",
       "      <td>data/Yale_HER2_cohort/SVS/Her2Neg_Case_41.svs</td>\n",
       "      <td>Her2Neg_Case_41</td>\n",
       "      <td>Her2Neg_Case_41.svs</td>\n",
       "      <td>Her2Neg_Case_41.xml</td>\n",
       "      <td>data/Yale_HER2_cohort/Annotations/Her2Neg_Case...</td>\n",
       "    </tr>\n",
       "    <tr>\n",
       "      <th>41</th>\n",
       "      <td>data/Yale_HER2_cohort/SVS/Her2Neg_Case_42.svs</td>\n",
       "      <td>Her2Neg_Case_42</td>\n",
       "      <td>Her2Neg_Case_42.svs</td>\n",
       "      <td>Her2Neg_Case_42.xml</td>\n",
       "      <td>data/Yale_HER2_cohort/Annotations/Her2Neg_Case...</td>\n",
       "    </tr>\n",
       "    <tr>\n",
       "      <th>42</th>\n",
       "      <td>data/Yale_HER2_cohort/SVS/Her2Neg_Case_43.svs</td>\n",
       "      <td>Her2Neg_Case_43</td>\n",
       "      <td>Her2Neg_Case_43.svs</td>\n",
       "      <td>Her2Neg_Case_43.xml</td>\n",
       "      <td>data/Yale_HER2_cohort/Annotations/Her2Neg_Case...</td>\n",
       "    </tr>\n",
       "    <tr>\n",
       "      <th>43</th>\n",
       "      <td>data/Yale_HER2_cohort/SVS/Her2Neg_Case_44.svs</td>\n",
       "      <td>Her2Neg_Case_44</td>\n",
       "      <td>Her2Neg_Case_44.svs</td>\n",
       "      <td>Her2Neg_Case_44.xml</td>\n",
       "      <td>data/Yale_HER2_cohort/Annotations/Her2Neg_Case...</td>\n",
       "    </tr>\n",
       "    <tr>\n",
       "      <th>44</th>\n",
       "      <td>data/Yale_HER2_cohort/SVS/Her2Neg_Case_45.svs</td>\n",
       "      <td>Her2Neg_Case_45</td>\n",
       "      <td>Her2Neg_Case_45.svs</td>\n",
       "      <td>Her2Neg_Case_45.xml</td>\n",
       "      <td>data/Yale_HER2_cohort/Annotations/Her2Neg_Case...</td>\n",
       "    </tr>\n",
       "    <tr>\n",
       "      <th>45</th>\n",
       "      <td>data/Yale_HER2_cohort/SVS/Her2Neg_Case_46.svs</td>\n",
       "      <td>Her2Neg_Case_46</td>\n",
       "      <td>Her2Neg_Case_46.svs</td>\n",
       "      <td>Her2Neg_Case_46.xml</td>\n",
       "      <td>data/Yale_HER2_cohort/Annotations/Her2Neg_Case...</td>\n",
       "    </tr>\n",
       "    <tr>\n",
       "      <th>46</th>\n",
       "      <td>data/Yale_HER2_cohort/SVS/Her2Neg_Case_47.svs</td>\n",
       "      <td>Her2Neg_Case_47</td>\n",
       "      <td>Her2Neg_Case_47.svs</td>\n",
       "      <td>Her2Neg_Case_47.xml</td>\n",
       "      <td>data/Yale_HER2_cohort/Annotations/Her2Neg_Case...</td>\n",
       "    </tr>\n",
       "    <tr>\n",
       "      <th>47</th>\n",
       "      <td>data/Yale_HER2_cohort/SVS/Her2Neg_Case_48.svs</td>\n",
       "      <td>Her2Neg_Case_48</td>\n",
       "      <td>Her2Neg_Case_48.svs</td>\n",
       "      <td>Her2Neg_Case_48.xml</td>\n",
       "      <td>data/Yale_HER2_cohort/Annotations/Her2Neg_Case...</td>\n",
       "    </tr>\n",
       "    <tr>\n",
       "      <th>48</th>\n",
       "      <td>data/Yale_HER2_cohort/SVS/Her2Neg_Case_49.svs</td>\n",
       "      <td>Her2Neg_Case_49</td>\n",
       "      <td>Her2Neg_Case_49.svs</td>\n",
       "      <td>Her2Neg_Case_49.xml</td>\n",
       "      <td>data/Yale_HER2_cohort/Annotations/Her2Neg_Case...</td>\n",
       "    </tr>\n",
       "    <tr>\n",
       "      <th>49</th>\n",
       "      <td>data/Yale_HER2_cohort/SVS/Her2Neg_Case_50.svs</td>\n",
       "      <td>Her2Neg_Case_50</td>\n",
       "      <td>Her2Neg_Case_50.svs</td>\n",
       "      <td>Her2Neg_Case_50.xml</td>\n",
       "      <td>data/Yale_HER2_cohort/Annotations/Her2Neg_Case...</td>\n",
       "    </tr>\n",
       "  </tbody>\n",
       "</table>\n",
       "</div>"
      ],
      "text/plain": [
       "                                         wsi_path         slide_id  \\\n",
       "0   data/Yale_HER2_cohort/SVS/Her2Neg_Case_01.svs  Her2Neg_Case_01   \n",
       "1   data/Yale_HER2_cohort/SVS/Her2Neg_Case_02.svs  Her2Neg_Case_02   \n",
       "2   data/Yale_HER2_cohort/SVS/Her2Neg_Case_03.svs  Her2Neg_Case_03   \n",
       "3   data/Yale_HER2_cohort/SVS/Her2Neg_Case_04.svs  Her2Neg_Case_04   \n",
       "4   data/Yale_HER2_cohort/SVS/Her2Neg_Case_05.svs  Her2Neg_Case_05   \n",
       "5   data/Yale_HER2_cohort/SVS/Her2Neg_Case_06.svs  Her2Neg_Case_06   \n",
       "6   data/Yale_HER2_cohort/SVS/Her2Neg_Case_07.svs  Her2Neg_Case_07   \n",
       "7   data/Yale_HER2_cohort/SVS/Her2Neg_Case_08.svs  Her2Neg_Case_08   \n",
       "8   data/Yale_HER2_cohort/SVS/Her2Neg_Case_09.svs  Her2Neg_Case_09   \n",
       "9   data/Yale_HER2_cohort/SVS/Her2Neg_Case_10.svs  Her2Neg_Case_10   \n",
       "10  data/Yale_HER2_cohort/SVS/Her2Neg_Case_11.svs  Her2Neg_Case_11   \n",
       "11  data/Yale_HER2_cohort/SVS/Her2Neg_Case_12.svs  Her2Neg_Case_12   \n",
       "12  data/Yale_HER2_cohort/SVS/Her2Neg_Case_13.svs  Her2Neg_Case_13   \n",
       "13  data/Yale_HER2_cohort/SVS/Her2Neg_Case_14.svs  Her2Neg_Case_14   \n",
       "14  data/Yale_HER2_cohort/SVS/Her2Neg_Case_15.svs  Her2Neg_Case_15   \n",
       "15  data/Yale_HER2_cohort/SVS/Her2Neg_Case_16.svs  Her2Neg_Case_16   \n",
       "16  data/Yale_HER2_cohort/SVS/Her2Neg_Case_17.svs  Her2Neg_Case_17   \n",
       "17  data/Yale_HER2_cohort/SVS/Her2Neg_Case_18.svs  Her2Neg_Case_18   \n",
       "18  data/Yale_HER2_cohort/SVS/Her2Neg_Case_19.svs  Her2Neg_Case_19   \n",
       "19  data/Yale_HER2_cohort/SVS/Her2Neg_Case_20.svs  Her2Neg_Case_20   \n",
       "20  data/Yale_HER2_cohort/SVS/Her2Neg_Case_21.svs  Her2Neg_Case_21   \n",
       "21  data/Yale_HER2_cohort/SVS/Her2Neg_Case_22.svs  Her2Neg_Case_22   \n",
       "22  data/Yale_HER2_cohort/SVS/Her2Neg_Case_23.svs  Her2Neg_Case_23   \n",
       "23  data/Yale_HER2_cohort/SVS/Her2Neg_Case_24.svs  Her2Neg_Case_24   \n",
       "24  data/Yale_HER2_cohort/SVS/Her2Neg_Case_25.svs  Her2Neg_Case_25   \n",
       "25  data/Yale_HER2_cohort/SVS/Her2Neg_Case_26.svs  Her2Neg_Case_26   \n",
       "26  data/Yale_HER2_cohort/SVS/Her2Neg_Case_27.svs  Her2Neg_Case_27   \n",
       "27  data/Yale_HER2_cohort/SVS/Her2Neg_Case_28.svs  Her2Neg_Case_28   \n",
       "28  data/Yale_HER2_cohort/SVS/Her2Neg_Case_29.svs  Her2Neg_Case_29   \n",
       "29  data/Yale_HER2_cohort/SVS/Her2Neg_Case_30.svs  Her2Neg_Case_30   \n",
       "30  data/Yale_HER2_cohort/SVS/Her2Neg_Case_31.svs  Her2Neg_Case_31   \n",
       "31  data/Yale_HER2_cohort/SVS/Her2Neg_Case_32.svs  Her2Neg_Case_32   \n",
       "32  data/Yale_HER2_cohort/SVS/Her2Neg_Case_33.svs  Her2Neg_Case_33   \n",
       "33  data/Yale_HER2_cohort/SVS/Her2Neg_Case_34.svs  Her2Neg_Case_34   \n",
       "34  data/Yale_HER2_cohort/SVS/Her2Neg_Case_35.svs  Her2Neg_Case_35   \n",
       "35  data/Yale_HER2_cohort/SVS/Her2Neg_Case_36.svs  Her2Neg_Case_36   \n",
       "36  data/Yale_HER2_cohort/SVS/Her2Neg_Case_37.svs  Her2Neg_Case_37   \n",
       "37  data/Yale_HER2_cohort/SVS/Her2Neg_Case_38.svs  Her2Neg_Case_38   \n",
       "38  data/Yale_HER2_cohort/SVS/Her2Neg_Case_39.svs  Her2Neg_Case_39   \n",
       "39  data/Yale_HER2_cohort/SVS/Her2Neg_Case_40.svs  Her2Neg_Case_40   \n",
       "40  data/Yale_HER2_cohort/SVS/Her2Neg_Case_41.svs  Her2Neg_Case_41   \n",
       "41  data/Yale_HER2_cohort/SVS/Her2Neg_Case_42.svs  Her2Neg_Case_42   \n",
       "42  data/Yale_HER2_cohort/SVS/Her2Neg_Case_43.svs  Her2Neg_Case_43   \n",
       "43  data/Yale_HER2_cohort/SVS/Her2Neg_Case_44.svs  Her2Neg_Case_44   \n",
       "44  data/Yale_HER2_cohort/SVS/Her2Neg_Case_45.svs  Her2Neg_Case_45   \n",
       "45  data/Yale_HER2_cohort/SVS/Her2Neg_Case_46.svs  Her2Neg_Case_46   \n",
       "46  data/Yale_HER2_cohort/SVS/Her2Neg_Case_47.svs  Her2Neg_Case_47   \n",
       "47  data/Yale_HER2_cohort/SVS/Her2Neg_Case_48.svs  Her2Neg_Case_48   \n",
       "48  data/Yale_HER2_cohort/SVS/Her2Neg_Case_49.svs  Her2Neg_Case_49   \n",
       "49  data/Yale_HER2_cohort/SVS/Her2Neg_Case_50.svs  Her2Neg_Case_50   \n",
       "\n",
       "             slide_name      annotation_name  \\\n",
       "0   Her2Neg_Case_01.svs  Her2Neg_Case_01.xml   \n",
       "1   Her2Neg_Case_02.svs  Her2Neg_Case_02.xml   \n",
       "2   Her2Neg_Case_03.svs  Her2Neg_Case_03.xml   \n",
       "3   Her2Neg_Case_04.svs  Her2Neg_Case_04.xml   \n",
       "4   Her2Neg_Case_05.svs  Her2Neg_Case_05.xml   \n",
       "5   Her2Neg_Case_06.svs  Her2Neg_Case_06.xml   \n",
       "6   Her2Neg_Case_07.svs  Her2Neg_Case_07.xml   \n",
       "7   Her2Neg_Case_08.svs  Her2Neg_Case_08.xml   \n",
       "8   Her2Neg_Case_09.svs  Her2Neg_Case_09.xml   \n",
       "9   Her2Neg_Case_10.svs  Her2Neg_Case_10.xml   \n",
       "10  Her2Neg_Case_11.svs  Her2Neg_Case_11.xml   \n",
       "11  Her2Neg_Case_12.svs  Her2Neg_Case_12.xml   \n",
       "12  Her2Neg_Case_13.svs  Her2Neg_Case_13.xml   \n",
       "13  Her2Neg_Case_14.svs  Her2Neg_Case_14.xml   \n",
       "14  Her2Neg_Case_15.svs  Her2Neg_Case_15.xml   \n",
       "15  Her2Neg_Case_16.svs  Her2Neg_Case_16.xml   \n",
       "16  Her2Neg_Case_17.svs  Her2Neg_Case_17.xml   \n",
       "17  Her2Neg_Case_18.svs  Her2Neg_Case_18.xml   \n",
       "18  Her2Neg_Case_19.svs  Her2Neg_Case_19.xml   \n",
       "19  Her2Neg_Case_20.svs  Her2Neg_Case_20.xml   \n",
       "20  Her2Neg_Case_21.svs  Her2Neg_Case_21.xml   \n",
       "21  Her2Neg_Case_22.svs  Her2Neg_Case_22.xml   \n",
       "22  Her2Neg_Case_23.svs  Her2Neg_Case_23.xml   \n",
       "23  Her2Neg_Case_24.svs  Her2Neg_Case_24.xml   \n",
       "24  Her2Neg_Case_25.svs  Her2Neg_Case_25.xml   \n",
       "25  Her2Neg_Case_26.svs  Her2Neg_Case_26.xml   \n",
       "26  Her2Neg_Case_27.svs  Her2Neg_Case_27.xml   \n",
       "27  Her2Neg_Case_28.svs  Her2Neg_Case_28.xml   \n",
       "28  Her2Neg_Case_29.svs  Her2Neg_Case_29.xml   \n",
       "29  Her2Neg_Case_30.svs  Her2Neg_Case_30.xml   \n",
       "30  Her2Neg_Case_31.svs                  NaN   \n",
       "31  Her2Neg_Case_32.svs  Her2Neg_Case_32.xml   \n",
       "32  Her2Neg_Case_33.svs  Her2Neg_Case_33.xml   \n",
       "33  Her2Neg_Case_34.svs                  NaN   \n",
       "34  Her2Neg_Case_35.svs  Her2Neg_Case_35.xml   \n",
       "35  Her2Neg_Case_36.svs  Her2Neg_Case_36.xml   \n",
       "36  Her2Neg_Case_37.svs  Her2Neg_Case_37.xml   \n",
       "37  Her2Neg_Case_38.svs  Her2Neg_Case_38.xml   \n",
       "38  Her2Neg_Case_39.svs  Her2Neg_Case_39.xml   \n",
       "39  Her2Neg_Case_40.svs  Her2Neg_Case_40.xml   \n",
       "40  Her2Neg_Case_41.svs  Her2Neg_Case_41.xml   \n",
       "41  Her2Neg_Case_42.svs  Her2Neg_Case_42.xml   \n",
       "42  Her2Neg_Case_43.svs  Her2Neg_Case_43.xml   \n",
       "43  Her2Neg_Case_44.svs  Her2Neg_Case_44.xml   \n",
       "44  Her2Neg_Case_45.svs  Her2Neg_Case_45.xml   \n",
       "45  Her2Neg_Case_46.svs  Her2Neg_Case_46.xml   \n",
       "46  Her2Neg_Case_47.svs  Her2Neg_Case_47.xml   \n",
       "47  Her2Neg_Case_48.svs  Her2Neg_Case_48.xml   \n",
       "48  Her2Neg_Case_49.svs  Her2Neg_Case_49.xml   \n",
       "49  Her2Neg_Case_50.svs  Her2Neg_Case_50.xml   \n",
       "\n",
       "                                      annotation_path  \n",
       "0   data/Yale_HER2_cohort/Annotations/Her2Neg_Case...  \n",
       "1   data/Yale_HER2_cohort/Annotations/Her2Neg_Case...  \n",
       "2   data/Yale_HER2_cohort/Annotations/Her2Neg_Case...  \n",
       "3   data/Yale_HER2_cohort/Annotations/Her2Neg_Case...  \n",
       "4   data/Yale_HER2_cohort/Annotations/Her2Neg_Case...  \n",
       "5   data/Yale_HER2_cohort/Annotations/Her2Neg_Case...  \n",
       "6   data/Yale_HER2_cohort/Annotations/Her2Neg_Case...  \n",
       "7   data/Yale_HER2_cohort/Annotations/Her2Neg_Case...  \n",
       "8   data/Yale_HER2_cohort/Annotations/Her2Neg_Case...  \n",
       "9   data/Yale_HER2_cohort/Annotations/Her2Neg_Case...  \n",
       "10  data/Yale_HER2_cohort/Annotations/Her2Neg_Case...  \n",
       "11  data/Yale_HER2_cohort/Annotations/Her2Neg_Case...  \n",
       "12  data/Yale_HER2_cohort/Annotations/Her2Neg_Case...  \n",
       "13  data/Yale_HER2_cohort/Annotations/Her2Neg_Case...  \n",
       "14  data/Yale_HER2_cohort/Annotations/Her2Neg_Case...  \n",
       "15  data/Yale_HER2_cohort/Annotations/Her2Neg_Case...  \n",
       "16  data/Yale_HER2_cohort/Annotations/Her2Neg_Case...  \n",
       "17  data/Yale_HER2_cohort/Annotations/Her2Neg_Case...  \n",
       "18  data/Yale_HER2_cohort/Annotations/Her2Neg_Case...  \n",
       "19  data/Yale_HER2_cohort/Annotations/Her2Neg_Case...  \n",
       "20  data/Yale_HER2_cohort/Annotations/Her2Neg_Case...  \n",
       "21  data/Yale_HER2_cohort/Annotations/Her2Neg_Case...  \n",
       "22  data/Yale_HER2_cohort/Annotations/Her2Neg_Case...  \n",
       "23  data/Yale_HER2_cohort/Annotations/Her2Neg_Case...  \n",
       "24  data/Yale_HER2_cohort/Annotations/Her2Neg_Case...  \n",
       "25  data/Yale_HER2_cohort/Annotations/Her2Neg_Case...  \n",
       "26  data/Yale_HER2_cohort/Annotations/Her2Neg_Case...  \n",
       "27  data/Yale_HER2_cohort/Annotations/Her2Neg_Case...  \n",
       "28  data/Yale_HER2_cohort/Annotations/Her2Neg_Case...  \n",
       "29  data/Yale_HER2_cohort/Annotations/Her2Neg_Case...  \n",
       "30                                                NaN  \n",
       "31  data/Yale_HER2_cohort/Annotations/Her2Neg_Case...  \n",
       "32  data/Yale_HER2_cohort/Annotations/Her2Neg_Case...  \n",
       "33                                                NaN  \n",
       "34  data/Yale_HER2_cohort/Annotations/Her2Neg_Case...  \n",
       "35  data/Yale_HER2_cohort/Annotations/Her2Neg_Case...  \n",
       "36  data/Yale_HER2_cohort/Annotations/Her2Neg_Case...  \n",
       "37  data/Yale_HER2_cohort/Annotations/Her2Neg_Case...  \n",
       "38  data/Yale_HER2_cohort/Annotations/Her2Neg_Case...  \n",
       "39  data/Yale_HER2_cohort/Annotations/Her2Neg_Case...  \n",
       "40  data/Yale_HER2_cohort/Annotations/Her2Neg_Case...  \n",
       "41  data/Yale_HER2_cohort/Annotations/Her2Neg_Case...  \n",
       "42  data/Yale_HER2_cohort/Annotations/Her2Neg_Case...  \n",
       "43  data/Yale_HER2_cohort/Annotations/Her2Neg_Case...  \n",
       "44  data/Yale_HER2_cohort/Annotations/Her2Neg_Case...  \n",
       "45  data/Yale_HER2_cohort/Annotations/Her2Neg_Case...  \n",
       "46  data/Yale_HER2_cohort/Annotations/Her2Neg_Case...  \n",
       "47  data/Yale_HER2_cohort/Annotations/Her2Neg_Case...  \n",
       "48  data/Yale_HER2_cohort/Annotations/Her2Neg_Case...  \n",
       "49  data/Yale_HER2_cohort/Annotations/Her2Neg_Case...  "
      ]
     },
     "metadata": {},
     "output_type": "display_data"
    }
   ],
   "source": [
    "csv_path = discover_wsi(\n",
    "    base_dir=BASE_DIR, \n",
    "    sources=SOURCES, \n",
    "    output_path=OUTPUT_CSV\n",
    ")\n",
    "\n",
    "# Load and display the results\n",
    "df = pd.read_csv(csv_path)\n",
    "display(df.head(50))"
   ]
  },
  {
   "cell_type": "code",
   "execution_count": 10,
   "id": "3855ee62",
   "metadata": {},
   "outputs": [
    {
     "name": "stderr",
     "output_type": "stream",
     "text": [
      "Processing slides:   0%|          | 0/471 [00:00<?, ?it/s]"
     ]
    },
    {
     "name": "stdout",
     "output_type": "stream",
     "text": [
      "Processing slide: data/Yale_HER2_cohort/SVS/Her2Neg_Case_01.svs with annotation: /media/thanakornbuath/Phone SSD/her2-attention-classifier/data/Yale_HER2_cohort/Annotations/Her2Neg_Case_01.xml\n",
      "Mask shape: (45426, 41888)\n",
      "Loaded WSI backend: cucim\n",
      "Mask shape: (45426, 41888)\n",
      "Loaded WSI backend: cucim\n"
     ]
    },
    {
     "name": "stderr",
     "output_type": "stream",
     "text": [
      "Processing slides:   0%|          | 1/471 [00:07<55:48,  7.13s/it]"
     ]
    },
    {
     "name": "stdout",
     "output_type": "stream",
     "text": [
      "Extracted 155 patches from data/Yale_HER2_cohort/SVS/Her2Neg_Case_01.svs; saved 155 to outputs/patches/Her2Neg_Case_01\n",
      "Processing slide: data/Yale_HER2_cohort/SVS/Her2Neg_Case_02.svs with annotation: /media/thanakornbuath/Phone SSD/her2-attention-classifier/data/Yale_HER2_cohort/Annotations/Her2Neg_Case_02.xml\n",
      "Mask shape: (28692, 31416)\n",
      "Loaded WSI backend: cucim\n"
     ]
    },
    {
     "name": "stderr",
     "output_type": "stream",
     "text": [
      "Processing slides:   0%|          | 2/471 [00:11<42:18,  5.41s/it]"
     ]
    },
    {
     "name": "stdout",
     "output_type": "stream",
     "text": [
      "Extracted 95 patches from data/Yale_HER2_cohort/SVS/Her2Neg_Case_02.svs; saved 95 to outputs/patches/Her2Neg_Case_02\n",
      "Processing slide: data/Yale_HER2_cohort/SVS/Her2Neg_Case_03.svs with annotation: /media/thanakornbuath/Phone SSD/her2-attention-classifier/data/Yale_HER2_cohort/Annotations/Her2Neg_Case_03.xml\n",
      "Mask shape: (23525, 29512)\n",
      "Loaded WSI backend: cucim\n"
     ]
    },
    {
     "name": "stderr",
     "output_type": "stream",
     "text": [
      "Processing slides:   1%|          | 3/471 [00:15<36:12,  4.64s/it]"
     ]
    },
    {
     "name": "stdout",
     "output_type": "stream",
     "text": [
      "Extracted 74 patches from data/Yale_HER2_cohort/SVS/Her2Neg_Case_03.svs; saved 74 to outputs/patches/Her2Neg_Case_03\n",
      "Processing slide: data/Yale_HER2_cohort/SVS/Her2Neg_Case_04.svs with annotation: /media/thanakornbuath/Phone SSD/her2-attention-classifier/data/Yale_HER2_cohort/Annotations/Her2Neg_Case_04.xml\n",
      "Mask shape: (34106, 40936)\n",
      "Loaded WSI backend: cucim\n"
     ]
    },
    {
     "name": "stderr",
     "output_type": "stream",
     "text": [
      "Processing slides:   1%|          | 4/471 [00:19<34:54,  4.48s/it]"
     ]
    },
    {
     "name": "stdout",
     "output_type": "stream",
     "text": [
      "Extracted 86 patches from data/Yale_HER2_cohort/SVS/Her2Neg_Case_04.svs; saved 86 to outputs/patches/Her2Neg_Case_04\n",
      "Processing slide: data/Yale_HER2_cohort/SVS/Her2Neg_Case_05.svs with annotation: /media/thanakornbuath/Phone SSD/her2-attention-classifier/data/Yale_HER2_cohort/Annotations/Her2Neg_Case_05.xml\n",
      "Mask shape: (17618, 19992)\n",
      "Loaded WSI backend: cucim\n"
     ]
    },
    {
     "name": "stderr",
     "output_type": "stream",
     "text": [
      "Processing slides:   1%|          | 5/471 [00:20<25:08,  3.24s/it]"
     ]
    },
    {
     "name": "stdout",
     "output_type": "stream",
     "text": [
      "Extracted 16 patches from data/Yale_HER2_cohort/SVS/Her2Neg_Case_05.svs; saved 16 to outputs/patches/Her2Neg_Case_05\n",
      "Processing slide: data/Yale_HER2_cohort/SVS/Her2Neg_Case_06.svs with annotation: /media/thanakornbuath/Phone SSD/her2-attention-classifier/data/Yale_HER2_cohort/Annotations/Her2Neg_Case_06.xml\n",
      "Mask shape: (22704, 22848)\n",
      "Loaded WSI backend: cucim\n"
     ]
    },
    {
     "name": "stderr",
     "output_type": "stream",
     "text": [
      "Processing slides:   1%|▏         | 6/471 [00:25<29:12,  3.77s/it]"
     ]
    },
    {
     "name": "stdout",
     "output_type": "stream",
     "text": [
      "Extracted 108 patches from data/Yale_HER2_cohort/SVS/Her2Neg_Case_06.svs; saved 108 to outputs/patches/Her2Neg_Case_06\n",
      "Processing slide: data/Yale_HER2_cohort/SVS/Her2Neg_Case_07.svs with annotation: /media/thanakornbuath/Phone SSD/her2-attention-classifier/data/Yale_HER2_cohort/Annotations/Her2Neg_Case_07.xml\n",
      "Mask shape: (32383, 25704)\n",
      "Loaded WSI backend: cucim\n"
     ]
    },
    {
     "name": "stderr",
     "output_type": "stream",
     "text": [
      "Processing slides:   1%|▏         | 7/471 [00:27<25:34,  3.31s/it]"
     ]
    },
    {
     "name": "stdout",
     "output_type": "stream",
     "text": [
      "Extracted 46 patches from data/Yale_HER2_cohort/SVS/Her2Neg_Case_07.svs; saved 46 to outputs/patches/Her2Neg_Case_07\n",
      "Processing slide: data/Yale_HER2_cohort/SVS/Her2Neg_Case_08.svs with annotation: /media/thanakornbuath/Phone SSD/her2-attention-classifier/data/Yale_HER2_cohort/Annotations/Her2Neg_Case_08.xml\n",
      "Mask shape: (20244, 32368)\n",
      "Loaded WSI backend: cucim\n"
     ]
    },
    {
     "name": "stderr",
     "output_type": "stream",
     "text": [
      "Processing slides:   2%|▏         | 8/471 [00:29<22:46,  2.95s/it]"
     ]
    },
    {
     "name": "stdout",
     "output_type": "stream",
     "text": [
      "Extracted 44 patches from data/Yale_HER2_cohort/SVS/Her2Neg_Case_08.svs; saved 44 to outputs/patches/Her2Neg_Case_08\n",
      "Processing slide: data/Yale_HER2_cohort/SVS/Her2Neg_Case_09.svs with annotation: /media/thanakornbuath/Phone SSD/her2-attention-classifier/data/Yale_HER2_cohort/Annotations/Her2Neg_Case_09.xml\n",
      "Mask shape: (36075, 46648)\n",
      "Loaded WSI backend: cucim\n",
      "Mask shape: (36075, 46648)\n",
      "Loaded WSI backend: cucim\n"
     ]
    },
    {
     "name": "stderr",
     "output_type": "stream",
     "text": [
      "Processing slides:   2%|▏         | 9/471 [00:34<27:09,  3.53s/it]"
     ]
    },
    {
     "name": "stdout",
     "output_type": "stream",
     "text": [
      "Extracted 87 patches from data/Yale_HER2_cohort/SVS/Her2Neg_Case_09.svs; saved 87 to outputs/patches/Her2Neg_Case_09\n",
      "Processing slide: data/Yale_HER2_cohort/SVS/Her2Neg_Case_10.svs with annotation: /media/thanakornbuath/Phone SSD/her2-attention-classifier/data/Yale_HER2_cohort/Annotations/Her2Neg_Case_10.xml\n",
      "Mask shape: (24182, 50456)\n",
      "Loaded WSI backend: cucim\n"
     ]
    },
    {
     "name": "stderr",
     "output_type": "stream",
     "text": [
      "Processing slides:   2%|▏         | 10/471 [00:36<22:34,  2.94s/it]"
     ]
    },
    {
     "name": "stdout",
     "output_type": "stream",
     "text": [
      "Extracted 18 patches from data/Yale_HER2_cohort/SVS/Her2Neg_Case_10.svs; saved 18 to outputs/patches/Her2Neg_Case_10\n",
      "Processing slide: data/Yale_HER2_cohort/SVS/Her2Neg_Case_11.svs with annotation: /media/thanakornbuath/Phone SSD/her2-attention-classifier/data/Yale_HER2_cohort/Annotations/Her2Neg_Case_11.xml\n",
      "Mask shape: (28939, 36176)\n",
      "Loaded WSI backend: cucim\n"
     ]
    },
    {
     "name": "stderr",
     "output_type": "stream",
     "text": [
      "Processing slides:   2%|▏         | 11/471 [00:48<43:54,  5.73s/it]"
     ]
    },
    {
     "name": "stdout",
     "output_type": "stream",
     "text": [
      "Extracted 182 patches from data/Yale_HER2_cohort/SVS/Her2Neg_Case_11.svs; saved 182 to outputs/patches/Her2Neg_Case_11\n",
      "Processing slide: data/Yale_HER2_cohort/SVS/Her2Neg_Case_12.svs with annotation: /media/thanakornbuath/Phone SSD/her2-attention-classifier/data/Yale_HER2_cohort/Annotations/Her2Neg_Case_12.xml\n",
      "Mask shape: (21227, 22848)\n",
      "Loaded WSI backend: cucim\n"
     ]
    },
    {
     "name": "stderr",
     "output_type": "stream",
     "text": [
      "Processing slides:   3%|▎         | 12/471 [00:56<49:11,  6.43s/it]"
     ]
    },
    {
     "name": "stdout",
     "output_type": "stream",
     "text": [
      "Extracted 190 patches from data/Yale_HER2_cohort/SVS/Her2Neg_Case_12.svs; saved 190 to outputs/patches/Her2Neg_Case_12\n",
      "Processing slide: data/Yale_HER2_cohort/SVS/Her2Neg_Case_13.svs with annotation: /media/thanakornbuath/Phone SSD/her2-attention-classifier/data/Yale_HER2_cohort/Annotations/Her2Neg_Case_13.xml\n",
      "Mask shape: (25985, 27608)\n",
      "Loaded WSI backend: cucim\n"
     ]
    },
    {
     "name": "stderr",
     "output_type": "stream",
     "text": [
      "Processing slides:   3%|▎         | 13/471 [01:10<1:07:29,  8.84s/it]"
     ]
    },
    {
     "name": "stdout",
     "output_type": "stream",
     "text": [
      "Extracted 362 patches from data/Yale_HER2_cohort/SVS/Her2Neg_Case_13.svs; saved 362 to outputs/patches/Her2Neg_Case_13\n",
      "Processing slide: data/Yale_HER2_cohort/SVS/Her2Neg_Case_14.svs with annotation: /media/thanakornbuath/Phone SSD/her2-attention-classifier/data/Yale_HER2_cohort/Annotations/Her2Neg_Case_14.xml\n",
      "Mask shape: (18685, 29512)\n",
      "Loaded WSI backend: cucim\n"
     ]
    },
    {
     "name": "stderr",
     "output_type": "stream",
     "text": [
      "Processing slides:   3%|▎         | 14/471 [01:18<1:04:34,  8.48s/it]"
     ]
    },
    {
     "name": "stdout",
     "output_type": "stream",
     "text": [
      "Extracted 192 patches from data/Yale_HER2_cohort/SVS/Her2Neg_Case_14.svs; saved 192 to outputs/patches/Her2Neg_Case_14\n",
      "Processing slide: data/Yale_HER2_cohort/SVS/Her2Neg_Case_15.svs with annotation: /media/thanakornbuath/Phone SSD/her2-attention-classifier/data/Yale_HER2_cohort/Annotations/Her2Neg_Case_15.xml\n",
      "Mask shape: (32301, 25704)\n",
      "Loaded WSI backend: cucim\n"
     ]
    },
    {
     "name": "stderr",
     "output_type": "stream",
     "text": [
      "Processing slides:   3%|▎         | 15/471 [01:30<1:12:11,  9.50s/it]"
     ]
    },
    {
     "name": "stdout",
     "output_type": "stream",
     "text": [
      "Extracted 271 patches from data/Yale_HER2_cohort/SVS/Her2Neg_Case_15.svs; saved 271 to outputs/patches/Her2Neg_Case_15\n",
      "Processing slide: data/Yale_HER2_cohort/SVS/Her2Neg_Case_16.svs with annotation: /media/thanakornbuath/Phone SSD/her2-attention-classifier/data/Yale_HER2_cohort/Annotations/Her2Neg_Case_16.xml\n",
      "Mask shape: (19751, 27608)\n",
      "Loaded WSI backend: cucim\n"
     ]
    },
    {
     "name": "stderr",
     "output_type": "stream",
     "text": [
      "Processing slides:   3%|▎         | 16/471 [01:43<1:20:47, 10.65s/it]"
     ]
    },
    {
     "name": "stdout",
     "output_type": "stream",
     "text": [
      "Extracted 258 patches from data/Yale_HER2_cohort/SVS/Her2Neg_Case_16.svs; saved 258 to outputs/patches/Her2Neg_Case_16\n",
      "Processing slide: data/Yale_HER2_cohort/SVS/Her2Neg_Case_17.svs with annotation: /media/thanakornbuath/Phone SSD/her2-attention-classifier/data/Yale_HER2_cohort/Annotations/Her2Neg_Case_17.xml\n",
      "Mask shape: (16635, 37128)\n",
      "Loaded WSI backend: cucim\n"
     ]
    },
    {
     "name": "stderr",
     "output_type": "stream",
     "text": [
      "Processing slides:   4%|▎         | 17/471 [01:46<1:04:16,  8.49s/it]"
     ]
    },
    {
     "name": "stdout",
     "output_type": "stream",
     "text": [
      "Extracted 61 patches from data/Yale_HER2_cohort/SVS/Her2Neg_Case_17.svs; saved 61 to outputs/patches/Her2Neg_Case_17\n",
      "Processing slide: data/Yale_HER2_cohort/SVS/Her2Neg_Case_18.svs with annotation: /media/thanakornbuath/Phone SSD/her2-attention-classifier/data/Yale_HER2_cohort/Annotations/Her2Neg_Case_18.xml\n",
      "Mask shape: (40669, 54264)\n",
      "Loaded WSI backend: cucim\n",
      "Mask shape: (40669, 54264)\n",
      "Loaded WSI backend: cucim\n"
     ]
    },
    {
     "name": "stderr",
     "output_type": "stream",
     "text": [
      "Processing slides:   4%|▎         | 17/471 [01:52<50:01,  6.61s/it]  \n",
      "\n"
     ]
    },
    {
     "ename": "KeyboardInterrupt",
     "evalue": "",
     "output_type": "error",
     "traceback": [
      "\u001b[31m---------------------------------------------------------------------------\u001b[39m",
      "\u001b[31mAttributeError\u001b[39m                            Traceback (most recent call last)",
      "\u001b[36mFile \u001b[39m\u001b[32m~/anaconda3/envs/her2-class/lib/python3.12/site-packages/PIL/ImageFile.py:536\u001b[39m, in \u001b[36m_save\u001b[39m\u001b[34m(im, fp, tile, bufsize)\u001b[39m\n\u001b[32m    535\u001b[39m \u001b[38;5;28;01mtry\u001b[39;00m:\n\u001b[32m--> \u001b[39m\u001b[32m536\u001b[39m     fh = \u001b[43mfp\u001b[49m\u001b[43m.\u001b[49m\u001b[43mfileno\u001b[49m()\n\u001b[32m    537\u001b[39m     fp.flush()\n",
      "\u001b[31mAttributeError\u001b[39m: '_idat' object has no attribute 'fileno'",
      "\nDuring handling of the above exception, another exception occurred:\n",
      "\u001b[31mKeyboardInterrupt\u001b[39m                         Traceback (most recent call last)",
      "\u001b[36mCell\u001b[39m\u001b[36m \u001b[39m\u001b[32mIn[10]\u001b[39m\u001b[32m, line 40\u001b[39m\n\u001b[32m     38\u001b[39m out_dir_patches = os.path.join(\u001b[33m'\u001b[39m\u001b[33moutputs\u001b[39m\u001b[33m'\u001b[39m, \u001b[33m'\u001b[39m\u001b[33mpatches\u001b[39m\u001b[33m'\u001b[39m, slide_base)\n\u001b[32m     39\u001b[39m \u001b[38;5;28;01mtry\u001b[39;00m:\n\u001b[32m---> \u001b[39m\u001b[32m40\u001b[39m     patches = \u001b[43mextract_patches\u001b[49m\u001b[43m(\u001b[49m\n\u001b[32m     41\u001b[39m \u001b[43m        \u001b[49m\u001b[43mwsi_slide\u001b[49m\u001b[43m,\u001b[49m\n\u001b[32m     42\u001b[39m \u001b[43m        \u001b[49m\u001b[43mmask\u001b[49m\u001b[43m=\u001b[49m\u001b[43mmask\u001b[49m\u001b[43m,\u001b[49m\n\u001b[32m     43\u001b[39m \u001b[43m        \u001b[49m\u001b[43msize\u001b[49m\u001b[43m=\u001b[49m\u001b[32;43m512\u001b[39;49m\u001b[43m,\u001b[49m\n\u001b[32m     44\u001b[39m \u001b[43m        \u001b[49m\u001b[43mstride\u001b[49m\u001b[43m=\u001b[49m\u001b[32;43m512\u001b[39;49m\u001b[43m,\u001b[49m\n\u001b[32m     45\u001b[39m \u001b[43m        \u001b[49m\u001b[43msave_dir\u001b[49m\u001b[43m=\u001b[49m\u001b[43mout_dir_patches\u001b[49m\u001b[43m,\u001b[49m\n\u001b[32m     46\u001b[39m \u001b[43m        \u001b[49m\u001b[43msave_prefix\u001b[49m\u001b[43m=\u001b[49m\u001b[43mslide_base\u001b[49m\u001b[43m,\u001b[49m\n\u001b[32m     47\u001b[39m \u001b[43m        \u001b[49m\u001b[43msave_format\u001b[49m\u001b[43m=\u001b[49m\u001b[33;43m'\u001b[39;49m\u001b[33;43mpng\u001b[39;49m\u001b[33;43m'\u001b[39;49m\n\u001b[32m     48\u001b[39m \u001b[43m    \u001b[49m\u001b[43m)\u001b[49m\n\u001b[32m     49\u001b[39m \u001b[38;5;28;01mexcept\u001b[39;00m \u001b[38;5;167;01mException\u001b[39;00m \u001b[38;5;28;01mas\u001b[39;00m e:\n\u001b[32m     50\u001b[39m     log(\u001b[33mf\u001b[39m\u001b[33m\"\u001b[39m\u001b[33mFailed to extract patches for \u001b[39m\u001b[38;5;132;01m{\u001b[39;00mwsi_path\u001b[38;5;132;01m}\u001b[39;00m\u001b[33m: \u001b[39m\u001b[38;5;132;01m{\u001b[39;00me\u001b[38;5;132;01m}\u001b[39;00m\u001b[33m\"\u001b[39m)\n",
      "\u001b[36mFile \u001b[39m\u001b[32m/media/thanakornbuath/Phone SSD/her2-attention-classifier/src/preprocessing/extract_patches.py:108\u001b[39m, in \u001b[36mextract_patches\u001b[39m\u001b[34m(wsi_slide, mask, size, stride, tissue_threshold, level, save_dir, save_prefix, save_format)\u001b[39m\n\u001b[32m    105\u001b[39m out_path = os.path.join(save_dir, fname)\n\u001b[32m    106\u001b[39m \u001b[38;5;28;01mtry\u001b[39;00m:\n\u001b[32m    107\u001b[39m     \u001b[38;5;66;03m# PIL will infer format from extension; pass explicit format for clarity\u001b[39;00m\n\u001b[32m--> \u001b[39m\u001b[32m108\u001b[39m     \u001b[43mpatch\u001b[49m\u001b[43m.\u001b[49m\u001b[43msave\u001b[49m\u001b[43m(\u001b[49m\u001b[43mout_path\u001b[49m\u001b[43m)\u001b[49m\n\u001b[32m    109\u001b[39m     entry[\u001b[33m'\u001b[39m\u001b[33mpath\u001b[39m\u001b[33m'\u001b[39m] = out_path\n\u001b[32m    110\u001b[39m \u001b[38;5;28;01mexcept\u001b[39;00m \u001b[38;5;167;01mException\u001b[39;00m:\n\u001b[32m    111\u001b[39m     \u001b[38;5;66;03m# if saving fails, still return the patch object\u001b[39;00m\n",
      "\u001b[36mFile \u001b[39m\u001b[32m~/anaconda3/envs/her2-class/lib/python3.12/site-packages/PIL/Image.py:2459\u001b[39m, in \u001b[36mImage.save\u001b[39m\u001b[34m(self, fp, format, **params)\u001b[39m\n\u001b[32m   2456\u001b[39m         fp = builtins.open(filename, \u001b[33m\"\u001b[39m\u001b[33mw+b\u001b[39m\u001b[33m\"\u001b[39m)\n\u001b[32m   2458\u001b[39m \u001b[38;5;28;01mtry\u001b[39;00m:\n\u001b[32m-> \u001b[39m\u001b[32m2459\u001b[39m     \u001b[43msave_handler\u001b[49m\u001b[43m(\u001b[49m\u001b[38;5;28;43mself\u001b[39;49m\u001b[43m,\u001b[49m\u001b[43m \u001b[49m\u001b[43mfp\u001b[49m\u001b[43m,\u001b[49m\u001b[43m \u001b[49m\u001b[43mfilename\u001b[49m\u001b[43m)\u001b[49m\n\u001b[32m   2460\u001b[39m \u001b[38;5;28;01mexcept\u001b[39;00m \u001b[38;5;167;01mException\u001b[39;00m:\n\u001b[32m   2461\u001b[39m     \u001b[38;5;28;01mif\u001b[39;00m open_fp:\n",
      "\u001b[36mFile \u001b[39m\u001b[32m~/anaconda3/envs/her2-class/lib/python3.12/site-packages/PIL/PngImagePlugin.py:1412\u001b[39m, in \u001b[36m_save\u001b[39m\u001b[34m(im, fp, filename, chunk, save_all)\u001b[39m\n\u001b[32m   1408\u001b[39m     im = _write_multiple_frames(\n\u001b[32m   1409\u001b[39m         im, fp, chunk, rawmode, default_image, append_images\n\u001b[32m   1410\u001b[39m     )\n\u001b[32m   1411\u001b[39m \u001b[38;5;28;01mif\u001b[39;00m im:\n\u001b[32m-> \u001b[39m\u001b[32m1412\u001b[39m     \u001b[43mImageFile\u001b[49m\u001b[43m.\u001b[49m\u001b[43m_save\u001b[49m\u001b[43m(\u001b[49m\u001b[43mim\u001b[49m\u001b[43m,\u001b[49m\u001b[43m \u001b[49m\u001b[43m_idat\u001b[49m\u001b[43m(\u001b[49m\u001b[43mfp\u001b[49m\u001b[43m,\u001b[49m\u001b[43m \u001b[49m\u001b[43mchunk\u001b[49m\u001b[43m)\u001b[49m\u001b[43m,\u001b[49m\u001b[43m \u001b[49m\u001b[43m[\u001b[49m\u001b[43m(\u001b[49m\u001b[33;43m\"\u001b[39;49m\u001b[33;43mzip\u001b[39;49m\u001b[33;43m\"\u001b[39;49m\u001b[43m,\u001b[49m\u001b[43m \u001b[49m\u001b[43m(\u001b[49m\u001b[32;43m0\u001b[39;49m\u001b[43m,\u001b[49m\u001b[43m \u001b[49m\u001b[32;43m0\u001b[39;49m\u001b[43m)\u001b[49m\u001b[43m \u001b[49m\u001b[43m+\u001b[49m\u001b[43m \u001b[49m\u001b[43mim\u001b[49m\u001b[43m.\u001b[49m\u001b[43msize\u001b[49m\u001b[43m,\u001b[49m\u001b[43m \u001b[49m\u001b[32;43m0\u001b[39;49m\u001b[43m,\u001b[49m\u001b[43m \u001b[49m\u001b[43mrawmode\u001b[49m\u001b[43m)\u001b[49m\u001b[43m]\u001b[49m\u001b[43m)\u001b[49m\n\u001b[32m   1414\u001b[39m \u001b[38;5;28;01mif\u001b[39;00m info:\n\u001b[32m   1415\u001b[39m     \u001b[38;5;28;01mfor\u001b[39;00m info_chunk \u001b[38;5;129;01min\u001b[39;00m info.chunks:\n",
      "\u001b[36mFile \u001b[39m\u001b[32m~/anaconda3/envs/her2-class/lib/python3.12/site-packages/PIL/ImageFile.py:540\u001b[39m, in \u001b[36m_save\u001b[39m\u001b[34m(im, fp, tile, bufsize)\u001b[39m\n\u001b[32m    538\u001b[39m     _encode_tile(im, fp, tile, bufsize, fh)\n\u001b[32m    539\u001b[39m \u001b[38;5;28;01mexcept\u001b[39;00m (\u001b[38;5;167;01mAttributeError\u001b[39;00m, io.UnsupportedOperation) \u001b[38;5;28;01mas\u001b[39;00m exc:\n\u001b[32m--> \u001b[39m\u001b[32m540\u001b[39m     \u001b[43m_encode_tile\u001b[49m\u001b[43m(\u001b[49m\u001b[43mim\u001b[49m\u001b[43m,\u001b[49m\u001b[43m \u001b[49m\u001b[43mfp\u001b[49m\u001b[43m,\u001b[49m\u001b[43m \u001b[49m\u001b[43mtile\u001b[49m\u001b[43m,\u001b[49m\u001b[43m \u001b[49m\u001b[43mbufsize\u001b[49m\u001b[43m,\u001b[49m\u001b[43m \u001b[49m\u001b[38;5;28;43;01mNone\u001b[39;49;00m\u001b[43m,\u001b[49m\u001b[43m \u001b[49m\u001b[43mexc\u001b[49m\u001b[43m)\u001b[49m\n\u001b[32m    541\u001b[39m \u001b[38;5;28;01mif\u001b[39;00m \u001b[38;5;28mhasattr\u001b[39m(fp, \u001b[33m\"\u001b[39m\u001b[33mflush\u001b[39m\u001b[33m\"\u001b[39m):\n\u001b[32m    542\u001b[39m     fp.flush()\n",
      "\u001b[36mFile \u001b[39m\u001b[32m~/anaconda3/envs/her2-class/lib/python3.12/site-packages/PIL/ImageFile.py:559\u001b[39m, in \u001b[36m_encode_tile\u001b[39m\u001b[34m(im, fp, tile, bufsize, fh, exc)\u001b[39m\n\u001b[32m    556\u001b[39m \u001b[38;5;28;01mif\u001b[39;00m exc:\n\u001b[32m    557\u001b[39m     \u001b[38;5;66;03m# compress to Python file-compatible object\u001b[39;00m\n\u001b[32m    558\u001b[39m     \u001b[38;5;28;01mwhile\u001b[39;00m \u001b[38;5;28;01mTrue\u001b[39;00m:\n\u001b[32m--> \u001b[39m\u001b[32m559\u001b[39m         errcode, data = \u001b[43mencoder\u001b[49m\u001b[43m.\u001b[49m\u001b[43mencode\u001b[49m\u001b[43m(\u001b[49m\u001b[43mbufsize\u001b[49m\u001b[43m)\u001b[49m[\u001b[32m1\u001b[39m:]\n\u001b[32m    560\u001b[39m         fp.write(data)\n\u001b[32m    561\u001b[39m         \u001b[38;5;28;01mif\u001b[39;00m errcode:\n",
      "\u001b[31mKeyboardInterrupt\u001b[39m: "
     ]
    }
   ],
   "source": [
    "for idx, row in tqdm(df.iterrows(), total=len(df), desc='Processing slides'):\n",
    "    wsi_path = row['wsi_path']\n",
    "    # Resolve annotation path using helper (handles pandas NA, relative paths, and glob fallback)\n",
    "    annotation_path = resolve_annotation_path(row.get('annotation_path', None), wsi_path, base_dir=BASE_DIR)\n",
    "    if not annotation_path:\n",
    "        log(f\"Skipping slide without annotation: {wsi_path}\")\n",
    "        continue\n",
    "\n",
    "    log(f\"Processing slide: {wsi_path} with annotation: {annotation_path}\")\n",
    "    try:\n",
    "        mask = get_mask(annotation_path, wsi_path)\n",
    "    except Exception as e:\n",
    "        log(f\"Failed to generate mask for {wsi_path}: {e}\")\n",
    "        continue\n",
    "    if mask is None:\n",
    "        log(f\"No mask generated for {wsi_path}\")\n",
    "        continue\n",
    "\n",
    "    # At this point mask should be a 2D uint8 array (0 or 255)\n",
    "    log(f'Mask shape: {mask.shape}')\n",
    "\n",
    "    # Load WSI using the wrapper which prefers CuCIM when available\n",
    "    try:\n",
    "        wsi_slide = load_wsi(wsi_path)\n",
    "    except Exception as e:\n",
    "        log(f\"Failed to load WSI ({wsi_path}): {e}\")\n",
    "        continue\n",
    "    if wsi_slide is None:\n",
    "        log(f\"Failed to load WSI: {wsi_path}\")\n",
    "        continue\n",
    "\n",
    "    # Log which backend the loader selected (cucim or openslide)\n",
    "    backend = getattr(wsi_slide, 'backend', None)\n",
    "    log(f'Loaded WSI backend: {backend}')\n",
    "\n",
    "    # Extract patches (extract_patches can optionally save patches to disk)\n",
    "    slide_base = os.path.splitext(os.path.basename(wsi_path))[0]\n",
    "    out_dir_patches = os.path.join('outputs', 'patches', slide_base)\n",
    "    try:\n",
    "        patches = extract_patches(\n",
    "            wsi_slide,\n",
    "            mask=mask,\n",
    "            size=512,\n",
    "            stride=512,\n",
    "            save_dir=out_dir_patches,\n",
    "            save_prefix=slide_base,\n",
    "            save_format='png'\n",
    "        )\n",
    "    except Exception as e:\n",
    "        log(f\"Failed to extract patches for {wsi_path}: {e}\")\n",
    "        continue\n",
    "\n",
    "    saved = sum(1 for p in patches if p.get('path'))\n",
    "    log(f'Extracted {len(patches)} patches from {wsi_path}; saved {saved} to {out_dir_patches}')"
   ]
  }
 ],
 "metadata": {
  "kernelspec": {
   "display_name": "her2-class",
   "language": "python",
   "name": "python3"
  },
  "language_info": {
   "codemirror_mode": {
    "name": "ipython",
    "version": 3
   },
   "file_extension": ".py",
   "mimetype": "text/x-python",
   "name": "python",
   "nbconvert_exporter": "python",
   "pygments_lexer": "ipython3",
   "version": "3.12.12"
  }
 },
 "nbformat": 4,
 "nbformat_minor": 5
}
