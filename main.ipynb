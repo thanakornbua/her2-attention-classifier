{
 "cells": [
  {
   "cell_type": "code",
   "execution_count": 1,
   "id": "9bfffc23",
   "metadata": {},
   "outputs": [
    {
     "name": "stderr",
     "output_type": "stream",
     "text": [
      "c:\\Users\\tanth\\anaconda3\\envs\\her2-class\\Lib\\site-packages\\tqdm\\auto.py:21: TqdmWarning: IProgress not found. Please update jupyter and ipywidgets. See https://ipywidgets.readthedocs.io/en/stable/user_install.html\n",
      "  from .autonotebook import tqdm as notebook_tqdm\n"
     ]
    },
    {
     "name": "stdout",
     "output_type": "stream",
     "text": [
      "Processing: data/Yale_trastuzumab_response_cohort/SVS/O09-03495.svs + data/Yale_trastuzumab_response_cohort/Annotations/O09-03495.xml\n",
      "Slide dimensions: width=55216, height=30663\n",
      "WSI image shape: (30663, 55216, 3)\n",
      "WSI with mask saved to data/Yale_trastuzumab_response_cohort/Masks/O09-03495_mask_wsi_with_mask.png (tiled gpu)\n"
     ]
    },
    {
     "data": {
      "text/plain": [
       "'data/Yale_trastuzumab_response_cohort/Masks/O09-03495_mask_wsi_with_mask.png'"
      ]
     },
     "execution_count": 1,
     "metadata": {},
     "output_type": "execute_result"
    }
   ],
   "source": [
    "from src.preprocessing.xml_to_mask import process_slide\n",
    "\n",
    "# Define paths for testing\n",
    "wsi_path = \"data/Yale_trastuzumab_response_cohort/SVS/O09-03495.svs\"\n",
    "xml_path = \"data/Yale_trastuzumab_response_cohort/Annotations/O09-03495.xml\"\n",
    "output_path = \"data/Yale_trastuzumab_response_cohort/Masks/O09-03495_mask.png\"\n",
    "\n",
    "\n",
    "# Test the process_slide function\n",
    "process_slide(xml_path, wsi_path, output_path)"
   ]
  },
  {
   "cell_type": "code",
   "execution_count": null,
   "id": "6c620af7",
   "metadata": {},
   "outputs": [],
   "source": []
  },
  {
   "cell_type": "markdown",
   "id": "196db538",
   "metadata": {},
   "source": []
  }
 ],
 "metadata": {
  "kernelspec": {
   "display_name": "her2-class",
   "language": "python",
   "name": "python3"
  },
  "language_info": {
   "codemirror_mode": {
    "name": "ipython",
    "version": 3
   },
   "file_extension": ".py",
   "mimetype": "text/x-python",
   "name": "python",
   "nbconvert_exporter": "python",
   "pygments_lexer": "ipython3",
   "version": "3.13.7"
  }
 },
 "nbformat": 4,
 "nbformat_minor": 5
}
