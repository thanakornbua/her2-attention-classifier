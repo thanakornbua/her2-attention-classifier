{
 "cells": [
  {
   "cell_type": "code",
   "execution_count": 2,
   "id": "438f23d3",
   "metadata": {},
   "outputs": [
    {
     "name": "stdout",
     "output_type": "stream",
     "text": [
      "The autoreload extension is already loaded. To reload it, use:\n",
      "  %reload_ext autoreload\n"
     ]
    }
   ],
   "source": [
    "%load_ext autoreload\n",
    "%autoreload 2\n",
    "\n",
    "# Import library\n",
    "import pandas as pd\n",
    "import numpy as np\n",
    "import re\n",
    "import os\n",
    "from tqdm import tqdm\n",
    "from IPython.display import display\n",
    "from glob import glob\n",
    "import cv2\n",
    "\n",
    "\n",
    "# Import dependency\n",
    "from src.preprocessing.generate_metadata import discover_wsi\n",
    "from src.preprocessing.xml_to_mask import get_mask\n",
    "from src.preprocessing.annotation_utils import resolve_annotation_path\n",
    "from src.preprocessing.extract_patches import extract_patches\n",
    "from src.preprocessing.load_wsi import load_wsi\n",
    "#from src.train.train_phase1 import train_phase1\n"
   ]
  },
  {
   "cell_type": "code",
   "execution_count": 3,
   "id": "3ca8d8d6",
   "metadata": {},
   "outputs": [],
   "source": [
    "# Configuration\n",
    "BASE_DIR = 'data'\n",
    "SOURCES = [\n",
    "    'Yale_HER2_cohort',\n",
    "    'Yale_trastuzumab_response_cohort',\n",
    "    'TCGA_BRCA_Filtered'\n",
    "]\n",
    "OUTPUT_CSV = 'outputs/index/wsi_index.csv'"
   ]
  },
  {
   "cell_type": "code",
   "execution_count": 4,
   "id": "1e191eb6",
   "metadata": {},
   "outputs": [],
   "source": [
    "log_dir = 'outputs/preprocessing/logs'\n",
    "os.makedirs(log_dir, exist_ok=True)\n",
    "log_path = os.path.join(log_dir, 'preprocessing.log')\n",
    "\n",
    "def log(msg):\n",
    "    print(msg)\n",
    "    with open(log_path, 'a') as f:\n",
    "        f.write(msg + '\\n')"
   ]
  },
  {
   "cell_type": "code",
   "execution_count": 5,
   "id": "80b380fc",
   "metadata": {},
   "outputs": [
    {
     "name": "stderr",
     "output_type": "stream",
     "text": [
      "Processing sources: 100%|██████████| 3/3 [00:00<00:00, 79.37it/s]\n",
      "                                                         \r"
     ]
    },
    {
     "data": {
      "application/vnd.microsoft.datawrangler.viewer.v0+json": {
       "columns": [
        {
         "name": "index",
         "rawType": "int64",
         "type": "integer"
        },
        {
         "name": "wsi_path",
         "rawType": "object",
         "type": "string"
        },
        {
         "name": "slide_id",
         "rawType": "object",
         "type": "string"
        },
        {
         "name": "slide_name",
         "rawType": "object",
         "type": "string"
        },
        {
         "name": "annotation_name",
         "rawType": "object",
         "type": "unknown"
        },
        {
         "name": "annotation_path",
         "rawType": "object",
         "type": "unknown"
        }
       ],
       "ref": "9649daf9-27be-46f9-a807-9fe70acb77de",
       "rows": [
        [
         "0",
         "data/Yale_HER2_cohort/SVS/Her2Neg_Case_01.svs",
         "Her2Neg_Case_01",
         "Her2Neg_Case_01.svs",
         "Her2Neg_Case_01.xml",
         "data/Yale_HER2_cohort/Annotations/Her2Neg_Case_01.xml"
        ],
        [
         "1",
         "data/Yale_HER2_cohort/SVS/Her2Neg_Case_02.svs",
         "Her2Neg_Case_02",
         "Her2Neg_Case_02.svs",
         "Her2Neg_Case_02.xml",
         "data/Yale_HER2_cohort/Annotations/Her2Neg_Case_02.xml"
        ],
        [
         "2",
         "data/Yale_HER2_cohort/SVS/Her2Neg_Case_03.svs",
         "Her2Neg_Case_03",
         "Her2Neg_Case_03.svs",
         "Her2Neg_Case_03.xml",
         "data/Yale_HER2_cohort/Annotations/Her2Neg_Case_03.xml"
        ],
        [
         "3",
         "data/Yale_HER2_cohort/SVS/Her2Neg_Case_04.svs",
         "Her2Neg_Case_04",
         "Her2Neg_Case_04.svs",
         "Her2Neg_Case_04.xml",
         "data/Yale_HER2_cohort/Annotations/Her2Neg_Case_04.xml"
        ],
        [
         "4",
         "data/Yale_HER2_cohort/SVS/Her2Neg_Case_05.svs",
         "Her2Neg_Case_05",
         "Her2Neg_Case_05.svs",
         "Her2Neg_Case_05.xml",
         "data/Yale_HER2_cohort/Annotations/Her2Neg_Case_05.xml"
        ],
        [
         "5",
         "data/Yale_HER2_cohort/SVS/Her2Neg_Case_06.svs",
         "Her2Neg_Case_06",
         "Her2Neg_Case_06.svs",
         "Her2Neg_Case_06.xml",
         "data/Yale_HER2_cohort/Annotations/Her2Neg_Case_06.xml"
        ],
        [
         "6",
         "data/Yale_HER2_cohort/SVS/Her2Neg_Case_07.svs",
         "Her2Neg_Case_07",
         "Her2Neg_Case_07.svs",
         "Her2Neg_Case_07.xml",
         "data/Yale_HER2_cohort/Annotations/Her2Neg_Case_07.xml"
        ],
        [
         "7",
         "data/Yale_HER2_cohort/SVS/Her2Neg_Case_08.svs",
         "Her2Neg_Case_08",
         "Her2Neg_Case_08.svs",
         "Her2Neg_Case_08.xml",
         "data/Yale_HER2_cohort/Annotations/Her2Neg_Case_08.xml"
        ],
        [
         "8",
         "data/Yale_HER2_cohort/SVS/Her2Neg_Case_09.svs",
         "Her2Neg_Case_09",
         "Her2Neg_Case_09.svs",
         "Her2Neg_Case_09.xml",
         "data/Yale_HER2_cohort/Annotations/Her2Neg_Case_09.xml"
        ],
        [
         "9",
         "data/Yale_HER2_cohort/SVS/Her2Neg_Case_10.svs",
         "Her2Neg_Case_10",
         "Her2Neg_Case_10.svs",
         "Her2Neg_Case_10.xml",
         "data/Yale_HER2_cohort/Annotations/Her2Neg_Case_10.xml"
        ],
        [
         "10",
         "data/Yale_HER2_cohort/SVS/Her2Neg_Case_11.svs",
         "Her2Neg_Case_11",
         "Her2Neg_Case_11.svs",
         "Her2Neg_Case_11.xml",
         "data/Yale_HER2_cohort/Annotations/Her2Neg_Case_11.xml"
        ],
        [
         "11",
         "data/Yale_HER2_cohort/SVS/Her2Neg_Case_12.svs",
         "Her2Neg_Case_12",
         "Her2Neg_Case_12.svs",
         "Her2Neg_Case_12.xml",
         "data/Yale_HER2_cohort/Annotations/Her2Neg_Case_12.xml"
        ],
        [
         "12",
         "data/Yale_HER2_cohort/SVS/Her2Neg_Case_13.svs",
         "Her2Neg_Case_13",
         "Her2Neg_Case_13.svs",
         "Her2Neg_Case_13.xml",
         "data/Yale_HER2_cohort/Annotations/Her2Neg_Case_13.xml"
        ],
        [
         "13",
         "data/Yale_HER2_cohort/SVS/Her2Neg_Case_14.svs",
         "Her2Neg_Case_14",
         "Her2Neg_Case_14.svs",
         "Her2Neg_Case_14.xml",
         "data/Yale_HER2_cohort/Annotations/Her2Neg_Case_14.xml"
        ],
        [
         "14",
         "data/Yale_HER2_cohort/SVS/Her2Neg_Case_15.svs",
         "Her2Neg_Case_15",
         "Her2Neg_Case_15.svs",
         "Her2Neg_Case_15.xml",
         "data/Yale_HER2_cohort/Annotations/Her2Neg_Case_15.xml"
        ],
        [
         "15",
         "data/Yale_HER2_cohort/SVS/Her2Neg_Case_16.svs",
         "Her2Neg_Case_16",
         "Her2Neg_Case_16.svs",
         "Her2Neg_Case_16.xml",
         "data/Yale_HER2_cohort/Annotations/Her2Neg_Case_16.xml"
        ],
        [
         "16",
         "data/Yale_HER2_cohort/SVS/Her2Neg_Case_17.svs",
         "Her2Neg_Case_17",
         "Her2Neg_Case_17.svs",
         "Her2Neg_Case_17.xml",
         "data/Yale_HER2_cohort/Annotations/Her2Neg_Case_17.xml"
        ],
        [
         "17",
         "data/Yale_HER2_cohort/SVS/Her2Neg_Case_18.svs",
         "Her2Neg_Case_18",
         "Her2Neg_Case_18.svs",
         "Her2Neg_Case_18.xml",
         "data/Yale_HER2_cohort/Annotations/Her2Neg_Case_18.xml"
        ],
        [
         "18",
         "data/Yale_HER2_cohort/SVS/Her2Neg_Case_19.svs",
         "Her2Neg_Case_19",
         "Her2Neg_Case_19.svs",
         "Her2Neg_Case_19.xml",
         "data/Yale_HER2_cohort/Annotations/Her2Neg_Case_19.xml"
        ],
        [
         "19",
         "data/Yale_HER2_cohort/SVS/Her2Neg_Case_20.svs",
         "Her2Neg_Case_20",
         "Her2Neg_Case_20.svs",
         "Her2Neg_Case_20.xml",
         "data/Yale_HER2_cohort/Annotations/Her2Neg_Case_20.xml"
        ],
        [
         "20",
         "data/Yale_HER2_cohort/SVS/Her2Neg_Case_21.svs",
         "Her2Neg_Case_21",
         "Her2Neg_Case_21.svs",
         "Her2Neg_Case_21.xml",
         "data/Yale_HER2_cohort/Annotations/Her2Neg_Case_21.xml"
        ],
        [
         "21",
         "data/Yale_HER2_cohort/SVS/Her2Neg_Case_22.svs",
         "Her2Neg_Case_22",
         "Her2Neg_Case_22.svs",
         "Her2Neg_Case_22.xml",
         "data/Yale_HER2_cohort/Annotations/Her2Neg_Case_22.xml"
        ],
        [
         "22",
         "data/Yale_HER2_cohort/SVS/Her2Neg_Case_23.svs",
         "Her2Neg_Case_23",
         "Her2Neg_Case_23.svs",
         "Her2Neg_Case_23.xml",
         "data/Yale_HER2_cohort/Annotations/Her2Neg_Case_23.xml"
        ],
        [
         "23",
         "data/Yale_HER2_cohort/SVS/Her2Neg_Case_24.svs",
         "Her2Neg_Case_24",
         "Her2Neg_Case_24.svs",
         "Her2Neg_Case_24.xml",
         "data/Yale_HER2_cohort/Annotations/Her2Neg_Case_24.xml"
        ],
        [
         "24",
         "data/Yale_HER2_cohort/SVS/Her2Neg_Case_25.svs",
         "Her2Neg_Case_25",
         "Her2Neg_Case_25.svs",
         "Her2Neg_Case_25.xml",
         "data/Yale_HER2_cohort/Annotations/Her2Neg_Case_25.xml"
        ],
        [
         "25",
         "data/Yale_HER2_cohort/SVS/Her2Neg_Case_26.svs",
         "Her2Neg_Case_26",
         "Her2Neg_Case_26.svs",
         "Her2Neg_Case_26.xml",
         "data/Yale_HER2_cohort/Annotations/Her2Neg_Case_26.xml"
        ],
        [
         "26",
         "data/Yale_HER2_cohort/SVS/Her2Neg_Case_27.svs",
         "Her2Neg_Case_27",
         "Her2Neg_Case_27.svs",
         "Her2Neg_Case_27.xml",
         "data/Yale_HER2_cohort/Annotations/Her2Neg_Case_27.xml"
        ],
        [
         "27",
         "data/Yale_HER2_cohort/SVS/Her2Neg_Case_28.svs",
         "Her2Neg_Case_28",
         "Her2Neg_Case_28.svs",
         "Her2Neg_Case_28.xml",
         "data/Yale_HER2_cohort/Annotations/Her2Neg_Case_28.xml"
        ],
        [
         "28",
         "data/Yale_HER2_cohort/SVS/Her2Neg_Case_29.svs",
         "Her2Neg_Case_29",
         "Her2Neg_Case_29.svs",
         "Her2Neg_Case_29.xml",
         "data/Yale_HER2_cohort/Annotations/Her2Neg_Case_29.xml"
        ],
        [
         "29",
         "data/Yale_HER2_cohort/SVS/Her2Neg_Case_30.svs",
         "Her2Neg_Case_30",
         "Her2Neg_Case_30.svs",
         "Her2Neg_Case_30.xml",
         "data/Yale_HER2_cohort/Annotations/Her2Neg_Case_30.xml"
        ],
        [
         "30",
         "data/Yale_HER2_cohort/SVS/Her2Neg_Case_31.svs",
         "Her2Neg_Case_31",
         "Her2Neg_Case_31.svs",
         null,
         null
        ],
        [
         "31",
         "data/Yale_HER2_cohort/SVS/Her2Neg_Case_32.svs",
         "Her2Neg_Case_32",
         "Her2Neg_Case_32.svs",
         "Her2Neg_Case_32.xml",
         "data/Yale_HER2_cohort/Annotations/Her2Neg_Case_32.xml"
        ],
        [
         "32",
         "data/Yale_HER2_cohort/SVS/Her2Neg_Case_33.svs",
         "Her2Neg_Case_33",
         "Her2Neg_Case_33.svs",
         "Her2Neg_Case_33.xml",
         "data/Yale_HER2_cohort/Annotations/Her2Neg_Case_33.xml"
        ],
        [
         "33",
         "data/Yale_HER2_cohort/SVS/Her2Neg_Case_34.svs",
         "Her2Neg_Case_34",
         "Her2Neg_Case_34.svs",
         null,
         null
        ],
        [
         "34",
         "data/Yale_HER2_cohort/SVS/Her2Neg_Case_35.svs",
         "Her2Neg_Case_35",
         "Her2Neg_Case_35.svs",
         "Her2Neg_Case_35.xml",
         "data/Yale_HER2_cohort/Annotations/Her2Neg_Case_35.xml"
        ],
        [
         "35",
         "data/Yale_HER2_cohort/SVS/Her2Neg_Case_36.svs",
         "Her2Neg_Case_36",
         "Her2Neg_Case_36.svs",
         "Her2Neg_Case_36.xml",
         "data/Yale_HER2_cohort/Annotations/Her2Neg_Case_36.xml"
        ],
        [
         "36",
         "data/Yale_HER2_cohort/SVS/Her2Neg_Case_37.svs",
         "Her2Neg_Case_37",
         "Her2Neg_Case_37.svs",
         "Her2Neg_Case_37.xml",
         "data/Yale_HER2_cohort/Annotations/Her2Neg_Case_37.xml"
        ],
        [
         "37",
         "data/Yale_HER2_cohort/SVS/Her2Neg_Case_38.svs",
         "Her2Neg_Case_38",
         "Her2Neg_Case_38.svs",
         "Her2Neg_Case_38.xml",
         "data/Yale_HER2_cohort/Annotations/Her2Neg_Case_38.xml"
        ],
        [
         "38",
         "data/Yale_HER2_cohort/SVS/Her2Neg_Case_39.svs",
         "Her2Neg_Case_39",
         "Her2Neg_Case_39.svs",
         "Her2Neg_Case_39.xml",
         "data/Yale_HER2_cohort/Annotations/Her2Neg_Case_39.xml"
        ],
        [
         "39",
         "data/Yale_HER2_cohort/SVS/Her2Neg_Case_40.svs",
         "Her2Neg_Case_40",
         "Her2Neg_Case_40.svs",
         "Her2Neg_Case_40.xml",
         "data/Yale_HER2_cohort/Annotations/Her2Neg_Case_40.xml"
        ],
        [
         "40",
         "data/Yale_HER2_cohort/SVS/Her2Neg_Case_41.svs",
         "Her2Neg_Case_41",
         "Her2Neg_Case_41.svs",
         "Her2Neg_Case_41.xml",
         "data/Yale_HER2_cohort/Annotations/Her2Neg_Case_41.xml"
        ],
        [
         "41",
         "data/Yale_HER2_cohort/SVS/Her2Neg_Case_42.svs",
         "Her2Neg_Case_42",
         "Her2Neg_Case_42.svs",
         "Her2Neg_Case_42.xml",
         "data/Yale_HER2_cohort/Annotations/Her2Neg_Case_42.xml"
        ],
        [
         "42",
         "data/Yale_HER2_cohort/SVS/Her2Neg_Case_43.svs",
         "Her2Neg_Case_43",
         "Her2Neg_Case_43.svs",
         "Her2Neg_Case_43.xml",
         "data/Yale_HER2_cohort/Annotations/Her2Neg_Case_43.xml"
        ],
        [
         "43",
         "data/Yale_HER2_cohort/SVS/Her2Neg_Case_44.svs",
         "Her2Neg_Case_44",
         "Her2Neg_Case_44.svs",
         "Her2Neg_Case_44.xml",
         "data/Yale_HER2_cohort/Annotations/Her2Neg_Case_44.xml"
        ],
        [
         "44",
         "data/Yale_HER2_cohort/SVS/Her2Neg_Case_45.svs",
         "Her2Neg_Case_45",
         "Her2Neg_Case_45.svs",
         "Her2Neg_Case_45.xml",
         "data/Yale_HER2_cohort/Annotations/Her2Neg_Case_45.xml"
        ],
        [
         "45",
         "data/Yale_HER2_cohort/SVS/Her2Neg_Case_46.svs",
         "Her2Neg_Case_46",
         "Her2Neg_Case_46.svs",
         "Her2Neg_Case_46.xml",
         "data/Yale_HER2_cohort/Annotations/Her2Neg_Case_46.xml"
        ],
        [
         "46",
         "data/Yale_HER2_cohort/SVS/Her2Neg_Case_47.svs",
         "Her2Neg_Case_47",
         "Her2Neg_Case_47.svs",
         "Her2Neg_Case_47.xml",
         "data/Yale_HER2_cohort/Annotations/Her2Neg_Case_47.xml"
        ],
        [
         "47",
         "data/Yale_HER2_cohort/SVS/Her2Neg_Case_48.svs",
         "Her2Neg_Case_48",
         "Her2Neg_Case_48.svs",
         "Her2Neg_Case_48.xml",
         "data/Yale_HER2_cohort/Annotations/Her2Neg_Case_48.xml"
        ],
        [
         "48",
         "data/Yale_HER2_cohort/SVS/Her2Neg_Case_49.svs",
         "Her2Neg_Case_49",
         "Her2Neg_Case_49.svs",
         "Her2Neg_Case_49.xml",
         "data/Yale_HER2_cohort/Annotations/Her2Neg_Case_49.xml"
        ],
        [
         "49",
         "data/Yale_HER2_cohort/SVS/Her2Neg_Case_50.svs",
         "Her2Neg_Case_50",
         "Her2Neg_Case_50.svs",
         "Her2Neg_Case_50.xml",
         "data/Yale_HER2_cohort/Annotations/Her2Neg_Case_50.xml"
        ]
       ],
       "shape": {
        "columns": 5,
        "rows": 50
       }
      },
      "text/html": [
       "<div>\n",
       "<style scoped>\n",
       "    .dataframe tbody tr th:only-of-type {\n",
       "        vertical-align: middle;\n",
       "    }\n",
       "\n",
       "    .dataframe tbody tr th {\n",
       "        vertical-align: top;\n",
       "    }\n",
       "\n",
       "    .dataframe thead th {\n",
       "        text-align: right;\n",
       "    }\n",
       "</style>\n",
       "<table border=\"1\" class=\"dataframe\">\n",
       "  <thead>\n",
       "    <tr style=\"text-align: right;\">\n",
       "      <th></th>\n",
       "      <th>wsi_path</th>\n",
       "      <th>slide_id</th>\n",
       "      <th>slide_name</th>\n",
       "      <th>annotation_name</th>\n",
       "      <th>annotation_path</th>\n",
       "    </tr>\n",
       "  </thead>\n",
       "  <tbody>\n",
       "    <tr>\n",
       "      <th>0</th>\n",
       "      <td>data/Yale_HER2_cohort/SVS/Her2Neg_Case_01.svs</td>\n",
       "      <td>Her2Neg_Case_01</td>\n",
       "      <td>Her2Neg_Case_01.svs</td>\n",
       "      <td>Her2Neg_Case_01.xml</td>\n",
       "      <td>data/Yale_HER2_cohort/Annotations/Her2Neg_Case...</td>\n",
       "    </tr>\n",
       "    <tr>\n",
       "      <th>1</th>\n",
       "      <td>data/Yale_HER2_cohort/SVS/Her2Neg_Case_02.svs</td>\n",
       "      <td>Her2Neg_Case_02</td>\n",
       "      <td>Her2Neg_Case_02.svs</td>\n",
       "      <td>Her2Neg_Case_02.xml</td>\n",
       "      <td>data/Yale_HER2_cohort/Annotations/Her2Neg_Case...</td>\n",
       "    </tr>\n",
       "    <tr>\n",
       "      <th>2</th>\n",
       "      <td>data/Yale_HER2_cohort/SVS/Her2Neg_Case_03.svs</td>\n",
       "      <td>Her2Neg_Case_03</td>\n",
       "      <td>Her2Neg_Case_03.svs</td>\n",
       "      <td>Her2Neg_Case_03.xml</td>\n",
       "      <td>data/Yale_HER2_cohort/Annotations/Her2Neg_Case...</td>\n",
       "    </tr>\n",
       "    <tr>\n",
       "      <th>3</th>\n",
       "      <td>data/Yale_HER2_cohort/SVS/Her2Neg_Case_04.svs</td>\n",
       "      <td>Her2Neg_Case_04</td>\n",
       "      <td>Her2Neg_Case_04.svs</td>\n",
       "      <td>Her2Neg_Case_04.xml</td>\n",
       "      <td>data/Yale_HER2_cohort/Annotations/Her2Neg_Case...</td>\n",
       "    </tr>\n",
       "    <tr>\n",
       "      <th>4</th>\n",
       "      <td>data/Yale_HER2_cohort/SVS/Her2Neg_Case_05.svs</td>\n",
       "      <td>Her2Neg_Case_05</td>\n",
       "      <td>Her2Neg_Case_05.svs</td>\n",
       "      <td>Her2Neg_Case_05.xml</td>\n",
       "      <td>data/Yale_HER2_cohort/Annotations/Her2Neg_Case...</td>\n",
       "    </tr>\n",
       "    <tr>\n",
       "      <th>5</th>\n",
       "      <td>data/Yale_HER2_cohort/SVS/Her2Neg_Case_06.svs</td>\n",
       "      <td>Her2Neg_Case_06</td>\n",
       "      <td>Her2Neg_Case_06.svs</td>\n",
       "      <td>Her2Neg_Case_06.xml</td>\n",
       "      <td>data/Yale_HER2_cohort/Annotations/Her2Neg_Case...</td>\n",
       "    </tr>\n",
       "    <tr>\n",
       "      <th>6</th>\n",
       "      <td>data/Yale_HER2_cohort/SVS/Her2Neg_Case_07.svs</td>\n",
       "      <td>Her2Neg_Case_07</td>\n",
       "      <td>Her2Neg_Case_07.svs</td>\n",
       "      <td>Her2Neg_Case_07.xml</td>\n",
       "      <td>data/Yale_HER2_cohort/Annotations/Her2Neg_Case...</td>\n",
       "    </tr>\n",
       "    <tr>\n",
       "      <th>7</th>\n",
       "      <td>data/Yale_HER2_cohort/SVS/Her2Neg_Case_08.svs</td>\n",
       "      <td>Her2Neg_Case_08</td>\n",
       "      <td>Her2Neg_Case_08.svs</td>\n",
       "      <td>Her2Neg_Case_08.xml</td>\n",
       "      <td>data/Yale_HER2_cohort/Annotations/Her2Neg_Case...</td>\n",
       "    </tr>\n",
       "    <tr>\n",
       "      <th>8</th>\n",
       "      <td>data/Yale_HER2_cohort/SVS/Her2Neg_Case_09.svs</td>\n",
       "      <td>Her2Neg_Case_09</td>\n",
       "      <td>Her2Neg_Case_09.svs</td>\n",
       "      <td>Her2Neg_Case_09.xml</td>\n",
       "      <td>data/Yale_HER2_cohort/Annotations/Her2Neg_Case...</td>\n",
       "    </tr>\n",
       "    <tr>\n",
       "      <th>9</th>\n",
       "      <td>data/Yale_HER2_cohort/SVS/Her2Neg_Case_10.svs</td>\n",
       "      <td>Her2Neg_Case_10</td>\n",
       "      <td>Her2Neg_Case_10.svs</td>\n",
       "      <td>Her2Neg_Case_10.xml</td>\n",
       "      <td>data/Yale_HER2_cohort/Annotations/Her2Neg_Case...</td>\n",
       "    </tr>\n",
       "    <tr>\n",
       "      <th>10</th>\n",
       "      <td>data/Yale_HER2_cohort/SVS/Her2Neg_Case_11.svs</td>\n",
       "      <td>Her2Neg_Case_11</td>\n",
       "      <td>Her2Neg_Case_11.svs</td>\n",
       "      <td>Her2Neg_Case_11.xml</td>\n",
       "      <td>data/Yale_HER2_cohort/Annotations/Her2Neg_Case...</td>\n",
       "    </tr>\n",
       "    <tr>\n",
       "      <th>11</th>\n",
       "      <td>data/Yale_HER2_cohort/SVS/Her2Neg_Case_12.svs</td>\n",
       "      <td>Her2Neg_Case_12</td>\n",
       "      <td>Her2Neg_Case_12.svs</td>\n",
       "      <td>Her2Neg_Case_12.xml</td>\n",
       "      <td>data/Yale_HER2_cohort/Annotations/Her2Neg_Case...</td>\n",
       "    </tr>\n",
       "    <tr>\n",
       "      <th>12</th>\n",
       "      <td>data/Yale_HER2_cohort/SVS/Her2Neg_Case_13.svs</td>\n",
       "      <td>Her2Neg_Case_13</td>\n",
       "      <td>Her2Neg_Case_13.svs</td>\n",
       "      <td>Her2Neg_Case_13.xml</td>\n",
       "      <td>data/Yale_HER2_cohort/Annotations/Her2Neg_Case...</td>\n",
       "    </tr>\n",
       "    <tr>\n",
       "      <th>13</th>\n",
       "      <td>data/Yale_HER2_cohort/SVS/Her2Neg_Case_14.svs</td>\n",
       "      <td>Her2Neg_Case_14</td>\n",
       "      <td>Her2Neg_Case_14.svs</td>\n",
       "      <td>Her2Neg_Case_14.xml</td>\n",
       "      <td>data/Yale_HER2_cohort/Annotations/Her2Neg_Case...</td>\n",
       "    </tr>\n",
       "    <tr>\n",
       "      <th>14</th>\n",
       "      <td>data/Yale_HER2_cohort/SVS/Her2Neg_Case_15.svs</td>\n",
       "      <td>Her2Neg_Case_15</td>\n",
       "      <td>Her2Neg_Case_15.svs</td>\n",
       "      <td>Her2Neg_Case_15.xml</td>\n",
       "      <td>data/Yale_HER2_cohort/Annotations/Her2Neg_Case...</td>\n",
       "    </tr>\n",
       "    <tr>\n",
       "      <th>15</th>\n",
       "      <td>data/Yale_HER2_cohort/SVS/Her2Neg_Case_16.svs</td>\n",
       "      <td>Her2Neg_Case_16</td>\n",
       "      <td>Her2Neg_Case_16.svs</td>\n",
       "      <td>Her2Neg_Case_16.xml</td>\n",
       "      <td>data/Yale_HER2_cohort/Annotations/Her2Neg_Case...</td>\n",
       "    </tr>\n",
       "    <tr>\n",
       "      <th>16</th>\n",
       "      <td>data/Yale_HER2_cohort/SVS/Her2Neg_Case_17.svs</td>\n",
       "      <td>Her2Neg_Case_17</td>\n",
       "      <td>Her2Neg_Case_17.svs</td>\n",
       "      <td>Her2Neg_Case_17.xml</td>\n",
       "      <td>data/Yale_HER2_cohort/Annotations/Her2Neg_Case...</td>\n",
       "    </tr>\n",
       "    <tr>\n",
       "      <th>17</th>\n",
       "      <td>data/Yale_HER2_cohort/SVS/Her2Neg_Case_18.svs</td>\n",
       "      <td>Her2Neg_Case_18</td>\n",
       "      <td>Her2Neg_Case_18.svs</td>\n",
       "      <td>Her2Neg_Case_18.xml</td>\n",
       "      <td>data/Yale_HER2_cohort/Annotations/Her2Neg_Case...</td>\n",
       "    </tr>\n",
       "    <tr>\n",
       "      <th>18</th>\n",
       "      <td>data/Yale_HER2_cohort/SVS/Her2Neg_Case_19.svs</td>\n",
       "      <td>Her2Neg_Case_19</td>\n",
       "      <td>Her2Neg_Case_19.svs</td>\n",
       "      <td>Her2Neg_Case_19.xml</td>\n",
       "      <td>data/Yale_HER2_cohort/Annotations/Her2Neg_Case...</td>\n",
       "    </tr>\n",
       "    <tr>\n",
       "      <th>19</th>\n",
       "      <td>data/Yale_HER2_cohort/SVS/Her2Neg_Case_20.svs</td>\n",
       "      <td>Her2Neg_Case_20</td>\n",
       "      <td>Her2Neg_Case_20.svs</td>\n",
       "      <td>Her2Neg_Case_20.xml</td>\n",
       "      <td>data/Yale_HER2_cohort/Annotations/Her2Neg_Case...</td>\n",
       "    </tr>\n",
       "    <tr>\n",
       "      <th>20</th>\n",
       "      <td>data/Yale_HER2_cohort/SVS/Her2Neg_Case_21.svs</td>\n",
       "      <td>Her2Neg_Case_21</td>\n",
       "      <td>Her2Neg_Case_21.svs</td>\n",
       "      <td>Her2Neg_Case_21.xml</td>\n",
       "      <td>data/Yale_HER2_cohort/Annotations/Her2Neg_Case...</td>\n",
       "    </tr>\n",
       "    <tr>\n",
       "      <th>21</th>\n",
       "      <td>data/Yale_HER2_cohort/SVS/Her2Neg_Case_22.svs</td>\n",
       "      <td>Her2Neg_Case_22</td>\n",
       "      <td>Her2Neg_Case_22.svs</td>\n",
       "      <td>Her2Neg_Case_22.xml</td>\n",
       "      <td>data/Yale_HER2_cohort/Annotations/Her2Neg_Case...</td>\n",
       "    </tr>\n",
       "    <tr>\n",
       "      <th>22</th>\n",
       "      <td>data/Yale_HER2_cohort/SVS/Her2Neg_Case_23.svs</td>\n",
       "      <td>Her2Neg_Case_23</td>\n",
       "      <td>Her2Neg_Case_23.svs</td>\n",
       "      <td>Her2Neg_Case_23.xml</td>\n",
       "      <td>data/Yale_HER2_cohort/Annotations/Her2Neg_Case...</td>\n",
       "    </tr>\n",
       "    <tr>\n",
       "      <th>23</th>\n",
       "      <td>data/Yale_HER2_cohort/SVS/Her2Neg_Case_24.svs</td>\n",
       "      <td>Her2Neg_Case_24</td>\n",
       "      <td>Her2Neg_Case_24.svs</td>\n",
       "      <td>Her2Neg_Case_24.xml</td>\n",
       "      <td>data/Yale_HER2_cohort/Annotations/Her2Neg_Case...</td>\n",
       "    </tr>\n",
       "    <tr>\n",
       "      <th>24</th>\n",
       "      <td>data/Yale_HER2_cohort/SVS/Her2Neg_Case_25.svs</td>\n",
       "      <td>Her2Neg_Case_25</td>\n",
       "      <td>Her2Neg_Case_25.svs</td>\n",
       "      <td>Her2Neg_Case_25.xml</td>\n",
       "      <td>data/Yale_HER2_cohort/Annotations/Her2Neg_Case...</td>\n",
       "    </tr>\n",
       "    <tr>\n",
       "      <th>25</th>\n",
       "      <td>data/Yale_HER2_cohort/SVS/Her2Neg_Case_26.svs</td>\n",
       "      <td>Her2Neg_Case_26</td>\n",
       "      <td>Her2Neg_Case_26.svs</td>\n",
       "      <td>Her2Neg_Case_26.xml</td>\n",
       "      <td>data/Yale_HER2_cohort/Annotations/Her2Neg_Case...</td>\n",
       "    </tr>\n",
       "    <tr>\n",
       "      <th>26</th>\n",
       "      <td>data/Yale_HER2_cohort/SVS/Her2Neg_Case_27.svs</td>\n",
       "      <td>Her2Neg_Case_27</td>\n",
       "      <td>Her2Neg_Case_27.svs</td>\n",
       "      <td>Her2Neg_Case_27.xml</td>\n",
       "      <td>data/Yale_HER2_cohort/Annotations/Her2Neg_Case...</td>\n",
       "    </tr>\n",
       "    <tr>\n",
       "      <th>27</th>\n",
       "      <td>data/Yale_HER2_cohort/SVS/Her2Neg_Case_28.svs</td>\n",
       "      <td>Her2Neg_Case_28</td>\n",
       "      <td>Her2Neg_Case_28.svs</td>\n",
       "      <td>Her2Neg_Case_28.xml</td>\n",
       "      <td>data/Yale_HER2_cohort/Annotations/Her2Neg_Case...</td>\n",
       "    </tr>\n",
       "    <tr>\n",
       "      <th>28</th>\n",
       "      <td>data/Yale_HER2_cohort/SVS/Her2Neg_Case_29.svs</td>\n",
       "      <td>Her2Neg_Case_29</td>\n",
       "      <td>Her2Neg_Case_29.svs</td>\n",
       "      <td>Her2Neg_Case_29.xml</td>\n",
       "      <td>data/Yale_HER2_cohort/Annotations/Her2Neg_Case...</td>\n",
       "    </tr>\n",
       "    <tr>\n",
       "      <th>29</th>\n",
       "      <td>data/Yale_HER2_cohort/SVS/Her2Neg_Case_30.svs</td>\n",
       "      <td>Her2Neg_Case_30</td>\n",
       "      <td>Her2Neg_Case_30.svs</td>\n",
       "      <td>Her2Neg_Case_30.xml</td>\n",
       "      <td>data/Yale_HER2_cohort/Annotations/Her2Neg_Case...</td>\n",
       "    </tr>\n",
       "    <tr>\n",
       "      <th>30</th>\n",
       "      <td>data/Yale_HER2_cohort/SVS/Her2Neg_Case_31.svs</td>\n",
       "      <td>Her2Neg_Case_31</td>\n",
       "      <td>Her2Neg_Case_31.svs</td>\n",
       "      <td>NaN</td>\n",
       "      <td>NaN</td>\n",
       "    </tr>\n",
       "    <tr>\n",
       "      <th>31</th>\n",
       "      <td>data/Yale_HER2_cohort/SVS/Her2Neg_Case_32.svs</td>\n",
       "      <td>Her2Neg_Case_32</td>\n",
       "      <td>Her2Neg_Case_32.svs</td>\n",
       "      <td>Her2Neg_Case_32.xml</td>\n",
       "      <td>data/Yale_HER2_cohort/Annotations/Her2Neg_Case...</td>\n",
       "    </tr>\n",
       "    <tr>\n",
       "      <th>32</th>\n",
       "      <td>data/Yale_HER2_cohort/SVS/Her2Neg_Case_33.svs</td>\n",
       "      <td>Her2Neg_Case_33</td>\n",
       "      <td>Her2Neg_Case_33.svs</td>\n",
       "      <td>Her2Neg_Case_33.xml</td>\n",
       "      <td>data/Yale_HER2_cohort/Annotations/Her2Neg_Case...</td>\n",
       "    </tr>\n",
       "    <tr>\n",
       "      <th>33</th>\n",
       "      <td>data/Yale_HER2_cohort/SVS/Her2Neg_Case_34.svs</td>\n",
       "      <td>Her2Neg_Case_34</td>\n",
       "      <td>Her2Neg_Case_34.svs</td>\n",
       "      <td>NaN</td>\n",
       "      <td>NaN</td>\n",
       "    </tr>\n",
       "    <tr>\n",
       "      <th>34</th>\n",
       "      <td>data/Yale_HER2_cohort/SVS/Her2Neg_Case_35.svs</td>\n",
       "      <td>Her2Neg_Case_35</td>\n",
       "      <td>Her2Neg_Case_35.svs</td>\n",
       "      <td>Her2Neg_Case_35.xml</td>\n",
       "      <td>data/Yale_HER2_cohort/Annotations/Her2Neg_Case...</td>\n",
       "    </tr>\n",
       "    <tr>\n",
       "      <th>35</th>\n",
       "      <td>data/Yale_HER2_cohort/SVS/Her2Neg_Case_36.svs</td>\n",
       "      <td>Her2Neg_Case_36</td>\n",
       "      <td>Her2Neg_Case_36.svs</td>\n",
       "      <td>Her2Neg_Case_36.xml</td>\n",
       "      <td>data/Yale_HER2_cohort/Annotations/Her2Neg_Case...</td>\n",
       "    </tr>\n",
       "    <tr>\n",
       "      <th>36</th>\n",
       "      <td>data/Yale_HER2_cohort/SVS/Her2Neg_Case_37.svs</td>\n",
       "      <td>Her2Neg_Case_37</td>\n",
       "      <td>Her2Neg_Case_37.svs</td>\n",
       "      <td>Her2Neg_Case_37.xml</td>\n",
       "      <td>data/Yale_HER2_cohort/Annotations/Her2Neg_Case...</td>\n",
       "    </tr>\n",
       "    <tr>\n",
       "      <th>37</th>\n",
       "      <td>data/Yale_HER2_cohort/SVS/Her2Neg_Case_38.svs</td>\n",
       "      <td>Her2Neg_Case_38</td>\n",
       "      <td>Her2Neg_Case_38.svs</td>\n",
       "      <td>Her2Neg_Case_38.xml</td>\n",
       "      <td>data/Yale_HER2_cohort/Annotations/Her2Neg_Case...</td>\n",
       "    </tr>\n",
       "    <tr>\n",
       "      <th>38</th>\n",
       "      <td>data/Yale_HER2_cohort/SVS/Her2Neg_Case_39.svs</td>\n",
       "      <td>Her2Neg_Case_39</td>\n",
       "      <td>Her2Neg_Case_39.svs</td>\n",
       "      <td>Her2Neg_Case_39.xml</td>\n",
       "      <td>data/Yale_HER2_cohort/Annotations/Her2Neg_Case...</td>\n",
       "    </tr>\n",
       "    <tr>\n",
       "      <th>39</th>\n",
       "      <td>data/Yale_HER2_cohort/SVS/Her2Neg_Case_40.svs</td>\n",
       "      <td>Her2Neg_Case_40</td>\n",
       "      <td>Her2Neg_Case_40.svs</td>\n",
       "      <td>Her2Neg_Case_40.xml</td>\n",
       "      <td>data/Yale_HER2_cohort/Annotations/Her2Neg_Case...</td>\n",
       "    </tr>\n",
       "    <tr>\n",
       "      <th>40</th>\n",
       "      <td>data/Yale_HER2_cohort/SVS/Her2Neg_Case_41.svs</td>\n",
       "      <td>Her2Neg_Case_41</td>\n",
       "      <td>Her2Neg_Case_41.svs</td>\n",
       "      <td>Her2Neg_Case_41.xml</td>\n",
       "      <td>data/Yale_HER2_cohort/Annotations/Her2Neg_Case...</td>\n",
       "    </tr>\n",
       "    <tr>\n",
       "      <th>41</th>\n",
       "      <td>data/Yale_HER2_cohort/SVS/Her2Neg_Case_42.svs</td>\n",
       "      <td>Her2Neg_Case_42</td>\n",
       "      <td>Her2Neg_Case_42.svs</td>\n",
       "      <td>Her2Neg_Case_42.xml</td>\n",
       "      <td>data/Yale_HER2_cohort/Annotations/Her2Neg_Case...</td>\n",
       "    </tr>\n",
       "    <tr>\n",
       "      <th>42</th>\n",
       "      <td>data/Yale_HER2_cohort/SVS/Her2Neg_Case_43.svs</td>\n",
       "      <td>Her2Neg_Case_43</td>\n",
       "      <td>Her2Neg_Case_43.svs</td>\n",
       "      <td>Her2Neg_Case_43.xml</td>\n",
       "      <td>data/Yale_HER2_cohort/Annotations/Her2Neg_Case...</td>\n",
       "    </tr>\n",
       "    <tr>\n",
       "      <th>43</th>\n",
       "      <td>data/Yale_HER2_cohort/SVS/Her2Neg_Case_44.svs</td>\n",
       "      <td>Her2Neg_Case_44</td>\n",
       "      <td>Her2Neg_Case_44.svs</td>\n",
       "      <td>Her2Neg_Case_44.xml</td>\n",
       "      <td>data/Yale_HER2_cohort/Annotations/Her2Neg_Case...</td>\n",
       "    </tr>\n",
       "    <tr>\n",
       "      <th>44</th>\n",
       "      <td>data/Yale_HER2_cohort/SVS/Her2Neg_Case_45.svs</td>\n",
       "      <td>Her2Neg_Case_45</td>\n",
       "      <td>Her2Neg_Case_45.svs</td>\n",
       "      <td>Her2Neg_Case_45.xml</td>\n",
       "      <td>data/Yale_HER2_cohort/Annotations/Her2Neg_Case...</td>\n",
       "    </tr>\n",
       "    <tr>\n",
       "      <th>45</th>\n",
       "      <td>data/Yale_HER2_cohort/SVS/Her2Neg_Case_46.svs</td>\n",
       "      <td>Her2Neg_Case_46</td>\n",
       "      <td>Her2Neg_Case_46.svs</td>\n",
       "      <td>Her2Neg_Case_46.xml</td>\n",
       "      <td>data/Yale_HER2_cohort/Annotations/Her2Neg_Case...</td>\n",
       "    </tr>\n",
       "    <tr>\n",
       "      <th>46</th>\n",
       "      <td>data/Yale_HER2_cohort/SVS/Her2Neg_Case_47.svs</td>\n",
       "      <td>Her2Neg_Case_47</td>\n",
       "      <td>Her2Neg_Case_47.svs</td>\n",
       "      <td>Her2Neg_Case_47.xml</td>\n",
       "      <td>data/Yale_HER2_cohort/Annotations/Her2Neg_Case...</td>\n",
       "    </tr>\n",
       "    <tr>\n",
       "      <th>47</th>\n",
       "      <td>data/Yale_HER2_cohort/SVS/Her2Neg_Case_48.svs</td>\n",
       "      <td>Her2Neg_Case_48</td>\n",
       "      <td>Her2Neg_Case_48.svs</td>\n",
       "      <td>Her2Neg_Case_48.xml</td>\n",
       "      <td>data/Yale_HER2_cohort/Annotations/Her2Neg_Case...</td>\n",
       "    </tr>\n",
       "    <tr>\n",
       "      <th>48</th>\n",
       "      <td>data/Yale_HER2_cohort/SVS/Her2Neg_Case_49.svs</td>\n",
       "      <td>Her2Neg_Case_49</td>\n",
       "      <td>Her2Neg_Case_49.svs</td>\n",
       "      <td>Her2Neg_Case_49.xml</td>\n",
       "      <td>data/Yale_HER2_cohort/Annotations/Her2Neg_Case...</td>\n",
       "    </tr>\n",
       "    <tr>\n",
       "      <th>49</th>\n",
       "      <td>data/Yale_HER2_cohort/SVS/Her2Neg_Case_50.svs</td>\n",
       "      <td>Her2Neg_Case_50</td>\n",
       "      <td>Her2Neg_Case_50.svs</td>\n",
       "      <td>Her2Neg_Case_50.xml</td>\n",
       "      <td>data/Yale_HER2_cohort/Annotations/Her2Neg_Case...</td>\n",
       "    </tr>\n",
       "  </tbody>\n",
       "</table>\n",
       "</div>"
      ],
      "text/plain": [
       "                                         wsi_path         slide_id  \\\n",
       "0   data/Yale_HER2_cohort/SVS/Her2Neg_Case_01.svs  Her2Neg_Case_01   \n",
       "1   data/Yale_HER2_cohort/SVS/Her2Neg_Case_02.svs  Her2Neg_Case_02   \n",
       "2   data/Yale_HER2_cohort/SVS/Her2Neg_Case_03.svs  Her2Neg_Case_03   \n",
       "3   data/Yale_HER2_cohort/SVS/Her2Neg_Case_04.svs  Her2Neg_Case_04   \n",
       "4   data/Yale_HER2_cohort/SVS/Her2Neg_Case_05.svs  Her2Neg_Case_05   \n",
       "5   data/Yale_HER2_cohort/SVS/Her2Neg_Case_06.svs  Her2Neg_Case_06   \n",
       "6   data/Yale_HER2_cohort/SVS/Her2Neg_Case_07.svs  Her2Neg_Case_07   \n",
       "7   data/Yale_HER2_cohort/SVS/Her2Neg_Case_08.svs  Her2Neg_Case_08   \n",
       "8   data/Yale_HER2_cohort/SVS/Her2Neg_Case_09.svs  Her2Neg_Case_09   \n",
       "9   data/Yale_HER2_cohort/SVS/Her2Neg_Case_10.svs  Her2Neg_Case_10   \n",
       "10  data/Yale_HER2_cohort/SVS/Her2Neg_Case_11.svs  Her2Neg_Case_11   \n",
       "11  data/Yale_HER2_cohort/SVS/Her2Neg_Case_12.svs  Her2Neg_Case_12   \n",
       "12  data/Yale_HER2_cohort/SVS/Her2Neg_Case_13.svs  Her2Neg_Case_13   \n",
       "13  data/Yale_HER2_cohort/SVS/Her2Neg_Case_14.svs  Her2Neg_Case_14   \n",
       "14  data/Yale_HER2_cohort/SVS/Her2Neg_Case_15.svs  Her2Neg_Case_15   \n",
       "15  data/Yale_HER2_cohort/SVS/Her2Neg_Case_16.svs  Her2Neg_Case_16   \n",
       "16  data/Yale_HER2_cohort/SVS/Her2Neg_Case_17.svs  Her2Neg_Case_17   \n",
       "17  data/Yale_HER2_cohort/SVS/Her2Neg_Case_18.svs  Her2Neg_Case_18   \n",
       "18  data/Yale_HER2_cohort/SVS/Her2Neg_Case_19.svs  Her2Neg_Case_19   \n",
       "19  data/Yale_HER2_cohort/SVS/Her2Neg_Case_20.svs  Her2Neg_Case_20   \n",
       "20  data/Yale_HER2_cohort/SVS/Her2Neg_Case_21.svs  Her2Neg_Case_21   \n",
       "21  data/Yale_HER2_cohort/SVS/Her2Neg_Case_22.svs  Her2Neg_Case_22   \n",
       "22  data/Yale_HER2_cohort/SVS/Her2Neg_Case_23.svs  Her2Neg_Case_23   \n",
       "23  data/Yale_HER2_cohort/SVS/Her2Neg_Case_24.svs  Her2Neg_Case_24   \n",
       "24  data/Yale_HER2_cohort/SVS/Her2Neg_Case_25.svs  Her2Neg_Case_25   \n",
       "25  data/Yale_HER2_cohort/SVS/Her2Neg_Case_26.svs  Her2Neg_Case_26   \n",
       "26  data/Yale_HER2_cohort/SVS/Her2Neg_Case_27.svs  Her2Neg_Case_27   \n",
       "27  data/Yale_HER2_cohort/SVS/Her2Neg_Case_28.svs  Her2Neg_Case_28   \n",
       "28  data/Yale_HER2_cohort/SVS/Her2Neg_Case_29.svs  Her2Neg_Case_29   \n",
       "29  data/Yale_HER2_cohort/SVS/Her2Neg_Case_30.svs  Her2Neg_Case_30   \n",
       "30  data/Yale_HER2_cohort/SVS/Her2Neg_Case_31.svs  Her2Neg_Case_31   \n",
       "31  data/Yale_HER2_cohort/SVS/Her2Neg_Case_32.svs  Her2Neg_Case_32   \n",
       "32  data/Yale_HER2_cohort/SVS/Her2Neg_Case_33.svs  Her2Neg_Case_33   \n",
       "33  data/Yale_HER2_cohort/SVS/Her2Neg_Case_34.svs  Her2Neg_Case_34   \n",
       "34  data/Yale_HER2_cohort/SVS/Her2Neg_Case_35.svs  Her2Neg_Case_35   \n",
       "35  data/Yale_HER2_cohort/SVS/Her2Neg_Case_36.svs  Her2Neg_Case_36   \n",
       "36  data/Yale_HER2_cohort/SVS/Her2Neg_Case_37.svs  Her2Neg_Case_37   \n",
       "37  data/Yale_HER2_cohort/SVS/Her2Neg_Case_38.svs  Her2Neg_Case_38   \n",
       "38  data/Yale_HER2_cohort/SVS/Her2Neg_Case_39.svs  Her2Neg_Case_39   \n",
       "39  data/Yale_HER2_cohort/SVS/Her2Neg_Case_40.svs  Her2Neg_Case_40   \n",
       "40  data/Yale_HER2_cohort/SVS/Her2Neg_Case_41.svs  Her2Neg_Case_41   \n",
       "41  data/Yale_HER2_cohort/SVS/Her2Neg_Case_42.svs  Her2Neg_Case_42   \n",
       "42  data/Yale_HER2_cohort/SVS/Her2Neg_Case_43.svs  Her2Neg_Case_43   \n",
       "43  data/Yale_HER2_cohort/SVS/Her2Neg_Case_44.svs  Her2Neg_Case_44   \n",
       "44  data/Yale_HER2_cohort/SVS/Her2Neg_Case_45.svs  Her2Neg_Case_45   \n",
       "45  data/Yale_HER2_cohort/SVS/Her2Neg_Case_46.svs  Her2Neg_Case_46   \n",
       "46  data/Yale_HER2_cohort/SVS/Her2Neg_Case_47.svs  Her2Neg_Case_47   \n",
       "47  data/Yale_HER2_cohort/SVS/Her2Neg_Case_48.svs  Her2Neg_Case_48   \n",
       "48  data/Yale_HER2_cohort/SVS/Her2Neg_Case_49.svs  Her2Neg_Case_49   \n",
       "49  data/Yale_HER2_cohort/SVS/Her2Neg_Case_50.svs  Her2Neg_Case_50   \n",
       "\n",
       "             slide_name      annotation_name  \\\n",
       "0   Her2Neg_Case_01.svs  Her2Neg_Case_01.xml   \n",
       "1   Her2Neg_Case_02.svs  Her2Neg_Case_02.xml   \n",
       "2   Her2Neg_Case_03.svs  Her2Neg_Case_03.xml   \n",
       "3   Her2Neg_Case_04.svs  Her2Neg_Case_04.xml   \n",
       "4   Her2Neg_Case_05.svs  Her2Neg_Case_05.xml   \n",
       "5   Her2Neg_Case_06.svs  Her2Neg_Case_06.xml   \n",
       "6   Her2Neg_Case_07.svs  Her2Neg_Case_07.xml   \n",
       "7   Her2Neg_Case_08.svs  Her2Neg_Case_08.xml   \n",
       "8   Her2Neg_Case_09.svs  Her2Neg_Case_09.xml   \n",
       "9   Her2Neg_Case_10.svs  Her2Neg_Case_10.xml   \n",
       "10  Her2Neg_Case_11.svs  Her2Neg_Case_11.xml   \n",
       "11  Her2Neg_Case_12.svs  Her2Neg_Case_12.xml   \n",
       "12  Her2Neg_Case_13.svs  Her2Neg_Case_13.xml   \n",
       "13  Her2Neg_Case_14.svs  Her2Neg_Case_14.xml   \n",
       "14  Her2Neg_Case_15.svs  Her2Neg_Case_15.xml   \n",
       "15  Her2Neg_Case_16.svs  Her2Neg_Case_16.xml   \n",
       "16  Her2Neg_Case_17.svs  Her2Neg_Case_17.xml   \n",
       "17  Her2Neg_Case_18.svs  Her2Neg_Case_18.xml   \n",
       "18  Her2Neg_Case_19.svs  Her2Neg_Case_19.xml   \n",
       "19  Her2Neg_Case_20.svs  Her2Neg_Case_20.xml   \n",
       "20  Her2Neg_Case_21.svs  Her2Neg_Case_21.xml   \n",
       "21  Her2Neg_Case_22.svs  Her2Neg_Case_22.xml   \n",
       "22  Her2Neg_Case_23.svs  Her2Neg_Case_23.xml   \n",
       "23  Her2Neg_Case_24.svs  Her2Neg_Case_24.xml   \n",
       "24  Her2Neg_Case_25.svs  Her2Neg_Case_25.xml   \n",
       "25  Her2Neg_Case_26.svs  Her2Neg_Case_26.xml   \n",
       "26  Her2Neg_Case_27.svs  Her2Neg_Case_27.xml   \n",
       "27  Her2Neg_Case_28.svs  Her2Neg_Case_28.xml   \n",
       "28  Her2Neg_Case_29.svs  Her2Neg_Case_29.xml   \n",
       "29  Her2Neg_Case_30.svs  Her2Neg_Case_30.xml   \n",
       "30  Her2Neg_Case_31.svs                  NaN   \n",
       "31  Her2Neg_Case_32.svs  Her2Neg_Case_32.xml   \n",
       "32  Her2Neg_Case_33.svs  Her2Neg_Case_33.xml   \n",
       "33  Her2Neg_Case_34.svs                  NaN   \n",
       "34  Her2Neg_Case_35.svs  Her2Neg_Case_35.xml   \n",
       "35  Her2Neg_Case_36.svs  Her2Neg_Case_36.xml   \n",
       "36  Her2Neg_Case_37.svs  Her2Neg_Case_37.xml   \n",
       "37  Her2Neg_Case_38.svs  Her2Neg_Case_38.xml   \n",
       "38  Her2Neg_Case_39.svs  Her2Neg_Case_39.xml   \n",
       "39  Her2Neg_Case_40.svs  Her2Neg_Case_40.xml   \n",
       "40  Her2Neg_Case_41.svs  Her2Neg_Case_41.xml   \n",
       "41  Her2Neg_Case_42.svs  Her2Neg_Case_42.xml   \n",
       "42  Her2Neg_Case_43.svs  Her2Neg_Case_43.xml   \n",
       "43  Her2Neg_Case_44.svs  Her2Neg_Case_44.xml   \n",
       "44  Her2Neg_Case_45.svs  Her2Neg_Case_45.xml   \n",
       "45  Her2Neg_Case_46.svs  Her2Neg_Case_46.xml   \n",
       "46  Her2Neg_Case_47.svs  Her2Neg_Case_47.xml   \n",
       "47  Her2Neg_Case_48.svs  Her2Neg_Case_48.xml   \n",
       "48  Her2Neg_Case_49.svs  Her2Neg_Case_49.xml   \n",
       "49  Her2Neg_Case_50.svs  Her2Neg_Case_50.xml   \n",
       "\n",
       "                                      annotation_path  \n",
       "0   data/Yale_HER2_cohort/Annotations/Her2Neg_Case...  \n",
       "1   data/Yale_HER2_cohort/Annotations/Her2Neg_Case...  \n",
       "2   data/Yale_HER2_cohort/Annotations/Her2Neg_Case...  \n",
       "3   data/Yale_HER2_cohort/Annotations/Her2Neg_Case...  \n",
       "4   data/Yale_HER2_cohort/Annotations/Her2Neg_Case...  \n",
       "5   data/Yale_HER2_cohort/Annotations/Her2Neg_Case...  \n",
       "6   data/Yale_HER2_cohort/Annotations/Her2Neg_Case...  \n",
       "7   data/Yale_HER2_cohort/Annotations/Her2Neg_Case...  \n",
       "8   data/Yale_HER2_cohort/Annotations/Her2Neg_Case...  \n",
       "9   data/Yale_HER2_cohort/Annotations/Her2Neg_Case...  \n",
       "10  data/Yale_HER2_cohort/Annotations/Her2Neg_Case...  \n",
       "11  data/Yale_HER2_cohort/Annotations/Her2Neg_Case...  \n",
       "12  data/Yale_HER2_cohort/Annotations/Her2Neg_Case...  \n",
       "13  data/Yale_HER2_cohort/Annotations/Her2Neg_Case...  \n",
       "14  data/Yale_HER2_cohort/Annotations/Her2Neg_Case...  \n",
       "15  data/Yale_HER2_cohort/Annotations/Her2Neg_Case...  \n",
       "16  data/Yale_HER2_cohort/Annotations/Her2Neg_Case...  \n",
       "17  data/Yale_HER2_cohort/Annotations/Her2Neg_Case...  \n",
       "18  data/Yale_HER2_cohort/Annotations/Her2Neg_Case...  \n",
       "19  data/Yale_HER2_cohort/Annotations/Her2Neg_Case...  \n",
       "20  data/Yale_HER2_cohort/Annotations/Her2Neg_Case...  \n",
       "21  data/Yale_HER2_cohort/Annotations/Her2Neg_Case...  \n",
       "22  data/Yale_HER2_cohort/Annotations/Her2Neg_Case...  \n",
       "23  data/Yale_HER2_cohort/Annotations/Her2Neg_Case...  \n",
       "24  data/Yale_HER2_cohort/Annotations/Her2Neg_Case...  \n",
       "25  data/Yale_HER2_cohort/Annotations/Her2Neg_Case...  \n",
       "26  data/Yale_HER2_cohort/Annotations/Her2Neg_Case...  \n",
       "27  data/Yale_HER2_cohort/Annotations/Her2Neg_Case...  \n",
       "28  data/Yale_HER2_cohort/Annotations/Her2Neg_Case...  \n",
       "29  data/Yale_HER2_cohort/Annotations/Her2Neg_Case...  \n",
       "30                                                NaN  \n",
       "31  data/Yale_HER2_cohort/Annotations/Her2Neg_Case...  \n",
       "32  data/Yale_HER2_cohort/Annotations/Her2Neg_Case...  \n",
       "33                                                NaN  \n",
       "34  data/Yale_HER2_cohort/Annotations/Her2Neg_Case...  \n",
       "35  data/Yale_HER2_cohort/Annotations/Her2Neg_Case...  \n",
       "36  data/Yale_HER2_cohort/Annotations/Her2Neg_Case...  \n",
       "37  data/Yale_HER2_cohort/Annotations/Her2Neg_Case...  \n",
       "38  data/Yale_HER2_cohort/Annotations/Her2Neg_Case...  \n",
       "39  data/Yale_HER2_cohort/Annotations/Her2Neg_Case...  \n",
       "40  data/Yale_HER2_cohort/Annotations/Her2Neg_Case...  \n",
       "41  data/Yale_HER2_cohort/Annotations/Her2Neg_Case...  \n",
       "42  data/Yale_HER2_cohort/Annotations/Her2Neg_Case...  \n",
       "43  data/Yale_HER2_cohort/Annotations/Her2Neg_Case...  \n",
       "44  data/Yale_HER2_cohort/Annotations/Her2Neg_Case...  \n",
       "45  data/Yale_HER2_cohort/Annotations/Her2Neg_Case...  \n",
       "46  data/Yale_HER2_cohort/Annotations/Her2Neg_Case...  \n",
       "47  data/Yale_HER2_cohort/Annotations/Her2Neg_Case...  \n",
       "48  data/Yale_HER2_cohort/Annotations/Her2Neg_Case...  \n",
       "49  data/Yale_HER2_cohort/Annotations/Her2Neg_Case...  "
      ]
     },
     "metadata": {},
     "output_type": "display_data"
    }
   ],
   "source": [
    "csv_path = discover_wsi(\n",
    "    base_dir=BASE_DIR, \n",
    "    sources=SOURCES, \n",
    "    output_path=OUTPUT_CSV\n",
    ")\n",
    "\n",
    "# Load and display the results\n",
    "df = pd.read_csv(csv_path)\n",
    "display(df.head(50))"
   ]
  },
  {
   "cell_type": "code",
   "execution_count": 6,
   "id": "3855ee62",
   "metadata": {},
   "outputs": [
    {
     "name": "stderr",
     "output_type": "stream",
     "text": [
      "Processing slides:   0%|          | 0/471 [00:00<?, ?it/s]"
     ]
    },
    {
     "name": "stdout",
     "output_type": "stream",
     "text": [
      "Processing slide: data/Yale_HER2_cohort/SVS/Her2Neg_Case_01.svs with annotation: /media/thanakornbuath/Phone SSD/her2-attention-classifier/data/Yale_HER2_cohort/Annotations/Her2Neg_Case_01.xml\n",
      "Mask shape: (45426, 41888)\n",
      "Loaded WSI backend: cucim\n"
     ]
    },
    {
     "name": "stderr",
     "output_type": "stream",
     "text": [
      "Processing slides:   0%|          | 1/471 [00:06<52:14,  6.67s/it]"
     ]
    },
    {
     "name": "stdout",
     "output_type": "stream",
     "text": [
      "Extracted 155 patches from data/Yale_HER2_cohort/SVS/Her2Neg_Case_01.svs; saved 155 to outputs/patches/Her2Neg_Case_01\n",
      "Processing slide: data/Yale_HER2_cohort/SVS/Her2Neg_Case_02.svs with annotation: /media/thanakornbuath/Phone SSD/her2-attention-classifier/data/Yale_HER2_cohort/Annotations/Her2Neg_Case_02.xml\n",
      "Mask shape: (28692, 31416)\n",
      "Loaded WSI backend: cucim\n"
     ]
    },
    {
     "name": "stderr",
     "output_type": "stream",
     "text": [
      "Processing slides:   0%|          | 2/471 [00:10<39:24,  5.04s/it]"
     ]
    },
    {
     "name": "stdout",
     "output_type": "stream",
     "text": [
      "Extracted 95 patches from data/Yale_HER2_cohort/SVS/Her2Neg_Case_02.svs; saved 95 to outputs/patches/Her2Neg_Case_02\n",
      "Processing slide: data/Yale_HER2_cohort/SVS/Her2Neg_Case_03.svs with annotation: /media/thanakornbuath/Phone SSD/her2-attention-classifier/data/Yale_HER2_cohort/Annotations/Her2Neg_Case_03.xml\n",
      "Mask shape: (23525, 29512)\n",
      "Loaded WSI backend: cucim\n"
     ]
    },
    {
     "name": "stderr",
     "output_type": "stream",
     "text": [
      "Processing slides:   1%|          | 3/471 [00:13<33:29,  4.29s/it]"
     ]
    },
    {
     "name": "stdout",
     "output_type": "stream",
     "text": [
      "Extracted 74 patches from data/Yale_HER2_cohort/SVS/Her2Neg_Case_03.svs; saved 74 to outputs/patches/Her2Neg_Case_03\n",
      "Processing slide: data/Yale_HER2_cohort/SVS/Her2Neg_Case_04.svs with annotation: /media/thanakornbuath/Phone SSD/her2-attention-classifier/data/Yale_HER2_cohort/Annotations/Her2Neg_Case_04.xml\n",
      "Mask shape: (34106, 40936)\n",
      "Loaded WSI backend: cucim\n"
     ]
    },
    {
     "name": "stderr",
     "output_type": "stream",
     "text": [
      "Processing slides:   1%|          | 4/471 [00:17<32:02,  4.12s/it]"
     ]
    },
    {
     "name": "stdout",
     "output_type": "stream",
     "text": [
      "Extracted 86 patches from data/Yale_HER2_cohort/SVS/Her2Neg_Case_04.svs; saved 86 to outputs/patches/Her2Neg_Case_04\n",
      "Processing slide: data/Yale_HER2_cohort/SVS/Her2Neg_Case_05.svs with annotation: /media/thanakornbuath/Phone SSD/her2-attention-classifier/data/Yale_HER2_cohort/Annotations/Her2Neg_Case_05.xml\n",
      "Mask shape: (17618, 19992)\n",
      "Loaded WSI backend: cucim\n"
     ]
    },
    {
     "name": "stderr",
     "output_type": "stream",
     "text": [
      "Processing slides:   1%|          | 5/471 [00:18<22:53,  2.95s/it]"
     ]
    },
    {
     "name": "stdout",
     "output_type": "stream",
     "text": [
      "Extracted 16 patches from data/Yale_HER2_cohort/SVS/Her2Neg_Case_05.svs; saved 16 to outputs/patches/Her2Neg_Case_05\n",
      "Processing slide: data/Yale_HER2_cohort/SVS/Her2Neg_Case_06.svs with annotation: /media/thanakornbuath/Phone SSD/her2-attention-classifier/data/Yale_HER2_cohort/Annotations/Her2Neg_Case_06.xml\n",
      "Mask shape: (22704, 22848)\n",
      "Loaded WSI backend: cucim\n"
     ]
    },
    {
     "name": "stderr",
     "output_type": "stream",
     "text": [
      "Processing slides:   1%|▏         | 6/471 [00:23<26:37,  3.44s/it]"
     ]
    },
    {
     "name": "stdout",
     "output_type": "stream",
     "text": [
      "Extracted 108 patches from data/Yale_HER2_cohort/SVS/Her2Neg_Case_06.svs; saved 108 to outputs/patches/Her2Neg_Case_06\n",
      "Processing slide: data/Yale_HER2_cohort/SVS/Her2Neg_Case_07.svs with annotation: /media/thanakornbuath/Phone SSD/her2-attention-classifier/data/Yale_HER2_cohort/Annotations/Her2Neg_Case_07.xml\n",
      "Mask shape: (32383, 25704)\n",
      "Loaded WSI backend: cucim\n"
     ]
    },
    {
     "name": "stderr",
     "output_type": "stream",
     "text": [
      "Processing slides:   1%|▏         | 7/471 [00:25<23:25,  3.03s/it]"
     ]
    },
    {
     "name": "stdout",
     "output_type": "stream",
     "text": [
      "Extracted 46 patches from data/Yale_HER2_cohort/SVS/Her2Neg_Case_07.svs; saved 46 to outputs/patches/Her2Neg_Case_07\n",
      "Processing slide: data/Yale_HER2_cohort/SVS/Her2Neg_Case_08.svs with annotation: /media/thanakornbuath/Phone SSD/her2-attention-classifier/data/Yale_HER2_cohort/Annotations/Her2Neg_Case_08.xml\n",
      "Mask shape: (20244, 32368)\n",
      "Loaded WSI backend: cucim\n"
     ]
    },
    {
     "name": "stderr",
     "output_type": "stream",
     "text": [
      "Processing slides:   2%|▏         | 8/471 [00:27<20:59,  2.72s/it]"
     ]
    },
    {
     "name": "stdout",
     "output_type": "stream",
     "text": [
      "Extracted 44 patches from data/Yale_HER2_cohort/SVS/Her2Neg_Case_08.svs; saved 44 to outputs/patches/Her2Neg_Case_08\n",
      "Processing slide: data/Yale_HER2_cohort/SVS/Her2Neg_Case_09.svs with annotation: /media/thanakornbuath/Phone SSD/her2-attention-classifier/data/Yale_HER2_cohort/Annotations/Her2Neg_Case_09.xml\n",
      "Mask shape: (36075, 46648)\n",
      "Loaded WSI backend: cucim\n"
     ]
    },
    {
     "name": "stderr",
     "output_type": "stream",
     "text": [
      "Processing slides:   2%|▏         | 9/471 [00:31<24:43,  3.21s/it]"
     ]
    },
    {
     "name": "stdout",
     "output_type": "stream",
     "text": [
      "Extracted 87 patches from data/Yale_HER2_cohort/SVS/Her2Neg_Case_09.svs; saved 87 to outputs/patches/Her2Neg_Case_09\n",
      "Processing slide: data/Yale_HER2_cohort/SVS/Her2Neg_Case_10.svs with annotation: /media/thanakornbuath/Phone SSD/her2-attention-classifier/data/Yale_HER2_cohort/Annotations/Her2Neg_Case_10.xml\n",
      "Mask shape: (24182, 50456)\n",
      "Loaded WSI backend: cucim\n"
     ]
    },
    {
     "name": "stderr",
     "output_type": "stream",
     "text": [
      "Processing slides:   2%|▏         | 10/471 [00:32<20:17,  2.64s/it]"
     ]
    },
    {
     "name": "stdout",
     "output_type": "stream",
     "text": [
      "Extracted 18 patches from data/Yale_HER2_cohort/SVS/Her2Neg_Case_10.svs; saved 18 to outputs/patches/Her2Neg_Case_10\n",
      "Processing slide: data/Yale_HER2_cohort/SVS/Her2Neg_Case_11.svs with annotation: /media/thanakornbuath/Phone SSD/her2-attention-classifier/data/Yale_HER2_cohort/Annotations/Her2Neg_Case_11.xml\n",
      "Mask shape: (28939, 36176)\n",
      "Loaded WSI backend: cucim\n"
     ]
    },
    {
     "name": "stderr",
     "output_type": "stream",
     "text": [
      "Processing slides:   2%|▏         | 11/471 [00:43<39:41,  5.18s/it]"
     ]
    },
    {
     "name": "stdout",
     "output_type": "stream",
     "text": [
      "Extracted 182 patches from data/Yale_HER2_cohort/SVS/Her2Neg_Case_11.svs; saved 182 to outputs/patches/Her2Neg_Case_11\n",
      "Processing slide: data/Yale_HER2_cohort/SVS/Her2Neg_Case_12.svs with annotation: /media/thanakornbuath/Phone SSD/her2-attention-classifier/data/Yale_HER2_cohort/Annotations/Her2Neg_Case_12.xml\n",
      "Mask shape: (21227, 22848)\n",
      "Loaded WSI backend: cucim\n"
     ]
    },
    {
     "name": "stderr",
     "output_type": "stream",
     "text": [
      "Processing slides:   3%|▎         | 12/471 [00:51<44:13,  5.78s/it]"
     ]
    },
    {
     "name": "stdout",
     "output_type": "stream",
     "text": [
      "Extracted 190 patches from data/Yale_HER2_cohort/SVS/Her2Neg_Case_12.svs; saved 190 to outputs/patches/Her2Neg_Case_12\n",
      "Processing slide: data/Yale_HER2_cohort/SVS/Her2Neg_Case_13.svs with annotation: /media/thanakornbuath/Phone SSD/her2-attention-classifier/data/Yale_HER2_cohort/Annotations/Her2Neg_Case_13.xml\n",
      "Mask shape: (25985, 27608)\n",
      "Loaded WSI backend: cucim\n"
     ]
    },
    {
     "name": "stderr",
     "output_type": "stream",
     "text": [
      "Processing slides:   3%|▎         | 13/471 [01:03<1:00:05,  7.87s/it]"
     ]
    },
    {
     "name": "stdout",
     "output_type": "stream",
     "text": [
      "Extracted 362 patches from data/Yale_HER2_cohort/SVS/Her2Neg_Case_13.svs; saved 362 to outputs/patches/Her2Neg_Case_13\n",
      "Processing slide: data/Yale_HER2_cohort/SVS/Her2Neg_Case_14.svs with annotation: /media/thanakornbuath/Phone SSD/her2-attention-classifier/data/Yale_HER2_cohort/Annotations/Her2Neg_Case_14.xml\n",
      "Mask shape: (18685, 29512)\n",
      "Loaded WSI backend: cucim\n"
     ]
    },
    {
     "name": "stderr",
     "output_type": "stream",
     "text": [
      "Processing slides:   3%|▎         | 14/471 [01:10<57:28,  7.55s/it]  "
     ]
    },
    {
     "name": "stdout",
     "output_type": "stream",
     "text": [
      "Extracted 192 patches from data/Yale_HER2_cohort/SVS/Her2Neg_Case_14.svs; saved 192 to outputs/patches/Her2Neg_Case_14\n",
      "Processing slide: data/Yale_HER2_cohort/SVS/Her2Neg_Case_15.svs with annotation: /media/thanakornbuath/Phone SSD/her2-attention-classifier/data/Yale_HER2_cohort/Annotations/Her2Neg_Case_15.xml\n",
      "Mask shape: (32301, 25704)\n",
      "Loaded WSI backend: cucim\n"
     ]
    },
    {
     "name": "stderr",
     "output_type": "stream",
     "text": [
      "Processing slides:   3%|▎         | 15/471 [01:20<1:03:52,  8.40s/it]"
     ]
    },
    {
     "name": "stdout",
     "output_type": "stream",
     "text": [
      "Extracted 271 patches from data/Yale_HER2_cohort/SVS/Her2Neg_Case_15.svs; saved 271 to outputs/patches/Her2Neg_Case_15\n",
      "Processing slide: data/Yale_HER2_cohort/SVS/Her2Neg_Case_16.svs with annotation: /media/thanakornbuath/Phone SSD/her2-attention-classifier/data/Yale_HER2_cohort/Annotations/Her2Neg_Case_16.xml\n",
      "Mask shape: (19751, 27608)\n",
      "Loaded WSI backend: cucim\n"
     ]
    },
    {
     "name": "stderr",
     "output_type": "stream",
     "text": [
      "Processing slides:   3%|▎         | 16/471 [01:32<1:11:26,  9.42s/it]"
     ]
    },
    {
     "name": "stdout",
     "output_type": "stream",
     "text": [
      "Extracted 258 patches from data/Yale_HER2_cohort/SVS/Her2Neg_Case_16.svs; saved 258 to outputs/patches/Her2Neg_Case_16\n",
      "Processing slide: data/Yale_HER2_cohort/SVS/Her2Neg_Case_17.svs with annotation: /media/thanakornbuath/Phone SSD/her2-attention-classifier/data/Yale_HER2_cohort/Annotations/Her2Neg_Case_17.xml\n",
      "Mask shape: (16635, 37128)\n",
      "Loaded WSI backend: cucim\n"
     ]
    },
    {
     "name": "stderr",
     "output_type": "stream",
     "text": [
      "Processing slides:   4%|▎         | 17/471 [01:35<56:53,  7.52s/it]  "
     ]
    },
    {
     "name": "stdout",
     "output_type": "stream",
     "text": [
      "Extracted 61 patches from data/Yale_HER2_cohort/SVS/Her2Neg_Case_17.svs; saved 61 to outputs/patches/Her2Neg_Case_17\n",
      "Processing slide: data/Yale_HER2_cohort/SVS/Her2Neg_Case_18.svs with annotation: /media/thanakornbuath/Phone SSD/her2-attention-classifier/data/Yale_HER2_cohort/Annotations/Her2Neg_Case_18.xml\n",
      "Mask shape: (40669, 54264)\n",
      "Loaded WSI backend: cucim\n"
     ]
    },
    {
     "name": "stderr",
     "output_type": "stream",
     "text": [
      "Processing slides:   4%|▍         | 18/471 [01:42<55:27,  7.35s/it]"
     ]
    },
    {
     "name": "stdout",
     "output_type": "stream",
     "text": [
      "Extracted 161 patches from data/Yale_HER2_cohort/SVS/Her2Neg_Case_18.svs; saved 161 to outputs/patches/Her2Neg_Case_18\n",
      "Processing slide: data/Yale_HER2_cohort/SVS/Her2Neg_Case_19.svs with annotation: /media/thanakornbuath/Phone SSD/her2-attention-classifier/data/Yale_HER2_cohort/Annotations/Her2Neg_Case_19.xml\n",
      "Mask shape: (19587, 25704)\n",
      "Loaded WSI backend: cucim\n"
     ]
    },
    {
     "name": "stderr",
     "output_type": "stream",
     "text": [
      "Processing slides:   4%|▍         | 19/471 [01:48<52:29,  6.97s/it]"
     ]
    },
    {
     "name": "stdout",
     "output_type": "stream",
     "text": [
      "Extracted 132 patches from data/Yale_HER2_cohort/SVS/Her2Neg_Case_19.svs; saved 132 to outputs/patches/Her2Neg_Case_19\n",
      "Processing slide: data/Yale_HER2_cohort/SVS/Her2Neg_Case_20.svs with annotation: /media/thanakornbuath/Phone SSD/her2-attention-classifier/data/Yale_HER2_cohort/Annotations/Her2Neg_Case_20.xml\n",
      "Mask shape: (24590, 23800)\n",
      "Loaded WSI backend: cucim\n"
     ]
    },
    {
     "name": "stderr",
     "output_type": "stream",
     "text": [
      "Processing slides:   4%|▍         | 20/471 [01:53<47:31,  6.32s/it]"
     ]
    },
    {
     "name": "stdout",
     "output_type": "stream",
     "text": [
      "Extracted 102 patches from data/Yale_HER2_cohort/SVS/Her2Neg_Case_20.svs; saved 102 to outputs/patches/Her2Neg_Case_20\n",
      "Processing slide: data/Yale_HER2_cohort/SVS/Her2Neg_Case_21.svs with annotation: /media/thanakornbuath/Phone SSD/her2-attention-classifier/data/Yale_HER2_cohort/Annotations/Her2Neg_Case_21.xml\n",
      "Mask shape: (21556, 26656)\n",
      "Loaded WSI backend: cucim\n"
     ]
    },
    {
     "name": "stderr",
     "output_type": "stream",
     "text": [
      "Processing slides:   4%|▍         | 21/471 [02:01<49:54,  6.65s/it]"
     ]
    },
    {
     "name": "stdout",
     "output_type": "stream",
     "text": [
      "Extracted 187 patches from data/Yale_HER2_cohort/SVS/Her2Neg_Case_21.svs; saved 187 to outputs/patches/Her2Neg_Case_21\n",
      "Processing slide: data/Yale_HER2_cohort/SVS/Her2Neg_Case_22.svs with annotation: /media/thanakornbuath/Phone SSD/her2-attention-classifier/data/Yale_HER2_cohort/Annotations/Her2Neg_Case_22.xml\n",
      "Mask shape: (40916, 57120)\n",
      "Loaded WSI backend: cucim\n"
     ]
    },
    {
     "name": "stderr",
     "output_type": "stream",
     "text": [
      "Processing slides:   5%|▍         | 22/471 [02:47<2:18:50, 18.55s/it]"
     ]
    },
    {
     "name": "stdout",
     "output_type": "stream",
     "text": [
      "Extracted 1043 patches from data/Yale_HER2_cohort/SVS/Her2Neg_Case_22.svs; saved 1043 to outputs/patches/Her2Neg_Case_22\n",
      "Processing slide: data/Yale_HER2_cohort/SVS/Her2Neg_Case_23.svs with annotation: /media/thanakornbuath/Phone SSD/her2-attention-classifier/data/Yale_HER2_cohort/Annotations/Her2Neg_Case_23.xml\n",
      "Mask shape: (34352, 39032)\n",
      "Loaded WSI backend: cucim\n"
     ]
    },
    {
     "name": "stderr",
     "output_type": "stream",
     "text": [
      "Processing slides:   5%|▍         | 23/471 [02:52<1:48:20, 14.51s/it]"
     ]
    },
    {
     "name": "stdout",
     "output_type": "stream",
     "text": [
      "Extracted 102 patches from data/Yale_HER2_cohort/SVS/Her2Neg_Case_23.svs; saved 102 to outputs/patches/Her2Neg_Case_23\n",
      "Processing slide: data/Yale_HER2_cohort/SVS/Her2Neg_Case_24.svs with annotation: /media/thanakornbuath/Phone SSD/her2-attention-classifier/data/Yale_HER2_cohort/Annotations/Her2Neg_Case_24.xml\n",
      "Mask shape: (23525, 30464)\n",
      "Loaded WSI backend: cucim\n"
     ]
    },
    {
     "name": "stderr",
     "output_type": "stream",
     "text": [
      "Processing slides:   5%|▌         | 24/471 [03:01<1:35:24, 12.81s/it]"
     ]
    },
    {
     "name": "stdout",
     "output_type": "stream",
     "text": [
      "Extracted 206 patches from data/Yale_HER2_cohort/SVS/Her2Neg_Case_24.svs; saved 206 to outputs/patches/Her2Neg_Case_24\n",
      "Processing slide: data/Yale_HER2_cohort/SVS/Her2Neg_Case_25.svs with annotation: /media/thanakornbuath/Phone SSD/her2-attention-classifier/data/Yale_HER2_cohort/Annotations/Her2Neg_Case_25.xml\n",
      "Mask shape: (26723, 19040)\n",
      "Loaded WSI backend: cucim\n"
     ]
    },
    {
     "name": "stderr",
     "output_type": "stream",
     "text": [
      "Processing slides:   5%|▌         | 25/471 [03:10<1:27:08, 11.72s/it]"
     ]
    },
    {
     "name": "stdout",
     "output_type": "stream",
     "text": [
      "Extracted 294 patches from data/Yale_HER2_cohort/SVS/Her2Neg_Case_25.svs; saved 294 to outputs/patches/Her2Neg_Case_25\n",
      "Processing slide: data/Yale_HER2_cohort/SVS/Her2Neg_Case_26.svs with annotation: /media/thanakornbuath/Phone SSD/her2-attention-classifier/data/Yale_HER2_cohort/Annotations/Her2Neg_Case_26.xml\n",
      "Mask shape: (27052, 30464)\n",
      "Loaded WSI backend: cucim\n"
     ]
    },
    {
     "name": "stderr",
     "output_type": "stream",
     "text": [
      "Processing slides:   6%|▌         | 26/471 [03:17<1:17:23, 10.44s/it]"
     ]
    },
    {
     "name": "stdout",
     "output_type": "stream",
     "text": [
      "Extracted 181 patches from data/Yale_HER2_cohort/SVS/Her2Neg_Case_26.svs; saved 181 to outputs/patches/Her2Neg_Case_26\n",
      "Processing slide: data/Yale_HER2_cohort/SVS/Her2Neg_Case_27.svs with annotation: /media/thanakornbuath/Phone SSD/her2-attention-classifier/data/Yale_HER2_cohort/Annotations/Her2Neg_Case_27.xml\n",
      "Mask shape: (16306, 20944)\n",
      "Loaded WSI backend: cucim\n"
     ]
    },
    {
     "name": "stderr",
     "output_type": "stream",
     "text": [
      "Processing slides:   6%|▌         | 27/471 [03:24<1:09:24,  9.38s/it]"
     ]
    },
    {
     "name": "stdout",
     "output_type": "stream",
     "text": [
      "Extracted 183 patches from data/Yale_HER2_cohort/SVS/Her2Neg_Case_27.svs; saved 183 to outputs/patches/Her2Neg_Case_27\n",
      "Processing slide: data/Yale_HER2_cohort/SVS/Her2Neg_Case_28.svs with annotation: /media/thanakornbuath/Phone SSD/her2-attention-classifier/data/Yale_HER2_cohort/Annotations/Her2Neg_Case_28.xml\n",
      "Mask shape: (13271, 19992)\n",
      "Loaded WSI backend: cucim\n"
     ]
    },
    {
     "name": "stderr",
     "output_type": "stream",
     "text": [
      "Processing slides:   6%|▌         | 28/471 [03:29<58:21,  7.90s/it]  "
     ]
    },
    {
     "name": "stdout",
     "output_type": "stream",
     "text": [
      "Extracted 58 patches from data/Yale_HER2_cohort/SVS/Her2Neg_Case_28.svs; saved 58 to outputs/patches/Her2Neg_Case_28\n",
      "Processing slide: data/Yale_HER2_cohort/SVS/Her2Neg_Case_29.svs with annotation: /media/thanakornbuath/Phone SSD/her2-attention-classifier/data/Yale_HER2_cohort/Annotations/Her2Neg_Case_29.xml\n",
      "Mask shape: (22622, 32368)\n",
      "Loaded WSI backend: cucim\n"
     ]
    },
    {
     "name": "stderr",
     "output_type": "stream",
     "text": [
      "Processing slides:   6%|▌         | 29/471 [03:36<57:39,  7.83s/it]"
     ]
    },
    {
     "name": "stdout",
     "output_type": "stream",
     "text": [
      "Extracted 177 patches from data/Yale_HER2_cohort/SVS/Her2Neg_Case_29.svs; saved 177 to outputs/patches/Her2Neg_Case_29\n",
      "Processing slide: data/Yale_HER2_cohort/SVS/Her2Neg_Case_30.svs with annotation: /media/thanakornbuath/Phone SSD/her2-attention-classifier/data/Yale_HER2_cohort/Annotations/Her2Neg_Case_30.xml\n",
      "Mask shape: (30088, 53312)\n",
      "Loaded WSI backend: cucim\n"
     ]
    },
    {
     "name": "stderr",
     "output_type": "stream",
     "text": [
      "Processing slides:   6%|▋         | 30/471 [03:48<1:05:36,  8.93s/it]"
     ]
    },
    {
     "name": "stdout",
     "output_type": "stream",
     "text": [
      "Extracted 266 patches from data/Yale_HER2_cohort/SVS/Her2Neg_Case_30.svs; saved 266 to outputs/patches/Her2Neg_Case_30\n",
      "Skipping slide without annotation: data/Yale_HER2_cohort/SVS/Her2Neg_Case_31.svs\n",
      "Processing slide: data/Yale_HER2_cohort/SVS/Her2Neg_Case_32.svs with annotation: /media/thanakornbuath/Phone SSD/her2-attention-classifier/data/Yale_HER2_cohort/Annotations/Her2Neg_Case_32.xml\n",
      "Mask shape: (32712, 38080)\n",
      "Loaded WSI backend: cucim\n"
     ]
    },
    {
     "name": "stderr",
     "output_type": "stream",
     "text": [
      "Processing slides:   7%|▋         | 32/471 [04:15<1:20:13, 10.97s/it]"
     ]
    },
    {
     "name": "stdout",
     "output_type": "stream",
     "text": [
      "Extracted 527 patches from data/Yale_HER2_cohort/SVS/Her2Neg_Case_32.svs; saved 527 to outputs/patches/Her2Neg_Case_32\n",
      "Processing slide: data/Yale_HER2_cohort/SVS/Her2Neg_Case_33.svs with annotation: /media/thanakornbuath/Phone SSD/her2-attention-classifier/data/Yale_HER2_cohort/Annotations/Her2Neg_Case_33.xml\n",
      "Mask shape: (17865, 30464)\n",
      "Loaded WSI backend: cucim\n"
     ]
    },
    {
     "name": "stderr",
     "output_type": "stream",
     "text": [
      "Processing slides:   7%|▋         | 33/471 [04:16<1:02:04,  8.50s/it]"
     ]
    },
    {
     "name": "stdout",
     "output_type": "stream",
     "text": [
      "Extracted 21 patches from data/Yale_HER2_cohort/SVS/Her2Neg_Case_33.svs; saved 21 to outputs/patches/Her2Neg_Case_33\n",
      "Skipping slide without annotation: data/Yale_HER2_cohort/SVS/Her2Neg_Case_34.svs\n",
      "Processing slide: data/Yale_HER2_cohort/SVS/Her2Neg_Case_35.svs with annotation: /media/thanakornbuath/Phone SSD/her2-attention-classifier/data/Yale_HER2_cohort/Annotations/Her2Neg_Case_35.xml\n",
      "Mask shape: (21555, 19992)\n",
      "Loaded WSI backend: cucim\n"
     ]
    },
    {
     "name": "stderr",
     "output_type": "stream",
     "text": [
      "Processing slides:   7%|▋         | 35/471 [04:18<40:23,  5.56s/it]  "
     ]
    },
    {
     "name": "stdout",
     "output_type": "stream",
     "text": [
      "Extracted 68 patches from data/Yale_HER2_cohort/SVS/Her2Neg_Case_35.svs; saved 68 to outputs/patches/Her2Neg_Case_35\n",
      "Processing slide: data/Yale_HER2_cohort/SVS/Her2Neg_Case_36.svs with annotation: /media/thanakornbuath/Phone SSD/her2-attention-classifier/data/Yale_HER2_cohort/Annotations/Her2Neg_Case_36.xml\n",
      "Mask shape: (17536, 22848)\n",
      "Loaded WSI backend: cucim\n"
     ]
    },
    {
     "name": "stderr",
     "output_type": "stream",
     "text": [
      "Processing slides:   8%|▊         | 36/471 [04:21<35:39,  4.92s/it]"
     ]
    },
    {
     "name": "stdout",
     "output_type": "stream",
     "text": [
      "Extracted 44 patches from data/Yale_HER2_cohort/SVS/Her2Neg_Case_36.svs; saved 44 to outputs/patches/Her2Neg_Case_36\n",
      "Processing slide: data/Yale_HER2_cohort/SVS/Her2Neg_Case_37.svs with annotation: /media/thanakornbuath/Phone SSD/her2-attention-classifier/data/Yale_HER2_cohort/Annotations/Her2Neg_Case_37.xml\n",
      "Mask shape: (32548, 43792)\n",
      "Loaded WSI backend: cucim\n"
     ]
    },
    {
     "name": "stderr",
     "output_type": "stream",
     "text": [
      "Processing slides:   8%|▊         | 37/471 [04:25<33:53,  4.69s/it]"
     ]
    },
    {
     "name": "stdout",
     "output_type": "stream",
     "text": [
      "Extracted 88 patches from data/Yale_HER2_cohort/SVS/Her2Neg_Case_37.svs; saved 88 to outputs/patches/Her2Neg_Case_37\n",
      "Processing slide: data/Yale_HER2_cohort/SVS/Her2Neg_Case_38.svs with annotation: /media/thanakornbuath/Phone SSD/her2-attention-classifier/data/Yale_HER2_cohort/Annotations/Her2Neg_Case_38.xml\n",
      "Mask shape: (23771, 34272)\n",
      "Loaded WSI backend: cucim\n"
     ]
    },
    {
     "name": "stderr",
     "output_type": "stream",
     "text": [
      "Processing slides:   8%|▊         | 38/471 [04:34<40:54,  5.67s/it]"
     ]
    },
    {
     "name": "stdout",
     "output_type": "stream",
     "text": [
      "Extracted 217 patches from data/Yale_HER2_cohort/SVS/Her2Neg_Case_38.svs; saved 217 to outputs/patches/Her2Neg_Case_38\n",
      "Processing slide: data/Yale_HER2_cohort/SVS/Her2Neg_Case_39.svs with annotation: /media/thanakornbuath/Phone SSD/her2-attention-classifier/data/Yale_HER2_cohort/Annotations/Her2Neg_Case_39.xml\n",
      "Mask shape: (30334, 44744)\n",
      "Loaded WSI backend: cucim\n"
     ]
    },
    {
     "name": "stderr",
     "output_type": "stream",
     "text": [
      "Processing slides:   8%|▊         | 39/471 [04:37<35:44,  4.96s/it]"
     ]
    },
    {
     "name": "stdout",
     "output_type": "stream",
     "text": [
      "Extracted 49 patches from data/Yale_HER2_cohort/SVS/Her2Neg_Case_39.svs; saved 49 to outputs/patches/Her2Neg_Case_39\n",
      "Processing slide: data/Yale_HER2_cohort/SVS/Her2Neg_Case_40.svs with annotation: /media/thanakornbuath/Phone SSD/her2-attention-classifier/data/Yale_HER2_cohort/Annotations/Her2Neg_Case_40.xml\n",
      "Mask shape: (27217, 53312)\n",
      "Loaded WSI backend: cucim\n"
     ]
    },
    {
     "name": "stderr",
     "output_type": "stream",
     "text": [
      "Processing slides:   8%|▊         | 40/471 [04:44<40:26,  5.63s/it]"
     ]
    },
    {
     "name": "stdout",
     "output_type": "stream",
     "text": [
      "Extracted 221 patches from data/Yale_HER2_cohort/SVS/Her2Neg_Case_40.svs; saved 221 to outputs/patches/Her2Neg_Case_40\n",
      "Processing slide: data/Yale_HER2_cohort/SVS/Her2Neg_Case_41.svs with annotation: /media/thanakornbuath/Phone SSD/her2-attention-classifier/data/Yale_HER2_cohort/Annotations/Her2Neg_Case_41.xml\n",
      "Mask shape: (22868, 28560)\n",
      "Loaded WSI backend: cucim\n"
     ]
    },
    {
     "name": "stderr",
     "output_type": "stream",
     "text": [
      "Processing slides:   9%|▊         | 41/471 [04:51<43:35,  6.08s/it]"
     ]
    },
    {
     "name": "stdout",
     "output_type": "stream",
     "text": [
      "Extracted 178 patches from data/Yale_HER2_cohort/SVS/Her2Neg_Case_41.svs; saved 178 to outputs/patches/Her2Neg_Case_41\n",
      "Processing slide: data/Yale_HER2_cohort/SVS/Her2Neg_Case_42.svs with annotation: /media/thanakornbuath/Phone SSD/her2-attention-classifier/data/Yale_HER2_cohort/Annotations/Her2Neg_Case_42.xml\n",
      "Mask shape: (21227, 19040)\n",
      "Loaded WSI backend: cucim\n"
     ]
    },
    {
     "name": "stderr",
     "output_type": "stream",
     "text": [
      "Processing slides:   9%|▉         | 42/471 [04:55<38:05,  5.33s/it]"
     ]
    },
    {
     "name": "stdout",
     "output_type": "stream",
     "text": [
      "Extracted 90 patches from data/Yale_HER2_cohort/SVS/Her2Neg_Case_42.svs; saved 90 to outputs/patches/Her2Neg_Case_42\n",
      "Processing slide: data/Yale_HER2_cohort/SVS/Her2Neg_Case_43.svs with annotation: /media/thanakornbuath/Phone SSD/her2-attention-classifier/data/Yale_HER2_cohort/Annotations/Her2Neg_Case_43.xml\n",
      "Mask shape: (28118, 28560)\n",
      "Loaded WSI backend: cucim\n"
     ]
    },
    {
     "name": "stderr",
     "output_type": "stream",
     "text": [
      "Processing slides:   9%|▉         | 43/471 [05:02<42:40,  5.98s/it]"
     ]
    },
    {
     "name": "stdout",
     "output_type": "stream",
     "text": [
      "Extracted 218 patches from data/Yale_HER2_cohort/SVS/Her2Neg_Case_43.svs; saved 218 to outputs/patches/Her2Neg_Case_43\n",
      "Processing slide: data/Yale_HER2_cohort/SVS/Her2Neg_Case_44.svs with annotation: /media/thanakornbuath/Phone SSD/her2-attention-classifier/data/Yale_HER2_cohort/Annotations/Her2Neg_Case_44.xml\n",
      "Mask shape: (23770, 25704)\n",
      "Loaded WSI backend: cucim\n"
     ]
    },
    {
     "name": "stderr",
     "output_type": "stream",
     "text": [
      "Processing slides:   9%|▉         | 44/471 [05:13<52:32,  7.38s/it]"
     ]
    },
    {
     "name": "stdout",
     "output_type": "stream",
     "text": [
      "Extracted 280 patches from data/Yale_HER2_cohort/SVS/Her2Neg_Case_44.svs; saved 280 to outputs/patches/Her2Neg_Case_44\n",
      "Processing slide: data/Yale_HER2_cohort/SVS/Her2Neg_Case_45.svs with annotation: /media/thanakornbuath/Phone SSD/her2-attention-classifier/data/Yale_HER2_cohort/Annotations/Her2Neg_Case_45.xml\n",
      "Mask shape: (28282, 27608)\n",
      "Loaded WSI backend: cucim\n"
     ]
    },
    {
     "name": "stderr",
     "output_type": "stream",
     "text": [
      "Processing slides:  10%|▉         | 45/471 [05:15<40:57,  5.77s/it]"
     ]
    },
    {
     "name": "stdout",
     "output_type": "stream",
     "text": [
      "Extracted 41 patches from data/Yale_HER2_cohort/SVS/Her2Neg_Case_45.svs; saved 41 to outputs/patches/Her2Neg_Case_45\n",
      "Processing slide: data/Yale_HER2_cohort/SVS/Her2Neg_Case_46.svs with annotation: /media/thanakornbuath/Phone SSD/her2-attention-classifier/data/Yale_HER2_cohort/Annotations/Her2Neg_Case_46.xml\n",
      "Mask shape: (28199, 23800)\n",
      "Loaded WSI backend: cucim\n"
     ]
    },
    {
     "name": "stderr",
     "output_type": "stream",
     "text": [
      "Processing slides:  10%|▉         | 46/471 [05:18<33:55,  4.79s/it]"
     ]
    },
    {
     "name": "stdout",
     "output_type": "stream",
     "text": [
      "Extracted 58 patches from data/Yale_HER2_cohort/SVS/Her2Neg_Case_46.svs; saved 58 to outputs/patches/Her2Neg_Case_46\n",
      "Processing slide: data/Yale_HER2_cohort/SVS/Her2Neg_Case_47.svs with annotation: /media/thanakornbuath/Phone SSD/her2-attention-classifier/data/Yale_HER2_cohort/Annotations/Her2Neg_Case_47.xml\n",
      "Mask shape: (39520, 46648)\n",
      "Loaded WSI backend: cucim\n"
     ]
    },
    {
     "name": "stderr",
     "output_type": "stream",
     "text": [
      "Processing slides:  10%|▉         | 47/471 [05:42<1:14:53, 10.60s/it]"
     ]
    },
    {
     "name": "stdout",
     "output_type": "stream",
     "text": [
      "Extracted 708 patches from data/Yale_HER2_cohort/SVS/Her2Neg_Case_47.svs; saved 708 to outputs/patches/Her2Neg_Case_47\n",
      "Processing slide: data/Yale_HER2_cohort/SVS/Her2Neg_Case_48.svs with annotation: /media/thanakornbuath/Phone SSD/her2-attention-classifier/data/Yale_HER2_cohort/Annotations/Her2Neg_Case_48.xml\n",
      "Mask shape: (22294, 24752)\n",
      "Loaded WSI backend: cucim\n"
     ]
    },
    {
     "name": "stderr",
     "output_type": "stream",
     "text": [
      "Processing slides:  10%|█         | 48/471 [05:52<1:13:51, 10.48s/it]"
     ]
    },
    {
     "name": "stdout",
     "output_type": "stream",
     "text": [
      "Extracted 233 patches from data/Yale_HER2_cohort/SVS/Her2Neg_Case_48.svs; saved 233 to outputs/patches/Her2Neg_Case_48\n",
      "Processing slide: data/Yale_HER2_cohort/SVS/Her2Neg_Case_49.svs with annotation: /media/thanakornbuath/Phone SSD/her2-attention-classifier/data/Yale_HER2_cohort/Annotations/Her2Neg_Case_49.xml\n",
      "Mask shape: (41406, 36176)\n",
      "Loaded WSI backend: cucim\n"
     ]
    },
    {
     "name": "stderr",
     "output_type": "stream",
     "text": [
      "Processing slides:  10%|█         | 49/471 [06:05<1:18:13, 11.12s/it]"
     ]
    },
    {
     "name": "stdout",
     "output_type": "stream",
     "text": [
      "Extracted 323 patches from data/Yale_HER2_cohort/SVS/Her2Neg_Case_49.svs; saved 323 to outputs/patches/Her2Neg_Case_49\n",
      "Processing slide: data/Yale_HER2_cohort/SVS/Her2Neg_Case_50.svs with annotation: /media/thanakornbuath/Phone SSD/her2-attention-classifier/data/Yale_HER2_cohort/Annotations/Her2Neg_Case_50.xml\n",
      "Mask shape: (21227, 18088)\n",
      "Loaded WSI backend: cucim\n"
     ]
    },
    {
     "name": "stderr",
     "output_type": "stream",
     "text": [
      "Processing slides:  11%|█         | 50/471 [06:10<1:06:50,  9.53s/it]"
     ]
    },
    {
     "name": "stdout",
     "output_type": "stream",
     "text": [
      "Extracted 158 patches from data/Yale_HER2_cohort/SVS/Her2Neg_Case_50.svs; saved 158 to outputs/patches/Her2Neg_Case_50\n",
      "Processing slide: data/Yale_HER2_cohort/SVS/Her2Neg_Case_51.svs with annotation: /media/thanakornbuath/Phone SSD/her2-attention-classifier/data/Yale_HER2_cohort/Annotations/Her2Neg_Case_51.xml\n",
      "Mask shape: (21393, 39032)\n",
      "Loaded WSI backend: cucim\n"
     ]
    },
    {
     "name": "stderr",
     "output_type": "stream",
     "text": [
      "Processing slides:  11%|█         | 51/471 [06:24<1:16:04, 10.87s/it]"
     ]
    },
    {
     "name": "stdout",
     "output_type": "stream",
     "text": [
      "Extracted 353 patches from data/Yale_HER2_cohort/SVS/Her2Neg_Case_51.svs; saved 353 to outputs/patches/Her2Neg_Case_51\n",
      "Processing slide: data/Yale_HER2_cohort/SVS/Her2Neg_Case_52.svs with annotation: /media/thanakornbuath/Phone SSD/her2-attention-classifier/data/Yale_HER2_cohort/Annotations/Her2Neg_Case_52.xml\n",
      "Mask shape: (24265, 59024)\n",
      "Loaded WSI backend: cucim\n"
     ]
    },
    {
     "name": "stderr",
     "output_type": "stream",
     "text": [
      "Processing slides:  11%|█         | 52/471 [06:27<57:49,  8.28s/it]  "
     ]
    },
    {
     "name": "stdout",
     "output_type": "stream",
     "text": [
      "Extracted 36 patches from data/Yale_HER2_cohort/SVS/Her2Neg_Case_52.svs; saved 36 to outputs/patches/Her2Neg_Case_52\n",
      "Processing slide: data/Yale_HER2_cohort/SVS/Her2Neg_Case_53.svs with annotation: /media/thanakornbuath/Phone SSD/her2-attention-classifier/data/Yale_HER2_cohort/Annotations/Her2Neg_Case_53.xml\n",
      "Mask shape: (33778, 30464)\n",
      "Loaded WSI backend: cucim\n"
     ]
    },
    {
     "name": "stderr",
     "output_type": "stream",
     "text": [
      "Processing slides:  11%|█▏        | 53/471 [06:29<45:33,  6.54s/it]"
     ]
    },
    {
     "name": "stdout",
     "output_type": "stream",
     "text": [
      "Extracted 57 patches from data/Yale_HER2_cohort/SVS/Her2Neg_Case_53.svs; saved 57 to outputs/patches/Her2Neg_Case_53\n",
      "Processing slide: data/Yale_HER2_cohort/SVS/Her2Neg_Case_54.svs with annotation: /media/thanakornbuath/Phone SSD/her2-attention-classifier/data/Yale_HER2_cohort/Annotations/Her2Neg_Case_54.xml\n",
      "Mask shape: (30824, 21896)\n",
      "Loaded WSI backend: cucim\n"
     ]
    },
    {
     "name": "stderr",
     "output_type": "stream",
     "text": [
      "Processing slides:  11%|█▏        | 54/471 [06:33<40:29,  5.83s/it]"
     ]
    },
    {
     "name": "stdout",
     "output_type": "stream",
     "text": [
      "Extracted 103 patches from data/Yale_HER2_cohort/SVS/Her2Neg_Case_54.svs; saved 103 to outputs/patches/Her2Neg_Case_54\n",
      "Processing slide: data/Yale_HER2_cohort/SVS/Her2Neg_Case_55.svs with annotation: /media/thanakornbuath/Phone SSD/her2-attention-classifier/data/Yale_HER2_cohort/Annotations/Her2Neg_Case_55.xml\n",
      "Mask shape: (38044, 49504)\n",
      "Loaded WSI backend: cucim\n"
     ]
    },
    {
     "name": "stderr",
     "output_type": "stream",
     "text": [
      "Processing slides:  12%|█▏        | 55/471 [06:50<1:03:34,  9.17s/it]"
     ]
    },
    {
     "name": "stdout",
     "output_type": "stream",
     "text": [
      "Extracted 488 patches from data/Yale_HER2_cohort/SVS/Her2Neg_Case_55.svs; saved 488 to outputs/patches/Her2Neg_Case_55\n",
      "Processing slide: data/Yale_HER2_cohort/SVS/Her2Neg_Case_56.svs with annotation: /media/thanakornbuath/Phone SSD/her2-attention-classifier/data/Yale_HER2_cohort/Annotations/Her2Neg_Case_56.xml\n",
      "Mask shape: (32796, 66640)\n",
      "Loaded WSI backend: cucim\n"
     ]
    },
    {
     "name": "stderr",
     "output_type": "stream",
     "text": [
      "Processing slides:  12%|█▏        | 56/471 [06:57<58:43,  8.49s/it]  "
     ]
    },
    {
     "name": "stdout",
     "output_type": "stream",
     "text": [
      "Extracted 110 patches from data/Yale_HER2_cohort/SVS/Her2Neg_Case_56.svs; saved 110 to outputs/patches/Her2Neg_Case_56\n",
      "Processing slide: data/Yale_HER2_cohort/SVS/Her2Neg_Case_57.svs with annotation: /media/thanakornbuath/Phone SSD/her2-attention-classifier/data/Yale_HER2_cohort/Annotations/Her2Neg_Case_57.xml\n",
      "Mask shape: (30661, 29512)\n",
      "Loaded WSI backend: cucim\n"
     ]
    },
    {
     "name": "stderr",
     "output_type": "stream",
     "text": [
      "Processing slides:  12%|█▏        | 57/471 [07:08<1:03:48,  9.25s/it]"
     ]
    },
    {
     "name": "stdout",
     "output_type": "stream",
     "text": [
      "Extracted 234 patches from data/Yale_HER2_cohort/SVS/Her2Neg_Case_57.svs; saved 234 to outputs/patches/Her2Neg_Case_57\n",
      "Processing slide: data/Yale_HER2_cohort/SVS/Her2Neg_Case_58.svs with annotation: /media/thanakornbuath/Phone SSD/her2-attention-classifier/data/Yale_HER2_cohort/Annotations/Her2Neg_Case_58.xml\n",
      "Mask shape: (34845, 39984)\n",
      "Loaded WSI backend: cucim\n"
     ]
    },
    {
     "name": "stderr",
     "output_type": "stream",
     "text": [
      "Processing slides:  12%|█▏        | 58/471 [07:16<1:01:13,  8.89s/it]"
     ]
    },
    {
     "name": "stdout",
     "output_type": "stream",
     "text": [
      "Extracted 141 patches from data/Yale_HER2_cohort/SVS/Her2Neg_Case_58.svs; saved 141 to outputs/patches/Her2Neg_Case_58\n",
      "Processing slide: data/Yale_HER2_cohort/SVS/Her2Neg_Case_59.svs with annotation: /media/thanakornbuath/Phone SSD/her2-attention-classifier/data/Yale_HER2_cohort/Annotations/Her2Neg_Case_59.xml\n",
      "Mask shape: (17208, 19040)\n",
      "Loaded WSI backend: cucim\n"
     ]
    },
    {
     "name": "stderr",
     "output_type": "stream",
     "text": [
      "Processing slides:  13%|█▎        | 59/471 [07:22<54:29,  7.94s/it]  "
     ]
    },
    {
     "name": "stdout",
     "output_type": "stream",
     "text": [
      "Extracted 159 patches from data/Yale_HER2_cohort/SVS/Her2Neg_Case_59.svs; saved 159 to outputs/patches/Her2Neg_Case_59\n",
      "Processing slide: data/Yale_HER2_cohort/SVS/Her2Neg_Case_60.svs with annotation: /media/thanakornbuath/Phone SSD/her2-attention-classifier/data/Yale_HER2_cohort/Annotations/Her2Neg_Case_60.xml\n",
      "Mask shape: (23774, 69496)\n",
      "Loaded WSI backend: cucim\n"
     ]
    },
    {
     "name": "stderr",
     "output_type": "stream",
     "text": [
      "Processing slides:  13%|█▎        | 60/471 [07:27<49:21,  7.21s/it]"
     ]
    },
    {
     "name": "stdout",
     "output_type": "stream",
     "text": [
      "Extracted 127 patches from data/Yale_HER2_cohort/SVS/Her2Neg_Case_60.svs; saved 127 to outputs/patches/Her2Neg_Case_60\n",
      "Processing slide: data/Yale_HER2_cohort/SVS/Her2Neg_Case_61.svs with annotation: /media/thanakornbuath/Phone SSD/her2-attention-classifier/data/Yale_HER2_cohort/Annotations/Her2Neg_Case_61.xml\n",
      "Mask shape: (31974, 40936)\n",
      "Loaded WSI backend: cucim\n"
     ]
    },
    {
     "name": "stderr",
     "output_type": "stream",
     "text": [
      "Processing slides:  13%|█▎        | 61/471 [07:42<1:04:14,  9.40s/it]"
     ]
    },
    {
     "name": "stdout",
     "output_type": "stream",
     "text": [
      "Extracted 351 patches from data/Yale_HER2_cohort/SVS/Her2Neg_Case_61.svs; saved 351 to outputs/patches/Her2Neg_Case_61\n",
      "Processing slide: data/Yale_HER2_cohort/SVS/Her2Neg_Case_62.svs with annotation: /media/thanakornbuath/Phone SSD/her2-attention-classifier/data/Yale_HER2_cohort/Annotations/Her2Neg_Case_62.xml\n",
      "Mask shape: (28692, 33320)\n",
      "Loaded WSI backend: cucim\n"
     ]
    },
    {
     "name": "stderr",
     "output_type": "stream",
     "text": [
      "Processing slides:  13%|█▎        | 62/471 [07:45<51:41,  7.58s/it]  "
     ]
    },
    {
     "name": "stdout",
     "output_type": "stream",
     "text": [
      "Extracted 75 patches from data/Yale_HER2_cohort/SVS/Her2Neg_Case_62.svs; saved 75 to outputs/patches/Her2Neg_Case_62\n",
      "Processing slide: data/Yale_HER2_cohort/SVS/Her2Neg_Case_63.svs with annotation: /media/thanakornbuath/Phone SSD/her2-attention-classifier/data/Yale_HER2_cohort/Annotations/Her2Neg_Case_63.xml\n",
      "Mask shape: (30988, 18088)\n",
      "Loaded WSI backend: cucim\n"
     ]
    },
    {
     "name": "stderr",
     "output_type": "stream",
     "text": [
      "Processing slides:  13%|█▎        | 63/471 [07:49<44:10,  6.50s/it]"
     ]
    },
    {
     "name": "stdout",
     "output_type": "stream",
     "text": [
      "Extracted 105 patches from data/Yale_HER2_cohort/SVS/Her2Neg_Case_63.svs; saved 105 to outputs/patches/Her2Neg_Case_63\n",
      "Processing slide: data/Yale_HER2_cohort/SVS/Her2Neg_Case_64.svs with annotation: /media/thanakornbuath/Phone SSD/her2-attention-classifier/data/Yale_HER2_cohort/Annotations/Her2Neg_Case_64.xml\n",
      "Mask shape: (28202, 61880)\n",
      "Loaded WSI backend: cucim\n"
     ]
    },
    {
     "name": "stderr",
     "output_type": "stream",
     "text": [
      "Processing slides:  14%|█▎        | 64/471 [08:10<1:12:38, 10.71s/it]"
     ]
    },
    {
     "name": "stdout",
     "output_type": "stream",
     "text": [
      "Extracted 521 patches from data/Yale_HER2_cohort/SVS/Her2Neg_Case_64.svs; saved 521 to outputs/patches/Her2Neg_Case_64\n",
      "Processing slide: data/Yale_HER2_cohort/SVS/Her2Neg_Case_65.svs with annotation: /media/thanakornbuath/Phone SSD/her2-attention-classifier/data/Yale_HER2_cohort/Annotations/Her2Neg_Case_65.xml\n",
      "Mask shape: (9416, 17136)\n",
      "Loaded WSI backend: cucim\n"
     ]
    },
    {
     "name": "stderr",
     "output_type": "stream",
     "text": [
      "Processing slides:  14%|█▍        | 65/471 [08:12<55:22,  8.18s/it]  "
     ]
    },
    {
     "name": "stdout",
     "output_type": "stream",
     "text": [
      "Extracted 54 patches from data/Yale_HER2_cohort/SVS/Her2Neg_Case_65.svs; saved 54 to outputs/patches/Her2Neg_Case_65\n",
      "Processing slide: data/Yale_HER2_cohort/SVS/Her2Neg_Case_66.svs with annotation: /media/thanakornbuath/Phone SSD/her2-attention-classifier/data/Yale_HER2_cohort/Annotations/Her2Neg_Case_66.xml\n",
      "Mask shape: (28695, 73304)\n",
      "Loaded WSI backend: cucim\n"
     ]
    },
    {
     "name": "stderr",
     "output_type": "stream",
     "text": [
      "Processing slides:  14%|█▍        | 66/471 [08:35<1:25:59, 12.74s/it]"
     ]
    },
    {
     "name": "stdout",
     "output_type": "stream",
     "text": [
      "Extracted 524 patches from data/Yale_HER2_cohort/SVS/Her2Neg_Case_66.svs; saved 524 to outputs/patches/Her2Neg_Case_66\n",
      "Processing slide: data/Yale_HER2_cohort/SVS/Her2Neg_Case_67.svs with annotation: /media/thanakornbuath/Phone SSD/her2-attention-classifier/data/Yale_HER2_cohort/Annotations/Her2Neg_Case_67.xml\n",
      "Mask shape: (32958, 33320)\n",
      "Loaded WSI backend: cucim\n"
     ]
    },
    {
     "name": "stderr",
     "output_type": "stream",
     "text": [
      "Processing slides:  14%|█▍        | 67/471 [08:40<1:09:28, 10.32s/it]"
     ]
    },
    {
     "name": "stdout",
     "output_type": "stream",
     "text": [
      "Extracted 111 patches from data/Yale_HER2_cohort/SVS/Her2Neg_Case_67.svs; saved 111 to outputs/patches/Her2Neg_Case_67\n",
      "Processing slide: data/Yale_HER2_cohort/SVS/Her2Neg_Case_68.svs with annotation: /media/thanakornbuath/Phone SSD/her2-attention-classifier/data/Yale_HER2_cohort/Annotations/Her2Neg_Case_68.xml\n",
      "Mask shape: (30907, 34272)\n",
      "Loaded WSI backend: cucim\n"
     ]
    },
    {
     "name": "stderr",
     "output_type": "stream",
     "text": [
      "Processing slides:  14%|█▍        | 68/471 [08:48<1:05:13,  9.71s/it]"
     ]
    },
    {
     "name": "stdout",
     "output_type": "stream",
     "text": [
      "Extracted 172 patches from data/Yale_HER2_cohort/SVS/Her2Neg_Case_68.svs; saved 172 to outputs/patches/Her2Neg_Case_68\n",
      "Processing slide: data/Yale_HER2_cohort/SVS/Her2Neg_Case_69.svs with annotation: /media/thanakornbuath/Phone SSD/her2-attention-classifier/data/Yale_HER2_cohort/Annotations/Her2Neg_Case_69.xml\n",
      "Mask shape: (19916, 33320)\n",
      "Loaded WSI backend: cucim\n"
     ]
    },
    {
     "name": "stderr",
     "output_type": "stream",
     "text": [
      "Processing slides:  15%|█▍        | 69/471 [09:11<1:31:22, 13.64s/it]"
     ]
    },
    {
     "name": "stdout",
     "output_type": "stream",
     "text": [
      "Extracted 620 patches from data/Yale_HER2_cohort/SVS/Her2Neg_Case_69.svs; saved 620 to outputs/patches/Her2Neg_Case_69\n",
      "Processing slide: data/Yale_HER2_cohort/SVS/Her2Neg_Case_70.svs with annotation: /media/thanakornbuath/Phone SSD/her2-attention-classifier/data/Yale_HER2_cohort/Annotations/Her2Neg_Case_70.xml\n",
      "Mask shape: (23607, 28560)\n",
      "Loaded WSI backend: cucim\n"
     ]
    },
    {
     "name": "stderr",
     "output_type": "stream",
     "text": [
      "Processing slides:  15%|█▍        | 70/471 [09:21<1:24:18, 12.62s/it]"
     ]
    },
    {
     "name": "stdout",
     "output_type": "stream",
     "text": [
      "Extracted 249 patches from data/Yale_HER2_cohort/SVS/Her2Neg_Case_70.svs; saved 249 to outputs/patches/Her2Neg_Case_70\n",
      "Processing slide: data/Yale_HER2_cohort/SVS/Her2Neg_Case_71.svs with annotation: /media/thanakornbuath/Phone SSD/her2-attention-classifier/data/Yale_HER2_cohort/Annotations/Her2Neg_Case_71.xml\n",
      "Mask shape: (40341, 44744)\n",
      "Loaded WSI backend: cucim\n"
     ]
    },
    {
     "name": "stderr",
     "output_type": "stream",
     "text": [
      "Processing slides:  15%|█▌        | 71/471 [09:32<1:20:12, 12.03s/it]"
     ]
    },
    {
     "name": "stdout",
     "output_type": "stream",
     "text": [
      "Extracted 273 patches from data/Yale_HER2_cohort/SVS/Her2Neg_Case_71.svs; saved 273 to outputs/patches/Her2Neg_Case_71\n",
      "Processing slide: data/Yale_HER2_cohort/SVS/Her2Neg_Case_72.svs with annotation: /media/thanakornbuath/Phone SSD/her2-attention-classifier/data/Yale_HER2_cohort/Annotations/Her2Neg_Case_72.xml\n",
      "Mask shape: (29922, 29512)\n",
      "Loaded WSI backend: cucim\n"
     ]
    },
    {
     "name": "stderr",
     "output_type": "stream",
     "text": [
      "Processing slides:  15%|█▌        | 72/471 [09:39<1:10:00, 10.53s/it]"
     ]
    },
    {
     "name": "stdout",
     "output_type": "stream",
     "text": [
      "Extracted 169 patches from data/Yale_HER2_cohort/SVS/Her2Neg_Case_72.svs; saved 169 to outputs/patches/Her2Neg_Case_72\n",
      "Processing slide: data/Yale_HER2_cohort/SVS/Her2Neg_Case_73.svs with annotation: /media/thanakornbuath/Phone SSD/her2-attention-classifier/data/Yale_HER2_cohort/Annotations/Her2Neg_Case_73.xml\n",
      "Mask shape: (21720, 23800)\n",
      "Loaded WSI backend: cucim\n"
     ]
    },
    {
     "name": "stderr",
     "output_type": "stream",
     "text": [
      "Processing slides:  15%|█▌        | 73/471 [09:43<56:31,  8.52s/it]  "
     ]
    },
    {
     "name": "stdout",
     "output_type": "stream",
     "text": [
      "Extracted 94 patches from data/Yale_HER2_cohort/SVS/Her2Neg_Case_73.svs; saved 94 to outputs/patches/Her2Neg_Case_73\n",
      "Processing slide: data/Yale_HER2_cohort/SVS/Her2Neg_Case_74.svs with annotation: /media/thanakornbuath/Phone SSD/her2-attention-classifier/data/Yale_HER2_cohort/Annotations/Her2Neg_Case_74.xml\n",
      "Mask shape: (30578, 27608)\n",
      "Loaded WSI backend: cucim\n"
     ]
    },
    {
     "name": "stderr",
     "output_type": "stream",
     "text": [
      "Processing slides:  16%|█▌        | 74/471 [09:48<50:10,  7.58s/it]"
     ]
    },
    {
     "name": "stdout",
     "output_type": "stream",
     "text": [
      "Extracted 112 patches from data/Yale_HER2_cohort/SVS/Her2Neg_Case_74.svs; saved 112 to outputs/patches/Her2Neg_Case_74\n",
      "Processing slide: data/Yale_HER2_cohort/SVS/Her2Neg_Case_75.svs with annotation: /media/thanakornbuath/Phone SSD/her2-attention-classifier/data/Yale_HER2_cohort/Annotations/Her2Neg_Case_75.xml\n",
      "Mask shape: (38783, 54264)\n",
      "Loaded WSI backend: cucim\n"
     ]
    },
    {
     "name": "stderr",
     "output_type": "stream",
     "text": [
      "Processing slides:  16%|█▌        | 75/471 [09:52<42:24,  6.42s/it]"
     ]
    },
    {
     "name": "stdout",
     "output_type": "stream",
     "text": [
      "Extracted 67 patches from data/Yale_HER2_cohort/SVS/Her2Neg_Case_75.svs; saved 67 to outputs/patches/Her2Neg_Case_75\n",
      "Processing slide: data/Yale_HER2_cohort/SVS/Her2Neg_Case_76.svs with annotation: /media/thanakornbuath/Phone SSD/her2-attention-classifier/data/Yale_HER2_cohort/Annotations/Her2Neg_Case_76.xml\n",
      "Mask shape: (34518, 53312)\n",
      "Loaded WSI backend: cucim\n"
     ]
    },
    {
     "name": "stderr",
     "output_type": "stream",
     "text": [
      "Processing slides:  16%|█▌        | 76/471 [10:09<1:03:03,  9.58s/it]"
     ]
    },
    {
     "name": "stdout",
     "output_type": "stream",
     "text": [
      "Extracted 407 patches from data/Yale_HER2_cohort/SVS/Her2Neg_Case_76.svs; saved 407 to outputs/patches/Her2Neg_Case_76\n",
      "Processing slide: data/Yale_HER2_cohort/SVS/Her2Neg_Case_77.svs with annotation: /media/thanakornbuath/Phone SSD/her2-attention-classifier/data/Yale_HER2_cohort/Annotations/Her2Neg_Case_77.xml\n",
      "Mask shape: (23033, 32368)\n",
      "Loaded WSI backend: cucim\n"
     ]
    },
    {
     "name": "stderr",
     "output_type": "stream",
     "text": [
      "Processing slides:  16%|█▋        | 77/471 [10:20<1:05:53, 10.04s/it]"
     ]
    },
    {
     "name": "stdout",
     "output_type": "stream",
     "text": [
      "Extracted 271 patches from data/Yale_HER2_cohort/SVS/Her2Neg_Case_77.svs; saved 271 to outputs/patches/Her2Neg_Case_77\n",
      "Processing slide: data/Yale_HER2_cohort/SVS/Her2Neg_Case_78.svs with annotation: /media/thanakornbuath/Phone SSD/her2-attention-classifier/data/Yale_HER2_cohort/Annotations/Her2Neg_Case_78.xml\n",
      "Mask shape: (25165, 31416)\n",
      "Loaded WSI backend: cucim\n"
     ]
    },
    {
     "name": "stderr",
     "output_type": "stream",
     "text": [
      "Processing slides:  17%|█▋        | 78/471 [10:23<50:48,  7.76s/it]  "
     ]
    },
    {
     "name": "stdout",
     "output_type": "stream",
     "text": [
      "Extracted 54 patches from data/Yale_HER2_cohort/SVS/Her2Neg_Case_78.svs; saved 54 to outputs/patches/Her2Neg_Case_78\n",
      "Processing slide: data/Yale_HER2_cohort/SVS/Her2Neg_Case_79.svs with annotation: /media/thanakornbuath/Phone SSD/her2-attention-classifier/data/Yale_HER2_cohort/Annotations/Her2Neg_Case_79.xml\n",
      "Mask shape: (14419, 20944)\n",
      "Loaded WSI backend: cucim\n"
     ]
    },
    {
     "name": "stderr",
     "output_type": "stream",
     "text": [
      "Processing slides:  17%|█▋        | 79/471 [10:27<43:45,  6.70s/it]"
     ]
    },
    {
     "name": "stdout",
     "output_type": "stream",
     "text": [
      "Extracted 114 patches from data/Yale_HER2_cohort/SVS/Her2Neg_Case_79.svs; saved 114 to outputs/patches/Her2Neg_Case_79\n",
      "Processing slide: data/Yale_HER2_cohort/SVS/Her2Neg_Case_80.svs with annotation: /media/thanakornbuath/Phone SSD/her2-attention-classifier/data/Yale_HER2_cohort/Annotations/Her2Neg_Case_80.xml\n",
      "Mask shape: (22048, 24752)\n",
      "Loaded WSI backend: cucim\n"
     ]
    },
    {
     "name": "stderr",
     "output_type": "stream",
     "text": [
      "Processing slides:  17%|█▋        | 80/471 [10:33<43:17,  6.64s/it]"
     ]
    },
    {
     "name": "stdout",
     "output_type": "stream",
     "text": [
      "Extracted 146 patches from data/Yale_HER2_cohort/SVS/Her2Neg_Case_80.svs; saved 146 to outputs/patches/Her2Neg_Case_80\n",
      "Processing slide: data/Yale_HER2_cohort/SVS/Her2Neg_Case_81.svs with annotation: /media/thanakornbuath/Phone SSD/her2-attention-classifier/data/Yale_HER2_cohort/Annotations/Her2Neg_Case_81.xml\n",
      "Mask shape: (26641, 22848)\n",
      "Loaded WSI backend: cucim\n"
     ]
    },
    {
     "name": "stderr",
     "output_type": "stream",
     "text": [
      "Processing slides:  17%|█▋        | 81/471 [10:44<50:54,  7.83s/it]"
     ]
    },
    {
     "name": "stdout",
     "output_type": "stream",
     "text": [
      "Extracted 217 patches from data/Yale_HER2_cohort/SVS/Her2Neg_Case_81.svs; saved 217 to outputs/patches/Her2Neg_Case_81\n",
      "Processing slide: data/Yale_HER2_cohort/SVS/Her2Neg_Case_82.svs with annotation: /media/thanakornbuath/Phone SSD/her2-attention-classifier/data/Yale_HER2_cohort/Annotations/Her2Neg_Case_82.xml\n",
      "Mask shape: (15075, 19040)\n",
      "Loaded WSI backend: cucim\n"
     ]
    },
    {
     "name": "stderr",
     "output_type": "stream",
     "text": [
      "Processing slides:  17%|█▋        | 82/471 [10:50<48:16,  7.45s/it]"
     ]
    },
    {
     "name": "stdout",
     "output_type": "stream",
     "text": [
      "Extracted 175 patches from data/Yale_HER2_cohort/SVS/Her2Neg_Case_82.svs; saved 175 to outputs/patches/Her2Neg_Case_82\n",
      "Processing slide: data/Yale_HER2_cohort/SVS/Her2Neg_Case_83.svs with annotation: /media/thanakornbuath/Phone SSD/her2-attention-classifier/data/Yale_HER2_cohort/Annotations/Her2Neg_Case_83.xml\n",
      "Mask shape: (41243, 46648)\n",
      "Loaded WSI backend: cucim\n"
     ]
    },
    {
     "name": "stderr",
     "output_type": "stream",
     "text": [
      "Processing slides:  18%|█▊        | 83/471 [10:57<46:05,  7.13s/it]"
     ]
    },
    {
     "name": "stdout",
     "output_type": "stream",
     "text": [
      "Extracted 118 patches from data/Yale_HER2_cohort/SVS/Her2Neg_Case_83.svs; saved 118 to outputs/patches/Her2Neg_Case_83\n",
      "Processing slide: data/Yale_HER2_cohort/SVS/Her2Neg_Case_84.svs with annotation: /media/thanakornbuath/Phone SSD/her2-attention-classifier/data/Yale_HER2_cohort/Annotations/Her2Neg_Case_84.xml\n",
      "Mask shape: (18111, 28560)\n",
      "Loaded WSI backend: cucim\n"
     ]
    },
    {
     "name": "stderr",
     "output_type": "stream",
     "text": [
      "Processing slides:  18%|█▊        | 84/471 [11:00<38:29,  5.97s/it]"
     ]
    },
    {
     "name": "stdout",
     "output_type": "stream",
     "text": [
      "Extracted 77 patches from data/Yale_HER2_cohort/SVS/Her2Neg_Case_84.svs; saved 77 to outputs/patches/Her2Neg_Case_84\n",
      "Processing slide: data/Yale_HER2_cohort/SVS/Her2Neg_Case_85.svs with annotation: /media/thanakornbuath/Phone SSD/her2-attention-classifier/data/Yale_HER2_cohort/Annotations/Her2Neg_Case_85.xml\n",
      "Mask shape: (42064, 52360)\n",
      "Loaded WSI backend: cucim\n"
     ]
    },
    {
     "name": "stderr",
     "output_type": "stream",
     "text": [
      "Processing slides:  18%|█▊        | 85/471 [11:23<1:11:38, 11.13s/it]"
     ]
    },
    {
     "name": "stdout",
     "output_type": "stream",
     "text": [
      "Extracted 638 patches from data/Yale_HER2_cohort/SVS/Her2Neg_Case_85.svs; saved 638 to outputs/patches/Her2Neg_Case_85\n",
      "Processing slide: data/Yale_HER2_cohort/SVS/Her2Neg_Case_86.svs with annotation: /media/thanakornbuath/Phone SSD/her2-attention-classifier/data/Yale_HER2_cohort/Annotations/Her2Neg_Case_86.xml\n",
      "Mask shape: (27790, 28560)\n",
      "Loaded WSI backend: cucim\n"
     ]
    },
    {
     "name": "stderr",
     "output_type": "stream",
     "text": [
      "Processing slides:  18%|█▊        | 86/471 [11:28<59:07,  9.21s/it]  "
     ]
    },
    {
     "name": "stdout",
     "output_type": "stream",
     "text": [
      "Extracted 126 patches from data/Yale_HER2_cohort/SVS/Her2Neg_Case_86.svs; saved 126 to outputs/patches/Her2Neg_Case_86\n",
      "Processing slide: data/Yale_HER2_cohort/SVS/Her2Neg_Case_87.svs with annotation: /media/thanakornbuath/Phone SSD/her2-attention-classifier/data/Yale_HER2_cohort/Annotations/Her2Neg_Case_87.xml\n",
      "Mask shape: (35255, 47600)\n",
      "Loaded WSI backend: cucim\n"
     ]
    },
    {
     "name": "stderr",
     "output_type": "stream",
     "text": [
      "Processing slides:  18%|█▊        | 87/471 [11:33<51:13,  8.00s/it]"
     ]
    },
    {
     "name": "stdout",
     "output_type": "stream",
     "text": [
      "Extracted 112 patches from data/Yale_HER2_cohort/SVS/Her2Neg_Case_87.svs; saved 112 to outputs/patches/Her2Neg_Case_87\n",
      "Processing slide: data/Yale_HER2_cohort/SVS/Her2Neg_Case_88.svs with annotation: /media/thanakornbuath/Phone SSD/her2-attention-classifier/data/Yale_HER2_cohort/Annotations/Her2Neg_Case_88.xml\n",
      "Mask shape: (32221, 56168)\n",
      "Loaded WSI backend: cucim\n"
     ]
    },
    {
     "name": "stderr",
     "output_type": "stream",
     "text": [
      "Processing slides:  19%|█▊        | 88/471 [11:52<1:10:54, 11.11s/it]"
     ]
    },
    {
     "name": "stdout",
     "output_type": "stream",
     "text": [
      "Extracted 405 patches from data/Yale_HER2_cohort/SVS/Her2Neg_Case_88.svs; saved 405 to outputs/patches/Her2Neg_Case_88\n",
      "Processing slide: data/Yale_HER2_cohort/SVS/Her2Neg_Case_89.svs with annotation: /media/thanakornbuath/Phone SSD/her2-attention-classifier/data/Yale_HER2_cohort/Annotations/Her2Neg_Case_89.xml\n",
      "Mask shape: (32712, 44744)\n",
      "Loaded WSI backend: cucim\n"
     ]
    },
    {
     "name": "stderr",
     "output_type": "stream",
     "text": [
      "Processing slides:  19%|█▉        | 89/471 [11:58<1:02:43,  9.85s/it]"
     ]
    },
    {
     "name": "stdout",
     "output_type": "stream",
     "text": [
      "Extracted 141 patches from data/Yale_HER2_cohort/SVS/Her2Neg_Case_89.svs; saved 141 to outputs/patches/Her2Neg_Case_89\n",
      "Processing slide: data/Yale_HER2_cohort/SVS/Her2Neg_Case_90.svs with annotation: /media/thanakornbuath/Phone SSD/her2-attention-classifier/data/Yale_HER2_cohort/Annotations/Her2Neg_Case_90.xml\n",
      "Mask shape: (23279, 35224)\n",
      "Loaded WSI backend: cucim\n"
     ]
    },
    {
     "name": "stderr",
     "output_type": "stream",
     "text": [
      "Processing slides:  19%|█▉        | 90/471 [12:11<1:08:17, 10.75s/it]"
     ]
    },
    {
     "name": "stdout",
     "output_type": "stream",
     "text": [
      "Extracted 310 patches from data/Yale_HER2_cohort/SVS/Her2Neg_Case_90.svs; saved 310 to outputs/patches/Her2Neg_Case_90\n",
      "Processing slide: data/Yale_HER2_cohort/SVS/Her2Neg_Case_91.svs with annotation: /media/thanakornbuath/Phone SSD/her2-attention-classifier/data/Yale_HER2_cohort/Annotations/Her2Neg_Case_91.xml\n",
      "Mask shape: (19095, 30464)\n",
      "Loaded WSI backend: cucim\n"
     ]
    },
    {
     "name": "stderr",
     "output_type": "stream",
     "text": [
      "Processing slides:  19%|█▉        | 91/471 [12:22<1:07:49, 10.71s/it]"
     ]
    },
    {
     "name": "stdout",
     "output_type": "stream",
     "text": [
      "Extracted 288 patches from data/Yale_HER2_cohort/SVS/Her2Neg_Case_91.svs; saved 288 to outputs/patches/Her2Neg_Case_91\n",
      "Processing slide: data/Yale_HER2_cohort/SVS/Her2Neg_Case_92.svs with annotation: /media/thanakornbuath/Phone SSD/her2-attention-classifier/data/Yale_HER2_cohort/Annotations/Her2Neg_Case_92.xml\n",
      "Mask shape: (26067, 28560)\n",
      "Loaded WSI backend: cucim\n"
     ]
    },
    {
     "name": "stderr",
     "output_type": "stream",
     "text": [
      "Processing slides:  20%|█▉        | 92/471 [12:37<1:15:44, 11.99s/it]"
     ]
    },
    {
     "name": "stdout",
     "output_type": "stream",
     "text": [
      "Extracted 321 patches from data/Yale_HER2_cohort/SVS/Her2Neg_Case_92.svs; saved 321 to outputs/patches/Her2Neg_Case_92\n",
      "Processing slide: data/Yale_HER2_cohort/SVS/Her2Neg_Case_93.svs with annotation: /media/thanakornbuath/Phone SSD/her2-attention-classifier/data/Yale_HER2_cohort/Annotations/Her2Neg_Case_93.xml\n",
      "Mask shape: (24592, 39032)\n",
      "Loaded WSI backend: cucim\n"
     ]
    },
    {
     "name": "stderr",
     "output_type": "stream",
     "text": [
      "Processing slides:  20%|█▉        | 93/471 [12:40<57:45,  9.17s/it]  "
     ]
    },
    {
     "name": "stdout",
     "output_type": "stream",
     "text": [
      "Extracted 46 patches from data/Yale_HER2_cohort/SVS/Her2Neg_Case_93.svs; saved 46 to outputs/patches/Her2Neg_Case_93\n",
      "Processing slide: data/Yale_HER2_cohort/SVS/Her2Neg_Case_94.svs with annotation: /media/thanakornbuath/Phone SSD/her2-attention-classifier/data/Yale_HER2_cohort/Annotations/Her2Neg_Case_94.xml\n",
      "Mask shape: (28364, 27608)\n",
      "Loaded WSI backend: cucim\n"
     ]
    },
    {
     "name": "stderr",
     "output_type": "stream",
     "text": [
      "Processing slides:  20%|█▉        | 94/471 [12:46<53:22,  8.49s/it]"
     ]
    },
    {
     "name": "stdout",
     "output_type": "stream",
     "text": [
      "Extracted 142 patches from data/Yale_HER2_cohort/SVS/Her2Neg_Case_94.svs; saved 142 to outputs/patches/Her2Neg_Case_94\n",
      "Processing slide: data/Yale_HER2_cohort/SVS/Her2Neg_Case_95.svs with annotation: /media/thanakornbuath/Phone SSD/her2-attention-classifier/data/Yale_HER2_cohort/Annotations/Her2Neg_Case_95.xml\n",
      "Mask shape: (26970, 39984)\n",
      "Loaded WSI backend: cucim\n"
     ]
    },
    {
     "name": "stderr",
     "output_type": "stream",
     "text": [
      "Processing slides:  20%|██        | 95/471 [12:51<46:12,  7.37s/it]"
     ]
    },
    {
     "name": "stdout",
     "output_type": "stream",
     "text": [
      "Extracted 93 patches from data/Yale_HER2_cohort/SVS/Her2Neg_Case_95.svs; saved 93 to outputs/patches/Her2Neg_Case_95\n",
      "Processing slide: data/Yale_HER2_cohort/SVS/Her2Neg_Case_96.svs with annotation: /media/thanakornbuath/Phone SSD/her2-attention-classifier/data/Yale_HER2_cohort/Annotations/Her2Neg_Case_96.xml\n",
      "Mask shape: (29349, 36176)\n",
      "Loaded WSI backend: cucim\n"
     ]
    },
    {
     "name": "stderr",
     "output_type": "stream",
     "text": [
      "Processing slides:  20%|██        | 96/471 [13:04<56:09,  8.99s/it]"
     ]
    },
    {
     "name": "stdout",
     "output_type": "stream",
     "text": [
      "Extracted 305 patches from data/Yale_HER2_cohort/SVS/Her2Neg_Case_96.svs; saved 305 to outputs/patches/Her2Neg_Case_96\n",
      "Processing slide: data/Yale_HER2_cohort/SVS/Her2Neg_Case_97.svs with annotation: /media/thanakornbuath/Phone SSD/her2-attention-classifier/data/Yale_HER2_cohort/Annotations/Her2Neg_Case_97.xml\n",
      "Mask shape: (24509, 27608)\n",
      "Loaded WSI backend: cucim\n"
     ]
    },
    {
     "name": "stderr",
     "output_type": "stream",
     "text": [
      "Processing slides:  21%|██        | 97/471 [13:09<49:32,  7.95s/it]"
     ]
    },
    {
     "name": "stdout",
     "output_type": "stream",
     "text": [
      "Extracted 127 patches from data/Yale_HER2_cohort/SVS/Her2Neg_Case_97.svs; saved 127 to outputs/patches/Her2Neg_Case_97\n",
      "Processing slide: data/Yale_HER2_cohort/SVS/Her2Neg_Case_98.svs with annotation: /media/thanakornbuath/Phone SSD/her2-attention-classifier/data/Yale_HER2_cohort/Annotations/Her2Neg_Case_98.xml\n",
      "Mask shape: (15732, 21896)\n",
      "Loaded WSI backend: cucim\n"
     ]
    },
    {
     "name": "stderr",
     "output_type": "stream",
     "text": [
      "Processing slides:  21%|██        | 98/471 [13:13<41:44,  6.71s/it]"
     ]
    },
    {
     "name": "stdout",
     "output_type": "stream",
     "text": [
      "Extracted 83 patches from data/Yale_HER2_cohort/SVS/Her2Neg_Case_98.svs; saved 83 to outputs/patches/Her2Neg_Case_98\n",
      "Processing slide: data/Yale_HER2_cohort/SVS/Her2Neg_Case_99.svs with annotation: /media/thanakornbuath/Phone SSD/her2-attention-classifier/data/Yale_HER2_cohort/Annotations/Her2Neg_Case_99.xml\n",
      "Mask shape: (31809, 26656)\n",
      "Loaded WSI backend: cucim\n"
     ]
    },
    {
     "name": "stderr",
     "output_type": "stream",
     "text": [
      "Processing slides:  21%|██        | 99/471 [13:18<37:20,  6.02s/it]"
     ]
    },
    {
     "name": "stdout",
     "output_type": "stream",
     "text": [
      "Extracted 94 patches from data/Yale_HER2_cohort/SVS/Her2Neg_Case_99.svs; saved 94 to outputs/patches/Her2Neg_Case_99\n",
      "Processing slide: data/Yale_HER2_cohort/SVS/Her2Pos_Case_01.svs with annotation: /media/thanakornbuath/Phone SSD/her2-attention-classifier/data/Yale_HER2_cohort/Annotations/Her2Pos_Case_01.xml\n",
      "Mask shape: (25083, 23800)\n",
      "Loaded WSI backend: cucim\n"
     ]
    },
    {
     "name": "stderr",
     "output_type": "stream",
     "text": [
      "Processing slides:  21%|██        | 100/471 [13:24<38:25,  6.21s/it]"
     ]
    },
    {
     "name": "stdout",
     "output_type": "stream",
     "text": [
      "Extracted 162 patches from data/Yale_HER2_cohort/SVS/Her2Pos_Case_01.svs; saved 162 to outputs/patches/Her2Pos_Case_01\n",
      "Processing slide: data/Yale_HER2_cohort/SVS/Her2Pos_Case_02.svs with annotation: /media/thanakornbuath/Phone SSD/her2-attention-classifier/data/Yale_HER2_cohort/Annotations/Her2Pos_Case_02.xml\n",
      "Mask shape: (27052, 29512)\n",
      "Loaded WSI backend: cucim\n"
     ]
    },
    {
     "name": "stderr",
     "output_type": "stream",
     "text": [
      "Processing slides:  21%|██▏       | 101/471 [13:25<28:24,  4.61s/it]"
     ]
    },
    {
     "name": "stdout",
     "output_type": "stream",
     "text": [
      "Extracted 12 patches from data/Yale_HER2_cohort/SVS/Her2Pos_Case_02.svs; saved 12 to outputs/patches/Her2Pos_Case_02\n",
      "Processing slide: data/Yale_HER2_cohort/SVS/Her2Pos_Case_03.svs with annotation: /media/thanakornbuath/Phone SSD/her2-attention-classifier/data/Yale_HER2_cohort/Annotations/Her2Pos_Case_03.xml\n",
      "Mask shape: (17947, 26656)\n",
      "Loaded WSI backend: cucim\n"
     ]
    },
    {
     "name": "stderr",
     "output_type": "stream",
     "text": [
      "Processing slides:  22%|██▏       | 102/471 [13:36<39:42,  6.46s/it]"
     ]
    },
    {
     "name": "stdout",
     "output_type": "stream",
     "text": [
      "Extracted 292 patches from data/Yale_HER2_cohort/SVS/Her2Pos_Case_03.svs; saved 292 to outputs/patches/Her2Pos_Case_03\n",
      "Processing slide: data/Yale_HER2_cohort/SVS/Her2Pos_Case_04.svs with annotation: /media/thanakornbuath/Phone SSD/her2-attention-classifier/data/Yale_HER2_cohort/Annotations/Her2Pos_Case_04.xml\n",
      "Mask shape: (19915, 17136)\n",
      "Loaded WSI backend: cucim\n"
     ]
    },
    {
     "name": "stderr",
     "output_type": "stream",
     "text": [
      "Processing slides:  22%|██▏       | 103/471 [13:43<40:01,  6.53s/it]"
     ]
    },
    {
     "name": "stdout",
     "output_type": "stream",
     "text": [
      "Extracted 168 patches from data/Yale_HER2_cohort/SVS/Her2Pos_Case_04.svs; saved 168 to outputs/patches/Her2Pos_Case_04\n",
      "Processing slide: data/Yale_HER2_cohort/SVS/Her2Pos_Case_05.svs with annotation: /media/thanakornbuath/Phone SSD/her2-attention-classifier/data/Yale_HER2_cohort/Annotations/Her2Pos_Case_05.xml\n",
      "Mask shape: (26313, 19040)\n",
      "Loaded WSI backend: cucim\n"
     ]
    },
    {
     "name": "stderr",
     "output_type": "stream",
     "text": [
      "Processing slides:  22%|██▏       | 104/471 [13:45<31:29,  5.15s/it]"
     ]
    },
    {
     "name": "stdout",
     "output_type": "stream",
     "text": [
      "Extracted 37 patches from data/Yale_HER2_cohort/SVS/Her2Pos_Case_05.svs; saved 37 to outputs/patches/Her2Pos_Case_05\n",
      "Processing slide: data/Yale_HER2_cohort/SVS/Her2Pos_Case_06.svs with annotation: /media/thanakornbuath/Phone SSD/her2-attention-classifier/data/Yale_HER2_cohort/Annotations/Her2Pos_Case_06.xml\n",
      "Mask shape: (27054, 61880)\n",
      "Loaded WSI backend: cucim\n"
     ]
    },
    {
     "name": "stderr",
     "output_type": "stream",
     "text": [
      "Processing slides:  22%|██▏       | 105/471 [13:47<25:35,  4.20s/it]"
     ]
    },
    {
     "name": "stdout",
     "output_type": "stream",
     "text": [
      "Extracted 24 patches from data/Yale_HER2_cohort/SVS/Her2Pos_Case_06.svs; saved 24 to outputs/patches/Her2Pos_Case_06\n",
      "Processing slide: data/Yale_HER2_cohort/SVS/Her2Pos_Case_07.svs with annotation: /media/thanakornbuath/Phone SSD/her2-attention-classifier/data/Yale_HER2_cohort/Annotations/Her2Pos_Case_07.xml\n",
      "Mask shape: (25658, 35224)\n",
      "Loaded WSI backend: cucim\n"
     ]
    },
    {
     "name": "stderr",
     "output_type": "stream",
     "text": [
      "Processing slides:  23%|██▎       | 106/471 [13:50<23:24,  3.85s/it]"
     ]
    },
    {
     "name": "stdout",
     "output_type": "stream",
     "text": [
      "Extracted 64 patches from data/Yale_HER2_cohort/SVS/Her2Pos_Case_07.svs; saved 64 to outputs/patches/Her2Pos_Case_07\n",
      "Processing slide: data/Yale_HER2_cohort/SVS/Her2Pos_Case_08.svs with annotation: /media/thanakornbuath/Phone SSD/her2-attention-classifier/data/Yale_HER2_cohort/Annotations/Her2Pos_Case_08.xml\n",
      "Mask shape: (20244, 29512)\n",
      "Loaded WSI backend: cucim\n"
     ]
    },
    {
     "name": "stderr",
     "output_type": "stream",
     "text": [
      "Processing slides:  23%|██▎       | 107/471 [13:56<27:40,  4.56s/it]"
     ]
    },
    {
     "name": "stdout",
     "output_type": "stream",
     "text": [
      "Extracted 142 patches from data/Yale_HER2_cohort/SVS/Her2Pos_Case_08.svs; saved 142 to outputs/patches/Her2Pos_Case_08\n",
      "Processing slide: data/Yale_HER2_cohort/SVS/Her2Pos_Case_09.svs with annotation: /media/thanakornbuath/Phone SSD/her2-attention-classifier/data/Yale_HER2_cohort/Annotations/Her2Pos_Case_09.xml\n",
      "Mask shape: (22130, 27608)\n",
      "Loaded WSI backend: cucim\n"
     ]
    },
    {
     "name": "stderr",
     "output_type": "stream",
     "text": [
      "Processing slides:  23%|██▎       | 108/471 [14:01<28:59,  4.79s/it]"
     ]
    },
    {
     "name": "stdout",
     "output_type": "stream",
     "text": [
      "Extracted 127 patches from data/Yale_HER2_cohort/SVS/Her2Pos_Case_09.svs; saved 127 to outputs/patches/Her2Pos_Case_09\n",
      "Processing slide: data/Yale_HER2_cohort/SVS/Her2Pos_Case_10.svs with annotation: /media/thanakornbuath/Phone SSD/her2-attention-classifier/data/Yale_HER2_cohort/Annotations/Her2Pos_Case_10.xml\n",
      "Mask shape: (30171, 58072)\n",
      "Loaded WSI backend: cucim\n"
     ]
    },
    {
     "name": "stderr",
     "output_type": "stream",
     "text": [
      "Processing slides:  23%|██▎       | 109/471 [14:04<25:03,  4.15s/it]"
     ]
    },
    {
     "name": "stdout",
     "output_type": "stream",
     "text": [
      "Extracted 42 patches from data/Yale_HER2_cohort/SVS/Her2Pos_Case_10.svs; saved 42 to outputs/patches/Her2Pos_Case_10\n",
      "Processing slide: data/Yale_HER2_cohort/SVS/Her2Pos_Case_11.svs with annotation: /media/thanakornbuath/Phone SSD/her2-attention-classifier/data/Yale_HER2_cohort/Annotations/Her2Pos_Case_11.xml\n",
      "Mask shape: (30743, 31416)\n",
      "Loaded WSI backend: cucim\n"
     ]
    },
    {
     "name": "stderr",
     "output_type": "stream",
     "text": [
      "Processing slides:  23%|██▎       | 110/471 [14:10<29:14,  4.86s/it]"
     ]
    },
    {
     "name": "stdout",
     "output_type": "stream",
     "text": [
      "Extracted 136 patches from data/Yale_HER2_cohort/SVS/Her2Pos_Case_11.svs; saved 136 to outputs/patches/Her2Pos_Case_11\n",
      "Processing slide: data/Yale_HER2_cohort/SVS/Her2Pos_Case_12.svs with annotation: /media/thanakornbuath/Phone SSD/her2-attention-classifier/data/Yale_HER2_cohort/Annotations/Her2Pos_Case_12.xml\n",
      "Mask shape: (28856, 22848)\n",
      "Loaded WSI backend: cucim\n"
     ]
    },
    {
     "name": "stderr",
     "output_type": "stream",
     "text": [
      "Processing slides:  24%|██▎       | 111/471 [14:12<22:48,  3.80s/it]"
     ]
    },
    {
     "name": "stdout",
     "output_type": "stream",
     "text": [
      "Extracted 23 patches from data/Yale_HER2_cohort/SVS/Her2Pos_Case_12.svs; saved 23 to outputs/patches/Her2Pos_Case_12\n",
      "Processing slide: data/Yale_HER2_cohort/SVS/Her2Pos_Case_13.svs with annotation: /media/thanakornbuath/Phone SSD/her2-attention-classifier/data/Yale_HER2_cohort/Annotations/Her2Pos_Case_13.xml\n",
      "Mask shape: (30169, 34272)\n",
      "Loaded WSI backend: cucim\n"
     ]
    },
    {
     "name": "stderr",
     "output_type": "stream",
     "text": [
      "Processing slides:  24%|██▍       | 112/471 [14:23<35:58,  6.01s/it]"
     ]
    },
    {
     "name": "stdout",
     "output_type": "stream",
     "text": [
      "Extracted 277 patches from data/Yale_HER2_cohort/SVS/Her2Pos_Case_13.svs; saved 277 to outputs/patches/Her2Pos_Case_13\n",
      "Processing slide: data/Yale_HER2_cohort/SVS/Her2Pos_Case_14.svs with annotation: /media/thanakornbuath/Phone SSD/her2-attention-classifier/data/Yale_HER2_cohort/Annotations/Her2Pos_Case_14.xml\n",
      "Mask shape: (11302, 12376)\n",
      "Loaded WSI backend: cucim\n"
     ]
    },
    {
     "name": "stderr",
     "output_type": "stream",
     "text": [
      "Processing slides:  24%|██▍       | 113/471 [14:26<31:00,  5.20s/it]"
     ]
    },
    {
     "name": "stdout",
     "output_type": "stream",
     "text": [
      "Extracted 79 patches from data/Yale_HER2_cohort/SVS/Her2Pos_Case_14.svs; saved 79 to outputs/patches/Her2Pos_Case_14\n",
      "Processing slide: data/Yale_HER2_cohort/SVS/Her2Pos_Case_15.svs with annotation: /media/thanakornbuath/Phone SSD/her2-attention-classifier/data/Yale_HER2_cohort/Annotations/Her2Pos_Case_15.xml\n",
      "Mask shape: (32137, 23800)\n",
      "Loaded WSI backend: cucim\n"
     ]
    },
    {
     "name": "stderr",
     "output_type": "stream",
     "text": [
      "Processing slides:  24%|██▍       | 114/471 [14:30<29:14,  4.91s/it]"
     ]
    },
    {
     "name": "stdout",
     "output_type": "stream",
     "text": [
      "Extracted 89 patches from data/Yale_HER2_cohort/SVS/Her2Pos_Case_15.svs; saved 89 to outputs/patches/Her2Pos_Case_15\n",
      "Processing slide: data/Yale_HER2_cohort/SVS/Her2Pos_Case_16.svs with annotation: /media/thanakornbuath/Phone SSD/her2-attention-classifier/data/Yale_HER2_cohort/Annotations/Her2Pos_Case_16.xml\n",
      "Mask shape: (27215, 27608)\n",
      "Loaded WSI backend: cucim\n"
     ]
    },
    {
     "name": "stderr",
     "output_type": "stream",
     "text": [
      "Processing slides:  24%|██▍       | 115/471 [14:36<29:52,  5.04s/it]"
     ]
    },
    {
     "name": "stdout",
     "output_type": "stream",
     "text": [
      "Extracted 131 patches from data/Yale_HER2_cohort/SVS/Her2Pos_Case_16.svs; saved 131 to outputs/patches/Her2Pos_Case_16\n",
      "Processing slide: data/Yale_HER2_cohort/SVS/Her2Pos_Case_17.svs with annotation: /media/thanakornbuath/Phone SSD/her2-attention-classifier/data/Yale_HER2_cohort/Annotations/Her2Pos_Case_17.xml\n",
      "Mask shape: (17537, 32368)\n",
      "Loaded WSI backend: cucim\n"
     ]
    },
    {
     "name": "stderr",
     "output_type": "stream",
     "text": [
      "Processing slides:  25%|██▍       | 116/471 [14:45<36:39,  6.20s/it]"
     ]
    },
    {
     "name": "stdout",
     "output_type": "stream",
     "text": [
      "Extracted 232 patches from data/Yale_HER2_cohort/SVS/Her2Pos_Case_17.svs; saved 232 to outputs/patches/Her2Pos_Case_17\n",
      "Processing slide: data/Yale_HER2_cohort/SVS/Her2Pos_Case_18.svs with annotation: /media/thanakornbuath/Phone SSD/her2-attention-classifier/data/Yale_HER2_cohort/Annotations/Her2Pos_Case_18.xml\n",
      "Mask shape: (21228, 25704)\n",
      "Loaded WSI backend: cucim\n"
     ]
    },
    {
     "name": "stderr",
     "output_type": "stream",
     "text": [
      "Processing slides:  25%|██▍       | 117/471 [14:46<28:14,  4.79s/it]"
     ]
    },
    {
     "name": "stdout",
     "output_type": "stream",
     "text": [
      "Extracted 23 patches from data/Yale_HER2_cohort/SVS/Her2Pos_Case_18.svs; saved 23 to outputs/patches/Her2Pos_Case_18\n",
      "Processing slide: data/Yale_HER2_cohort/SVS/Her2Pos_Case_19.svs with annotation: /media/thanakornbuath/Phone SSD/her2-attention-classifier/data/Yale_HER2_cohort/Annotations/Her2Pos_Case_19.xml\n",
      "Mask shape: (15325, 63784)\n",
      "Loaded WSI backend: cucim\n"
     ]
    },
    {
     "name": "stderr",
     "output_type": "stream",
     "text": [
      "Processing slides:  25%|██▌       | 118/471 [14:57<38:44,  6.58s/it]"
     ]
    },
    {
     "name": "stdout",
     "output_type": "stream",
     "text": [
      "Extracted 257 patches from data/Yale_HER2_cohort/SVS/Her2Pos_Case_19.svs; saved 257 to outputs/patches/Her2Pos_Case_19\n",
      "Processing slide: data/Yale_HER2_cohort/SVS/Her2Pos_Case_20.svs with annotation: /media/thanakornbuath/Phone SSD/her2-attention-classifier/data/Yale_HER2_cohort/Annotations/Her2Pos_Case_20.xml\n",
      "Mask shape: (21066, 64736)\n",
      "Loaded WSI backend: cucim\n"
     ]
    },
    {
     "name": "stderr",
     "output_type": "stream",
     "text": [
      "Processing slides:  25%|██▌       | 119/471 [15:00<32:04,  5.47s/it]"
     ]
    },
    {
     "name": "stdout",
     "output_type": "stream",
     "text": [
      "Extracted 58 patches from data/Yale_HER2_cohort/SVS/Her2Pos_Case_20.svs; saved 58 to outputs/patches/Her2Pos_Case_20\n",
      "Processing slide: data/Yale_HER2_cohort/SVS/Her2Pos_Case_21.svs with annotation: /media/thanakornbuath/Phone SSD/her2-attention-classifier/data/Yale_HER2_cohort/Annotations/Her2Pos_Case_21.xml\n",
      "Mask shape: (19670, 33320)\n",
      "Loaded WSI backend: cucim\n"
     ]
    },
    {
     "name": "stderr",
     "output_type": "stream",
     "text": [
      "Processing slides:  25%|██▌       | 120/471 [15:05<31:51,  5.45s/it]"
     ]
    },
    {
     "name": "stdout",
     "output_type": "stream",
     "text": [
      "Extracted 127 patches from data/Yale_HER2_cohort/SVS/Her2Pos_Case_21.svs; saved 127 to outputs/patches/Her2Pos_Case_21\n",
      "Processing slide: data/Yale_HER2_cohort/SVS/Her2Pos_Case_23.svs with annotation: /media/thanakornbuath/Phone SSD/her2-attention-classifier/data/Yale_HER2_cohort/Annotations/Her2Pos_Case_23.xml\n",
      "Mask shape: (21391, 20944)\n",
      "Loaded WSI backend: cucim\n"
     ]
    },
    {
     "name": "stderr",
     "output_type": "stream",
     "text": [
      "Processing slides:  26%|██▌       | 121/471 [15:08<27:23,  4.70s/it]"
     ]
    },
    {
     "name": "stdout",
     "output_type": "stream",
     "text": [
      "Extracted 70 patches from data/Yale_HER2_cohort/SVS/Her2Pos_Case_23.svs; saved 70 to outputs/patches/Her2Pos_Case_23\n",
      "Processing slide: data/Yale_HER2_cohort/SVS/Her2Pos_Case_24.svs with annotation: /media/thanakornbuath/Phone SSD/her2-attention-classifier/data/Yale_HER2_cohort/Annotations/Her2Pos_Case_24.xml\n",
      "Mask shape: (24755, 36176)\n",
      "Loaded WSI backend: cucim\n"
     ]
    },
    {
     "name": "stderr",
     "output_type": "stream",
     "text": [
      "Processing slides:  26%|██▌       | 122/471 [15:15<30:23,  5.23s/it]"
     ]
    },
    {
     "name": "stdout",
     "output_type": "stream",
     "text": [
      "Extracted 161 patches from data/Yale_HER2_cohort/SVS/Her2Pos_Case_24.svs; saved 161 to outputs/patches/Her2Pos_Case_24\n",
      "Processing slide: data/Yale_HER2_cohort/SVS/Her2Pos_Case_25.svs with annotation: /media/thanakornbuath/Phone SSD/her2-attention-classifier/data/Yale_HER2_cohort/Annotations/Her2Pos_Case_25.xml\n",
      "Mask shape: (28119, 38080)\n",
      "Loaded WSI backend: cucim\n"
     ]
    },
    {
     "name": "stderr",
     "output_type": "stream",
     "text": [
      "Processing slides:  26%|██▌       | 123/471 [15:33<53:50,  9.28s/it]"
     ]
    },
    {
     "name": "stdout",
     "output_type": "stream",
     "text": [
      "Extracted 335 patches from data/Yale_HER2_cohort/SVS/Her2Pos_Case_25.svs; saved 335 to outputs/patches/Her2Pos_Case_25\n",
      "Processing slide: data/Yale_HER2_cohort/SVS/Her2Pos_Case_26.svs with annotation: /media/thanakornbuath/Phone SSD/her2-attention-classifier/data/Yale_HER2_cohort/Annotations/Her2Pos_Case_26.xml\n",
      "Mask shape: (28284, 55216)\n",
      "Loaded WSI backend: cucim\n"
     ]
    },
    {
     "name": "stderr",
     "output_type": "stream",
     "text": [
      "Processing slides:  26%|██▋       | 124/471 [15:39<47:44,  8.26s/it]"
     ]
    },
    {
     "name": "stdout",
     "output_type": "stream",
     "text": [
      "Extracted 111 patches from data/Yale_HER2_cohort/SVS/Her2Pos_Case_26.svs; saved 111 to outputs/patches/Her2Pos_Case_26\n",
      "Skipping slide without annotation: data/Yale_HER2_cohort/SVS/Her2Pos_Case_27.svs\n",
      "Processing slide: data/Yale_HER2_cohort/SVS/Her2Pos_Case_28.svs with annotation: /media/thanakornbuath/Phone SSD/her2-attention-classifier/data/Yale_HER2_cohort/Annotations/Her2Pos_Case_28.xml\n",
      "Mask shape: (19013, 23800)\n",
      "Loaded WSI backend: cucim\n"
     ]
    },
    {
     "name": "stderr",
     "output_type": "stream",
     "text": [
      "Processing slides:  27%|██▋       | 126/471 [15:42<28:40,  4.99s/it]"
     ]
    },
    {
     "name": "stdout",
     "output_type": "stream",
     "text": [
      "Extracted 47 patches from data/Yale_HER2_cohort/SVS/Her2Pos_Case_28.svs; saved 47 to outputs/patches/Her2Pos_Case_28\n",
      "Processing slide: data/Yale_HER2_cohort/SVS/Her2Pos_Case_29.svs with annotation: /media/thanakornbuath/Phone SSD/her2-attention-classifier/data/Yale_HER2_cohort/Annotations/Her2Pos_Case_29.xml\n",
      "Mask shape: (30907, 27608)\n",
      "Loaded WSI backend: cucim\n"
     ]
    },
    {
     "name": "stderr",
     "output_type": "stream",
     "text": [
      "Processing slides:  27%|██▋       | 127/471 [15:44<24:35,  4.29s/it]"
     ]
    },
    {
     "name": "stdout",
     "output_type": "stream",
     "text": [
      "Extracted 46 patches from data/Yale_HER2_cohort/SVS/Her2Pos_Case_29.svs; saved 46 to outputs/patches/Her2Pos_Case_29\n",
      "Processing slide: data/Yale_HER2_cohort/SVS/Her2Pos_Case_30.svs with annotation: /media/thanakornbuath/Phone SSD/her2-attention-classifier/data/Yale_HER2_cohort/Annotations/Her2Pos_Case_30.xml\n",
      "Mask shape: (22950, 19040)\n",
      "Loaded WSI backend: cucim\n"
     ]
    },
    {
     "name": "stderr",
     "output_type": "stream",
     "text": [
      "Processing slides:  27%|██▋       | 128/471 [15:48<24:10,  4.23s/it]"
     ]
    },
    {
     "name": "stdout",
     "output_type": "stream",
     "text": [
      "Extracted 92 patches from data/Yale_HER2_cohort/SVS/Her2Pos_Case_30.svs; saved 92 to outputs/patches/Her2Pos_Case_30\n",
      "Processing slide: data/Yale_HER2_cohort/SVS/Her2Pos_Case_31.svs with annotation: /media/thanakornbuath/Phone SSD/her2-attention-classifier/data/Yale_HER2_cohort/Annotations/Her2Pos_Case_31.xml\n",
      "Mask shape: (17126, 16184)\n",
      "Loaded WSI backend: cucim\n"
     ]
    },
    {
     "name": "stderr",
     "output_type": "stream",
     "text": [
      "Processing slides:  27%|██▋       | 129/471 [15:49<19:00,  3.33s/it]"
     ]
    },
    {
     "name": "stdout",
     "output_type": "stream",
     "text": [
      "Extracted 20 patches from data/Yale_HER2_cohort/SVS/Her2Pos_Case_31.svs; saved 20 to outputs/patches/Her2Pos_Case_31\n",
      "Processing slide: data/Yale_HER2_cohort/SVS/Her2Pos_Case_32.svs with annotation: /media/thanakornbuath/Phone SSD/her2-attention-classifier/data/Yale_HER2_cohort/Annotations/Her2Pos_Case_32.xml\n",
      "Mask shape: (23853, 38080)\n",
      "Loaded WSI backend: cucim\n"
     ]
    },
    {
     "name": "stderr",
     "output_type": "stream",
     "text": [
      "Processing slides:  28%|██▊       | 130/471 [15:55<23:28,  4.13s/it]"
     ]
    },
    {
     "name": "stdout",
     "output_type": "stream",
     "text": [
      "Extracted 136 patches from data/Yale_HER2_cohort/SVS/Her2Pos_Case_32.svs; saved 136 to outputs/patches/Her2Pos_Case_32\n",
      "Processing slide: data/Yale_HER2_cohort/SVS/Her2Pos_Case_33.svs with annotation: /media/thanakornbuath/Phone SSD/her2-attention-classifier/data/Yale_HER2_cohort/Annotations/Her2Pos_Case_33.xml\n",
      "Mask shape: (21719, 21896)\n",
      "Loaded WSI backend: cucim\n"
     ]
    },
    {
     "name": "stderr",
     "output_type": "stream",
     "text": [
      "Processing slides:  28%|██▊       | 131/471 [15:56<18:11,  3.21s/it]"
     ]
    },
    {
     "name": "stdout",
     "output_type": "stream",
     "text": [
      "Extracted 14 patches from data/Yale_HER2_cohort/SVS/Her2Pos_Case_33.svs; saved 14 to outputs/patches/Her2Pos_Case_33\n",
      "Processing slide: data/Yale_HER2_cohort/SVS/Her2Pos_Case_34.svs with annotation: /media/thanakornbuath/Phone SSD/her2-attention-classifier/data/Yale_HER2_cohort/Annotations/Her2Pos_Case_34.xml\n",
      "Mask shape: (24181, 30464)\n",
      "Loaded WSI backend: cucim\n"
     ]
    },
    {
     "name": "stderr",
     "output_type": "stream",
     "text": [
      "Processing slides:  28%|██▊       | 132/471 [16:03<24:45,  4.38s/it]"
     ]
    },
    {
     "name": "stdout",
     "output_type": "stream",
     "text": [
      "Extracted 184 patches from data/Yale_HER2_cohort/SVS/Her2Pos_Case_34.svs; saved 184 to outputs/patches/Her2Pos_Case_34\n",
      "Processing slide: data/Yale_HER2_cohort/SVS/Her2Pos_Case_35.svs with annotation: /media/thanakornbuath/Phone SSD/her2-attention-classifier/data/Yale_HER2_cohort/Annotations/Her2Pos_Case_35.xml\n",
      "Mask shape: (16141, 17136)\n",
      "Loaded WSI backend: cucim\n"
     ]
    },
    {
     "name": "stderr",
     "output_type": "stream",
     "text": [
      "Processing slides:  28%|██▊       | 133/471 [16:07<24:15,  4.31s/it]"
     ]
    },
    {
     "name": "stdout",
     "output_type": "stream",
     "text": [
      "Extracted 108 patches from data/Yale_HER2_cohort/SVS/Her2Pos_Case_35.svs; saved 108 to outputs/patches/Her2Pos_Case_35\n",
      "Processing slide: data/Yale_HER2_cohort/SVS/Her2Pos_Case_36.svs with annotation: /media/thanakornbuath/Phone SSD/her2-attention-classifier/data/Yale_HER2_cohort/Annotations/Her2Pos_Case_36.xml\n",
      "Mask shape: (43622, 47600)\n",
      "Loaded WSI backend: cucim\n"
     ]
    },
    {
     "name": "stderr",
     "output_type": "stream",
     "text": [
      "Processing slides:  28%|██▊       | 134/471 [16:27<50:05,  8.92s/it]"
     ]
    },
    {
     "name": "stdout",
     "output_type": "stream",
     "text": [
      "Extracted 501 patches from data/Yale_HER2_cohort/SVS/Her2Pos_Case_36.svs; saved 501 to outputs/patches/Her2Pos_Case_36\n",
      "Processing slide: data/Yale_HER2_cohort/SVS/Her2Pos_Case_37.svs with annotation: /media/thanakornbuath/Phone SSD/her2-attention-classifier/data/Yale_HER2_cohort/Annotations/Her2Pos_Case_37.xml\n",
      "Mask shape: (40670, 59024)\n",
      "Loaded WSI backend: cucim\n"
     ]
    },
    {
     "name": "stderr",
     "output_type": "stream",
     "text": [
      "Processing slides:  29%|██▊       | 135/471 [16:45<1:05:05, 11.62s/it]"
     ]
    },
    {
     "name": "stdout",
     "output_type": "stream",
     "text": [
      "Extracted 428 patches from data/Yale_HER2_cohort/SVS/Her2Pos_Case_37.svs; saved 428 to outputs/patches/Her2Pos_Case_37\n",
      "Processing slide: data/Yale_HER2_cohort/SVS/Her2Pos_Case_38.svs with annotation: /media/thanakornbuath/Phone SSD/her2-attention-classifier/data/Yale_HER2_cohort/Annotations/Her2Pos_Case_38.xml\n",
      "Mask shape: (32138, 38080)\n",
      "Loaded WSI backend: cucim\n"
     ]
    },
    {
     "name": "stderr",
     "output_type": "stream",
     "text": [
      "Processing slides:  29%|██▉       | 136/471 [16:55<1:01:56, 11.10s/it]"
     ]
    },
    {
     "name": "stdout",
     "output_type": "stream",
     "text": [
      "Extracted 224 patches from data/Yale_HER2_cohort/SVS/Her2Pos_Case_38.svs; saved 224 to outputs/patches/Her2Pos_Case_38\n",
      "Processing slide: data/Yale_HER2_cohort/SVS/Her2Pos_Case_39.svs with annotation: /media/thanakornbuath/Phone SSD/her2-attention-classifier/data/Yale_HER2_cohort/Annotations/Her2Pos_Case_39.xml\n",
      "Mask shape: (19013, 24752)\n",
      "Loaded WSI backend: cucim\n"
     ]
    },
    {
     "name": "stderr",
     "output_type": "stream",
     "text": [
      "Processing slides:  29%|██▉       | 137/471 [16:57<47:15,  8.49s/it]  "
     ]
    },
    {
     "name": "stdout",
     "output_type": "stream",
     "text": [
      "Extracted 59 patches from data/Yale_HER2_cohort/SVS/Her2Pos_Case_39.svs; saved 59 to outputs/patches/Her2Pos_Case_39\n",
      "Processing slide: data/Yale_HER2_cohort/SVS/Her2Pos_Case_40.svs with annotation: /media/thanakornbuath/Phone SSD/her2-attention-classifier/data/Yale_HER2_cohort/Annotations/Her2Pos_Case_40.xml\n",
      "Mask shape: (30497, 38080)\n",
      "Loaded WSI backend: cucim\n"
     ]
    },
    {
     "name": "stderr",
     "output_type": "stream",
     "text": [
      "Processing slides:  29%|██▉       | 138/471 [17:19<1:08:46, 12.39s/it]"
     ]
    },
    {
     "name": "stdout",
     "output_type": "stream",
     "text": [
      "Extracted 610 patches from data/Yale_HER2_cohort/SVS/Her2Pos_Case_40.svs; saved 610 to outputs/patches/Her2Pos_Case_40\n",
      "Processing slide: data/Yale_HER2_cohort/SVS/Her2Pos_Case_41.svs with annotation: /media/thanakornbuath/Phone SSD/her2-attention-classifier/data/Yale_HER2_cohort/Annotations/Her2Pos_Case_41.xml\n",
      "Mask shape: (19588, 34272)\n",
      "Loaded WSI backend: cucim\n"
     ]
    },
    {
     "name": "stderr",
     "output_type": "stream",
     "text": [
      "Processing slides:  30%|██▉       | 139/471 [17:31<1:08:21, 12.35s/it]"
     ]
    },
    {
     "name": "stdout",
     "output_type": "stream",
     "text": [
      "Extracted 281 patches from data/Yale_HER2_cohort/SVS/Her2Pos_Case_41.svs; saved 281 to outputs/patches/Her2Pos_Case_41\n",
      "Processing slide: data/Yale_HER2_cohort/SVS/Her2Pos_Case_42.svs with annotation: /media/thanakornbuath/Phone SSD/her2-attention-classifier/data/Yale_HER2_cohort/Annotations/Her2Pos_Case_42.xml\n",
      "Mask shape: (22380, 74256)\n",
      "Loaded WSI backend: cucim\n"
     ]
    },
    {
     "name": "stderr",
     "output_type": "stream",
     "text": [
      "Processing slides:  30%|██▉       | 140/471 [17:43<1:07:24, 12.22s/it]"
     ]
    },
    {
     "name": "stdout",
     "output_type": "stream",
     "text": [
      "Extracted 311 patches from data/Yale_HER2_cohort/SVS/Her2Pos_Case_42.svs; saved 311 to outputs/patches/Her2Pos_Case_42\n",
      "Processing slide: data/Yale_HER2_cohort/SVS/Her2Pos_Case_43.svs with annotation: /media/thanakornbuath/Phone SSD/her2-attention-classifier/data/Yale_HER2_cohort/Annotations/Her2Pos_Case_43.xml\n",
      "Mask shape: (13353, 19992)\n",
      "Loaded WSI backend: cucim\n"
     ]
    },
    {
     "name": "stderr",
     "output_type": "stream",
     "text": [
      "Processing slides:  30%|██▉       | 141/471 [17:46<52:10,  9.49s/it]  "
     ]
    },
    {
     "name": "stdout",
     "output_type": "stream",
     "text": [
      "Extracted 80 patches from data/Yale_HER2_cohort/SVS/Her2Pos_Case_43.svs; saved 80 to outputs/patches/Her2Pos_Case_43\n",
      "Processing slide: data/Yale_HER2_cohort/SVS/Her2Pos_Case_44.svs with annotation: /media/thanakornbuath/Phone SSD/her2-attention-classifier/data/Yale_HER2_cohort/Annotations/Her2Pos_Case_44.xml\n",
      "Mask shape: (21802, 28560)\n",
      "Loaded WSI backend: cucim\n"
     ]
    },
    {
     "name": "stderr",
     "output_type": "stream",
     "text": [
      "Processing slides:  30%|███       | 142/471 [17:52<45:14,  8.25s/it]"
     ]
    },
    {
     "name": "stdout",
     "output_type": "stream",
     "text": [
      "Extracted 137 patches from data/Yale_HER2_cohort/SVS/Her2Pos_Case_44.svs; saved 137 to outputs/patches/Her2Pos_Case_44\n",
      "Skipping slide without annotation: data/Yale_HER2_cohort/SVS/Her2Pos_Case_45.svs\n",
      "Processing slide: data/Yale_HER2_cohort/SVS/Her2Pos_Case_46.svs with annotation: /media/thanakornbuath/Phone SSD/her2-attention-classifier/data/Yale_HER2_cohort/Annotations/Her2Pos_Case_46.xml\n",
      "Mask shape: (31236, 43792)\n",
      "Loaded WSI backend: cucim\n"
     ]
    },
    {
     "name": "stderr",
     "output_type": "stream",
     "text": [
      "Processing slides:  31%|███       | 144/471 [18:06<42:25,  7.78s/it]"
     ]
    },
    {
     "name": "stdout",
     "output_type": "stream",
     "text": [
      "Extracted 348 patches from data/Yale_HER2_cohort/SVS/Her2Pos_Case_46.svs; saved 348 to outputs/patches/Her2Pos_Case_46\n",
      "Processing slide: data/Yale_HER2_cohort/SVS/Her2Pos_Case_47.svs with annotation: /media/thanakornbuath/Phone SSD/her2-attention-classifier/data/Yale_HER2_cohort/Annotations/Her2Pos_Case_47.xml\n",
      "Mask shape: (16061, 40936)\n",
      "Loaded WSI backend: cucim\n"
     ]
    },
    {
     "name": "stderr",
     "output_type": "stream",
     "text": [
      "Processing slides:  31%|███       | 145/471 [18:19<49:14,  9.06s/it]"
     ]
    },
    {
     "name": "stdout",
     "output_type": "stream",
     "text": [
      "Extracted 360 patches from data/Yale_HER2_cohort/SVS/Her2Pos_Case_47.svs; saved 360 to outputs/patches/Her2Pos_Case_47\n",
      "Processing slide: data/Yale_HER2_cohort/SVS/Her2Pos_Case_48.svs with annotation: /media/thanakornbuath/Phone SSD/her2-attention-classifier/data/Yale_HER2_cohort/Annotations/Her2Pos_Case_48.xml\n",
      "Mask shape: (26888, 30464)\n",
      "Loaded WSI backend: cucim\n"
     ]
    },
    {
     "name": "stderr",
     "output_type": "stream",
     "text": [
      "Processing slides:  31%|███       | 146/471 [18:21<39:39,  7.32s/it]"
     ]
    },
    {
     "name": "stdout",
     "output_type": "stream",
     "text": [
      "Extracted 28 patches from data/Yale_HER2_cohort/SVS/Her2Pos_Case_48.svs; saved 28 to outputs/patches/Her2Pos_Case_48\n",
      "Processing slide: data/Yale_HER2_cohort/SVS/Her2Pos_Case_49.svs with annotation: /media/thanakornbuath/Phone SSD/her2-attention-classifier/data/Yale_HER2_cohort/Annotations/Her2Pos_Case_49.xml\n",
      "Mask shape: (29267, 36176)\n",
      "Loaded WSI backend: cucim\n"
     ]
    },
    {
     "name": "stderr",
     "output_type": "stream",
     "text": [
      "Processing slides:  31%|███       | 147/471 [18:52<1:13:04, 13.53s/it]"
     ]
    },
    {
     "name": "stdout",
     "output_type": "stream",
     "text": [
      "Extracted 772 patches from data/Yale_HER2_cohort/SVS/Her2Pos_Case_49.svs; saved 772 to outputs/patches/Her2Pos_Case_49\n",
      "Processing slide: data/Yale_HER2_cohort/SVS/Her2Pos_Case_50.svs with annotation: /media/thanakornbuath/Phone SSD/her2-attention-classifier/data/Yale_HER2_cohort/Annotations/Her2Pos_Case_50.xml\n",
      "Mask shape: (14173, 18088)\n",
      "Loaded WSI backend: cucim\n"
     ]
    },
    {
     "name": "stderr",
     "output_type": "stream",
     "text": [
      "Processing slides:  31%|███▏      | 148/471 [18:53<54:46, 10.17s/it]  "
     ]
    },
    {
     "name": "stdout",
     "output_type": "stream",
     "text": [
      "Extracted 30 patches from data/Yale_HER2_cohort/SVS/Her2Pos_Case_50.svs; saved 30 to outputs/patches/Her2Pos_Case_50\n",
      "Processing slide: data/Yale_HER2_cohort/SVS/Her2Pos_Case_51.svs with annotation: /media/thanakornbuath/Phone SSD/her2-attention-classifier/data/Yale_HER2_cohort/Annotations/Her2Pos_Case_51.xml\n",
      "Mask shape: (21721, 38080)\n",
      "Loaded WSI backend: cucim\n"
     ]
    },
    {
     "name": "stderr",
     "output_type": "stream",
     "text": [
      "Processing slides:  32%|███▏      | 150/471 [19:00<34:57,  6.53s/it]"
     ]
    },
    {
     "name": "stdout",
     "output_type": "stream",
     "text": [
      "Extracted 167 patches from data/Yale_HER2_cohort/SVS/Her2Pos_Case_51.svs; saved 167 to outputs/patches/Her2Pos_Case_51\n",
      "Skipping slide without annotation: data/Yale_HER2_cohort/SVS/Her2Pos_Case_52.svs\n",
      "Processing slide: data/Yale_HER2_cohort/SVS/Her2Pos_Case_53.svs with annotation: /media/thanakornbuath/Phone SSD/her2-attention-classifier/data/Yale_HER2_cohort/Annotations/Her2Pos_Case_53.xml\n",
      "Mask shape: (36814, 55216)\n",
      "Loaded WSI backend: cucim\n"
     ]
    },
    {
     "name": "stderr",
     "output_type": "stream",
     "text": [
      "Processing slides:  32%|███▏      | 151/471 [19:07<36:28,  6.84s/it]"
     ]
    },
    {
     "name": "stdout",
     "output_type": "stream",
     "text": [
      "Extracted 158 patches from data/Yale_HER2_cohort/SVS/Her2Pos_Case_53.svs; saved 158 to outputs/patches/Her2Pos_Case_53\n",
      "Processing slide: data/Yale_HER2_cohort/SVS/Her2Pos_Case_54.svs with annotation: /media/thanakornbuath/Phone SSD/her2-attention-classifier/data/Yale_HER2_cohort/Annotations/Her2Pos_Case_54.xml\n",
      "Mask shape: (32137, 26656)\n",
      "Loaded WSI backend: cucim\n"
     ]
    },
    {
     "name": "stderr",
     "output_type": "stream",
     "text": [
      "Processing slides:  32%|███▏      | 152/471 [19:27<56:24, 10.61s/it]"
     ]
    },
    {
     "name": "stdout",
     "output_type": "stream",
     "text": [
      "Extracted 473 patches from data/Yale_HER2_cohort/SVS/Her2Pos_Case_54.svs; saved 473 to outputs/patches/Her2Pos_Case_54\n",
      "Processing slide: data/Yale_HER2_cohort/SVS/Her2Pos_Case_55.svs with annotation: /media/thanakornbuath/Phone SSD/her2-attention-classifier/data/Yale_HER2_cohort/Annotations/Her2Pos_Case_55.xml\n",
      "Mask shape: (5971, 20944)\n",
      "Loaded WSI backend: cucim\n"
     ]
    },
    {
     "name": "stderr",
     "output_type": "stream",
     "text": [
      "Processing slides:  32%|███▏      | 153/471 [19:31<45:55,  8.67s/it]"
     ]
    },
    {
     "name": "stdout",
     "output_type": "stream",
     "text": [
      "Extracted 97 patches from data/Yale_HER2_cohort/SVS/Her2Pos_Case_55.svs; saved 97 to outputs/patches/Her2Pos_Case_55\n",
      "Processing slide: data/Yale_HER2_cohort/SVS/Her2Pos_Case_56.svs with annotation: /media/thanakornbuath/Phone SSD/her2-attention-classifier/data/Yale_HER2_cohort/Annotations/Her2Pos_Case_56.xml\n",
      "Mask shape: (27379, 25704)\n",
      "Loaded WSI backend: cucim\n"
     ]
    },
    {
     "name": "stderr",
     "output_type": "stream",
     "text": [
      "Processing slides:  33%|███▎      | 154/471 [19:36<40:07,  7.59s/it]"
     ]
    },
    {
     "name": "stdout",
     "output_type": "stream",
     "text": [
      "Extracted 110 patches from data/Yale_HER2_cohort/SVS/Her2Pos_Case_56.svs; saved 110 to outputs/patches/Her2Pos_Case_56\n",
      "Processing slide: data/Yale_HER2_cohort/SVS/Her2Pos_Case_57.svs with annotation: /media/thanakornbuath/Phone SSD/her2-attention-classifier/data/Yale_HER2_cohort/Annotations/Her2Pos_Case_57.xml\n",
      "Mask shape: (16142, 18088)\n",
      "Loaded WSI backend: cucim\n"
     ]
    },
    {
     "name": "stderr",
     "output_type": "stream",
     "text": [
      "Processing slides:  33%|███▎      | 155/471 [19:40<33:54,  6.44s/it]"
     ]
    },
    {
     "name": "stdout",
     "output_type": "stream",
     "text": [
      "Extracted 90 patches from data/Yale_HER2_cohort/SVS/Her2Pos_Case_57.svs; saved 90 to outputs/patches/Her2Pos_Case_57\n",
      "Processing slide: data/Yale_HER2_cohort/SVS/Her2Pos_Case_58.svs with annotation: /media/thanakornbuath/Phone SSD/her2-attention-classifier/data/Yale_HER2_cohort/Annotations/Her2Pos_Case_58.xml\n",
      "Mask shape: (34680, 31416)\n",
      "Loaded WSI backend: cucim\n"
     ]
    },
    {
     "name": "stderr",
     "output_type": "stream",
     "text": [
      "Processing slides:  33%|███▎      | 156/471 [19:41<25:43,  4.90s/it]"
     ]
    },
    {
     "name": "stdout",
     "output_type": "stream",
     "text": [
      "Extracted 17 patches from data/Yale_HER2_cohort/SVS/Her2Pos_Case_58.svs; saved 17 to outputs/patches/Her2Pos_Case_58\n",
      "Processing slide: data/Yale_HER2_cohort/SVS/Her2Pos_Case_59.svs with annotation: /media/thanakornbuath/Phone SSD/her2-attention-classifier/data/Yale_HER2_cohort/Annotations/Her2Pos_Case_59.xml\n",
      "Mask shape: (19259, 25704)\n",
      "Loaded WSI backend: cucim\n"
     ]
    },
    {
     "name": "stderr",
     "output_type": "stream",
     "text": [
      "Processing slides:  33%|███▎      | 157/471 [19:45<24:40,  4.72s/it]"
     ]
    },
    {
     "name": "stdout",
     "output_type": "stream",
     "text": [
      "Extracted 84 patches from data/Yale_HER2_cohort/SVS/Her2Pos_Case_59.svs; saved 84 to outputs/patches/Her2Pos_Case_59\n",
      "Processing slide: data/Yale_HER2_cohort/SVS/Her2Pos_Case_60.svs with annotation: /media/thanakornbuath/Phone SSD/her2-attention-classifier/data/Yale_HER2_cohort/Annotations/Her2Pos_Case_60.xml\n",
      "Mask shape: (25000, 19992)\n",
      "Loaded WSI backend: cucim\n"
     ]
    },
    {
     "name": "stderr",
     "output_type": "stream",
     "text": [
      "Processing slides:  34%|███▎      | 158/471 [19:49<22:47,  4.37s/it]"
     ]
    },
    {
     "name": "stdout",
     "output_type": "stream",
     "text": [
      "Extracted 78 patches from data/Yale_HER2_cohort/SVS/Her2Pos_Case_60.svs; saved 78 to outputs/patches/Her2Pos_Case_60\n",
      "Processing slide: data/Yale_HER2_cohort/SVS/Her2Pos_Case_61.svs with annotation: /media/thanakornbuath/Phone SSD/her2-attention-classifier/data/Yale_HER2_cohort/Annotations/Her2Pos_Case_61.xml\n",
      "Mask shape: (30004, 28560)\n",
      "Loaded WSI backend: cucim\n"
     ]
    },
    {
     "name": "stderr",
     "output_type": "stream",
     "text": [
      "Processing slides:  34%|███▍      | 159/471 [20:00<32:46,  6.30s/it]"
     ]
    },
    {
     "name": "stdout",
     "output_type": "stream",
     "text": [
      "Extracted 245 patches from data/Yale_HER2_cohort/SVS/Her2Pos_Case_61.svs; saved 245 to outputs/patches/Her2Pos_Case_61\n",
      "Processing slide: data/Yale_HER2_cohort/SVS/Her2Pos_Case_62.svs with annotation: /media/thanakornbuath/Phone SSD/her2-attention-classifier/data/Yale_HER2_cohort/Annotations/Her2Pos_Case_62.xml\n",
      "Mask shape: (15240, 28560)\n",
      "Loaded WSI backend: cucim\n"
     ]
    },
    {
     "name": "stderr",
     "output_type": "stream",
     "text": [
      "Processing slides:  34%|███▍      | 160/471 [20:04<29:10,  5.63s/it]"
     ]
    },
    {
     "name": "stdout",
     "output_type": "stream",
     "text": [
      "Extracted 95 patches from data/Yale_HER2_cohort/SVS/Her2Pos_Case_62.svs; saved 95 to outputs/patches/Her2Pos_Case_62\n",
      "Processing slide: data/Yale_HER2_cohort/SVS/Her2Pos_Case_63.svs with annotation: /media/thanakornbuath/Phone SSD/her2-attention-classifier/data/Yale_HER2_cohort/Annotations/Her2Pos_Case_63.xml\n",
      "Mask shape: (28939, 42840)\n",
      "Loaded WSI backend: cucim\n"
     ]
    },
    {
     "name": "stderr",
     "output_type": "stream",
     "text": [
      "Processing slides:  34%|███▍      | 161/471 [20:15<37:29,  7.26s/it]"
     ]
    },
    {
     "name": "stdout",
     "output_type": "stream",
     "text": [
      "Extracted 283 patches from data/Yale_HER2_cohort/SVS/Her2Pos_Case_63.svs; saved 283 to outputs/patches/Her2Pos_Case_63\n",
      "Processing slide: data/Yale_HER2_cohort/SVS/Her2Pos_Case_64.svs with annotation: /media/thanakornbuath/Phone SSD/her2-attention-classifier/data/Yale_HER2_cohort/Annotations/Her2Pos_Case_64.xml\n",
      "Mask shape: (14829, 14280)\n",
      "Loaded WSI backend: cucim\n"
     ]
    },
    {
     "name": "stderr",
     "output_type": "stream",
     "text": [
      "Processing slides:  34%|███▍      | 162/471 [20:19<32:49,  6.37s/it]"
     ]
    },
    {
     "name": "stdout",
     "output_type": "stream",
     "text": [
      "Extracted 104 patches from data/Yale_HER2_cohort/SVS/Her2Pos_Case_64.svs; saved 104 to outputs/patches/Her2Pos_Case_64\n",
      "Processing slide: data/Yale_HER2_cohort/SVS/Her2Pos_Case_65.svs with annotation: /media/thanakornbuath/Phone SSD/her2-attention-classifier/data/Yale_HER2_cohort/Annotations/Her2Pos_Case_65.xml\n",
      "Mask shape: (19013, 19992)\n",
      "Loaded WSI backend: cucim\n"
     ]
    },
    {
     "name": "stderr",
     "output_type": "stream",
     "text": [
      "Processing slides:  35%|███▍      | 163/471 [20:38<52:29, 10.23s/it]"
     ]
    },
    {
     "name": "stdout",
     "output_type": "stream",
     "text": [
      "Extracted 237 patches from data/Yale_HER2_cohort/SVS/Her2Pos_Case_65.svs; saved 237 to outputs/patches/Her2Pos_Case_65\n",
      "Processing slide: data/Yale_HER2_cohort/SVS/Her2Pos_Case_66.svs with annotation: /media/thanakornbuath/Phone SSD/her2-attention-classifier/data/Yale_HER2_cohort/Annotations/Her2Pos_Case_66.xml\n",
      "Mask shape: (23935, 32368)\n",
      "Loaded WSI backend: cucim\n"
     ]
    },
    {
     "name": "stderr",
     "output_type": "stream",
     "text": [
      "Processing slides:  35%|███▍      | 164/471 [20:49<52:19, 10.23s/it]"
     ]
    },
    {
     "name": "stdout",
     "output_type": "stream",
     "text": [
      "Extracted 252 patches from data/Yale_HER2_cohort/SVS/Her2Pos_Case_66.svs; saved 252 to outputs/patches/Her2Pos_Case_66\n",
      "Processing slide: data/Yale_HER2_cohort/SVS/Her2Pos_Case_67.svs with annotation: /media/thanakornbuath/Phone SSD/her2-attention-classifier/data/Yale_HER2_cohort/Annotations/Her2Pos_Case_67.xml\n",
      "Mask shape: (18684, 17136)\n",
      "Loaded WSI backend: cucim\n"
     ]
    },
    {
     "name": "stderr",
     "output_type": "stream",
     "text": [
      "Processing slides:  35%|███▌      | 165/471 [20:49<37:46,  7.41s/it]"
     ]
    },
    {
     "name": "stdout",
     "output_type": "stream",
     "text": [
      "Extracted 15 patches from data/Yale_HER2_cohort/SVS/Her2Pos_Case_67.svs; saved 15 to outputs/patches/Her2Pos_Case_67\n",
      "Processing slide: data/Yale_HER2_cohort/SVS/Her2Pos_Case_68.svs with annotation: /media/thanakornbuath/Phone SSD/her2-attention-classifier/data/Yale_HER2_cohort/Annotations/Her2Pos_Case_68.xml\n",
      "Mask shape: (35172, 24752)\n",
      "Loaded WSI backend: cucim\n"
     ]
    },
    {
     "name": "stderr",
     "output_type": "stream",
     "text": [
      "Processing slides:  35%|███▌      | 166/471 [20:53<32:17,  6.35s/it]"
     ]
    },
    {
     "name": "stdout",
     "output_type": "stream",
     "text": [
      "Extracted 91 patches from data/Yale_HER2_cohort/SVS/Her2Pos_Case_68.svs; saved 91 to outputs/patches/Her2Pos_Case_68\n",
      "Processing slide: data/Yale_HER2_cohort/SVS/Her2Pos_Case_69.svs with annotation: /media/thanakornbuath/Phone SSD/her2-attention-classifier/data/Yale_HER2_cohort/Annotations/Her2Pos_Case_69.xml\n",
      "Mask shape: (30169, 30464)\n",
      "Loaded WSI backend: cucim\n"
     ]
    },
    {
     "name": "stderr",
     "output_type": "stream",
     "text": [
      "Processing slides:  35%|███▌      | 167/471 [21:04<39:14,  7.74s/it]"
     ]
    },
    {
     "name": "stdout",
     "output_type": "stream",
     "text": [
      "Extracted 267 patches from data/Yale_HER2_cohort/SVS/Her2Pos_Case_69.svs; saved 267 to outputs/patches/Her2Pos_Case_69\n",
      "Processing slide: data/Yale_HER2_cohort/SVS/Her2Pos_Case_70.svs with annotation: /media/thanakornbuath/Phone SSD/her2-attention-classifier/data/Yale_HER2_cohort/Annotations/Her2Pos_Case_70.xml\n",
      "Mask shape: (28527, 16184)\n",
      "Loaded WSI backend: cucim\n"
     ]
    },
    {
     "name": "stderr",
     "output_type": "stream",
     "text": [
      "Processing slides:  36%|███▌      | 168/471 [21:09<33:53,  6.71s/it]"
     ]
    },
    {
     "name": "stdout",
     "output_type": "stream",
     "text": [
      "Extracted 100 patches from data/Yale_HER2_cohort/SVS/Her2Pos_Case_70.svs; saved 100 to outputs/patches/Her2Pos_Case_70\n",
      "Processing slide: data/Yale_HER2_cohort/SVS/Her2Pos_Case_71.svs with annotation: /media/thanakornbuath/Phone SSD/her2-attention-classifier/data/Yale_HER2_cohort/Annotations/Her2Pos_Case_71.xml\n",
      "Mask shape: (16798, 24752)\n",
      "Loaded WSI backend: cucim\n"
     ]
    },
    {
     "name": "stderr",
     "output_type": "stream",
     "text": [
      "Processing slides:  36%|███▌      | 169/471 [21:14<31:22,  6.23s/it]"
     ]
    },
    {
     "name": "stdout",
     "output_type": "stream",
     "text": [
      "Extracted 117 patches from data/Yale_HER2_cohort/SVS/Her2Pos_Case_71.svs; saved 117 to outputs/patches/Her2Pos_Case_71\n",
      "Processing slide: data/Yale_HER2_cohort/SVS/Her2Pos_Case_72.svs with annotation: /media/thanakornbuath/Phone SSD/her2-attention-classifier/data/Yale_HER2_cohort/Annotations/Her2Pos_Case_72.xml\n",
      "Mask shape: (20489, 26656)\n",
      "Loaded WSI backend: cucim\n"
     ]
    },
    {
     "name": "stderr",
     "output_type": "stream",
     "text": [
      "Processing slides:  36%|███▌      | 170/471 [21:24<36:41,  7.31s/it]"
     ]
    },
    {
     "name": "stdout",
     "output_type": "stream",
     "text": [
      "Extracted 267 patches from data/Yale_HER2_cohort/SVS/Her2Pos_Case_72.svs; saved 267 to outputs/patches/Her2Pos_Case_72\n",
      "Processing slide: data/Yale_HER2_cohort/SVS/Her2Pos_Case_73.svs with annotation: /media/thanakornbuath/Phone SSD/her2-attention-classifier/data/Yale_HER2_cohort/Annotations/Her2Pos_Case_73.xml\n",
      "Mask shape: (50927, 121856)\n",
      "Loaded WSI backend: cucim\n"
     ]
    },
    {
     "name": "stderr",
     "output_type": "stream",
     "text": [
      "Processing slides:  36%|███▋      | 171/471 [21:32<38:36,  7.72s/it]"
     ]
    },
    {
     "name": "stdout",
     "output_type": "stream",
     "text": [
      "Extracted 61 patches from data/Yale_HER2_cohort/SVS/Her2Pos_Case_73.svs; saved 61 to outputs/patches/Her2Pos_Case_73\n",
      "Processing slide: data/Yale_HER2_cohort/SVS/Her2Pos_Case_74.svs with annotation: /media/thanakornbuath/Phone SSD/her2-attention-classifier/data/Yale_HER2_cohort/Annotations/Her2Pos_Case_74.xml\n",
      "Mask shape: (21638, 30464)\n",
      "Loaded WSI backend: cucim\n"
     ]
    },
    {
     "name": "stderr",
     "output_type": "stream",
     "text": [
      "Processing slides:  37%|███▋      | 172/471 [21:36<32:45,  6.57s/it]"
     ]
    },
    {
     "name": "stdout",
     "output_type": "stream",
     "text": [
      "Extracted 87 patches from data/Yale_HER2_cohort/SVS/Her2Pos_Case_74.svs; saved 87 to outputs/patches/Her2Pos_Case_74\n",
      "Processing slide: data/Yale_HER2_cohort/SVS/Her2Pos_Case_75.svs with annotation: /media/thanakornbuath/Phone SSD/her2-attention-classifier/data/Yale_HER2_cohort/Annotations/Her2Pos_Case_75.xml\n",
      "Mask shape: (16388, 24752)\n",
      "Loaded WSI backend: cucim\n"
     ]
    },
    {
     "name": "stderr",
     "output_type": "stream",
     "text": [
      "Processing slides:  37%|███▋      | 173/471 [21:44<34:09,  6.88s/it]"
     ]
    },
    {
     "name": "stdout",
     "output_type": "stream",
     "text": [
      "Extracted 192 patches from data/Yale_HER2_cohort/SVS/Her2Pos_Case_75.svs; saved 192 to outputs/patches/Her2Pos_Case_75\n",
      "Processing slide: data/Yale_HER2_cohort/SVS/Her2Pos_Case_76.svs with annotation: /media/thanakornbuath/Phone SSD/her2-attention-classifier/data/Yale_HER2_cohort/Annotations/Her2Pos_Case_76.xml\n",
      "Mask shape: (31645, 29512)\n",
      "Loaded WSI backend: cucim\n"
     ]
    },
    {
     "name": "stderr",
     "output_type": "stream",
     "text": [
      "Processing slides:  37%|███▋      | 174/471 [21:49<32:11,  6.50s/it]"
     ]
    },
    {
     "name": "stdout",
     "output_type": "stream",
     "text": [
      "Extracted 141 patches from data/Yale_HER2_cohort/SVS/Her2Pos_Case_76.svs; saved 141 to outputs/patches/Her2Pos_Case_76\n",
      "Processing slide: data/Yale_HER2_cohort/SVS/Her2Pos_Case_77.svs with annotation: /media/thanakornbuath/Phone SSD/her2-attention-classifier/data/Yale_HER2_cohort/Annotations/Her2Pos_Case_77.xml\n",
      "Mask shape: (29431, 39984)\n",
      "Loaded WSI backend: cucim\n"
     ]
    },
    {
     "name": "stderr",
     "output_type": "stream",
     "text": [
      "Processing slides:  37%|███▋      | 175/471 [21:57<33:12,  6.73s/it]"
     ]
    },
    {
     "name": "stdout",
     "output_type": "stream",
     "text": [
      "Extracted 173 patches from data/Yale_HER2_cohort/SVS/Her2Pos_Case_77.svs; saved 173 to outputs/patches/Her2Pos_Case_77\n",
      "Processing slide: data/Yale_HER2_cohort/SVS/Her2Pos_Case_78.svs with annotation: /media/thanakornbuath/Phone SSD/her2-attention-classifier/data/Yale_HER2_cohort/Annotations/Her2Pos_Case_78.xml\n",
      "Mask shape: (24755, 24752)\n",
      "Loaded WSI backend: cucim\n"
     ]
    },
    {
     "name": "stderr",
     "output_type": "stream",
     "text": [
      "Processing slides:  37%|███▋      | 176/471 [22:04<33:47,  6.87s/it]"
     ]
    },
    {
     "name": "stdout",
     "output_type": "stream",
     "text": [
      "Extracted 189 patches from data/Yale_HER2_cohort/SVS/Her2Pos_Case_78.svs; saved 189 to outputs/patches/Her2Pos_Case_78\n",
      "Processing slide: data/Yale_HER2_cohort/SVS/Her2Pos_Case_79.svs with annotation: /media/thanakornbuath/Phone SSD/her2-attention-classifier/data/Yale_HER2_cohort/Annotations/Her2Pos_Case_79.xml\n",
      "Mask shape: (23934, 20944)\n",
      "Loaded WSI backend: cucim\n"
     ]
    },
    {
     "name": "stderr",
     "output_type": "stream",
     "text": [
      "Processing slides:  38%|███▊      | 177/471 [22:13<36:23,  7.43s/it]"
     ]
    },
    {
     "name": "stdout",
     "output_type": "stream",
     "text": [
      "Extracted 208 patches from data/Yale_HER2_cohort/SVS/Her2Pos_Case_79.svs; saved 208 to outputs/patches/Her2Pos_Case_79\n",
      "Processing slide: data/Yale_HER2_cohort/SVS/Her2Pos_Case_80.svs with annotation: /media/thanakornbuath/Phone SSD/her2-attention-classifier/data/Yale_HER2_cohort/Annotations/Her2Pos_Case_80.xml\n",
      "Mask shape: (26970, 29512)\n",
      "Loaded WSI backend: cucim\n"
     ]
    },
    {
     "name": "stderr",
     "output_type": "stream",
     "text": [
      "Processing slides:  38%|███▊      | 178/471 [22:15<28:13,  5.78s/it]"
     ]
    },
    {
     "name": "stdout",
     "output_type": "stream",
     "text": [
      "Extracted 37 patches from data/Yale_HER2_cohort/SVS/Her2Pos_Case_80.svs; saved 37 to outputs/patches/Her2Pos_Case_80\n",
      "Processing slide: data/Yale_HER2_cohort/SVS/Her2Pos_Case_81.svs with annotation: /media/thanakornbuath/Phone SSD/her2-attention-classifier/data/Yale_HER2_cohort/Annotations/Her2Pos_Case_81.xml\n",
      "Mask shape: (36075, 39984)\n",
      "Loaded WSI backend: cucim\n"
     ]
    },
    {
     "name": "stderr",
     "output_type": "stream",
     "text": [
      "Processing slides:  38%|███▊      | 179/471 [22:26<35:46,  7.35s/it]"
     ]
    },
    {
     "name": "stdout",
     "output_type": "stream",
     "text": [
      "Extracted 273 patches from data/Yale_HER2_cohort/SVS/Her2Pos_Case_81.svs; saved 273 to outputs/patches/Her2Pos_Case_81\n",
      "Processing slide: data/Yale_HER2_cohort/SVS/Her2Pos_Case_82.svs with annotation: /media/thanakornbuath/Phone SSD/her2-attention-classifier/data/Yale_HER2_cohort/Annotations/Her2Pos_Case_82.xml\n",
      "Mask shape: (19342, 38080)\n",
      "Loaded WSI backend: cucim\n"
     ]
    },
    {
     "name": "stderr",
     "output_type": "stream",
     "text": [
      "Processing slides:  38%|███▊      | 180/471 [22:40<46:34,  9.60s/it]"
     ]
    },
    {
     "name": "stdout",
     "output_type": "stream",
     "text": [
      "Extracted 322 patches from data/Yale_HER2_cohort/SVS/Her2Pos_Case_82.svs; saved 322 to outputs/patches/Her2Pos_Case_82\n",
      "Processing slide: data/Yale_HER2_cohort/SVS/Her2Pos_Case_83.svs with annotation: /media/thanakornbuath/Phone SSD/her2-attention-classifier/data/Yale_HER2_cohort/Annotations/Her2Pos_Case_83.xml\n",
      "Mask shape: (9170, 20944)\n",
      "Loaded WSI backend: cucim\n"
     ]
    },
    {
     "name": "stderr",
     "output_type": "stream",
     "text": [
      "Processing slides:  38%|███▊      | 181/471 [22:42<34:54,  7.22s/it]"
     ]
    },
    {
     "name": "stdout",
     "output_type": "stream",
     "text": [
      "Extracted 36 patches from data/Yale_HER2_cohort/SVS/Her2Pos_Case_83.svs; saved 36 to outputs/patches/Her2Pos_Case_83\n",
      "Processing slide: data/Yale_HER2_cohort/SVS/Her2Pos_Case_84.svs with annotation: /media/thanakornbuath/Phone SSD/her2-attention-classifier/data/Yale_HER2_cohort/Annotations/Her2Pos_Case_84.xml\n",
      "Mask shape: (27052, 38080)\n",
      "Loaded WSI backend: cucim\n"
     ]
    },
    {
     "name": "stderr",
     "output_type": "stream",
     "text": [
      "Processing slides:  39%|███▊      | 182/471 [22:51<37:50,  7.86s/it]"
     ]
    },
    {
     "name": "stdout",
     "output_type": "stream",
     "text": [
      "Extracted 130 patches from data/Yale_HER2_cohort/SVS/Her2Pos_Case_84.svs; saved 130 to outputs/patches/Her2Pos_Case_84\n",
      "Processing slide: data/Yale_HER2_cohort/SVS/Her2Pos_Case_85.svs with annotation: /media/thanakornbuath/Phone SSD/her2-attention-classifier/data/Yale_HER2_cohort/Annotations/Her2Pos_Case_85.xml\n",
      "Mask shape: (26396, 34272)\n",
      "Loaded WSI backend: cucim\n"
     ]
    },
    {
     "name": "stderr",
     "output_type": "stream",
     "text": [
      "Processing slides:  39%|███▉      | 183/471 [23:06<46:50,  9.76s/it]"
     ]
    },
    {
     "name": "stdout",
     "output_type": "stream",
     "text": [
      "Extracted 302 patches from data/Yale_HER2_cohort/SVS/Her2Pos_Case_85.svs; saved 302 to outputs/patches/Her2Pos_Case_85\n",
      "Processing slide: data/Yale_HER2_cohort/SVS/Her2Pos_Case_86.svs with annotation: /media/thanakornbuath/Phone SSD/her2-attention-classifier/data/Yale_HER2_cohort/Annotations/Her2Pos_Case_86.xml\n",
      "Mask shape: (34845, 40936)\n",
      "Loaded WSI backend: cucim\n"
     ]
    },
    {
     "name": "stderr",
     "output_type": "stream",
     "text": [
      "Processing slides:  39%|███▉      | 184/471 [23:10<38:51,  8.12s/it]"
     ]
    },
    {
     "name": "stdout",
     "output_type": "stream",
     "text": [
      "Extracted 102 patches from data/Yale_HER2_cohort/SVS/Her2Pos_Case_86.svs; saved 102 to outputs/patches/Her2Pos_Case_86\n",
      "Processing slide: data/Yale_HER2_cohort/SVS/Her2Pos_Case_87.svs with annotation: /media/thanakornbuath/Phone SSD/her2-attention-classifier/data/Yale_HER2_cohort/Annotations/Her2Pos_Case_87.xml\n",
      "Mask shape: (13024, 13328)\n",
      "Loaded WSI backend: cucim\n"
     ]
    },
    {
     "name": "stderr",
     "output_type": "stream",
     "text": [
      "Processing slides:  39%|███▉      | 185/471 [23:14<33:04,  6.94s/it]"
     ]
    },
    {
     "name": "stdout",
     "output_type": "stream",
     "text": [
      "Extracted 104 patches from data/Yale_HER2_cohort/SVS/Her2Pos_Case_87.svs; saved 104 to outputs/patches/Her2Pos_Case_87\n",
      "Processing slide: data/Yale_HER2_cohort/SVS/Her2Pos_Case_88.svs with annotation: /media/thanakornbuath/Phone SSD/her2-attention-classifier/data/Yale_HER2_cohort/Annotations/Her2Pos_Case_88.xml\n",
      "Mask shape: (34846, 57120)\n",
      "Loaded WSI backend: cucim\n"
     ]
    },
    {
     "name": "stderr",
     "output_type": "stream",
     "text": [
      "Processing slides:  39%|███▉      | 186/471 [23:21<32:46,  6.90s/it]"
     ]
    },
    {
     "name": "stdout",
     "output_type": "stream",
     "text": [
      "Extracted 142 patches from data/Yale_HER2_cohort/SVS/Her2Pos_Case_88.svs; saved 142 to outputs/patches/Her2Pos_Case_88\n",
      "Processing slide: data/Yale_HER2_cohort/SVS/Her2Pos_Case_89.svs with annotation: /media/thanakornbuath/Phone SSD/her2-attention-classifier/data/Yale_HER2_cohort/Annotations/Her2Pos_Case_89.xml\n",
      "Mask shape: (23935, 32368)\n",
      "Loaded WSI backend: cucim\n"
     ]
    },
    {
     "name": "stderr",
     "output_type": "stream",
     "text": [
      "Processing slides:  40%|███▉      | 187/471 [23:39<49:06, 10.38s/it]"
     ]
    },
    {
     "name": "stdout",
     "output_type": "stream",
     "text": [
      "Extracted 536 patches from data/Yale_HER2_cohort/SVS/Her2Pos_Case_89.svs; saved 536 to outputs/patches/Her2Pos_Case_89\n",
      "Processing slide: data/Yale_HER2_cohort/SVS/Her2Pos_Case_90.svs with annotation: /media/thanakornbuath/Phone SSD/her2-attention-classifier/data/Yale_HER2_cohort/Annotations/Her2Pos_Case_90.xml\n",
      "Mask shape: (19013, 31416)\n",
      "Loaded WSI backend: cucim\n"
     ]
    },
    {
     "name": "stderr",
     "output_type": "stream",
     "text": [
      "Processing slides:  40%|███▉      | 188/471 [23:56<57:19, 12.16s/it]"
     ]
    },
    {
     "name": "stdout",
     "output_type": "stream",
     "text": [
      "Extracted 457 patches from data/Yale_HER2_cohort/SVS/Her2Pos_Case_90.svs; saved 457 to outputs/patches/Her2Pos_Case_90\n",
      "Processing slide: data/Yale_HER2_cohort/SVS/Her2Pos_Case_91.svs with annotation: /media/thanakornbuath/Phone SSD/her2-attention-classifier/data/Yale_HER2_cohort/Annotations/Her2Pos_Case_91.xml\n",
      "Mask shape: (16306, 19992)\n",
      "Loaded WSI backend: cucim\n"
     ]
    },
    {
     "name": "stderr",
     "output_type": "stream",
     "text": [
      "Processing slides:  40%|████      | 189/471 [24:01<46:54,  9.98s/it]"
     ]
    },
    {
     "name": "stdout",
     "output_type": "stream",
     "text": [
      "Extracted 129 patches from data/Yale_HER2_cohort/SVS/Her2Pos_Case_91.svs; saved 129 to outputs/patches/Her2Pos_Case_91\n",
      "Processing slide: data/Yale_HER2_cohort/SVS/Her2Pos_Case_92.svs with annotation: /media/thanakornbuath/Phone SSD/her2-attention-classifier/data/Yale_HER2_cohort/Annotations/Her2Pos_Case_92.xml\n",
      "Mask shape: (20817, 18088)\n",
      "Loaded WSI backend: cucim\n"
     ]
    },
    {
     "name": "stderr",
     "output_type": "stream",
     "text": [
      "Processing slides:  40%|████      | 190/471 [24:04<37:31,  8.01s/it]"
     ]
    },
    {
     "name": "stdout",
     "output_type": "stream",
     "text": [
      "Extracted 67 patches from data/Yale_HER2_cohort/SVS/Her2Pos_Case_92.svs; saved 67 to outputs/patches/Her2Pos_Case_92\n",
      "Processing slide: data/Yale_HER2_cohort/SVS/Her2Pos_Case_93.svs with annotation: /media/thanakornbuath/Phone SSD/her2-attention-classifier/data/Yale_HER2_cohort/Annotations/Her2Pos_Case_93.xml\n",
      "Mask shape: (33531, 28560)\n",
      "Loaded WSI backend: cucim\n"
     ]
    },
    {
     "name": "stderr",
     "output_type": "stream",
     "text": [
      "Processing slides:  41%|████      | 191/471 [24:09<32:58,  7.07s/it]"
     ]
    },
    {
     "name": "stdout",
     "output_type": "stream",
     "text": [
      "Extracted 118 patches from data/Yale_HER2_cohort/SVS/Her2Pos_Case_93.svs; saved 118 to outputs/patches/Her2Pos_Case_93\n",
      "Processing slide: data/Yale_HER2_cohort/SVS/Her2Pos_Case_94.svs with annotation: /media/thanakornbuath/Phone SSD/her2-attention-classifier/data/Yale_HER2_cohort/Annotations/Her2Pos_Case_94.xml\n",
      "Mask shape: (20489, 24752)\n",
      "Loaded WSI backend: cucim\n"
     ]
    },
    {
     "name": "stderr",
     "output_type": "stream",
     "text": [
      "Processing slides:  41%|████      | 192/471 [24:20<38:07,  8.20s/it]"
     ]
    },
    {
     "name": "stdout",
     "output_type": "stream",
     "text": [
      "Extracted 258 patches from data/Yale_HER2_cohort/SVS/Her2Pos_Case_94.svs; saved 258 to outputs/patches/Her2Pos_Case_94\n",
      "Processing slide: data/Yale_trastuzumab_response_cohort/SVS/O09-03495.svs with annotation: /media/thanakornbuath/Phone SSD/her2-attention-classifier/data/Yale_trastuzumab_response_cohort/Annotations/O09-03495.xml\n",
      "Mask shape: (30663, 55216)\n",
      "Loaded WSI backend: cucim\n"
     ]
    },
    {
     "name": "stderr",
     "output_type": "stream",
     "text": [
      "Processing slides:  41%|████      | 193/471 [24:31<41:57,  9.06s/it]"
     ]
    },
    {
     "name": "stdout",
     "output_type": "stream",
     "text": [
      "Extracted 255 patches from data/Yale_trastuzumab_response_cohort/SVS/O09-03495.svs; saved 255 to outputs/patches/O09-03495\n",
      "Processing slide: data/Yale_trastuzumab_response_cohort/SVS/O10-12717.svs with annotation: /media/thanakornbuath/Phone SSD/her2-attention-classifier/data/Yale_trastuzumab_response_cohort/Annotations/O10-12717.xml\n",
      "Mask shape: (33286, 37128)\n",
      "Loaded WSI backend: cucim\n"
     ]
    },
    {
     "name": "stderr",
     "output_type": "stream",
     "text": [
      "Processing slides:  41%|████      | 194/471 [24:42<44:44,  9.69s/it]"
     ]
    },
    {
     "name": "stdout",
     "output_type": "stream",
     "text": [
      "Extracted 274 patches from data/Yale_trastuzumab_response_cohort/SVS/O10-12717.svs; saved 274 to outputs/patches/O10-12717\n",
      "Processing slide: data/Yale_trastuzumab_response_cohort/SVS/O14-02301.svs with annotation: /media/thanakornbuath/Phone SSD/her2-attention-classifier/data/Yale_trastuzumab_response_cohort/Annotations/O14-02301.xml\n",
      "Mask shape: (19669, 27608)\n",
      "Loaded WSI backend: cucim\n"
     ]
    },
    {
     "name": "stderr",
     "output_type": "stream",
     "text": [
      "Processing slides:  41%|████▏     | 195/471 [24:44<34:10,  7.43s/it]"
     ]
    },
    {
     "name": "stdout",
     "output_type": "stream",
     "text": [
      "Extracted 45 patches from data/Yale_trastuzumab_response_cohort/SVS/O14-02301.svs; saved 45 to outputs/patches/O14-02301\n",
      "Processing slide: data/Yale_trastuzumab_response_cohort/SVS/O16-11870.svs with annotation: /media/thanakornbuath/Phone SSD/her2-attention-classifier/data/Yale_trastuzumab_response_cohort/Annotations/O16-11870.xml\n",
      "Mask shape: (27954, 25704)\n",
      "Loaded WSI backend: cucim\n"
     ]
    },
    {
     "name": "stderr",
     "output_type": "stream",
     "text": [
      "Processing slides:  42%|████▏     | 196/471 [25:01<47:04, 10.27s/it]"
     ]
    },
    {
     "name": "stdout",
     "output_type": "stream",
     "text": [
      "Extracted 467 patches from data/Yale_trastuzumab_response_cohort/SVS/O16-11870.svs; saved 467 to outputs/patches/O16-11870\n",
      "Processing slide: data/Yale_trastuzumab_response_cohort/SVS/O16-18464.svs with annotation: /media/thanakornbuath/Phone SSD/her2-attention-classifier/data/Yale_trastuzumab_response_cohort/Annotations/O16-18464.xml\n",
      "Mask shape: (28200, 31416)\n",
      "Loaded WSI backend: cucim\n"
     ]
    },
    {
     "name": "stderr",
     "output_type": "stream",
     "text": [
      "Processing slides:  42%|████▏     | 197/471 [25:08<42:05,  9.22s/it]"
     ]
    },
    {
     "name": "stdout",
     "output_type": "stream",
     "text": [
      "Extracted 175 patches from data/Yale_trastuzumab_response_cohort/SVS/O16-18464.svs; saved 175 to outputs/patches/O16-18464\n",
      "Processing slide: data/Yale_trastuzumab_response_cohort/SVS/O17-01529.svs with annotation: /media/thanakornbuath/Phone SSD/her2-attention-classifier/data/Yale_trastuzumab_response_cohort/Annotations/O17-01529.xml\n",
      "Mask shape: (32301, 32368)\n",
      "Loaded WSI backend: cucim\n"
     ]
    },
    {
     "name": "stderr",
     "output_type": "stream",
     "text": [
      "Processing slides:  42%|████▏     | 198/471 [25:18<43:55,  9.65s/it]"
     ]
    },
    {
     "name": "stdout",
     "output_type": "stream",
     "text": [
      "Extracted 296 patches from data/Yale_trastuzumab_response_cohort/SVS/O17-01529.svs; saved 296 to outputs/patches/O17-01529\n",
      "Processing slide: data/Yale_trastuzumab_response_cohort/SVS/O18-12772.svs with annotation: /media/thanakornbuath/Phone SSD/her2-attention-classifier/data/Yale_trastuzumab_response_cohort/Annotations/O18-12772.xml\n",
      "Mask shape: (22294, 24752)\n",
      "Loaded WSI backend: cucim\n"
     ]
    },
    {
     "name": "stderr",
     "output_type": "stream",
     "text": [
      "Processing slides:  42%|████▏     | 199/471 [25:32<49:08, 10.84s/it]"
     ]
    },
    {
     "name": "stdout",
     "output_type": "stream",
     "text": [
      "Extracted 348 patches from data/Yale_trastuzumab_response_cohort/SVS/O18-12772.svs; saved 348 to outputs/patches/O18-12772\n",
      "Processing slide: data/Yale_trastuzumab_response_cohort/SVS/S08-31466.svs with annotation: /media/thanakornbuath/Phone SSD/her2-attention-classifier/data/Yale_trastuzumab_response_cohort/Annotations/S08-31466.xml\n",
      "Mask shape: (12943, 19040)\n",
      "Loaded WSI backend: cucim\n"
     ]
    },
    {
     "name": "stderr",
     "output_type": "stream",
     "text": [
      "Processing slides:  42%|████▏     | 200/471 [25:38<42:45,  9.47s/it]"
     ]
    },
    {
     "name": "stdout",
     "output_type": "stream",
     "text": [
      "Extracted 176 patches from data/Yale_trastuzumab_response_cohort/SVS/S08-31466.svs; saved 176 to outputs/patches/S08-31466\n",
      "Processing slide: data/Yale_trastuzumab_response_cohort/SVS/S09-15833.svs with annotation: /media/thanakornbuath/Phone SSD/her2-attention-classifier/data/Yale_trastuzumab_response_cohort/Annotations/S09-15833.xml\n",
      "Mask shape: (33450, 34272)\n",
      "Loaded WSI backend: cucim\n"
     ]
    },
    {
     "name": "stderr",
     "output_type": "stream",
     "text": [
      "Processing slides:  43%|████▎     | 201/471 [25:53<50:15, 11.17s/it]"
     ]
    },
    {
     "name": "stdout",
     "output_type": "stream",
     "text": [
      "Extracted 387 patches from data/Yale_trastuzumab_response_cohort/SVS/S09-15833.svs; saved 387 to outputs/patches/S09-15833\n",
      "Processing slide: data/Yale_trastuzumab_response_cohort/SVS/S09-19750.svs with annotation: /media/thanakornbuath/Phone SSD/her2-attention-classifier/data/Yale_trastuzumab_response_cohort/Annotations/S09-19750.xml\n",
      "Mask shape: (35500, 32368)\n",
      "Loaded WSI backend: cucim\n"
     ]
    },
    {
     "name": "stderr",
     "output_type": "stream",
     "text": [
      "Processing slides:  43%|████▎     | 202/471 [26:20<1:10:38, 15.76s/it]"
     ]
    },
    {
     "name": "stdout",
     "output_type": "stream",
     "text": [
      "Extracted 485 patches from data/Yale_trastuzumab_response_cohort/SVS/S09-19750.svs; saved 485 to outputs/patches/S09-19750\n",
      "Processing slide: data/Yale_trastuzumab_response_cohort/SVS/S10-00647.svs with annotation: /media/thanakornbuath/Phone SSD/her2-attention-classifier/data/Yale_trastuzumab_response_cohort/Annotations/S10-00647.xml\n",
      "Mask shape: (25247, 29512)\n",
      "Loaded WSI backend: cucim\n"
     ]
    },
    {
     "name": "stderr",
     "output_type": "stream",
     "text": [
      "Processing slides:  43%|████▎     | 203/471 [26:33<1:06:52, 14.97s/it]"
     ]
    },
    {
     "name": "stdout",
     "output_type": "stream",
     "text": [
      "Extracted 253 patches from data/Yale_trastuzumab_response_cohort/SVS/S10-00647.svs; saved 253 to outputs/patches/S10-00647\n",
      "Processing slide: data/Yale_trastuzumab_response_cohort/SVS/S10-09633.svs with annotation: /media/thanakornbuath/Phone SSD/her2-attention-classifier/data/Yale_trastuzumab_response_cohort/Annotations/S10-09633.xml\n",
      "Mask shape: (33778, 30464)\n",
      "Loaded WSI backend: cucim\n"
     ]
    },
    {
     "name": "stderr",
     "output_type": "stream",
     "text": [
      "Processing slides:  43%|████▎     | 204/471 [26:51<1:11:09, 15.99s/it]"
     ]
    },
    {
     "name": "stdout",
     "output_type": "stream",
     "text": [
      "Extracted 466 patches from data/Yale_trastuzumab_response_cohort/SVS/S10-09633.svs; saved 466 to outputs/patches/S10-09633\n",
      "Processing slide: data/Yale_trastuzumab_response_cohort/SVS/S11-15267.svs with annotation: /media/thanakornbuath/Phone SSD/her2-attention-classifier/data/Yale_trastuzumab_response_cohort/Annotations/S11-15267.xml\n",
      "Mask shape: (15405, 42840)\n",
      "Loaded WSI backend: cucim\n"
     ]
    },
    {
     "name": "stderr",
     "output_type": "stream",
     "text": [
      "Processing slides:  44%|████▎     | 205/471 [26:54<52:40, 11.88s/it]  "
     ]
    },
    {
     "name": "stdout",
     "output_type": "stream",
     "text": [
      "Extracted 50 patches from data/Yale_trastuzumab_response_cohort/SVS/S11-15267.svs; saved 50 to outputs/patches/S11-15267\n",
      "Processing slide: data/Yale_trastuzumab_response_cohort/SVS/S11-24835.svs with annotation: /media/thanakornbuath/Phone SSD/her2-attention-classifier/data/Yale_trastuzumab_response_cohort/Annotations/S11-24835.xml\n",
      "Mask shape: (27544, 27608)\n",
      "Loaded WSI backend: cucim\n"
     ]
    },
    {
     "name": "stderr",
     "output_type": "stream",
     "text": [
      "Processing slides:  44%|████▎     | 206/471 [27:12<1:01:15, 13.87s/it]"
     ]
    },
    {
     "name": "stdout",
     "output_type": "stream",
     "text": [
      "Extracted 490 patches from data/Yale_trastuzumab_response_cohort/SVS/S11-24835.svs; saved 490 to outputs/patches/S11-24835\n",
      "Processing slide: data/Yale_trastuzumab_response_cohort/SVS/S12-07776.svs with annotation: /media/thanakornbuath/Phone SSD/her2-attention-classifier/data/Yale_trastuzumab_response_cohort/Annotations/S12-07776.xml\n",
      "Mask shape: (22130, 21896)\n",
      "Loaded WSI backend: cucim\n"
     ]
    },
    {
     "name": "stderr",
     "output_type": "stream",
     "text": [
      "Processing slides:  44%|████▍     | 207/471 [27:15<46:44, 10.62s/it]  "
     ]
    },
    {
     "name": "stdout",
     "output_type": "stream",
     "text": [
      "Extracted 73 patches from data/Yale_trastuzumab_response_cohort/SVS/S12-07776.svs; saved 73 to outputs/patches/S12-07776\n",
      "Processing slide: data/Yale_trastuzumab_response_cohort/SVS/S12-22754.svs with annotation: /media/thanakornbuath/Phone SSD/her2-attention-classifier/data/Yale_trastuzumab_response_cohort/Annotations/S12-22754.xml\n",
      "Mask shape: (25904, 39032)\n",
      "Loaded WSI backend: cucim\n"
     ]
    },
    {
     "name": "stderr",
     "output_type": "stream",
     "text": [
      "Processing slides:  44%|████▍     | 208/471 [27:48<1:15:53, 17.32s/it]"
     ]
    },
    {
     "name": "stdout",
     "output_type": "stream",
     "text": [
      "Extracted 825 patches from data/Yale_trastuzumab_response_cohort/SVS/S12-22754.svs; saved 825 to outputs/patches/S12-22754\n",
      "Processing slide: data/Yale_trastuzumab_response_cohort/SVS/S12-28303.svs with annotation: /media/thanakornbuath/Phone SSD/her2-attention-classifier/data/Yale_trastuzumab_response_cohort/Annotations/S12-28303.xml\n",
      "Mask shape: (29924, 54264)\n",
      "Loaded WSI backend: cucim\n"
     ]
    },
    {
     "name": "stderr",
     "output_type": "stream",
     "text": [
      "Processing slides:  44%|████▍     | 209/471 [28:05<1:14:32, 17.07s/it]"
     ]
    },
    {
     "name": "stdout",
     "output_type": "stream",
     "text": [
      "Extracted 368 patches from data/Yale_trastuzumab_response_cohort/SVS/S12-28303.svs; saved 368 to outputs/patches/S12-28303\n",
      "Processing slide: data/Yale_trastuzumab_response_cohort/SVS/S12-35886.svs with annotation: /media/thanakornbuath/Phone SSD/her2-attention-classifier/data/Yale_trastuzumab_response_cohort/Annotations/S12-35886.xml\n",
      "Mask shape: (31974, 41888)\n",
      "Loaded WSI backend: cucim\n"
     ]
    },
    {
     "name": "stderr",
     "output_type": "stream",
     "text": [
      "Processing slides:  45%|████▍     | 210/471 [28:08<56:42, 13.04s/it]  "
     ]
    },
    {
     "name": "stdout",
     "output_type": "stream",
     "text": [
      "Extracted 68 patches from data/Yale_trastuzumab_response_cohort/SVS/S12-35886.svs; saved 68 to outputs/patches/S12-35886\n",
      "Processing slide: data/Yale_trastuzumab_response_cohort/SVS/S13-07627.svs with annotation: /media/thanakornbuath/Phone SSD/her2-attention-classifier/data/Yale_trastuzumab_response_cohort/Annotations/S13-07627.xml\n",
      "Mask shape: (21637, 15232)\n",
      "Loaded WSI backend: cucim\n"
     ]
    },
    {
     "name": "stderr",
     "output_type": "stream",
     "text": [
      "Processing slides:  45%|████▍     | 211/471 [28:14<47:06, 10.87s/it]"
     ]
    },
    {
     "name": "stdout",
     "output_type": "stream",
     "text": [
      "Extracted 155 patches from data/Yale_trastuzumab_response_cohort/SVS/S13-07627.svs; saved 155 to outputs/patches/S13-07627\n",
      "Processing slide: data/Yale_trastuzumab_response_cohort/SVS/S13-08586.svs with annotation: /media/thanakornbuath/Phone SSD/her2-attention-classifier/data/Yale_trastuzumab_response_cohort/Annotations/S13-08586.xml\n",
      "Mask shape: (41818, 57120)\n",
      "Loaded WSI backend: cucim\n"
     ]
    },
    {
     "name": "stderr",
     "output_type": "stream",
     "text": [
      "Processing slides:  45%|████▌     | 212/471 [28:53<1:23:34, 19.36s/it]"
     ]
    },
    {
     "name": "stdout",
     "output_type": "stream",
     "text": [
      "Extracted 988 patches from data/Yale_trastuzumab_response_cohort/SVS/S13-08586.svs; saved 988 to outputs/patches/S13-08586\n",
      "Processing slide: data/Yale_trastuzumab_response_cohort/SVS/S13-11381.svs with annotation: /media/thanakornbuath/Phone SSD/her2-attention-classifier/data/Yale_trastuzumab_response_cohort/Annotations/S13-11381.xml\n",
      "Mask shape: (11221, 28560)\n",
      "Loaded WSI backend: cucim\n"
     ]
    },
    {
     "name": "stderr",
     "output_type": "stream",
     "text": [
      "Processing slides:  45%|████▌     | 213/471 [29:02<1:09:00, 16.05s/it]"
     ]
    },
    {
     "name": "stdout",
     "output_type": "stream",
     "text": [
      "Extracted 177 patches from data/Yale_trastuzumab_response_cohort/SVS/S13-11381.svs; saved 177 to outputs/patches/S13-11381\n",
      "Processing slide: data/Yale_trastuzumab_response_cohort/SVS/S13-15979.svs with annotation: /media/thanakornbuath/Phone SSD/her2-attention-classifier/data/Yale_trastuzumab_response_cohort/Annotations/S13-15979.xml\n",
      "Mask shape: (30661, 31416)\n",
      "Loaded WSI backend: cucim\n"
     ]
    },
    {
     "name": "stderr",
     "output_type": "stream",
     "text": [
      "Processing slides:  45%|████▌     | 214/471 [29:08<55:42, 13.01s/it]  "
     ]
    },
    {
     "name": "stdout",
     "output_type": "stream",
     "text": [
      "Extracted 133 patches from data/Yale_trastuzumab_response_cohort/SVS/S13-15979.svs; saved 133 to outputs/patches/S13-15979\n",
      "Processing slide: data/Yale_trastuzumab_response_cohort/SVS/S13-31494.svs with annotation: /media/thanakornbuath/Phone SSD/her2-attention-classifier/data/Yale_trastuzumab_response_cohort/Annotations/S13-31494.xml\n",
      "Mask shape: (23280, 43792)\n",
      "Loaded WSI backend: cucim\n"
     ]
    },
    {
     "name": "stderr",
     "output_type": "stream",
     "text": [
      "Processing slides:  46%|████▌     | 215/471 [29:18<52:24, 12.28s/it]"
     ]
    },
    {
     "name": "stdout",
     "output_type": "stream",
     "text": [
      "Extracted 223 patches from data/Yale_trastuzumab_response_cohort/SVS/S13-31494.svs; saved 223 to outputs/patches/S13-31494\n",
      "Processing slide: data/Yale_trastuzumab_response_cohort/SVS/S13-33035.svs with annotation: /media/thanakornbuath/Phone SSD/her2-attention-classifier/data/Yale_trastuzumab_response_cohort/Annotations/S13-33035.xml\n",
      "Mask shape: (23114, 19040)\n",
      "Loaded WSI backend: cucim\n"
     ]
    },
    {
     "name": "stderr",
     "output_type": "stream",
     "text": [
      "Processing slides:  46%|████▌     | 216/471 [29:27<47:37, 11.20s/it]"
     ]
    },
    {
     "name": "stdout",
     "output_type": "stream",
     "text": [
      "Extracted 253 patches from data/Yale_trastuzumab_response_cohort/SVS/S13-33035.svs; saved 253 to outputs/patches/S13-33035\n",
      "Processing slide: data/Yale_trastuzumab_response_cohort/SVS/S14-01774.svs with annotation: /media/thanakornbuath/Phone SSD/her2-attention-classifier/data/Yale_trastuzumab_response_cohort/Annotations/S14-01774.xml\n",
      "Mask shape: (18028, 19992)\n",
      "Loaded WSI backend: cucim\n"
     ]
    },
    {
     "name": "stderr",
     "output_type": "stream",
     "text": [
      "Processing slides:  46%|████▌     | 217/471 [29:29<36:24,  8.60s/it]"
     ]
    },
    {
     "name": "stdout",
     "output_type": "stream",
     "text": [
      "Extracted 54 patches from data/Yale_trastuzumab_response_cohort/SVS/S14-01774.svs; saved 54 to outputs/patches/S14-01774\n",
      "Processing slide: data/Yale_trastuzumab_response_cohort/SVS/S14-04504.svs with annotation: /media/thanakornbuath/Phone SSD/her2-attention-classifier/data/Yale_trastuzumab_response_cohort/Annotations/S14-04504.xml\n",
      "Mask shape: (14419, 19992)\n",
      "Loaded WSI backend: cucim\n"
     ]
    },
    {
     "name": "stderr",
     "output_type": "stream",
     "text": [
      "Processing slides:  46%|████▋     | 218/471 [29:33<30:38,  7.27s/it]"
     ]
    },
    {
     "name": "stdout",
     "output_type": "stream",
     "text": [
      "Extracted 103 patches from data/Yale_trastuzumab_response_cohort/SVS/S14-04504.svs; saved 103 to outputs/patches/S14-04504\n",
      "Processing slide: data/Yale_trastuzumab_response_cohort/SVS/S14-12226.svs with annotation: /media/thanakornbuath/Phone SSD/her2-attention-classifier/data/Yale_trastuzumab_response_cohort/Annotations/S14-12226.xml\n",
      "Mask shape: (36405, 60928)\n",
      "Loaded WSI backend: cucim\n"
     ]
    },
    {
     "name": "stderr",
     "output_type": "stream",
     "text": [
      "Processing slides:  46%|████▋     | 219/471 [29:38<26:58,  6.42s/it]"
     ]
    },
    {
     "name": "stdout",
     "output_type": "stream",
     "text": [
      "Extracted 76 patches from data/Yale_trastuzumab_response_cohort/SVS/S14-12226.svs; saved 76 to outputs/patches/S14-12226\n",
      "Processing slide: data/Yale_trastuzumab_response_cohort/SVS/S14-12770.svs with annotation: /media/thanakornbuath/Phone SSD/her2-attention-classifier/data/Yale_trastuzumab_response_cohort/Annotations/S14-12770.xml\n",
      "Mask shape: (31645, 34272)\n",
      "Loaded WSI backend: cucim\n"
     ]
    },
    {
     "name": "stderr",
     "output_type": "stream",
     "text": [
      "Processing slides:  47%|████▋     | 220/471 [29:56<40:56,  9.79s/it]"
     ]
    },
    {
     "name": "stdout",
     "output_type": "stream",
     "text": [
      "Extracted 429 patches from data/Yale_trastuzumab_response_cohort/SVS/S14-12770.svs; saved 429 to outputs/patches/S14-12770\n",
      "Processing slide: data/Yale_trastuzumab_response_cohort/SVS/S14-12928.svs with annotation: /media/thanakornbuath/Phone SSD/her2-attention-classifier/data/Yale_trastuzumab_response_cohort/Annotations/S14-12928.xml\n",
      "Mask shape: (33286, 39984)\n",
      "Loaded WSI backend: cucim\n"
     ]
    },
    {
     "name": "stderr",
     "output_type": "stream",
     "text": [
      "Processing slides:  47%|████▋     | 221/471 [30:19<57:35, 13.82s/it]"
     ]
    },
    {
     "name": "stdout",
     "output_type": "stream",
     "text": [
      "Extracted 589 patches from data/Yale_trastuzumab_response_cohort/SVS/S14-12928.svs; saved 589 to outputs/patches/S14-12928\n",
      "Processing slide: data/Yale_trastuzumab_response_cohort/SVS/S14-13440.svs with annotation: /media/thanakornbuath/Phone SSD/her2-attention-classifier/data/Yale_trastuzumab_response_cohort/Annotations/S14-13440.xml\n",
      "Mask shape: (28857, 35224)\n",
      "Loaded WSI backend: cucim\n"
     ]
    },
    {
     "name": "stderr",
     "output_type": "stream",
     "text": [
      "Processing slides:  47%|████▋     | 222/471 [30:32<56:26, 13.60s/it]"
     ]
    },
    {
     "name": "stdout",
     "output_type": "stream",
     "text": [
      "Extracted 328 patches from data/Yale_trastuzumab_response_cohort/SVS/S14-13440.svs; saved 328 to outputs/patches/S14-13440\n",
      "Processing slide: data/Yale_trastuzumab_response_cohort/SVS/S14-13994.svs with annotation: /media/thanakornbuath/Phone SSD/her2-attention-classifier/data/Yale_trastuzumab_response_cohort/Annotations/S14-13994.xml\n",
      "Mask shape: (30006, 57120)\n",
      "Loaded WSI backend: cucim\n"
     ]
    },
    {
     "name": "stderr",
     "output_type": "stream",
     "text": [
      "Processing slides:  47%|████▋     | 223/471 [30:47<57:51, 14.00s/it]"
     ]
    },
    {
     "name": "stdout",
     "output_type": "stream",
     "text": [
      "Extracted 400 patches from data/Yale_trastuzumab_response_cohort/SVS/S14-13994.svs; saved 400 to outputs/patches/S14-13994\n",
      "Processing slide: data/Yale_trastuzumab_response_cohort/SVS/S14-15197.svs with annotation: /media/thanakornbuath/Phone SSD/her2-attention-classifier/data/Yale_trastuzumab_response_cohort/Annotations/S14-15197.xml\n",
      "Mask shape: (29758, 25704)\n",
      "Loaded WSI backend: cucim\n"
     ]
    },
    {
     "name": "stderr",
     "output_type": "stream",
     "text": [
      "Processing slides:  48%|████▊     | 224/471 [30:51<46:03, 11.19s/it]"
     ]
    },
    {
     "name": "stdout",
     "output_type": "stream",
     "text": [
      "Extracted 106 patches from data/Yale_trastuzumab_response_cohort/SVS/S14-15197.svs; saved 106 to outputs/patches/S14-15197\n",
      "Processing slide: data/Yale_trastuzumab_response_cohort/SVS/S14-16118.svs with annotation: /media/thanakornbuath/Phone SSD/her2-attention-classifier/data/Yale_trastuzumab_response_cohort/Annotations/S14-16118.xml\n",
      "Mask shape: (27465, 71400)\n",
      "Loaded WSI backend: cucim\n"
     ]
    },
    {
     "name": "stderr",
     "output_type": "stream",
     "text": [
      "Processing slides:  48%|████▊     | 225/471 [31:03<46:53, 11.44s/it]"
     ]
    },
    {
     "name": "stdout",
     "output_type": "stream",
     "text": [
      "Extracted 321 patches from data/Yale_trastuzumab_response_cohort/SVS/S14-16118.svs; saved 321 to outputs/patches/S14-16118\n",
      "Processing slide: data/Yale_trastuzumab_response_cohort/SVS/S15-00942.svs with annotation: /media/thanakornbuath/Phone SSD/her2-attention-classifier/data/Yale_trastuzumab_response_cohort/Annotations/S15-00942.xml\n",
      "Mask shape: (34271, 48552)\n",
      "Loaded WSI backend: cucim\n"
     ]
    },
    {
     "name": "stderr",
     "output_type": "stream",
     "text": [
      "Processing slides:  48%|████▊     | 226/471 [31:09<38:53,  9.52s/it]"
     ]
    },
    {
     "name": "stdout",
     "output_type": "stream",
     "text": [
      "Extracted 101 patches from data/Yale_trastuzumab_response_cohort/SVS/S15-00942.svs; saved 101 to outputs/patches/S15-00942\n",
      "Processing slide: data/Yale_trastuzumab_response_cohort/SVS/S15-02790.svs with annotation: /media/thanakornbuath/Phone SSD/her2-attention-classifier/data/Yale_trastuzumab_response_cohort/Annotations/S15-02790.xml\n",
      "Mask shape: (18685, 28560)\n",
      "Loaded WSI backend: cucim\n"
     ]
    },
    {
     "name": "stderr",
     "output_type": "stream",
     "text": [
      "Processing slides:  48%|████▊     | 227/471 [31:17<37:29,  9.22s/it]"
     ]
    },
    {
     "name": "stdout",
     "output_type": "stream",
     "text": [
      "Extracted 187 patches from data/Yale_trastuzumab_response_cohort/SVS/S15-02790.svs; saved 187 to outputs/patches/S15-02790\n",
      "Processing slide: data/Yale_trastuzumab_response_cohort/SVS/S15-03056.svs with annotation: /media/thanakornbuath/Phone SSD/her2-attention-classifier/data/Yale_trastuzumab_response_cohort/Annotations/S15-03056.xml\n",
      "Mask shape: (14420, 26656)\n",
      "Loaded WSI backend: cucim\n"
     ]
    },
    {
     "name": "stderr",
     "output_type": "stream",
     "text": [
      "Processing slides:  48%|████▊     | 228/471 [31:22<32:08,  7.94s/it]"
     ]
    },
    {
     "name": "stdout",
     "output_type": "stream",
     "text": [
      "Extracted 124 patches from data/Yale_trastuzumab_response_cohort/SVS/S15-03056.svs; saved 124 to outputs/patches/S15-03056\n",
      "Processing slide: data/Yale_trastuzumab_response_cohort/SVS/S15-05781.svs with annotation: /media/thanakornbuath/Phone SSD/her2-attention-classifier/data/Yale_trastuzumab_response_cohort/Annotations/S15-05781.xml\n",
      "Mask shape: (26313, 23800)\n",
      "Loaded WSI backend: cucim\n"
     ]
    },
    {
     "name": "stderr",
     "output_type": "stream",
     "text": [
      "Processing slides:  49%|████▊     | 229/471 [31:32<34:01,  8.44s/it]"
     ]
    },
    {
     "name": "stdout",
     "output_type": "stream",
     "text": [
      "Extracted 241 patches from data/Yale_trastuzumab_response_cohort/SVS/S15-05781.svs; saved 241 to outputs/patches/S15-05781\n",
      "Processing slide: data/Yale_trastuzumab_response_cohort/SVS/S15-05979.svs with annotation: /media/thanakornbuath/Phone SSD/her2-attention-classifier/data/Yale_trastuzumab_response_cohort/Annotations/S15-05979.xml\n",
      "Mask shape: (25575, 33320)\n",
      "Loaded WSI backend: cucim\n"
     ]
    },
    {
     "name": "stderr",
     "output_type": "stream",
     "text": [
      "Processing slides:  49%|████▉     | 230/471 [31:33<25:40,  6.39s/it]"
     ]
    },
    {
     "name": "stdout",
     "output_type": "stream",
     "text": [
      "Extracted 29 patches from data/Yale_trastuzumab_response_cohort/SVS/S15-05979.svs; saved 29 to outputs/patches/S15-05979\n",
      "Processing slide: data/Yale_trastuzumab_response_cohort/SVS/S15-06857.svs with annotation: /media/thanakornbuath/Phone SSD/her2-attention-classifier/data/Yale_trastuzumab_response_cohort/Annotations/S15-06857.xml\n",
      "Mask shape: (14337, 13328)\n",
      "Loaded WSI backend: cucim\n"
     ]
    },
    {
     "name": "stderr",
     "output_type": "stream",
     "text": [
      "Processing slides:  49%|████▉     | 231/471 [31:41<26:45,  6.69s/it]"
     ]
    },
    {
     "name": "stdout",
     "output_type": "stream",
     "text": [
      "Extracted 162 patches from data/Yale_trastuzumab_response_cohort/SVS/S15-06857.svs; saved 162 to outputs/patches/S15-06857\n",
      "Processing slide: data/Yale_trastuzumab_response_cohort/SVS/S15-10140.svs with annotation: /media/thanakornbuath/Phone SSD/her2-attention-classifier/data/Yale_trastuzumab_response_cohort/Annotations/S15-10140.xml\n",
      "Mask shape: (23114, 26656)\n",
      "Loaded WSI backend: cucim\n"
     ]
    },
    {
     "name": "stderr",
     "output_type": "stream",
     "text": [
      "Processing slides:  49%|████▉     | 232/471 [31:51<31:16,  7.85s/it]"
     ]
    },
    {
     "name": "stdout",
     "output_type": "stream",
     "text": [
      "Extracted 207 patches from data/Yale_trastuzumab_response_cohort/SVS/S15-10140.svs; saved 207 to outputs/patches/S15-10140\n",
      "Processing slide: data/Yale_trastuzumab_response_cohort/SVS/S15-12411.svs with annotation: /media/thanakornbuath/Phone SSD/her2-attention-classifier/data/Yale_trastuzumab_response_cohort/Annotations/S15-12411.xml\n",
      "Mask shape: (38454, 41888)\n",
      "Loaded WSI backend: cucim\n"
     ]
    },
    {
     "name": "stderr",
     "output_type": "stream",
     "text": [
      "Processing slides:  49%|████▉     | 233/471 [32:18<54:14, 13.67s/it]"
     ]
    },
    {
     "name": "stdout",
     "output_type": "stream",
     "text": [
      "Extracted 641 patches from data/Yale_trastuzumab_response_cohort/SVS/S15-12411.svs; saved 641 to outputs/patches/S15-12411\n",
      "Processing slide: data/Yale_trastuzumab_response_cohort/SVS/S15-12838.svs with annotation: /media/thanakornbuath/Phone SSD/her2-attention-classifier/data/Yale_trastuzumab_response_cohort/Annotations/S15-12838.xml\n",
      "Mask shape: (29267, 44744)\n",
      "Loaded WSI backend: cucim\n"
     ]
    },
    {
     "name": "stderr",
     "output_type": "stream",
     "text": [
      "Processing slides:  50%|████▉     | 234/471 [32:22<42:15, 10.70s/it]"
     ]
    },
    {
     "name": "stdout",
     "output_type": "stream",
     "text": [
      "Extracted 82 patches from data/Yale_trastuzumab_response_cohort/SVS/S15-12838.svs; saved 82 to outputs/patches/S15-12838\n",
      "Processing slide: data/Yale_trastuzumab_response_cohort/SVS/S15-13623.svs with annotation: /media/thanakornbuath/Phone SSD/her2-attention-classifier/data/Yale_trastuzumab_response_cohort/Annotations/S15-13623.xml\n",
      "Mask shape: (32301, 33320)\n",
      "Loaded WSI backend: cucim\n"
     ]
    },
    {
     "name": "stderr",
     "output_type": "stream",
     "text": [
      "Processing slides:  50%|████▉     | 235/471 [32:40<50:31, 12.85s/it]"
     ]
    },
    {
     "name": "stdout",
     "output_type": "stream",
     "text": [
      "Extracted 394 patches from data/Yale_trastuzumab_response_cohort/SVS/S15-13623.svs; saved 394 to outputs/patches/S15-13623\n",
      "Processing slide: data/Yale_trastuzumab_response_cohort/SVS/S15-14834.svs with annotation: /media/thanakornbuath/Phone SSD/her2-attention-classifier/data/Yale_trastuzumab_response_cohort/Annotations/S15-14834.xml\n",
      "Mask shape: (20736, 33320)\n",
      "Loaded WSI backend: cucim\n"
     ]
    },
    {
     "name": "stderr",
     "output_type": "stream",
     "text": [
      "Processing slides:  50%|█████     | 236/471 [33:00<58:48, 15.02s/it]"
     ]
    },
    {
     "name": "stdout",
     "output_type": "stream",
     "text": [
      "Extracted 483 patches from data/Yale_trastuzumab_response_cohort/SVS/S15-14834.svs; saved 483 to outputs/patches/S15-14834\n",
      "Processing slide: data/Yale_trastuzumab_response_cohort/SVS/S15-15318.svs with annotation: /media/thanakornbuath/Phone SSD/her2-attention-classifier/data/Yale_trastuzumab_response_cohort/Annotations/S15-15318.xml\n",
      "Mask shape: (24509, 32368)\n",
      "Loaded WSI backend: cucim\n"
     ]
    },
    {
     "name": "stderr",
     "output_type": "stream",
     "text": [
      "Processing slides:  50%|█████     | 237/471 [33:10<52:27, 13.45s/it]"
     ]
    },
    {
     "name": "stdout",
     "output_type": "stream",
     "text": [
      "Extracted 248 patches from data/Yale_trastuzumab_response_cohort/SVS/S15-15318.svs; saved 248 to outputs/patches/S15-15318\n",
      "Processing slide: data/Yale_trastuzumab_response_cohort/SVS/S15-20350.svs with annotation: /media/thanakornbuath/Phone SSD/her2-attention-classifier/data/Yale_trastuzumab_response_cohort/Annotations/S15-20350.xml\n",
      "Mask shape: (22130, 28560)\n",
      "Loaded WSI backend: cucim\n"
     ]
    },
    {
     "name": "stderr",
     "output_type": "stream",
     "text": [
      "Processing slides:  51%|█████     | 238/471 [33:26<55:35, 14.32s/it]"
     ]
    },
    {
     "name": "stdout",
     "output_type": "stream",
     "text": [
      "Extracted 406 patches from data/Yale_trastuzumab_response_cohort/SVS/S15-20350.svs; saved 406 to outputs/patches/S15-20350\n",
      "Processing slide: data/Yale_trastuzumab_response_cohort/SVS/S15-27036.svs with annotation: /media/thanakornbuath/Phone SSD/her2-attention-classifier/data/Yale_trastuzumab_response_cohort/Annotations/S15-27036.xml\n",
      "Mask shape: (34352, 38080)\n",
      "Loaded WSI backend: cucim\n"
     ]
    },
    {
     "name": "stderr",
     "output_type": "stream",
     "text": [
      "Processing slides:  51%|█████     | 239/471 [33:37<51:23, 13.29s/it]"
     ]
    },
    {
     "name": "stdout",
     "output_type": "stream",
     "text": [
      "Extracted 247 patches from data/Yale_trastuzumab_response_cohort/SVS/S15-27036.svs; saved 247 to outputs/patches/S15-27036\n",
      "Processing slide: data/Yale_trastuzumab_response_cohort/SVS/S15-28568.svs with annotation: /media/thanakornbuath/Phone SSD/her2-attention-classifier/data/Yale_trastuzumab_response_cohort/Annotations/S15-28568.xml\n",
      "Mask shape: (27052, 35224)\n",
      "Loaded WSI backend: cucim\n"
     ]
    },
    {
     "name": "stderr",
     "output_type": "stream",
     "text": [
      "Processing slides:  51%|█████     | 240/471 [33:41<40:50, 10.61s/it]"
     ]
    },
    {
     "name": "stdout",
     "output_type": "stream",
     "text": [
      "Extracted 98 patches from data/Yale_trastuzumab_response_cohort/SVS/S15-28568.svs; saved 98 to outputs/patches/S15-28568\n",
      "Processing slide: data/Yale_trastuzumab_response_cohort/SVS/S16-00356.svs with annotation: /media/thanakornbuath/Phone SSD/her2-attention-classifier/data/Yale_trastuzumab_response_cohort/Annotations/S16-00356.xml\n",
      "Mask shape: (31563, 35224)\n",
      "Loaded WSI backend: cucim\n"
     ]
    },
    {
     "name": "stderr",
     "output_type": "stream",
     "text": [
      "Processing slides:  51%|█████     | 241/471 [33:50<37:46,  9.85s/it]"
     ]
    },
    {
     "name": "stdout",
     "output_type": "stream",
     "text": [
      "Extracted 201 patches from data/Yale_trastuzumab_response_cohort/SVS/S16-00356.svs; saved 201 to outputs/patches/S16-00356\n",
      "Processing slide: data/Yale_trastuzumab_response_cohort/SVS/S16-01567.svs with annotation: /media/thanakornbuath/Phone SSD/her2-attention-classifier/data/Yale_trastuzumab_response_cohort/Annotations/S16-01567.xml\n",
      "Mask shape: (28283, 39032)\n",
      "Loaded WSI backend: cucim\n"
     ]
    },
    {
     "name": "stderr",
     "output_type": "stream",
     "text": [
      "Processing slides:  51%|█████▏    | 242/471 [34:01<38:57, 10.21s/it]"
     ]
    },
    {
     "name": "stdout",
     "output_type": "stream",
     "text": [
      "Extracted 265 patches from data/Yale_trastuzumab_response_cohort/SVS/S16-01567.svs; saved 265 to outputs/patches/S16-01567\n",
      "Processing slide: data/Yale_trastuzumab_response_cohort/SVS/S16-06544.svs with annotation: /media/thanakornbuath/Phone SSD/her2-attention-classifier/data/Yale_trastuzumab_response_cohort/Annotations/S16-06544.xml\n",
      "Mask shape: (25329, 32368)\n",
      "Loaded WSI backend: cucim\n"
     ]
    },
    {
     "name": "stderr",
     "output_type": "stream",
     "text": [
      "Processing slides:  52%|█████▏    | 243/471 [34:15<43:05, 11.34s/it]"
     ]
    },
    {
     "name": "stdout",
     "output_type": "stream",
     "text": [
      "Extracted 360 patches from data/Yale_trastuzumab_response_cohort/SVS/S16-06544.svs; saved 360 to outputs/patches/S16-06544\n",
      "Processing slide: data/Yale_trastuzumab_response_cohort/SVS/S16-08071.svs with annotation: /media/thanakornbuath/Phone SSD/her2-attention-classifier/data/Yale_trastuzumab_response_cohort/Annotations/S16-08071.xml\n",
      "Mask shape: (29430, 26656)\n",
      "Loaded WSI backend: cucim\n"
     ]
    },
    {
     "name": "stderr",
     "output_type": "stream",
     "text": [
      "Processing slides:  52%|█████▏    | 244/471 [34:27<44:33, 11.78s/it]"
     ]
    },
    {
     "name": "stdout",
     "output_type": "stream",
     "text": [
      "Extracted 310 patches from data/Yale_trastuzumab_response_cohort/SVS/S16-08071.svs; saved 310 to outputs/patches/S16-08071\n",
      "Processing slide: data/Yale_trastuzumab_response_cohort/SVS/S16-11632.svs with annotation: /media/thanakornbuath/Phone SSD/her2-attention-classifier/data/Yale_trastuzumab_response_cohort/Annotations/S16-11632.xml\n",
      "Mask shape: (16308, 44744)\n",
      "Loaded WSI backend: cucim\n"
     ]
    },
    {
     "name": "stderr",
     "output_type": "stream",
     "text": [
      "Processing slides:  52%|█████▏    | 245/471 [34:39<44:05, 11.71s/it]"
     ]
    },
    {
     "name": "stdout",
     "output_type": "stream",
     "text": [
      "Extracted 307 patches from data/Yale_trastuzumab_response_cohort/SVS/S16-11632.svs; saved 307 to outputs/patches/S16-11632\n",
      "Processing slide: data/Yale_trastuzumab_response_cohort/SVS/S16-12501.svs with annotation: /media/thanakornbuath/Phone SSD/her2-attention-classifier/data/Yale_trastuzumab_response_cohort/Annotations/S16-12501.xml\n",
      "Mask shape: (27216, 34272)\n",
      "Loaded WSI backend: cucim\n"
     ]
    },
    {
     "name": "stderr",
     "output_type": "stream",
     "text": [
      "Processing slides:  52%|█████▏    | 246/471 [34:44<36:03,  9.62s/it]"
     ]
    },
    {
     "name": "stdout",
     "output_type": "stream",
     "text": [
      "Extracted 113 patches from data/Yale_trastuzumab_response_cohort/SVS/S16-12501.svs; saved 113 to outputs/patches/S16-12501\n",
      "Processing slide: data/Yale_trastuzumab_response_cohort/SVS/S16-19596.svs with annotation: /media/thanakornbuath/Phone SSD/her2-attention-classifier/data/Yale_trastuzumab_response_cohort/Annotations/S16-19596.xml\n",
      "Mask shape: (40504, 32368)\n",
      "Loaded WSI backend: cucim\n"
     ]
    },
    {
     "name": "stderr",
     "output_type": "stream",
     "text": [
      "Processing slides:  52%|█████▏    | 247/471 [34:54<36:28,  9.77s/it]"
     ]
    },
    {
     "name": "stdout",
     "output_type": "stream",
     "text": [
      "Extracted 247 patches from data/Yale_trastuzumab_response_cohort/SVS/S16-19596.svs; saved 247 to outputs/patches/S16-19596\n",
      "Processing slide: data/Yale_trastuzumab_response_cohort/SVS/S16-20727.svs with annotation: /media/thanakornbuath/Phone SSD/her2-attention-classifier/data/Yale_trastuzumab_response_cohort/Annotations/S16-20727.xml\n",
      "Mask shape: (31237, 59976)\n",
      "Loaded WSI backend: cucim\n"
     ]
    },
    {
     "name": "stderr",
     "output_type": "stream",
     "text": [
      "Processing slides:  53%|█████▎    | 248/471 [35:05<38:26, 10.34s/it]"
     ]
    },
    {
     "name": "stdout",
     "output_type": "stream",
     "text": [
      "Extracted 234 patches from data/Yale_trastuzumab_response_cohort/SVS/S16-20727.svs; saved 234 to outputs/patches/S16-20727\n",
      "Processing slide: data/Yale_trastuzumab_response_cohort/SVS/S16-23506.svs with annotation: /media/thanakornbuath/Phone SSD/her2-attention-classifier/data/Yale_trastuzumab_response_cohort/Annotations/S16-23506.xml\n",
      "Mask shape: (22212, 28560)\n",
      "Loaded WSI backend: cucim\n"
     ]
    },
    {
     "name": "stderr",
     "output_type": "stream",
     "text": [
      "Processing slides:  53%|█████▎    | 249/471 [35:11<32:51,  8.88s/it]"
     ]
    },
    {
     "name": "stdout",
     "output_type": "stream",
     "text": [
      "Extracted 124 patches from data/Yale_trastuzumab_response_cohort/SVS/S16-23506.svs; saved 124 to outputs/patches/S16-23506\n",
      "Processing slide: data/Yale_trastuzumab_response_cohort/SVS/S16-28041.svs with annotation: /media/thanakornbuath/Phone SSD/her2-attention-classifier/data/Yale_trastuzumab_response_cohort/Annotations/S16-28041.xml\n",
      "Mask shape: (32465, 32368)\n",
      "Loaded WSI backend: cucim\n"
     ]
    },
    {
     "name": "stderr",
     "output_type": "stream",
     "text": [
      "Processing slides:  53%|█████▎    | 250/471 [35:40<55:11, 14.99s/it]"
     ]
    },
    {
     "name": "stdout",
     "output_type": "stream",
     "text": [
      "Extracted 797 patches from data/Yale_trastuzumab_response_cohort/SVS/S16-28041.svs; saved 797 to outputs/patches/S16-28041\n",
      "Processing slide: data/Yale_trastuzumab_response_cohort/SVS/S16-28729.svs with annotation: /media/thanakornbuath/Phone SSD/her2-attention-classifier/data/Yale_trastuzumab_response_cohort/Annotations/S16-28729.xml\n",
      "Mask shape: (17946, 18088)\n",
      "Loaded WSI backend: cucim\n"
     ]
    },
    {
     "name": "stderr",
     "output_type": "stream",
     "text": [
      "Processing slides:  53%|█████▎    | 251/471 [35:48<46:45, 12.75s/it]"
     ]
    },
    {
     "name": "stdout",
     "output_type": "stream",
     "text": [
      "Extracted 166 patches from data/Yale_trastuzumab_response_cohort/SVS/S16-28729.svs; saved 166 to outputs/patches/S16-28729\n",
      "Processing slide: data/Yale_trastuzumab_response_cohort/SVS/S16-29941.svs with annotation: /media/thanakornbuath/Phone SSD/her2-attention-classifier/data/Yale_trastuzumab_response_cohort/Annotations/S16-29941.xml\n",
      "Mask shape: (30825, 38080)\n",
      "Loaded WSI backend: cucim\n"
     ]
    },
    {
     "name": "stderr",
     "output_type": "stream",
     "text": [
      "Processing slides:  54%|█████▎    | 252/471 [35:56<42:00, 11.51s/it]"
     ]
    },
    {
     "name": "stdout",
     "output_type": "stream",
     "text": [
      "Extracted 220 patches from data/Yale_trastuzumab_response_cohort/SVS/S16-29941.svs; saved 220 to outputs/patches/S16-29941\n",
      "Processing slide: data/Yale_trastuzumab_response_cohort/SVS/S16-30001.svs with annotation: /media/thanakornbuath/Phone SSD/her2-attention-classifier/data/Yale_trastuzumab_response_cohort/Annotations/S16-30001.xml\n",
      "Mask shape: (23033, 31416)\n",
      "Loaded WSI backend: cucim\n"
     ]
    },
    {
     "name": "stderr",
     "output_type": "stream",
     "text": [
      "Processing slides:  54%|█████▎    | 253/471 [36:15<49:13, 13.55s/it]"
     ]
    },
    {
     "name": "stdout",
     "output_type": "stream",
     "text": [
      "Extracted 478 patches from data/Yale_trastuzumab_response_cohort/SVS/S16-30001.svs; saved 478 to outputs/patches/S16-30001\n",
      "Processing slide: data/Yale_trastuzumab_response_cohort/SVS/S16-30545.svs with annotation: /media/thanakornbuath/Phone SSD/her2-attention-classifier/data/Yale_trastuzumab_response_cohort/Annotations/S16-30545.xml\n",
      "Mask shape: (19588, 31416)\n",
      "Loaded WSI backend: cucim\n"
     ]
    },
    {
     "name": "stderr",
     "output_type": "stream",
     "text": [
      "Processing slides:  54%|█████▍    | 254/471 [36:31<51:36, 14.27s/it]"
     ]
    },
    {
     "name": "stdout",
     "output_type": "stream",
     "text": [
      "Extracted 377 patches from data/Yale_trastuzumab_response_cohort/SVS/S16-30545.svs; saved 377 to outputs/patches/S16-30545\n",
      "Processing slide: data/Yale_trastuzumab_response_cohort/SVS/S16-32975.svs with annotation: /media/thanakornbuath/Phone SSD/her2-attention-classifier/data/Yale_trastuzumab_response_cohort/Annotations/S16-32975.xml\n",
      "Mask shape: (24755, 33320)\n",
      "Loaded WSI backend: cucim\n"
     ]
    },
    {
     "name": "stderr",
     "output_type": "stream",
     "text": [
      "Processing slides:  54%|█████▍    | 255/471 [36:36<42:06, 11.70s/it]"
     ]
    },
    {
     "name": "stdout",
     "output_type": "stream",
     "text": [
      "Extracted 123 patches from data/Yale_trastuzumab_response_cohort/SVS/S16-32975.svs; saved 123 to outputs/patches/S16-32975\n",
      "Processing slide: data/Yale_trastuzumab_response_cohort/SVS/S17-00215.svs with annotation: /media/thanakornbuath/Phone SSD/her2-attention-classifier/data/Yale_trastuzumab_response_cohort/Annotations/S17-00215.xml\n",
      "Mask shape: (18439, 24752)\n",
      "Loaded WSI backend: cucim\n"
     ]
    },
    {
     "name": "stderr",
     "output_type": "stream",
     "text": [
      "Processing slides:  54%|█████▍    | 256/471 [36:44<38:07, 10.64s/it]"
     ]
    },
    {
     "name": "stdout",
     "output_type": "stream",
     "text": [
      "Extracted 219 patches from data/Yale_trastuzumab_response_cohort/SVS/S17-00215.svs; saved 219 to outputs/patches/S17-00215\n",
      "Processing slide: data/Yale_trastuzumab_response_cohort/SVS/S17-00970.svs with annotation: /media/thanakornbuath/Phone SSD/her2-attention-classifier/data/Yale_trastuzumab_response_cohort/Annotations/S17-00970.xml\n",
      "Mask shape: (26477, 29512)\n",
      "Loaded WSI backend: cucim\n"
     ]
    },
    {
     "name": "stderr",
     "output_type": "stream",
     "text": [
      "Processing slides:  55%|█████▍    | 257/471 [37:00<42:51, 12.01s/it]"
     ]
    },
    {
     "name": "stdout",
     "output_type": "stream",
     "text": [
      "Extracted 424 patches from data/Yale_trastuzumab_response_cohort/SVS/S17-00970.svs; saved 424 to outputs/patches/S17-00970\n",
      "Processing slide: data/Yale_trastuzumab_response_cohort/SVS/S17-08236.svs with annotation: /media/thanakornbuath/Phone SSD/her2-attention-classifier/data/Yale_trastuzumab_response_cohort/Annotations/S17-08236.xml\n",
      "Mask shape: (20407, 22848)\n",
      "Loaded WSI backend: cucim\n"
     ]
    },
    {
     "name": "stderr",
     "output_type": "stream",
     "text": [
      "Processing slides:  55%|█████▍    | 258/471 [37:04<34:19,  9.67s/it]"
     ]
    },
    {
     "name": "stdout",
     "output_type": "stream",
     "text": [
      "Extracted 106 patches from data/Yale_trastuzumab_response_cohort/SVS/S17-08236.svs; saved 106 to outputs/patches/S17-08236\n",
      "Processing slide: data/Yale_trastuzumab_response_cohort/SVS/S17-08865.svs with annotation: /media/thanakornbuath/Phone SSD/her2-attention-classifier/data/Yale_trastuzumab_response_cohort/Annotations/S17-08865.xml\n",
      "Mask shape: (11877, 20944)\n",
      "Loaded WSI backend: cucim\n"
     ]
    },
    {
     "name": "stderr",
     "output_type": "stream",
     "text": [
      "Processing slides:  55%|█████▍    | 259/471 [37:11<31:03,  8.79s/it]"
     ]
    },
    {
     "name": "stdout",
     "output_type": "stream",
     "text": [
      "Extracted 198 patches from data/Yale_trastuzumab_response_cohort/SVS/S17-08865.svs; saved 198 to outputs/patches/S17-08865\n",
      "Processing slide: data/Yale_trastuzumab_response_cohort/SVS/S17-08918.svs with annotation: /media/thanakornbuath/Phone SSD/her2-attention-classifier/data/Yale_trastuzumab_response_cohort/Annotations/S17-08918.xml\n",
      "Mask shape: (25165, 33320)\n",
      "Loaded WSI backend: cucim\n"
     ]
    },
    {
     "name": "stderr",
     "output_type": "stream",
     "text": [
      "Processing slides:  55%|█████▌    | 260/471 [37:26<37:59, 10.80s/it]"
     ]
    },
    {
     "name": "stdout",
     "output_type": "stream",
     "text": [
      "Extracted 396 patches from data/Yale_trastuzumab_response_cohort/SVS/S17-08918.svs; saved 396 to outputs/patches/S17-08918\n",
      "Processing slide: data/Yale_trastuzumab_response_cohort/SVS/S17-14190.svs with annotation: /media/thanakornbuath/Phone SSD/her2-attention-classifier/data/Yale_trastuzumab_response_cohort/Annotations/S17-14190.xml\n",
      "Mask shape: (28118, 36176)\n",
      "Loaded WSI backend: cucim\n"
     ]
    },
    {
     "name": "stderr",
     "output_type": "stream",
     "text": [
      "Processing slides:  55%|█████▌    | 261/471 [37:41<42:26, 12.12s/it]"
     ]
    },
    {
     "name": "stdout",
     "output_type": "stream",
     "text": [
      "Extracted 375 patches from data/Yale_trastuzumab_response_cohort/SVS/S17-14190.svs; saved 375 to outputs/patches/S17-14190\n",
      "Processing slide: data/Yale_trastuzumab_response_cohort/SVS/S17-14334.svs with annotation: /media/thanakornbuath/Phone SSD/her2-attention-classifier/data/Yale_trastuzumab_response_cohort/Annotations/S17-14334.xml\n",
      "Mask shape: (22540, 22848)\n",
      "Loaded WSI backend: cucim\n"
     ]
    },
    {
     "name": "stderr",
     "output_type": "stream",
     "text": [
      "Processing slides:  56%|█████▌    | 262/471 [37:48<36:20, 10.43s/it]"
     ]
    },
    {
     "name": "stdout",
     "output_type": "stream",
     "text": [
      "Extracted 196 patches from data/Yale_trastuzumab_response_cohort/SVS/S17-14334.svs; saved 196 to outputs/patches/S17-14334\n",
      "Processing slide: data/Yale_trastuzumab_response_cohort/SVS/S17-20728.svs with annotation: /media/thanakornbuath/Phone SSD/her2-attention-classifier/data/Yale_trastuzumab_response_cohort/Annotations/S17-20728.xml\n",
      "Mask shape: (20981, 24752)\n",
      "Loaded WSI backend: cucim\n"
     ]
    },
    {
     "name": "stderr",
     "output_type": "stream",
     "text": [
      "Processing slides:  56%|█████▌    | 263/471 [38:05<43:23, 12.52s/it]"
     ]
    },
    {
     "name": "stdout",
     "output_type": "stream",
     "text": [
      "Extracted 402 patches from data/Yale_trastuzumab_response_cohort/SVS/S17-20728.svs; saved 402 to outputs/patches/S17-20728\n",
      "Processing slide: data/Yale_trastuzumab_response_cohort/SVS/S17-22163.svs with annotation: /media/thanakornbuath/Phone SSD/her2-attention-classifier/data/Yale_trastuzumab_response_cohort/Annotations/S17-22163.xml\n",
      "Failed to generate mask for data/Yale_trastuzumab_response_cohort/SVS/S17-22163.svs: junk after document element: line 3, column 1\n",
      "Processing slide: data/Yale_trastuzumab_response_cohort/SVS/S18-03825.svs with annotation: /media/thanakornbuath/Phone SSD/her2-attention-classifier/data/Yale_trastuzumab_response_cohort/Annotations/S18-03825.xml\n",
      "Failed to generate mask for data/Yale_trastuzumab_response_cohort/SVS/S18-03825.svs: junk after document element: line 3, column 1\n",
      "Processing slide: data/Yale_trastuzumab_response_cohort/SVS/S18-03934.svs with annotation: /media/thanakornbuath/Phone SSD/her2-attention-classifier/data/Yale_trastuzumab_response_cohort/Annotations/S18-03934.xml\n",
      "Failed to generate mask for data/Yale_trastuzumab_response_cohort/SVS/S18-03934.svs: junk after document element: line 3, column 1\n",
      "Processing slide: data/Yale_trastuzumab_response_cohort/SVS/S18-05363.svs with annotation: /media/thanakornbuath/Phone SSD/her2-attention-classifier/data/Yale_trastuzumab_response_cohort/Annotations/S18-05363.xml\n",
      "Mask shape: (17454, 22848)\n",
      "Loaded WSI backend: cucim\n"
     ]
    },
    {
     "name": "stderr",
     "output_type": "stream",
     "text": [
      "Processing slides:  57%|█████▋    | 267/471 [38:13<19:43,  5.80s/it]"
     ]
    },
    {
     "name": "stdout",
     "output_type": "stream",
     "text": [
      "Extracted 185 patches from data/Yale_trastuzumab_response_cohort/SVS/S18-05363.svs; saved 185 to outputs/patches/S18-05363\n",
      "Processing slide: data/Yale_trastuzumab_response_cohort/SVS/S18-09519.svs with annotation: /media/thanakornbuath/Phone SSD/her2-attention-classifier/data/Yale_trastuzumab_response_cohort/Annotations/S18-09519.xml\n",
      "Mask shape: (19997, 19040)\n",
      "Loaded WSI backend: cucim\n"
     ]
    },
    {
     "name": "stderr",
     "output_type": "stream",
     "text": [
      "Processing slides:  57%|█████▋    | 268/471 [38:16<18:13,  5.39s/it]"
     ]
    },
    {
     "name": "stdout",
     "output_type": "stream",
     "text": [
      "Extracted 95 patches from data/Yale_trastuzumab_response_cohort/SVS/S18-09519.svs; saved 95 to outputs/patches/S18-09519\n",
      "Processing slide: data/Yale_trastuzumab_response_cohort/SVS/S18-10074.svs with annotation: /media/thanakornbuath/Phone SSD/her2-attention-classifier/data/Yale_trastuzumab_response_cohort/Annotations/S18-10074.xml\n",
      "Mask shape: (26642, 33320)\n",
      "Loaded WSI backend: cucim\n"
     ]
    },
    {
     "name": "stderr",
     "output_type": "stream",
     "text": [
      "Processing slides:  57%|█████▋    | 269/471 [38:32<25:37,  7.61s/it]"
     ]
    },
    {
     "name": "stdout",
     "output_type": "stream",
     "text": [
      "Extracted 415 patches from data/Yale_trastuzumab_response_cohort/SVS/S18-10074.svs; saved 415 to outputs/patches/S18-10074\n",
      "Processing slide: data/Yale_trastuzumab_response_cohort/SVS/S18-12553.svs with annotation: /media/thanakornbuath/Phone SSD/her2-attention-classifier/data/Yale_trastuzumab_response_cohort/Annotations/S18-12553.xml\n",
      "Mask shape: (34106, 36176)\n",
      "Loaded WSI backend: cucim\n"
     ]
    },
    {
     "name": "stderr",
     "output_type": "stream",
     "text": [
      "Processing slides:  57%|█████▋    | 270/471 [38:51<34:16, 10.23s/it]"
     ]
    },
    {
     "name": "stdout",
     "output_type": "stream",
     "text": [
      "Extracted 479 patches from data/Yale_trastuzumab_response_cohort/SVS/S18-12553.svs; saved 479 to outputs/patches/S18-12553\n",
      "Processing slide: data/Yale_trastuzumab_response_cohort/SVS/S18-15441.svs with annotation: /media/thanakornbuath/Phone SSD/her2-attention-classifier/data/Yale_trastuzumab_response_cohort/Annotations/S18-15441.xml\n",
      "Mask shape: (27544, 27608)\n",
      "Loaded WSI backend: cucim\n"
     ]
    },
    {
     "name": "stderr",
     "output_type": "stream",
     "text": [
      "Processing slides:  58%|█████▊    | 271/471 [39:02<34:30, 10.35s/it]"
     ]
    },
    {
     "name": "stdout",
     "output_type": "stream",
     "text": [
      "Extracted 260 patches from data/Yale_trastuzumab_response_cohort/SVS/S18-15441.svs; saved 260 to outputs/patches/S18-15441\n",
      "Processing slide: data/Yale_trastuzumab_response_cohort/SVS/S18-18704.svs with annotation: /media/thanakornbuath/Phone SSD/her2-attention-classifier/data/Yale_trastuzumab_response_cohort/Annotations/S18-18704.xml\n",
      "Mask shape: (25986, 35224)\n",
      "Loaded WSI backend: cucim\n"
     ]
    },
    {
     "name": "stderr",
     "output_type": "stream",
     "text": [
      "Processing slides:  58%|█████▊    | 272/471 [39:22<42:54, 12.94s/it]"
     ]
    },
    {
     "name": "stdout",
     "output_type": "stream",
     "text": [
      "Extracted 489 patches from data/Yale_trastuzumab_response_cohort/SVS/S18-18704.svs; saved 489 to outputs/patches/S18-18704\n",
      "Processing slide: data/Yale_trastuzumab_response_cohort/SVS/S18-25097.svs with annotation: /media/thanakornbuath/Phone SSD/her2-attention-classifier/data/Yale_trastuzumab_response_cohort/Annotations/S18-25097.xml\n",
      "Mask shape: (32957, 26656)\n",
      "Loaded WSI backend: cucim\n"
     ]
    },
    {
     "name": "stderr",
     "output_type": "stream",
     "text": [
      "Processing slides:  58%|█████▊    | 273/471 [39:48<54:05, 16.39s/it]"
     ]
    },
    {
     "name": "stdout",
     "output_type": "stream",
     "text": [
      "Extracted 715 patches from data/Yale_trastuzumab_response_cohort/SVS/S18-25097.svs; saved 715 to outputs/patches/S18-25097\n",
      "Processing slide: data/Yale_trastuzumab_response_cohort/SVS/S18-27506.svs with annotation: /media/thanakornbuath/Phone SSD/her2-attention-classifier/data/Yale_trastuzumab_response_cohort/Annotations/S18-27506.xml\n",
      "Mask shape: (31316, 24752)\n",
      "Loaded WSI backend: cucim\n"
     ]
    },
    {
     "name": "stderr",
     "output_type": "stream",
     "text": [
      "Processing slides:  58%|█████▊    | 274/471 [40:00<49:50, 15.18s/it]"
     ]
    },
    {
     "name": "stdout",
     "output_type": "stream",
     "text": [
      "Extracted 334 patches from data/Yale_trastuzumab_response_cohort/SVS/S18-27506.svs; saved 334 to outputs/patches/S18-27506\n",
      "Processing slide: data/Yale_trastuzumab_response_cohort/SVS/S18-30424.svs with annotation: /media/thanakornbuath/Phone SSD/her2-attention-classifier/data/Yale_trastuzumab_response_cohort/Annotations/S18-30424.xml\n",
      "Mask shape: (19095, 27608)\n",
      "Loaded WSI backend: cucim\n"
     ]
    },
    {
     "name": "stderr",
     "output_type": "stream",
     "text": [
      "Processing slides:  58%|█████▊    | 275/471 [40:18<52:20, 16.02s/it]"
     ]
    },
    {
     "name": "stdout",
     "output_type": "stream",
     "text": [
      "Extracted 482 patches from data/Yale_trastuzumab_response_cohort/SVS/S18-30424.svs; saved 482 to outputs/patches/S18-30424\n",
      "Processing slide: data/Yale_trastuzumab_response_cohort/SVS/S18-31022.svs with annotation: /media/thanakornbuath/Phone SSD/her2-attention-classifier/data/Yale_trastuzumab_response_cohort/Annotations/S18-31022.xml\n",
      "Mask shape: (27708, 30464)\n",
      "Loaded WSI backend: cucim\n"
     ]
    },
    {
     "name": "stderr",
     "output_type": "stream",
     "text": [
      "Processing slides:  59%|█████▊    | 276/471 [40:24<42:23, 13.04s/it]"
     ]
    },
    {
     "name": "stdout",
     "output_type": "stream",
     "text": [
      "Extracted 132 patches from data/Yale_trastuzumab_response_cohort/SVS/S18-31022.svs; saved 132 to outputs/patches/S18-31022\n",
      "Processing slide: data/Yale_trastuzumab_response_cohort/SVS/S18-32412.svs with annotation: /media/thanakornbuath/Phone SSD/her2-attention-classifier/data/Yale_trastuzumab_response_cohort/Annotations/S18-32412.xml\n",
      "Mask shape: (33861, 45696)\n",
      "Loaded WSI backend: cucim\n"
     ]
    },
    {
     "name": "stderr",
     "output_type": "stream",
     "text": [
      "Processing slides:  59%|█████▉    | 277/471 [40:48<52:33, 16.25s/it]"
     ]
    },
    {
     "name": "stdout",
     "output_type": "stream",
     "text": [
      "Extracted 558 patches from data/Yale_trastuzumab_response_cohort/SVS/S18-32412.svs; saved 558 to outputs/patches/S18-32412\n",
      "Processing slide: data/TCGA_BRCA_Filtered/SVS/TCGA-A1-A0SP-01Z-00-DX1.20D689C6-EFA5-4694-BE76-24475A89ACC0.svs with annotation: /media/thanakornbuath/Phone SSD/her2-attention-classifier/data/TCGA_BRCA_Filtered/Annotations/TCGA-A1-A0SP-01Z-00-DX1.xml\n",
      "Mask shape: (90504, 109434)\n",
      "Loaded WSI backend: cucim\n"
     ]
    },
    {
     "name": "stderr",
     "output_type": "stream",
     "text": [
      "Processing slides:  59%|█████▉    | 278/471 [57:08<16:05:45, 300.24s/it]"
     ]
    },
    {
     "name": "stdout",
     "output_type": "stream",
     "text": [
      "Extracted 12374 patches from data/TCGA_BRCA_Filtered/SVS/TCGA-A1-A0SP-01Z-00-DX1.20D689C6-EFA5-4694-BE76-24475A89ACC0.svs; saved 12374 to outputs/patches/TCGA-A1-A0SP-01Z-00-DX1.20D689C6-EFA5-4694-BE76-24475A89ACC0\n",
      "Processing slide: data/TCGA_BRCA_Filtered/SVS/TCGA-A2-A04W-01Z-00-DX1.F7E7B945-2ADC-4741-8FCE-ACEA657DB9C7.svs with annotation: /media/thanakornbuath/Phone SSD/her2-attention-classifier/data/TCGA_BRCA_Filtered/Annotations/TCGA-A2-A04W-01Z-00-DX1.xml\n",
      "Mask shape: (90209, 129472)\n",
      "Loaded WSI backend: cucim\n"
     ]
    },
    {
     "name": "stderr",
     "output_type": "stream",
     "text": [
      "Processing slides:  59%|█████▉    | 279/471 [1:06:54<20:32:20, 385.11s/it]"
     ]
    },
    {
     "name": "stdout",
     "output_type": "stream",
     "text": [
      "Extracted 9463 patches from data/TCGA_BRCA_Filtered/SVS/TCGA-A2-A04W-01Z-00-DX1.F7E7B945-2ADC-4741-8FCE-ACEA657DB9C7.svs; saved 9463 to outputs/patches/TCGA-A2-A04W-01Z-00-DX1.F7E7B945-2ADC-4741-8FCE-ACEA657DB9C7\n",
      "Processing slide: data/TCGA_BRCA_Filtered/SVS/TCGA-A2-A04X-01Z-00-DX1.E01A4522-67B3-4FEF-BD6B-99DFED9E7C85.svs with annotation: /media/thanakornbuath/Phone SSD/her2-attention-classifier/data/TCGA_BRCA_Filtered/Annotations/TCGA-A2-A04X-01Z-00-DX1.xml\n",
      "Mask shape: (81484, 122895)\n",
      "Loaded WSI backend: cucim\n"
     ]
    },
    {
     "name": "stderr",
     "output_type": "stream",
     "text": [
      "Processing slides:  59%|█████▉    | 280/471 [1:11:32<18:44:14, 353.17s/it]"
     ]
    },
    {
     "name": "stdout",
     "output_type": "stream",
     "text": [
      "Extracted 5376 patches from data/TCGA_BRCA_Filtered/SVS/TCGA-A2-A04X-01Z-00-DX1.E01A4522-67B3-4FEF-BD6B-99DFED9E7C85.svs; saved 5376 to outputs/patches/TCGA-A2-A04X-01Z-00-DX1.E01A4522-67B3-4FEF-BD6B-99DFED9E7C85\n",
      "Processing slide: data/TCGA_BRCA_Filtered/SVS/TCGA-A2-A0CX-01Z-00-DX1.F07C75AB-E568-45CB-B497-37C712490393.svs with annotation: /media/thanakornbuath/Phone SSD/her2-attention-classifier/data/TCGA_BRCA_Filtered/Annotations/TCGA-A2-A0CX-01Z-00-DX1.xml\n",
      "Mask shape: (81606, 71819)\n",
      "Loaded WSI backend: cucim\n"
     ]
    },
    {
     "name": "stderr",
     "output_type": "stream",
     "text": [
      "Processing slides:  60%|█████▉    | 281/471 [1:14:00<15:24:45, 292.03s/it]"
     ]
    },
    {
     "name": "stdout",
     "output_type": "stream",
     "text": [
      "Extracted 3525 patches from data/TCGA_BRCA_Filtered/SVS/TCGA-A2-A0CX-01Z-00-DX1.F07C75AB-E568-45CB-B497-37C712490393.svs; saved 3525 to outputs/patches/TCGA-A2-A0CX-01Z-00-DX1.F07C75AB-E568-45CB-B497-37C712490393\n",
      "Processing slide: data/TCGA_BRCA_Filtered/SVS/TCGA-A2-A0EY-01Z-00-DX1.2F2428B3-0767-48E0-AC22-443C244CBD16.svs with annotation: /media/thanakornbuath/Phone SSD/her2-attention-classifier/data/TCGA_BRCA_Filtered/Annotations/TCGA-A2-A0EY-01Z-00-DX1.xml\n",
      "Mask shape: (91820, 112995)\n",
      "Loaded WSI backend: cucim\n"
     ]
    },
    {
     "name": "stderr",
     "output_type": "stream",
     "text": [
      "Processing slides:  60%|█████▉    | 282/471 [1:29:27<25:16:49, 481.53s/it]"
     ]
    },
    {
     "name": "stdout",
     "output_type": "stream",
     "text": [
      "Extracted 15786 patches from data/TCGA_BRCA_Filtered/SVS/TCGA-A2-A0EY-01Z-00-DX1.2F2428B3-0767-48E0-AC22-443C244CBD16.svs; saved 15786 to outputs/patches/TCGA-A2-A0EY-01Z-00-DX1.2F2428B3-0767-48E0-AC22-443C244CBD16\n",
      "Processing slide: data/TCGA_BRCA_Filtered/SVS/TCGA-A2-A0SW-01Z-00-DX1.E1EA0407-B831-4D75-826E-80B82B821797.svs with annotation: /media/thanakornbuath/Phone SSD/her2-attention-classifier/data/TCGA_BRCA_Filtered/Annotations/TCGA-A2-A0SW-01Z-00-DX1.xml\n",
      "Mask shape: (85033, 121855)\n",
      "Loaded WSI backend: cucim\n"
     ]
    },
    {
     "name": "stderr",
     "output_type": "stream",
     "text": [
      "Processing slides:  60%|██████    | 283/471 [1:37:49<25:27:55, 487.63s/it]"
     ]
    },
    {
     "name": "stdout",
     "output_type": "stream",
     "text": [
      "Extracted 8137 patches from data/TCGA_BRCA_Filtered/SVS/TCGA-A2-A0SW-01Z-00-DX1.E1EA0407-B831-4D75-826E-80B82B821797.svs; saved 8137 to outputs/patches/TCGA-A2-A0SW-01Z-00-DX1.E1EA0407-B831-4D75-826E-80B82B821797\n",
      "Processing slide: data/TCGA_BRCA_Filtered/SVS/TCGA-A2-A0SY-01Z-00-DX1.279A5479-E183-4F79-AF40-50BF1834BA4A.svs with annotation: /media/thanakornbuath/Phone SSD/her2-attention-classifier/data/TCGA_BRCA_Filtered/Annotations/TCGA-A2-A0SY-01Z-00-DX1.xml\n",
      "Mask shape: (93580, 134231)\n",
      "Loaded WSI backend: cucim\n"
     ]
    },
    {
     "name": "stderr",
     "output_type": "stream",
     "text": [
      "Processing slides:  60%|██████    | 284/471 [1:45:32<24:57:38, 480.53s/it]"
     ]
    },
    {
     "name": "stdout",
     "output_type": "stream",
     "text": [
      "Extracted 10198 patches from data/TCGA_BRCA_Filtered/SVS/TCGA-A2-A0SY-01Z-00-DX1.279A5479-E183-4F79-AF40-50BF1834BA4A.svs; saved 10198 to outputs/patches/TCGA-A2-A0SY-01Z-00-DX1.279A5479-E183-4F79-AF40-50BF1834BA4A\n",
      "Processing slide: data/TCGA_BRCA_Filtered/SVS/TCGA-A2-A0YG-01Z-00-DX1.89A39319-F880-47DE-B311-DA1F6A64B6F3.svs with annotation: /media/thanakornbuath/Phone SSD/her2-attention-classifier/data/TCGA_BRCA_Filtered/Annotations/TCGA-A2-A0YG-01Z-00-DX1.xml\n",
      "Mask shape: (77998, 100812)\n",
      "Loaded WSI backend: cucim\n"
     ]
    },
    {
     "name": "stderr",
     "output_type": "stream",
     "text": [
      "Processing slides:  61%|██████    | 285/471 [1:51:47<23:10:54, 448.68s/it]"
     ]
    },
    {
     "name": "stdout",
     "output_type": "stream",
     "text": [
      "Extracted 6028 patches from data/TCGA_BRCA_Filtered/SVS/TCGA-A2-A0YG-01Z-00-DX1.89A39319-F880-47DE-B311-DA1F6A64B6F3.svs; saved 6028 to outputs/patches/TCGA-A2-A0YG-01Z-00-DX1.89A39319-F880-47DE-B311-DA1F6A64B6F3\n",
      "Processing slide: data/TCGA_BRCA_Filtered/SVS/TCGA-A2-A0YL-01Z-00-DX1.69A438C7-B1E0-4990-B1E6-586C551DC79C.svs with annotation: /media/thanakornbuath/Phone SSD/her2-attention-classifier/data/TCGA_BRCA_Filtered/Annotations/TCGA-A2-A0YL-01Z-00-DX1.xml\n",
      "Mask shape: (75773, 79690)\n",
      "Loaded WSI backend: cucim\n"
     ]
    },
    {
     "name": "stderr",
     "output_type": "stream",
     "text": [
      "Processing slides:  61%|██████    | 286/471 [1:55:25<19:30:35, 379.65s/it]"
     ]
    },
    {
     "name": "stdout",
     "output_type": "stream",
     "text": [
      "Extracted 3437 patches from data/TCGA_BRCA_Filtered/SVS/TCGA-A2-A0YL-01Z-00-DX1.69A438C7-B1E0-4990-B1E6-586C551DC79C.svs; saved 3437 to outputs/patches/TCGA-A2-A0YL-01Z-00-DX1.69A438C7-B1E0-4990-B1E6-586C551DC79C\n",
      "Processing slide: data/TCGA_BRCA_Filtered/SVS/TCGA-A2-A1G1-01Z-00-DX1.E52A474F-DE13-41CF-94D4-D00BAC46ECF4.svs with annotation: /media/thanakornbuath/Phone SSD/her2-attention-classifier/data/TCGA_BRCA_Filtered/Annotations/TCGA-A2-A1G1-01Z-00-DX1.xml\n",
      "Mask shape: (57339, 77564)\n",
      "Loaded WSI backend: cucim\n"
     ]
    },
    {
     "name": "stderr",
     "output_type": "stream",
     "text": [
      "Processing slides:  61%|██████    | 287/471 [1:57:36<15:36:06, 305.25s/it]"
     ]
    },
    {
     "name": "stdout",
     "output_type": "stream",
     "text": [
      "Extracted 3580 patches from data/TCGA_BRCA_Filtered/SVS/TCGA-A2-A1G1-01Z-00-DX1.E52A474F-DE13-41CF-94D4-D00BAC46ECF4.svs; saved 3580 to outputs/patches/TCGA-A2-A1G1-01Z-00-DX1.E52A474F-DE13-41CF-94D4-D00BAC46ECF4\n",
      "Processing slide: data/TCGA_BRCA_Filtered/SVS/TCGA-A2-A259-01Z-00-DX1.7289CD72-CB74-41D4-B4AC-4EA5FDFEC666.svs with annotation: /media/thanakornbuath/Phone SSD/her2-attention-classifier/data/TCGA_BRCA_Filtered/Annotations/TCGA-A2-A259-01Z-00-DX1.xml\n",
      "Mask shape: (86460, 170408)\n",
      "Loaded WSI backend: cucim\n"
     ]
    },
    {
     "name": "stderr",
     "output_type": "stream",
     "text": [
      "Processing slides:  61%|██████    | 288/471 [2:01:00<13:57:32, 274.61s/it]"
     ]
    },
    {
     "name": "stdout",
     "output_type": "stream",
     "text": [
      "Extracted 2732 patches from data/TCGA_BRCA_Filtered/SVS/TCGA-A2-A259-01Z-00-DX1.7289CD72-CB74-41D4-B4AC-4EA5FDFEC666.svs; saved 2732 to outputs/patches/TCGA-A2-A259-01Z-00-DX1.7289CD72-CB74-41D4-B4AC-4EA5FDFEC666\n",
      "Processing slide: data/TCGA_BRCA_Filtered/SVS/TCGA-A7-A0CG-01Z-00-DX1.D77019C2-96B1-4EF5-A61E-5F2D5B8D9852.svs with annotation: /media/thanakornbuath/Phone SSD/her2-attention-classifier/data/TCGA_BRCA_Filtered/Annotations/TCGA-A7-A0CG-01Z-00-DX1.xml\n",
      "Mask shape: (34647, 142800)\n",
      "Loaded WSI backend: cucim\n"
     ]
    },
    {
     "name": "stderr",
     "output_type": "stream",
     "text": [
      "Processing slides:  61%|██████▏   | 289/471 [2:01:53<10:31:58, 208.34s/it]"
     ]
    },
    {
     "name": "stdout",
     "output_type": "stream",
     "text": [
      "Extracted 1053 patches from data/TCGA_BRCA_Filtered/SVS/TCGA-A7-A0CG-01Z-00-DX1.D77019C2-96B1-4EF5-A61E-5F2D5B8D9852.svs; saved 1053 to outputs/patches/TCGA-A7-A0CG-01Z-00-DX1.D77019C2-96B1-4EF5-A61E-5F2D5B8D9852\n"
     ]
    },
    {
     "name": "stderr",
     "output_type": "stream",
     "text": [
      "Processing slides:  62%|██████▏   | 290/471 [2:02:01<7:27:05, 148.21s/it] "
     ]
    },
    {
     "name": "stdout",
     "output_type": "stream",
     "text": [
      "Skipping slide without annotation: data/TCGA_BRCA_Filtered/SVS/TCGA-A7-A0CG-01Z-00-DX2.81138E90-373A-4C12-B9CA-6EEF5F84A5B5.svs\n",
      "Processing slide: data/TCGA_BRCA_Filtered/SVS/TCGA-A7-A0CJ-01Z-00-DX1.E26F2F62-D688-4373-BB7B-790A06734E49.svs with annotation: /media/thanakornbuath/Phone SSD/her2-attention-classifier/data/TCGA_BRCA_Filtered/Annotations/TCGA-A7-A0CJ-01Z-00-DX1.xml\n",
      "Mask shape: (77161, 31416)\n",
      "Loaded WSI backend: cucim\n"
     ]
    },
    {
     "name": "stderr",
     "output_type": "stream",
     "text": [
      "Processing slides:  62%|██████▏   | 291/471 [2:02:44<5:49:47, 116.60s/it]"
     ]
    },
    {
     "name": "stdout",
     "output_type": "stream",
     "text": [
      "Extracted 1014 patches from data/TCGA_BRCA_Filtered/SVS/TCGA-A7-A0CJ-01Z-00-DX1.E26F2F62-D688-4373-BB7B-790A06734E49.svs; saved 1014 to outputs/patches/TCGA-A7-A0CJ-01Z-00-DX1.E26F2F62-D688-4373-BB7B-790A06734E49\n"
     ]
    },
    {
     "name": "stderr",
     "output_type": "stream",
     "text": [
      "Processing slides:  62%|██████▏   | 292/471 [2:02:52<4:10:34, 83.99s/it] "
     ]
    },
    {
     "name": "stdout",
     "output_type": "stream",
     "text": [
      "Skipping slide without annotation: data/TCGA_BRCA_Filtered/SVS/TCGA-A7-A0CJ-01Z-00-DX2.4B591117-5FC9-4B43-8A45-444CCCABC666.svs\n",
      "Processing slide: data/TCGA_BRCA_Filtered/SVS/TCGA-A7-A0D9-01Z-00-DX1.FBC3B90F-C58B-4476-8354-0AF9248324E3.svs with annotation: /media/thanakornbuath/Phone SSD/her2-attention-classifier/data/TCGA_BRCA_Filtered/Annotations/TCGA-A7-A0D9-01Z-00-DX1.xml\n",
      "Mask shape: (34826, 108528)\n",
      "Loaded WSI backend: cucim\n"
     ]
    },
    {
     "name": "stderr",
     "output_type": "stream",
     "text": [
      "Processing slides:  62%|██████▏   | 293/471 [2:03:21<3:20:18, 67.52s/it]"
     ]
    },
    {
     "name": "stdout",
     "output_type": "stream",
     "text": [
      "Extracted 572 patches from data/TCGA_BRCA_Filtered/SVS/TCGA-A7-A0D9-01Z-00-DX1.FBC3B90F-C58B-4476-8354-0AF9248324E3.svs; saved 572 to outputs/patches/TCGA-A7-A0D9-01Z-00-DX1.FBC3B90F-C58B-4476-8354-0AF9248324E3\n"
     ]
    },
    {
     "name": "stderr",
     "output_type": "stream",
     "text": [
      "Processing slides:  62%|██████▏   | 294/471 [2:03:29<2:26:30, 49.66s/it]"
     ]
    },
    {
     "name": "stdout",
     "output_type": "stream",
     "text": [
      "Skipping slide without annotation: data/TCGA_BRCA_Filtered/SVS/TCGA-A7-A0D9-01Z-00-DX2.66CD9ED8-223B-4AC8-AA1A-2481FB0C47B3.svs\n",
      "Processing slide: data/TCGA_BRCA_Filtered/SVS/TCGA-A7-A26H-01Z-00-DX1.3344CFD3-5A19-4B01-BEB2-AB89F83FD53A.svs with annotation: /media/thanakornbuath/Phone SSD/her2-attention-classifier/data/TCGA_BRCA_Filtered/Annotations/TCGA-A7-A26H-01Z-00-DX1.xml\n",
      "Mask shape: (47771, 88535)\n",
      "Loaded WSI backend: cucim\n"
     ]
    },
    {
     "name": "stderr",
     "output_type": "stream",
     "text": [
      "Processing slides:  63%|██████▎   | 295/471 [2:03:54<2:04:09, 42.33s/it]"
     ]
    },
    {
     "name": "stdout",
     "output_type": "stream",
     "text": [
      "Extracted 437 patches from data/TCGA_BRCA_Filtered/SVS/TCGA-A7-A26H-01Z-00-DX1.3344CFD3-5A19-4B01-BEB2-AB89F83FD53A.svs; saved 437 to outputs/patches/TCGA-A7-A26H-01Z-00-DX1.3344CFD3-5A19-4B01-BEB2-AB89F83FD53A\n",
      "Processing slide: data/TCGA_BRCA_Filtered/SVS/TCGA-A7-A26I-01Z-00-DX1.0077D012-BC14-4E96-84F7-A1A6A3A778DF.svs with annotation: /media/thanakornbuath/Phone SSD/her2-attention-classifier/data/TCGA_BRCA_Filtered/Annotations/TCGA-A7-A26I-01Z-00-DX1.xml\n",
      "Mask shape: (42754, 115191)\n",
      "Loaded WSI backend: cucim\n"
     ]
    },
    {
     "name": "stderr",
     "output_type": "stream",
     "text": [
      "Processing slides:  63%|██████▎   | 296/471 [2:04:35<2:02:40, 42.06s/it]"
     ]
    },
    {
     "name": "stdout",
     "output_type": "stream",
     "text": [
      "Extracted 750 patches from data/TCGA_BRCA_Filtered/SVS/TCGA-A7-A26I-01Z-00-DX1.0077D012-BC14-4E96-84F7-A1A6A3A778DF.svs; saved 750 to outputs/patches/TCGA-A7-A26I-01Z-00-DX1.0077D012-BC14-4E96-84F7-A1A6A3A778DF\n",
      "Processing slide: data/TCGA_BRCA_Filtered/SVS/TCGA-A8-A075-01Z-00-DX1.8E06AF51-951F-48E8-934E-42A455F65E5F.svs with annotation: /media/thanakornbuath/Phone SSD/her2-attention-classifier/data/TCGA_BRCA_Filtered/Annotations/TCGA-A8-A075-01Z-00-DX1.xml\n",
      "Mask shape: (58624, 40704)\n",
      "Loaded WSI backend: cucim\n"
     ]
    },
    {
     "name": "stderr",
     "output_type": "stream",
     "text": [
      "Processing slides:  63%|██████▎   | 297/471 [2:06:46<3:18:47, 68.55s/it]"
     ]
    },
    {
     "name": "stdout",
     "output_type": "stream",
     "text": [
      "Extracted 2795 patches from data/TCGA_BRCA_Filtered/SVS/TCGA-A8-A075-01Z-00-DX1.8E06AF51-951F-48E8-934E-42A455F65E5F.svs; saved 2795 to outputs/patches/TCGA-A8-A075-01Z-00-DX1.8E06AF51-951F-48E8-934E-42A455F65E5F\n",
      "Processing slide: data/TCGA_BRCA_Filtered/SVS/TCGA-A8-A076-01Z-00-DX1.BAAC4F9C-0C04-42FB-95F4-D765305089B8.svs with annotation: /media/thanakornbuath/Phone SSD/her2-attention-classifier/data/TCGA_BRCA_Filtered/Annotations/TCGA-A8-A076-01Z-00-DX1.xml\n",
      "Mask shape: (73472, 95744)\n",
      "Loaded WSI backend: cucim\n"
     ]
    },
    {
     "name": "stderr",
     "output_type": "stream",
     "text": [
      "Processing slides:  63%|██████▎   | 298/471 [2:08:54<4:09:10, 86.42s/it]"
     ]
    },
    {
     "name": "stdout",
     "output_type": "stream",
     "text": [
      "Extracted 2840 patches from data/TCGA_BRCA_Filtered/SVS/TCGA-A8-A076-01Z-00-DX1.BAAC4F9C-0C04-42FB-95F4-D765305089B8.svs; saved 2840 to outputs/patches/TCGA-A8-A076-01Z-00-DX1.BAAC4F9C-0C04-42FB-95F4-D765305089B8\n",
      "Processing slide: data/TCGA_BRCA_Filtered/SVS/TCGA-A8-A07B-01Z-00-DX1.950B5E4E-C5F0-4445-9F88-E8C32CDFE6DA.svs with annotation: /media/thanakornbuath/Phone SSD/her2-attention-classifier/data/TCGA_BRCA_Filtered/Annotations/TCGA-A8-A07B-01Z-00-DX1.xml\n",
      "Mask shape: (38144, 42752)\n",
      "Loaded WSI backend: cucim\n"
     ]
    },
    {
     "name": "stderr",
     "output_type": "stream",
     "text": [
      "Processing slides:  63%|██████▎   | 299/471 [2:10:08<3:57:13, 82.75s/it]"
     ]
    },
    {
     "name": "stdout",
     "output_type": "stream",
     "text": [
      "Extracted 2009 patches from data/TCGA_BRCA_Filtered/SVS/TCGA-A8-A07B-01Z-00-DX1.950B5E4E-C5F0-4445-9F88-E8C32CDFE6DA.svs; saved 2009 to outputs/patches/TCGA-A8-A07B-01Z-00-DX1.950B5E4E-C5F0-4445-9F88-E8C32CDFE6DA\n",
      "Processing slide: data/TCGA_BRCA_Filtered/SVS/TCGA-A8-A07E-01Z-00-DX1.AC684481-979A-46F9-91D7-C56CE85992F2.svs with annotation: /media/thanakornbuath/Phone SSD/her2-attention-classifier/data/TCGA_BRCA_Filtered/Annotations/TCGA-A8-A07E-01Z-00-DX1.xml\n",
      "Mask shape: (110336, 77824)\n",
      "Loaded WSI backend: cucim\n"
     ]
    },
    {
     "name": "stderr",
     "output_type": "stream",
     "text": [
      "Processing slides:  64%|██████▎   | 300/471 [2:14:12<6:13:34, 131.08s/it]"
     ]
    },
    {
     "name": "stdout",
     "output_type": "stream",
     "text": [
      "Extracted 4222 patches from data/TCGA_BRCA_Filtered/SVS/TCGA-A8-A07E-01Z-00-DX1.AC684481-979A-46F9-91D7-C56CE85992F2.svs; saved 4222 to outputs/patches/TCGA-A8-A07E-01Z-00-DX1.AC684481-979A-46F9-91D7-C56CE85992F2\n",
      "Processing slide: data/TCGA_BRCA_Filtered/SVS/TCGA-A8-A07I-01Z-00-DX1.37E7BB2E-8210-4216-B75F-0FD06D6C9AE3.svs with annotation: /media/thanakornbuath/Phone SSD/her2-attention-classifier/data/TCGA_BRCA_Filtered/Annotations/TCGA-A8-A07I-01Z-00-DX1.xml\n",
      "Mask shape: (77568, 54528)\n",
      "Loaded WSI backend: cucim\n"
     ]
    },
    {
     "name": "stderr",
     "output_type": "stream",
     "text": [
      "Processing slides:  64%|██████▍   | 301/471 [2:16:56<6:39:44, 141.09s/it]"
     ]
    },
    {
     "name": "stdout",
     "output_type": "stream",
     "text": [
      "Extracted 3713 patches from data/TCGA_BRCA_Filtered/SVS/TCGA-A8-A07I-01Z-00-DX1.37E7BB2E-8210-4216-B75F-0FD06D6C9AE3.svs; saved 3713 to outputs/patches/TCGA-A8-A07I-01Z-00-DX1.37E7BB2E-8210-4216-B75F-0FD06D6C9AE3\n",
      "Processing slide: data/TCGA_BRCA_Filtered/SVS/TCGA-A8-A07P-01Z-00-DX1.2C7C75EF-EEE2-4A42-994C-A1A40850C87A.svs with annotation: /media/thanakornbuath/Phone SSD/her2-attention-classifier/data/TCGA_BRCA_Filtered/Annotations/TCGA-A8-A07P-01Z-00-DX1.xml\n",
      "Mask shape: (40192, 27392)\n",
      "Loaded WSI backend: cucim\n"
     ]
    },
    {
     "name": "stderr",
     "output_type": "stream",
     "text": [
      "Processing slides:  64%|██████▍   | 302/471 [2:18:00<5:31:56, 117.85s/it]"
     ]
    },
    {
     "name": "stdout",
     "output_type": "stream",
     "text": [
      "Extracted 1612 patches from data/TCGA_BRCA_Filtered/SVS/TCGA-A8-A07P-01Z-00-DX1.2C7C75EF-EEE2-4A42-994C-A1A40850C87A.svs; saved 1612 to outputs/patches/TCGA-A8-A07P-01Z-00-DX1.2C7C75EF-EEE2-4A42-994C-A1A40850C87A\n",
      "Processing slide: data/TCGA_BRCA_Filtered/SVS/TCGA-A8-A07U-01Z-00-DX1.69D356C3-C7FC-47E9-B753-BE421263343F.svs with annotation: /media/thanakornbuath/Phone SSD/her2-attention-classifier/data/TCGA_BRCA_Filtered/Annotations/TCGA-A8-A07U-01Z-00-DX1.xml\n",
      "Mask shape: (108288, 49920)\n",
      "Loaded WSI backend: cucim\n"
     ]
    },
    {
     "name": "stderr",
     "output_type": "stream",
     "text": [
      "Processing slides:  64%|██████▍   | 303/471 [2:20:39<6:04:34, 130.21s/it]"
     ]
    },
    {
     "name": "stdout",
     "output_type": "stream",
     "text": [
      "Extracted 3722 patches from data/TCGA_BRCA_Filtered/SVS/TCGA-A8-A07U-01Z-00-DX1.69D356C3-C7FC-47E9-B753-BE421263343F.svs; saved 3722 to outputs/patches/TCGA-A8-A07U-01Z-00-DX1.69D356C3-C7FC-47E9-B753-BE421263343F\n",
      "Processing slide: data/TCGA_BRCA_Filtered/SVS/TCGA-A8-A08B-01Z-00-DX1.416316FD-E8BF-402C-939A-08920F08A181.svs with annotation: /media/thanakornbuath/Phone SSD/her2-attention-classifier/data/TCGA_BRCA_Filtered/Annotations/TCGA-A8-A08B-01Z-00-DX1.xml\n",
      "Mask shape: (90368, 70656)\n",
      "Loaded WSI backend: cucim\n"
     ]
    },
    {
     "name": "stderr",
     "output_type": "stream",
     "text": [
      "Processing slides:  65%|██████▍   | 304/471 [2:22:03<5:24:02, 116.42s/it]"
     ]
    },
    {
     "name": "stdout",
     "output_type": "stream",
     "text": [
      "Extracted 1920 patches from data/TCGA_BRCA_Filtered/SVS/TCGA-A8-A08B-01Z-00-DX1.416316FD-E8BF-402C-939A-08920F08A181.svs; saved 1920 to outputs/patches/TCGA-A8-A08B-01Z-00-DX1.416316FD-E8BF-402C-939A-08920F08A181\n",
      "Processing slide: data/TCGA_BRCA_Filtered/SVS/TCGA-A8-A08G-01Z-00-DX1.C3BB7FEC-91B7-4B45-8DFC-36CABCC0FD57.svs with annotation: /media/thanakornbuath/Phone SSD/her2-attention-classifier/data/TCGA_BRCA_Filtered/Annotations/TCGA-A8-A08G-01Z-00-DX1.xml\n",
      "Mask shape: (51456, 47872)\n",
      "Loaded WSI backend: cucim\n"
     ]
    },
    {
     "name": "stderr",
     "output_type": "stream",
     "text": [
      "Processing slides:  65%|██████▍   | 305/471 [2:24:04<5:25:28, 117.64s/it]"
     ]
    },
    {
     "name": "stdout",
     "output_type": "stream",
     "text": [
      "Extracted 2713 patches from data/TCGA_BRCA_Filtered/SVS/TCGA-A8-A08G-01Z-00-DX1.C3BB7FEC-91B7-4B45-8DFC-36CABCC0FD57.svs; saved 2713 to outputs/patches/TCGA-A8-A08G-01Z-00-DX1.C3BB7FEC-91B7-4B45-8DFC-36CABCC0FD57\n",
      "Processing slide: data/TCGA_BRCA_Filtered/SVS/TCGA-A8-A08P-01Z-00-DX1.431A1290-9CF4-4CE7-A9F0-13F9ADA46ADA.svs with annotation: /media/thanakornbuath/Phone SSD/her2-attention-classifier/data/TCGA_BRCA_Filtered/Annotations/TCGA-A8-A08P-01Z-00-DX1.xml\n",
      "Mask shape: (46336, 67584)\n",
      "Loaded WSI backend: cucim\n"
     ]
    },
    {
     "name": "stderr",
     "output_type": "stream",
     "text": [
      "Processing slides:  65%|██████▍   | 306/471 [2:26:48<6:02:03, 131.66s/it]"
     ]
    },
    {
     "name": "stdout",
     "output_type": "stream",
     "text": [
      "Extracted 3888 patches from data/TCGA_BRCA_Filtered/SVS/TCGA-A8-A08P-01Z-00-DX1.431A1290-9CF4-4CE7-A9F0-13F9ADA46ADA.svs; saved 3888 to outputs/patches/TCGA-A8-A08P-01Z-00-DX1.431A1290-9CF4-4CE7-A9F0-13F9ADA46ADA\n",
      "Processing slide: data/TCGA_BRCA_Filtered/SVS/TCGA-A8-A08S-01Z-00-DX1.C0E044C2-FC3F-4E3D-A779-A725FF375F21.svs with annotation: /media/thanakornbuath/Phone SSD/her2-attention-classifier/data/TCGA_BRCA_Filtered/Annotations/TCGA-A8-A08S-01Z-00-DX1.xml\n",
      "Mask shape: (43264, 52480)\n",
      "Loaded WSI backend: cucim\n"
     ]
    },
    {
     "name": "stderr",
     "output_type": "stream",
     "text": [
      "Processing slides:  65%|██████▌   | 307/471 [2:28:03<5:13:12, 114.59s/it]"
     ]
    },
    {
     "name": "stdout",
     "output_type": "stream",
     "text": [
      "Extracted 1688 patches from data/TCGA_BRCA_Filtered/SVS/TCGA-A8-A08S-01Z-00-DX1.C0E044C2-FC3F-4E3D-A779-A725FF375F21.svs; saved 1688 to outputs/patches/TCGA-A8-A08S-01Z-00-DX1.C0E044C2-FC3F-4E3D-A779-A725FF375F21\n",
      "Processing slide: data/TCGA_BRCA_Filtered/SVS/TCGA-A8-A08X-01Z-00-DX1.01FB49CC-6B8E-4317-8C42-6B6D81187A40.svs with annotation: /media/thanakornbuath/Phone SSD/her2-attention-classifier/data/TCGA_BRCA_Filtered/Annotations/TCGA-A8-A08X-01Z-00-DX1.xml\n",
      "Mask shape: (33536, 38144)\n",
      "Loaded WSI backend: cucim\n"
     ]
    },
    {
     "name": "stderr",
     "output_type": "stream",
     "text": [
      "Processing slides:  65%|██████▌   | 308/471 [2:29:28<4:47:28, 105.82s/it]"
     ]
    },
    {
     "name": "stdout",
     "output_type": "stream",
     "text": [
      "Extracted 2064 patches from data/TCGA_BRCA_Filtered/SVS/TCGA-A8-A08X-01Z-00-DX1.01FB49CC-6B8E-4317-8C42-6B6D81187A40.svs; saved 2064 to outputs/patches/TCGA-A8-A08X-01Z-00-DX1.01FB49CC-6B8E-4317-8C42-6B6D81187A40\n",
      "Processing slide: data/TCGA_BRCA_Filtered/SVS/TCGA-A8-A094-01Z-00-DX1.6750B72A-FEC7-49FA-8520-FCF101CA59AC.svs with annotation: /media/thanakornbuath/Phone SSD/her2-attention-classifier/data/TCGA_BRCA_Filtered/Annotations/TCGA-A8-A094-01Z-00-DX1.xml\n",
      "Mask shape: (59136, 49408)\n",
      "Loaded WSI backend: cucim\n"
     ]
    },
    {
     "name": "stderr",
     "output_type": "stream",
     "text": [
      "Processing slides:  66%|██████▌   | 309/471 [2:31:43<5:09:27, 114.61s/it]"
     ]
    },
    {
     "name": "stdout",
     "output_type": "stream",
     "text": [
      "Extracted 3469 patches from data/TCGA_BRCA_Filtered/SVS/TCGA-A8-A094-01Z-00-DX1.6750B72A-FEC7-49FA-8520-FCF101CA59AC.svs; saved 3469 to outputs/patches/TCGA-A8-A094-01Z-00-DX1.6750B72A-FEC7-49FA-8520-FCF101CA59AC\n",
      "Processing slide: data/TCGA_BRCA_Filtered/SVS/TCGA-A8-A095-01Z-00-DX1.97072E53-7323-4836-9D58-22B7C346A7CE.svs with annotation: /media/thanakornbuath/Phone SSD/her2-attention-classifier/data/TCGA_BRCA_Filtered/Annotations/TCGA-A8-A095-01Z-00-DX1.xml\n",
      "Mask shape: (41728, 59648)\n",
      "Loaded WSI backend: cucim\n"
     ]
    },
    {
     "name": "stderr",
     "output_type": "stream",
     "text": [
      "Processing slides:  66%|██████▌   | 310/471 [2:32:51<4:29:47, 100.54s/it]"
     ]
    },
    {
     "name": "stdout",
     "output_type": "stream",
     "text": [
      "Extracted 1192 patches from data/TCGA_BRCA_Filtered/SVS/TCGA-A8-A095-01Z-00-DX1.97072E53-7323-4836-9D58-22B7C346A7CE.svs; saved 1192 to outputs/patches/TCGA-A8-A095-01Z-00-DX1.97072E53-7323-4836-9D58-22B7C346A7CE\n",
      "Processing slide: data/TCGA_BRCA_Filtered/SVS/TCGA-A8-A097-01Z-00-DX1.4D06990E-E759-40F0-9106-59408CF350E5.svs with annotation: /media/thanakornbuath/Phone SSD/her2-attention-classifier/data/TCGA_BRCA_Filtered/Annotations/TCGA-A8-A097-01Z-00-DX1.xml\n",
      "Mask shape: (55040, 38144)\n",
      "Loaded WSI backend: cucim\n"
     ]
    },
    {
     "name": "stderr",
     "output_type": "stream",
     "text": [
      "Processing slides:  66%|██████▌   | 311/471 [2:34:51<4:43:24, 106.28s/it]"
     ]
    },
    {
     "name": "stdout",
     "output_type": "stream",
     "text": [
      "Extracted 2667 patches from data/TCGA_BRCA_Filtered/SVS/TCGA-A8-A097-01Z-00-DX1.4D06990E-E759-40F0-9106-59408CF350E5.svs; saved 2667 to outputs/patches/TCGA-A8-A097-01Z-00-DX1.4D06990E-E759-40F0-9106-59408CF350E5\n",
      "Processing slide: data/TCGA_BRCA_Filtered/SVS/TCGA-A8-A099-01Z-00-DX1.B19C28B5-FEBC-49B4-A60E-E6B85BB00DD7.svs with annotation: /media/thanakornbuath/Phone SSD/her2-attention-classifier/data/TCGA_BRCA_Filtered/Annotations/TCGA-A8-A099-01Z-00-DX1.xml\n",
      "Mask shape: (55552, 46336)\n",
      "Loaded WSI backend: cucim\n"
     ]
    },
    {
     "name": "stderr",
     "output_type": "stream",
     "text": [
      "Processing slides:  66%|██████▌   | 312/471 [2:37:17<5:13:08, 118.17s/it]"
     ]
    },
    {
     "name": "stdout",
     "output_type": "stream",
     "text": [
      "Extracted 3286 patches from data/TCGA_BRCA_Filtered/SVS/TCGA-A8-A099-01Z-00-DX1.B19C28B5-FEBC-49B4-A60E-E6B85BB00DD7.svs; saved 3286 to outputs/patches/TCGA-A8-A099-01Z-00-DX1.B19C28B5-FEBC-49B4-A60E-E6B85BB00DD7\n",
      "Processing slide: data/TCGA_BRCA_Filtered/SVS/TCGA-A8-A09D-01Z-00-DX1.66312A8A-88BA-4B58-96DF-1A7AC39F9E4A.svs with annotation: /media/thanakornbuath/Phone SSD/her2-attention-classifier/data/TCGA_BRCA_Filtered/Annotations/TCGA-A8-A09D-01Z-00-DX1.xml\n",
      "Mask shape: (46336, 48896)\n",
      "Loaded WSI backend: cucim\n"
     ]
    },
    {
     "name": "stderr",
     "output_type": "stream",
     "text": [
      "Processing slides:  66%|██████▋   | 313/471 [2:39:44<5:34:03, 126.86s/it]"
     ]
    },
    {
     "name": "stdout",
     "output_type": "stream",
     "text": [
      "Extracted 3083 patches from data/TCGA_BRCA_Filtered/SVS/TCGA-A8-A09D-01Z-00-DX1.66312A8A-88BA-4B58-96DF-1A7AC39F9E4A.svs; saved 3083 to outputs/patches/TCGA-A8-A09D-01Z-00-DX1.66312A8A-88BA-4B58-96DF-1A7AC39F9E4A\n",
      "Processing slide: data/TCGA_BRCA_Filtered/SVS/TCGA-A8-A09G-01Z-00-DX1.B834728C-DAC5-4463-961D-7E3B220905C1.svs with annotation: /media/thanakornbuath/Phone SSD/her2-attention-classifier/data/TCGA_BRCA_Filtered/Annotations/TCGA-A8-A09G-01Z-00-DX1.xml\n",
      "Mask shape: (40192, 68096)\n",
      "Loaded WSI backend: cucim\n"
     ]
    },
    {
     "name": "stderr",
     "output_type": "stream",
     "text": [
      "Processing slides:  67%|██████▋   | 314/471 [2:43:22<6:43:16, 154.12s/it]"
     ]
    },
    {
     "name": "stdout",
     "output_type": "stream",
     "text": [
      "Extracted 4683 patches from data/TCGA_BRCA_Filtered/SVS/TCGA-A8-A09G-01Z-00-DX1.B834728C-DAC5-4463-961D-7E3B220905C1.svs; saved 4683 to outputs/patches/TCGA-A8-A09G-01Z-00-DX1.B834728C-DAC5-4463-961D-7E3B220905C1\n",
      "Processing slide: data/TCGA_BRCA_Filtered/SVS/TCGA-A8-A09I-01Z-00-DX1.B738E479-8766-4766-B012-B32AC2F27533.svs with annotation: /media/thanakornbuath/Phone SSD/her2-attention-classifier/data/TCGA_BRCA_Filtered/Annotations/TCGA-A8-A09I-01Z-00-DX1.xml\n",
      "Mask shape: (45824, 78336)\n",
      "Loaded WSI backend: cucim\n"
     ]
    },
    {
     "name": "stderr",
     "output_type": "stream",
     "text": [
      "Processing slides:  67%|██████▋   | 315/471 [2:44:59<5:56:27, 137.10s/it]"
     ]
    },
    {
     "name": "stdout",
     "output_type": "stream",
     "text": [
      "Extracted 1966 patches from data/TCGA_BRCA_Filtered/SVS/TCGA-A8-A09I-01Z-00-DX1.B738E479-8766-4766-B012-B32AC2F27533.svs; saved 1966 to outputs/patches/TCGA-A8-A09I-01Z-00-DX1.B738E479-8766-4766-B012-B32AC2F27533\n",
      "Processing slide: data/TCGA_BRCA_Filtered/SVS/TCGA-A8-A09K-01Z-00-DX1.41B2DF5F-C0E1-43BB-BAA5-2946A9EC4650.svs with annotation: /media/thanakornbuath/Phone SSD/her2-attention-classifier/data/TCGA_BRCA_Filtered/Annotations/TCGA-A8-A09K-01Z-00-DX1.xml\n",
      "Mask shape: (49408, 81408)\n",
      "Loaded WSI backend: cucim\n"
     ]
    },
    {
     "name": "stderr",
     "output_type": "stream",
     "text": [
      "Processing slides:  67%|██████▋   | 316/471 [2:47:25<6:01:18, 139.86s/it]"
     ]
    },
    {
     "name": "stdout",
     "output_type": "stream",
     "text": [
      "Extracted 3712 patches from data/TCGA_BRCA_Filtered/SVS/TCGA-A8-A09K-01Z-00-DX1.41B2DF5F-C0E1-43BB-BAA5-2946A9EC4650.svs; saved 3712 to outputs/patches/TCGA-A8-A09K-01Z-00-DX1.41B2DF5F-C0E1-43BB-BAA5-2946A9EC4650\n",
      "Processing slide: data/TCGA_BRCA_Filtered/SVS/TCGA-A8-A09X-01Z-00-DX1.17B5BE28-944F-427B-8F90-44885C3EDD36.svs with annotation: /media/thanakornbuath/Phone SSD/her2-attention-classifier/data/TCGA_BRCA_Filtered/Annotations/TCGA-A8-A09X-01Z-00-DX1.xml\n",
      "Mask shape: (121600, 85504)\n",
      "Loaded WSI backend: cucim\n"
     ]
    },
    {
     "name": "stderr",
     "output_type": "stream",
     "text": [
      "Processing slides:  67%|██████▋   | 317/471 [2:49:55<6:06:17, 142.71s/it]"
     ]
    },
    {
     "name": "stdout",
     "output_type": "stream",
     "text": [
      "Extracted 2560 patches from data/TCGA_BRCA_Filtered/SVS/TCGA-A8-A09X-01Z-00-DX1.17B5BE28-944F-427B-8F90-44885C3EDD36.svs; saved 2560 to outputs/patches/TCGA-A8-A09X-01Z-00-DX1.17B5BE28-944F-427B-8F90-44885C3EDD36\n",
      "Processing slide: data/TCGA_BRCA_Filtered/SVS/TCGA-A8-A0A2-01Z-00-DX1.47BCDF13-1065-466A-B7CB-F91F5EAD7D91.svs with annotation: /media/thanakornbuath/Phone SSD/her2-attention-classifier/data/TCGA_BRCA_Filtered/Annotations/TCGA-A8-A0A2-01Z-00-DX1.xml\n",
      "Mask shape: (114432, 41728)\n",
      "Loaded WSI backend: cucim\n"
     ]
    },
    {
     "name": "stderr",
     "output_type": "stream",
     "text": [
      "Processing slides:  68%|██████▊   | 318/471 [2:51:02<5:05:53, 119.96s/it]"
     ]
    },
    {
     "name": "stdout",
     "output_type": "stream",
     "text": [
      "Extracted 1314 patches from data/TCGA_BRCA_Filtered/SVS/TCGA-A8-A0A2-01Z-00-DX1.47BCDF13-1065-466A-B7CB-F91F5EAD7D91.svs; saved 1314 to outputs/patches/TCGA-A8-A0A2-01Z-00-DX1.47BCDF13-1065-466A-B7CB-F91F5EAD7D91\n",
      "Processing slide: data/TCGA_BRCA_Filtered/SVS/TCGA-AC-A23C-01Z-00-DX1.0E67C785-83D3-49AF-B600-FB5B909AE6ED.svs with annotation: /media/thanakornbuath/Phone SSD/her2-attention-classifier/data/TCGA_BRCA_Filtered/Annotations/TCGA-AC-A23C-01Z-00-DX1.xml\n",
      "Mask shape: (26420, 19920)\n",
      "Loaded WSI backend: cucim\n"
     ]
    },
    {
     "name": "stderr",
     "output_type": "stream",
     "text": [
      "Processing slides:  68%|██████▊   | 319/471 [2:51:49<4:08:45, 98.20s/it] "
     ]
    },
    {
     "name": "stdout",
     "output_type": "stream",
     "text": [
      "Extracted 733 patches from data/TCGA_BRCA_Filtered/SVS/TCGA-AC-A23C-01Z-00-DX1.0E67C785-83D3-49AF-B600-FB5B909AE6ED.svs; saved 733 to outputs/patches/TCGA-AC-A23C-01Z-00-DX1.0E67C785-83D3-49AF-B600-FB5B909AE6ED\n",
      "Processing slide: data/TCGA_BRCA_Filtered/SVS/TCGA-AC-A23H-01Z-00-DX1.8E0AE339-1047-4CA5-BFC5-37A3B10FD8B5.svs with annotation: /media/thanakornbuath/Phone SSD/her2-attention-classifier/data/TCGA_BRCA_Filtered/Annotations/TCGA-AC-A23H-01Z-00-DX1.xml\n",
      "Mask shape: (40776, 33864)\n",
      "Loaded WSI backend: cucim\n"
     ]
    },
    {
     "name": "stderr",
     "output_type": "stream",
     "text": [
      "Processing slides:  68%|██████▊   | 320/471 [2:53:40<4:17:03, 102.14s/it]"
     ]
    },
    {
     "name": "stdout",
     "output_type": "stream",
     "text": [
      "Extracted 1523 patches from data/TCGA_BRCA_Filtered/SVS/TCGA-AC-A23H-01Z-00-DX1.8E0AE339-1047-4CA5-BFC5-37A3B10FD8B5.svs; saved 1523 to outputs/patches/TCGA-AC-A23H-01Z-00-DX1.8E0AE339-1047-4CA5-BFC5-37A3B10FD8B5\n",
      "Processing slide: data/TCGA_BRCA_Filtered/SVS/TCGA-AN-A046-01Z-00-DX1.C529B94F-AFE3-4701-BC98-5D6EDF7B82C0.svs with annotation: /media/thanakornbuath/Phone SSD/her2-attention-classifier/data/TCGA_BRCA_Filtered/Annotations/TCGA-AN-A046-01Z-00-DX1.xml\n",
      "Mask shape: (42719, 103584)\n",
      "Loaded WSI backend: cucim\n"
     ]
    },
    {
     "name": "stderr",
     "output_type": "stream",
     "text": [
      "Processing slides:  68%|██████▊   | 321/471 [2:55:51<4:37:00, 110.81s/it]"
     ]
    },
    {
     "name": "stdout",
     "output_type": "stream",
     "text": [
      "Extracted 1817 patches from data/TCGA_BRCA_Filtered/SVS/TCGA-AN-A046-01Z-00-DX1.C529B94F-AFE3-4701-BC98-5D6EDF7B82C0.svs; saved 1817 to outputs/patches/TCGA-AN-A046-01Z-00-DX1.C529B94F-AFE3-4701-BC98-5D6EDF7B82C0\n",
      "Processing slide: data/TCGA_BRCA_Filtered/SVS/TCGA-AN-A0AJ-01Z-00-DX1.74EE47B0-FE27-44CF-9355-C738DE1BD017.svs with annotation: /media/thanakornbuath/Phone SSD/her2-attention-classifier/data/TCGA_BRCA_Filtered/Annotations/TCGA-AN-A0AJ-01Z-00-DX1.xml\n",
      "Mask shape: (69397, 161839)\n",
      "Loaded WSI backend: cucim\n"
     ]
    },
    {
     "name": "stderr",
     "output_type": "stream",
     "text": [
      "Processing slides:  68%|██████▊   | 322/471 [3:01:24<7:20:35, 177.42s/it]"
     ]
    },
    {
     "name": "stdout",
     "output_type": "stream",
     "text": [
      "Extracted 6379 patches from data/TCGA_BRCA_Filtered/SVS/TCGA-AN-A0AJ-01Z-00-DX1.74EE47B0-FE27-44CF-9355-C738DE1BD017.svs; saved 6379 to outputs/patches/TCGA-AN-A0AJ-01Z-00-DX1.74EE47B0-FE27-44CF-9355-C738DE1BD017\n",
      "Processing slide: data/TCGA_BRCA_Filtered/SVS/TCGA-AN-A0AL-01Z-00-DX1.D9E446A3-175F-4242-AFC1-78FFE3FC9AC4.svs with annotation: /media/thanakornbuath/Phone SSD/her2-attention-classifier/data/TCGA_BRCA_Filtered/Annotations/TCGA-AN-A0AL-01Z-00-DX1.xml\n",
      "Mask shape: (66427, 152319)\n",
      "Loaded WSI backend: cucim\n"
     ]
    },
    {
     "name": "stderr",
     "output_type": "stream",
     "text": [
      "Processing slides:  69%|██████▊   | 323/471 [3:05:59<8:29:42, 206.64s/it]"
     ]
    },
    {
     "name": "stdout",
     "output_type": "stream",
     "text": [
      "Extracted 5614 patches from data/TCGA_BRCA_Filtered/SVS/TCGA-AN-A0AL-01Z-00-DX1.D9E446A3-175F-4242-AFC1-78FFE3FC9AC4.svs; saved 5614 to outputs/patches/TCGA-AN-A0AL-01Z-00-DX1.D9E446A3-175F-4242-AFC1-78FFE3FC9AC4\n",
      "Processing slide: data/TCGA_BRCA_Filtered/SVS/TCGA-AN-A0AM-01Z-00-DX1.169CE39A-DD54-46D8-8D03-60B69A473CDB.svs with annotation: /media/thanakornbuath/Phone SSD/her2-attention-classifier/data/TCGA_BRCA_Filtered/Annotations/TCGA-AN-A0AM-01Z-00-DX1.xml\n",
      "Mask shape: (50293, 44743)\n",
      "Loaded WSI backend: cucim\n"
     ]
    },
    {
     "name": "stderr",
     "output_type": "stream",
     "text": [
      "Processing slides:  69%|██████▉   | 324/471 [3:07:53<7:18:02, 178.80s/it]"
     ]
    },
    {
     "name": "stdout",
     "output_type": "stream",
     "text": [
      "Extracted 2153 patches from data/TCGA_BRCA_Filtered/SVS/TCGA-AN-A0AM-01Z-00-DX1.169CE39A-DD54-46D8-8D03-60B69A473CDB.svs; saved 2153 to outputs/patches/TCGA-AN-A0AM-01Z-00-DX1.169CE39A-DD54-46D8-8D03-60B69A473CDB\n",
      "Processing slide: data/TCGA_BRCA_Filtered/SVS/TCGA-AN-A0FJ-01Z-00-DX1.97B60767-916E-4938-9D0B-E6C0FE1CB3FC.svs with annotation: /media/thanakornbuath/Phone SSD/her2-attention-classifier/data/TCGA_BRCA_Filtered/Annotations/TCGA-AN-A0FJ-01Z-00-DX1.xml\n",
      "Mask shape: (51819, 139943)\n",
      "Loaded WSI backend: cucim\n"
     ]
    },
    {
     "name": "stderr",
     "output_type": "stream",
     "text": [
      "Processing slides:  69%|██████▉   | 325/471 [3:10:58<7:19:41, 180.69s/it]"
     ]
    },
    {
     "name": "stdout",
     "output_type": "stream",
     "text": [
      "Extracted 3949 patches from data/TCGA_BRCA_Filtered/SVS/TCGA-AN-A0FJ-01Z-00-DX1.97B60767-916E-4938-9D0B-E6C0FE1CB3FC.svs; saved 3949 to outputs/patches/TCGA-AN-A0FJ-01Z-00-DX1.97B60767-916E-4938-9D0B-E6C0FE1CB3FC\n",
      "Processing slide: data/TCGA_BRCA_Filtered/SVS/TCGA-AN-A0FL-01Z-00-DX1.20A041C6-A306-4599-A7D1-65032A252AA9.svs with annotation: /media/thanakornbuath/Phone SSD/her2-attention-classifier/data/TCGA_BRCA_Filtered/Annotations/TCGA-AN-A0FL-01Z-00-DX1.xml\n",
      "Mask shape: (71603, 122807)\n",
      "Loaded WSI backend: cucim\n"
     ]
    },
    {
     "name": "stderr",
     "output_type": "stream",
     "text": [
      "Processing slides:  69%|██████▉   | 326/471 [3:13:55<7:13:58, 179.57s/it]"
     ]
    },
    {
     "name": "stdout",
     "output_type": "stream",
     "text": [
      "Extracted 3988 patches from data/TCGA_BRCA_Filtered/SVS/TCGA-AN-A0FL-01Z-00-DX1.20A041C6-A306-4599-A7D1-65032A252AA9.svs; saved 3988 to outputs/patches/TCGA-AN-A0FL-01Z-00-DX1.20A041C6-A306-4599-A7D1-65032A252AA9\n",
      "Processing slide: data/TCGA_BRCA_Filtered/SVS/TCGA-AN-A0FT-01Z-00-DX1.6F263AB3-FB1D-4056-AEC2-4F163017324F.svs with annotation: /media/thanakornbuath/Phone SSD/her2-attention-classifier/data/TCGA_BRCA_Filtered/Annotations/TCGA-AN-A0FT-01Z-00-DX1.xml\n",
      "Mask shape: (45396, 124711)\n",
      "Loaded WSI backend: cucim\n"
     ]
    },
    {
     "name": "stderr",
     "output_type": "stream",
     "text": [
      "Processing slides:  69%|██████▉   | 327/471 [3:16:38<6:58:56, 174.56s/it]"
     ]
    },
    {
     "name": "stdout",
     "output_type": "stream",
     "text": [
      "Extracted 2891 patches from data/TCGA_BRCA_Filtered/SVS/TCGA-AN-A0FT-01Z-00-DX1.6F263AB3-FB1D-4056-AEC2-4F163017324F.svs; saved 2891 to outputs/patches/TCGA-AN-A0FT-01Z-00-DX1.6F263AB3-FB1D-4056-AEC2-4F163017324F\n",
      "Processing slide: data/TCGA_BRCA_Filtered/SVS/TCGA-AN-A0FV-01Z-00-DX1.C0D02946-FCDA-472D-895D-7ACF5C96B264.svs with annotation: /media/thanakornbuath/Phone SSD/her2-attention-classifier/data/TCGA_BRCA_Filtered/Annotations/TCGA-AN-A0FV-01Z-00-DX1.xml\n",
      "Mask shape: (52486, 73303)\n",
      "Loaded WSI backend: cucim\n"
     ]
    },
    {
     "name": "stderr",
     "output_type": "stream",
     "text": [
      "Processing slides:  70%|██████▉   | 328/471 [3:21:18<8:11:24, 206.18s/it]"
     ]
    },
    {
     "name": "stdout",
     "output_type": "stream",
     "text": [
      "Extracted 7003 patches from data/TCGA_BRCA_Filtered/SVS/TCGA-AN-A0FV-01Z-00-DX1.C0D02946-FCDA-472D-895D-7ACF5C96B264.svs; saved 7003 to outputs/patches/TCGA-AN-A0FV-01Z-00-DX1.C0D02946-FCDA-472D-895D-7ACF5C96B264\n",
      "Processing slide: data/TCGA_BRCA_Filtered/SVS/TCGA-AN-A0FW-01Z-00-DX1.5EEDFC71-6ABE-4189-8C45-2127403A8F04.svs with annotation: /media/thanakornbuath/Phone SSD/her2-attention-classifier/data/TCGA_BRCA_Filtered/Annotations/TCGA-AN-A0FW-01Z-00-DX1.xml\n",
      "Mask shape: (39690, 64735)\n",
      "Loaded WSI backend: cucim\n"
     ]
    },
    {
     "name": "stderr",
     "output_type": "stream",
     "text": [
      "Processing slides:  70%|██████▉   | 329/471 [3:25:22<8:34:48, 217.52s/it]"
     ]
    },
    {
     "name": "stdout",
     "output_type": "stream",
     "text": [
      "Extracted 5501 patches from data/TCGA_BRCA_Filtered/SVS/TCGA-AN-A0FW-01Z-00-DX1.5EEDFC71-6ABE-4189-8C45-2127403A8F04.svs; saved 5501 to outputs/patches/TCGA-AN-A0FW-01Z-00-DX1.5EEDFC71-6ABE-4189-8C45-2127403A8F04\n",
      "Processing slide: data/TCGA_BRCA_Filtered/SVS/TCGA-AN-A0XT-01Z-00-DX1.882AF4CE-62A1-4808-9B4B-780066E5E602.svs with annotation: /media/thanakornbuath/Phone SSD/her2-attention-classifier/data/TCGA_BRCA_Filtered/Annotations/TCGA-AN-A0XT-01Z-00-DX1.xml\n",
      "Mask shape: (44058, 49800)\n",
      "Loaded WSI backend: cucim\n"
     ]
    },
    {
     "name": "stderr",
     "output_type": "stream",
     "text": [
      "Processing slides:  70%|███████   | 330/471 [3:28:09<7:55:52, 202.50s/it]"
     ]
    },
    {
     "name": "stdout",
     "output_type": "stream",
     "text": [
      "Extracted 3784 patches from data/TCGA_BRCA_Filtered/SVS/TCGA-AN-A0XT-01Z-00-DX1.882AF4CE-62A1-4808-9B4B-780066E5E602.svs; saved 3784 to outputs/patches/TCGA-AN-A0XT-01Z-00-DX1.882AF4CE-62A1-4808-9B4B-780066E5E602\n",
      "Processing slide: data/TCGA_BRCA_Filtered/SVS/TCGA-AO-A03V-01Z-00-DX1.52EBCB72-0C65-4E67-B9BB-DA15494327DE.svs with annotation: /media/thanakornbuath/Phone SSD/her2-attention-classifier/data/TCGA_BRCA_Filtered/Annotations/TCGA-AO-A03V-01Z-00-DX1.xml\n",
      "Mask shape: (34985, 35855)\n",
      "Loaded WSI backend: cucim\n"
     ]
    },
    {
     "name": "stderr",
     "output_type": "stream",
     "text": [
      "Processing slides:  70%|███████   | 331/471 [3:29:38<6:33:09, 168.49s/it]"
     ]
    },
    {
     "name": "stdout",
     "output_type": "stream",
     "text": [
      "Extracted 1823 patches from data/TCGA_BRCA_Filtered/SVS/TCGA-AO-A03V-01Z-00-DX1.52EBCB72-0C65-4E67-B9BB-DA15494327DE.svs; saved 1823 to outputs/patches/TCGA-AO-A03V-01Z-00-DX1.52EBCB72-0C65-4E67-B9BB-DA15494327DE\n",
      "Processing slide: data/TCGA_BRCA_Filtered/SVS/TCGA-AO-A0J5-01Z-00-DX1.20C14D0C-1A74-4FE9-A5E6-BDDCB8DE7714.svs with annotation: /media/thanakornbuath/Phone SSD/her2-attention-classifier/data/TCGA_BRCA_Filtered/Annotations/TCGA-AO-A0J5-01Z-00-DX1.xml\n",
      "Mask shape: (45546, 55775)\n",
      "Loaded WSI backend: cucim\n"
     ]
    },
    {
     "name": "stderr",
     "output_type": "stream",
     "text": [
      "Processing slides:  70%|███████   | 332/471 [3:31:13<5:39:16, 146.45s/it]"
     ]
    },
    {
     "name": "stdout",
     "output_type": "stream",
     "text": [
      "Extracted 2397 patches from data/TCGA_BRCA_Filtered/SVS/TCGA-AO-A0J5-01Z-00-DX1.20C14D0C-1A74-4FE9-A5E6-BDDCB8DE7714.svs; saved 2397 to outputs/patches/TCGA-AO-A0J5-01Z-00-DX1.20C14D0C-1A74-4FE9-A5E6-BDDCB8DE7714\n",
      "Processing slide: data/TCGA_BRCA_Filtered/SVS/TCGA-AO-A0JD-01Z-00-DX1.52E3DCE8-32E3-45C0-AB54-7FA0A2F3F722.svs with annotation: /media/thanakornbuath/Phone SSD/her2-attention-classifier/data/TCGA_BRCA_Filtered/Annotations/TCGA-AO-A0JD-01Z-00-DX1.xml\n",
      "Mask shape: (42564, 49799)\n",
      "Loaded WSI backend: cucim\n"
     ]
    },
    {
     "name": "stderr",
     "output_type": "stream",
     "text": [
      "Processing slides:  71%|███████   | 333/471 [3:33:39<5:36:28, 146.30s/it]"
     ]
    },
    {
     "name": "stdout",
     "output_type": "stream",
     "text": [
      "Extracted 3612 patches from data/TCGA_BRCA_Filtered/SVS/TCGA-AO-A0JD-01Z-00-DX1.52E3DCE8-32E3-45C0-AB54-7FA0A2F3F722.svs; saved 3612 to outputs/patches/TCGA-AO-A0JD-01Z-00-DX1.52E3DCE8-32E3-45C0-AB54-7FA0A2F3F722\n",
      "Processing slide: data/TCGA_BRCA_Filtered/SVS/TCGA-AO-A0JE-01Z-00-DX1.82D33053-E305-47D8-9B02-B55511EBB06D.svs with annotation: /media/thanakornbuath/Phone SSD/her2-attention-classifier/data/TCGA_BRCA_Filtered/Annotations/TCGA-AO-A0JE-01Z-00-DX1.xml\n",
      "Mask shape: (39098, 61751)\n",
      "Loaded WSI backend: cucim\n"
     ]
    },
    {
     "name": "stderr",
     "output_type": "stream",
     "text": [
      "Processing slides:  71%|███████   | 334/471 [3:36:21<5:44:34, 150.91s/it]"
     ]
    },
    {
     "name": "stdout",
     "output_type": "stream",
     "text": [
      "Extracted 3111 patches from data/TCGA_BRCA_Filtered/SVS/TCGA-AO-A0JE-01Z-00-DX1.82D33053-E305-47D8-9B02-B55511EBB06D.svs; saved 3111 to outputs/patches/TCGA-AO-A0JE-01Z-00-DX1.82D33053-E305-47D8-9B02-B55511EBB06D\n",
      "Processing slide: data/TCGA_BRCA_Filtered/SVS/TCGA-AO-A0JJ-01Z-00-DX1.D5B636F5-1B47-4033-9938-9DC8CD48CEE9.svs with annotation: /media/thanakornbuath/Phone SSD/her2-attention-classifier/data/TCGA_BRCA_Filtered/Annotations/TCGA-AO-A0JJ-01Z-00-DX1.xml\n",
      "Mask shape: (44667, 55775)\n",
      "Loaded WSI backend: cucim\n"
     ]
    },
    {
     "name": "stderr",
     "output_type": "stream",
     "text": [
      "Processing slides:  71%|███████   | 335/471 [3:37:33<4:48:13, 127.16s/it]"
     ]
    },
    {
     "name": "stdout",
     "output_type": "stream",
     "text": [
      "Extracted 1703 patches from data/TCGA_BRCA_Filtered/SVS/TCGA-AO-A0JJ-01Z-00-DX1.D5B636F5-1B47-4033-9938-9DC8CD48CEE9.svs; saved 1703 to outputs/patches/TCGA-AO-A0JJ-01Z-00-DX1.D5B636F5-1B47-4033-9938-9DC8CD48CEE9\n",
      "Processing slide: data/TCGA_BRCA_Filtered/SVS/TCGA-AO-A0JM-01Z-00-DX1.94E75EFD-E5F5-4DF8-93A0-ED94CB4D203A.svs with annotation: /media/thanakornbuath/Phone SSD/her2-attention-classifier/data/TCGA_BRCA_Filtered/Annotations/TCGA-AO-A0JM-01Z-00-DX1.xml\n",
      "Mask shape: (45769, 59759)\n",
      "Loaded WSI backend: cucim\n"
     ]
    },
    {
     "name": "stderr",
     "output_type": "stream",
     "text": [
      "Processing slides:  71%|███████▏  | 336/471 [3:39:19<4:31:46, 120.79s/it]"
     ]
    },
    {
     "name": "stdout",
     "output_type": "stream",
     "text": [
      "Extracted 1981 patches from data/TCGA_BRCA_Filtered/SVS/TCGA-AO-A0JM-01Z-00-DX1.94E75EFD-E5F5-4DF8-93A0-ED94CB4D203A.svs; saved 1981 to outputs/patches/TCGA-AO-A0JM-01Z-00-DX1.94E75EFD-E5F5-4DF8-93A0-ED94CB4D203A\n",
      "Processing slide: data/TCGA_BRCA_Filtered/SVS/TCGA-AO-A129-01Z-00-DX1.BF485416-BF57-4F39-866B-4B1E201876FA.svs with annotation: /media/thanakornbuath/Phone SSD/her2-attention-classifier/data/TCGA_BRCA_Filtered/Annotations/TCGA-AO-A129-01Z-00-DX1.xml\n",
      "Mask shape: (42825, 49799)\n",
      "Loaded WSI backend: cucim\n"
     ]
    },
    {
     "name": "stderr",
     "output_type": "stream",
     "text": [
      "Processing slides:  72%|███████▏  | 337/471 [3:40:01<3:36:59, 97.16s/it] "
     ]
    },
    {
     "name": "stdout",
     "output_type": "stream",
     "text": [
      "Extracted 1114 patches from data/TCGA_BRCA_Filtered/SVS/TCGA-AO-A129-01Z-00-DX1.BF485416-BF57-4F39-866B-4B1E201876FA.svs; saved 1114 to outputs/patches/TCGA-AO-A129-01Z-00-DX1.BF485416-BF57-4F39-866B-4B1E201876FA\n",
      "Processing slide: data/TCGA_BRCA_Filtered/SVS/TCGA-AO-A12D-01Z-00-DX1.BA006BAD-5C6E-4099-BC99-3888E69F506E.svs with annotation: /media/thanakornbuath/Phone SSD/her2-attention-classifier/data/TCGA_BRCA_Filtered/Annotations/TCGA-AO-A12D-01Z-00-DX1.xml\n",
      "Mask shape: (42281, 55775)\n",
      "Loaded WSI backend: cucim\n"
     ]
    },
    {
     "name": "stderr",
     "output_type": "stream",
     "text": [
      "Processing slides:  72%|███████▏  | 338/471 [3:42:45<4:20:21, 117.45s/it]"
     ]
    },
    {
     "name": "stdout",
     "output_type": "stream",
     "text": [
      "Extracted 3800 patches from data/TCGA_BRCA_Filtered/SVS/TCGA-AO-A12D-01Z-00-DX1.BA006BAD-5C6E-4099-BC99-3888E69F506E.svs; saved 3800 to outputs/patches/TCGA-AO-A12D-01Z-00-DX1.BA006BAD-5C6E-4099-BC99-3888E69F506E\n",
      "Processing slide: data/TCGA_BRCA_Filtered/SVS/TCGA-AQ-A04H-01Z-00-DX1.5AC1E459-EF27-401D-98FD-0AC16559AF17.svs with annotation: /media/thanakornbuath/Phone SSD/her2-attention-classifier/data/TCGA_BRCA_Filtered/Annotations/TCGA-AQ-A04H-01Z-00-DX1.xml\n",
      "Mask shape: (39007, 134417)\n",
      "Loaded WSI backend: cucim\n"
     ]
    },
    {
     "name": "stderr",
     "output_type": "stream",
     "text": [
      "Processing slides:  72%|███████▏  | 339/471 [3:44:45<4:19:59, 118.18s/it]"
     ]
    },
    {
     "name": "stdout",
     "output_type": "stream",
     "text": [
      "Extracted 1502 patches from data/TCGA_BRCA_Filtered/SVS/TCGA-AQ-A04H-01Z-00-DX1.5AC1E459-EF27-401D-98FD-0AC16559AF17.svs; saved 1502 to outputs/patches/TCGA-AQ-A04H-01Z-00-DX1.5AC1E459-EF27-401D-98FD-0AC16559AF17\n",
      "Processing slide: data/TCGA_BRCA_Filtered/SVS/TCGA-AQ-A04L-01Z-00-DX1.F35BF4DD-896A-43C2-8DA6-C67945C003BE.svs with annotation: /media/thanakornbuath/Phone SSD/her2-attention-classifier/data/TCGA_BRCA_Filtered/Annotations/TCGA-AQ-A04L-01Z-00-DX1.xml\n",
      "Mask shape: (55081, 67208)\n",
      "Loaded WSI backend: cucim\n"
     ]
    },
    {
     "name": "stderr",
     "output_type": "stream",
     "text": [
      "Processing slides:  72%|███████▏  | 340/471 [3:47:38<4:53:43, 134.53s/it]"
     ]
    },
    {
     "name": "stdout",
     "output_type": "stream",
     "text": [
      "Extracted 2104 patches from data/TCGA_BRCA_Filtered/SVS/TCGA-AQ-A04L-01Z-00-DX1.F35BF4DD-896A-43C2-8DA6-C67945C003BE.svs; saved 2104 to outputs/patches/TCGA-AQ-A04L-01Z-00-DX1.F35BF4DD-896A-43C2-8DA6-C67945C003BE\n",
      "Processing slide: data/TCGA_BRCA_Filtered/SVS/TCGA-AQ-A0Y5-01Z-00-DX1.f68f5b49-30fa-4fb6-bec6-5da9f6809d02.svs with annotation: /media/thanakornbuath/Phone SSD/her2-attention-classifier/data/TCGA_BRCA_Filtered/Annotations/TCGA-AQ-A0Y5-01Z-00-DX1.xml\n",
      "Mask shape: (48894, 150415)\n",
      "Loaded WSI backend: cucim\n"
     ]
    },
    {
     "name": "stderr",
     "output_type": "stream",
     "text": [
      "Processing slides:  72%|███████▏  | 341/471 [3:50:00<4:56:06, 136.66s/it]"
     ]
    },
    {
     "name": "stdout",
     "output_type": "stream",
     "text": [
      "Extracted 1788 patches from data/TCGA_BRCA_Filtered/SVS/TCGA-AQ-A0Y5-01Z-00-DX1.f68f5b49-30fa-4fb6-bec6-5da9f6809d02.svs; saved 1788 to outputs/patches/TCGA-AQ-A0Y5-01Z-00-DX1.f68f5b49-30fa-4fb6-bec6-5da9f6809d02\n",
      "Processing slide: data/TCGA_BRCA_Filtered/SVS/TCGA-AR-A0TP-01Z-00-DX1.58E6A3A6-D1D7-4AE5-87A5-E823F04CBB2F.svs with annotation: /media/thanakornbuath/Phone SSD/her2-attention-classifier/data/TCGA_BRCA_Filtered/Annotations/TCGA-AR-A0TP-01Z-00-DX1.xml\n",
      "Mask shape: (83190, 75208)\n",
      "Loaded WSI backend: cucim\n"
     ]
    },
    {
     "name": "stderr",
     "output_type": "stream",
     "text": [
      "Processing slides:  73%|███████▎  | 342/471 [3:57:36<8:19:52, 232.50s/it]"
     ]
    },
    {
     "name": "stdout",
     "output_type": "stream",
     "text": [
      "Extracted 10484 patches from data/TCGA_BRCA_Filtered/SVS/TCGA-AR-A0TP-01Z-00-DX1.58E6A3A6-D1D7-4AE5-87A5-E823F04CBB2F.svs; saved 10484 to outputs/patches/TCGA-AR-A0TP-01Z-00-DX1.58E6A3A6-D1D7-4AE5-87A5-E823F04CBB2F\n",
      "Processing slide: data/TCGA_BRCA_Filtered/SVS/TCGA-AR-A0TQ-01Z-00-DX1.2BEA298C-6B3D-4133-ADBC-769E62CEFFA0.svs with annotation: /media/thanakornbuath/Phone SSD/her2-attention-classifier/data/TCGA_BRCA_Filtered/Annotations/TCGA-AR-A0TQ-01Z-00-DX1.xml\n",
      "Mask shape: (55796, 54264)\n",
      "Loaded WSI backend: cucim\n"
     ]
    },
    {
     "name": "stderr",
     "output_type": "stream",
     "text": [
      "Processing slides:  73%|███████▎  | 343/471 [4:02:13<8:44:37, 245.92s/it]"
     ]
    },
    {
     "name": "stdout",
     "output_type": "stream",
     "text": [
      "Extracted 4839 patches from data/TCGA_BRCA_Filtered/SVS/TCGA-AR-A0TQ-01Z-00-DX1.2BEA298C-6B3D-4133-ADBC-769E62CEFFA0.svs; saved 4839 to outputs/patches/TCGA-AR-A0TQ-01Z-00-DX1.2BEA298C-6B3D-4133-ADBC-769E62CEFFA0\n",
      "Processing slide: data/TCGA_BRCA_Filtered/SVS/TCGA-AR-A0TX-01Z-00-DX1.5BEA4E65-8CEC-49B2-9F29-DBE53E8ED46E.svs with annotation: /media/thanakornbuath/Phone SSD/her2-attention-classifier/data/TCGA_BRCA_Filtered/Annotations/TCGA-AR-A0TX-01Z-00-DX1.xml\n",
      "Mask shape: (67084, 71400)\n",
      "Loaded WSI backend: cucim\n"
     ]
    },
    {
     "name": "stderr",
     "output_type": "stream",
     "text": [
      "Processing slides:  73%|███████▎  | 344/471 [4:02:17<6:06:45, 173.27s/it]"
     ]
    },
    {
     "name": "stdout",
     "output_type": "stream",
     "text": [
      "Extracted 27 patches from data/TCGA_BRCA_Filtered/SVS/TCGA-AR-A0TX-01Z-00-DX1.5BEA4E65-8CEC-49B2-9F29-DBE53E8ED46E.svs; saved 27 to outputs/patches/TCGA-AR-A0TX-01Z-00-DX1.5BEA4E65-8CEC-49B2-9F29-DBE53E8ED46E\n",
      "Processing slide: data/TCGA_BRCA_Filtered/SVS/TCGA-AR-A0TY-01Z-00-DX1.089EB6B4-9921-441D-84F3-C64C97AFC3B4.svs with annotation: /media/thanakornbuath/Phone SSD/her2-attention-classifier/data/TCGA_BRCA_Filtered/Annotations/TCGA-AR-A0TY-01Z-00-DX1.xml\n",
      "Mask shape: (66370, 86632)\n",
      "Loaded WSI backend: cucim\n"
     ]
    },
    {
     "name": "stderr",
     "output_type": "stream",
     "text": [
      "Processing slides:  73%|███████▎  | 345/471 [4:06:59<7:12:37, 206.01s/it]"
     ]
    },
    {
     "name": "stdout",
     "output_type": "stream",
     "text": [
      "Extracted 5622 patches from data/TCGA_BRCA_Filtered/SVS/TCGA-AR-A0TY-01Z-00-DX1.089EB6B4-9921-441D-84F3-C64C97AFC3B4.svs; saved 5622 to outputs/patches/TCGA-AR-A0TY-01Z-00-DX1.089EB6B4-9921-441D-84F3-C64C97AFC3B4\n",
      "Processing slide: data/TCGA_BRCA_Filtered/SVS/TCGA-AR-A0U3-01Z-00-DX1.9BB87F9D-459F-4A18-B591-29822EA5AE18.svs with annotation: /media/thanakornbuath/Phone SSD/her2-attention-classifier/data/TCGA_BRCA_Filtered/Annotations/TCGA-AR-A0U3-01Z-00-DX1.xml\n",
      "Mask shape: (67500, 137088)\n",
      "Loaded WSI backend: cucim\n"
     ]
    },
    {
     "name": "stderr",
     "output_type": "stream",
     "text": [
      "Processing slides:  73%|███████▎  | 346/471 [4:22:35<14:45:07, 424.86s/it]"
     ]
    },
    {
     "name": "stdout",
     "output_type": "stream",
     "text": [
      "Extracted 17513 patches from data/TCGA_BRCA_Filtered/SVS/TCGA-AR-A0U3-01Z-00-DX1.9BB87F9D-459F-4A18-B591-29822EA5AE18.svs; saved 17513 to outputs/patches/TCGA-AR-A0U3-01Z-00-DX1.9BB87F9D-459F-4A18-B591-29822EA5AE18\n",
      "Processing slide: data/TCGA_BRCA_Filtered/SVS/TCGA-AR-A0U4-01Z-00-DX1.DE722DC5-859D-4866-ADCC-ED98EDBFB588.svs with annotation: /media/thanakornbuath/Phone SSD/her2-attention-classifier/data/TCGA_BRCA_Filtered/Annotations/TCGA-AR-A0U4-01Z-00-DX1.xml\n",
      "Mask shape: (91613, 111384)\n",
      "Loaded WSI backend: cucim\n"
     ]
    },
    {
     "name": "stderr",
     "output_type": "stream",
     "text": [
      "Processing slides:  74%|███████▎  | 347/471 [4:32:14<16:13:54, 471.24s/it]"
     ]
    },
    {
     "name": "stdout",
     "output_type": "stream",
     "text": [
      "Extracted 10508 patches from data/TCGA_BRCA_Filtered/SVS/TCGA-AR-A0U4-01Z-00-DX1.DE722DC5-859D-4866-ADCC-ED98EDBFB588.svs; saved 10508 to outputs/patches/TCGA-AR-A0U4-01Z-00-DX1.DE722DC5-859D-4866-ADCC-ED98EDBFB588\n",
      "Processing slide: data/TCGA_BRCA_Filtered/SVS/TCGA-AR-A1AH-01Z-00-DX1.5D5D7774-77BB-4EA0-9E8E-A8D28F70A575.svs with annotation: /media/thanakornbuath/Phone SSD/her2-attention-classifier/data/TCGA_BRCA_Filtered/Annotations/TCGA-AR-A1AH-01Z-00-DX1.xml\n",
      "Mask shape: (80193, 130424)\n",
      "Loaded WSI backend: cucim\n"
     ]
    },
    {
     "name": "stderr",
     "output_type": "stream",
     "text": [
      "Processing slides:  74%|███████▍  | 348/471 [4:40:25<16:17:53, 477.02s/it]"
     ]
    },
    {
     "name": "stdout",
     "output_type": "stream",
     "text": [
      "Extracted 9864 patches from data/TCGA_BRCA_Filtered/SVS/TCGA-AR-A1AH-01Z-00-DX1.5D5D7774-77BB-4EA0-9E8E-A8D28F70A575.svs; saved 9864 to outputs/patches/TCGA-AR-A1AH-01Z-00-DX1.5D5D7774-77BB-4EA0-9E8E-A8D28F70A575\n",
      "Processing slide: data/TCGA_BRCA_Filtered/SVS/TCGA-AR-A1AN-01Z-00-DX1.1118F9FE-6DF2-4496-B102-D3A10D332EC0.svs with annotation: /media/thanakornbuath/Phone SSD/her2-attention-classifier/data/TCGA_BRCA_Filtered/Annotations/TCGA-AR-A1AN-01Z-00-DX1.xml\n",
      "Mask shape: (48479, 120904)\n",
      "Loaded WSI backend: cucim\n"
     ]
    },
    {
     "name": "stderr",
     "output_type": "stream",
     "text": [
      "Processing slides:  74%|███████▍  | 349/471 [4:42:52<12:48:37, 378.01s/it]"
     ]
    },
    {
     "name": "stdout",
     "output_type": "stream",
     "text": [
      "Extracted 1762 patches from data/TCGA_BRCA_Filtered/SVS/TCGA-AR-A1AN-01Z-00-DX1.1118F9FE-6DF2-4496-B102-D3A10D332EC0.svs; saved 1762 to outputs/patches/TCGA-AR-A1AN-01Z-00-DX1.1118F9FE-6DF2-4496-B102-D3A10D332EC0\n",
      "Processing slide: data/TCGA_BRCA_Filtered/SVS/TCGA-AR-A1AQ-01Z-00-DX1.09D5D7FC-0FA8-4176-94B2-995F44D8ED4C.svs with annotation: /media/thanakornbuath/Phone SSD/her2-attention-classifier/data/TCGA_BRCA_Filtered/Annotations/TCGA-AR-A1AQ-01Z-00-DX1.xml\n",
      "Mask shape: (56617, 99960)\n",
      "Loaded WSI backend: cucim\n"
     ]
    },
    {
     "name": "stderr",
     "output_type": "stream",
     "text": [
      "Processing slides:  74%|███████▍  | 350/471 [4:47:10<11:29:49, 342.06s/it]"
     ]
    },
    {
     "name": "stdout",
     "output_type": "stream",
     "text": [
      "Extracted 5372 patches from data/TCGA_BRCA_Filtered/SVS/TCGA-AR-A1AQ-01Z-00-DX1.09D5D7FC-0FA8-4176-94B2-995F44D8ED4C.svs; saved 5372 to outputs/patches/TCGA-AR-A1AQ-01Z-00-DX1.09D5D7FC-0FA8-4176-94B2-995F44D8ED4C\n",
      "Processing slide: data/TCGA_BRCA_Filtered/SVS/TCGA-AR-A1AR-01Z-00-DX1.E7B7F6F0-9CC0-4D4F-8C9F-443A74D2BE40.svs with annotation: /media/thanakornbuath/Phone SSD/her2-attention-classifier/data/TCGA_BRCA_Filtered/Annotations/TCGA-AR-A1AR-01Z-00-DX1.xml\n",
      "Mask shape: (57072, 64736)\n",
      "Loaded WSI backend: cucim\n"
     ]
    },
    {
     "name": "stderr",
     "output_type": "stream",
     "text": [
      "Processing slides:  75%|███████▍  | 351/471 [4:51:17<10:27:23, 313.69s/it]"
     ]
    },
    {
     "name": "stdout",
     "output_type": "stream",
     "text": [
      "Extracted 4951 patches from data/TCGA_BRCA_Filtered/SVS/TCGA-AR-A1AR-01Z-00-DX1.E7B7F6F0-9CC0-4D4F-8C9F-443A74D2BE40.svs; saved 4951 to outputs/patches/TCGA-AR-A1AR-01Z-00-DX1.E7B7F6F0-9CC0-4D4F-8C9F-443A74D2BE40\n",
      "Processing slide: data/TCGA_BRCA_Filtered/SVS/TCGA-AR-A1AX-01Z-00-DX1.2389D54F-545E-499E-B392-DD731834460A.svs with annotation: /media/thanakornbuath/Phone SSD/her2-attention-classifier/data/TCGA_BRCA_Filtered/Annotations/TCGA-AR-A1AX-01Z-00-DX1.xml\n",
      "Mask shape: (66062, 125664)\n",
      "Loaded WSI backend: cucim\n"
     ]
    },
    {
     "name": "stderr",
     "output_type": "stream",
     "text": [
      "Processing slides:  75%|███████▍  | 352/471 [4:57:20<10:51:05, 328.28s/it]"
     ]
    },
    {
     "name": "stdout",
     "output_type": "stream",
     "text": [
      "Extracted 6699 patches from data/TCGA_BRCA_Filtered/SVS/TCGA-AR-A1AX-01Z-00-DX1.2389D54F-545E-499E-B392-DD731834460A.svs; saved 6699 to outputs/patches/TCGA-AR-A1AX-01Z-00-DX1.2389D54F-545E-499E-B392-DD731834460A\n",
      "Processing slide: data/TCGA_BRCA_Filtered/SVS/TCGA-AR-A1AY-01Z-00-DX1.6AC0BE3B-FFC5-4EDA-9E40-B18CAAC52B81.svs with annotation: /media/thanakornbuath/Phone SSD/her2-attention-classifier/data/TCGA_BRCA_Filtered/Annotations/TCGA-AR-A1AY-01Z-00-DX1.xml\n",
      "Mask shape: (58121, 93296)\n",
      "Loaded WSI backend: cucim\n"
     ]
    },
    {
     "name": "stderr",
     "output_type": "stream",
     "text": [
      "Processing slides:  75%|███████▍  | 353/471 [5:01:47<10:09:41, 310.01s/it]"
     ]
    },
    {
     "name": "stdout",
     "output_type": "stream",
     "text": [
      "Extracted 5146 patches from data/TCGA_BRCA_Filtered/SVS/TCGA-AR-A1AY-01Z-00-DX1.6AC0BE3B-FFC5-4EDA-9E40-B18CAAC52B81.svs; saved 5146 to outputs/patches/TCGA-AR-A1AY-01Z-00-DX1.6AC0BE3B-FFC5-4EDA-9E40-B18CAAC52B81\n",
      "Processing slide: data/TCGA_BRCA_Filtered/SVS/TCGA-AR-A24Q-01Z-00-DX1.69DC7E35-DC0D-4F20-88DA-04C25F28628C.svs with annotation: /media/thanakornbuath/Phone SSD/her2-attention-classifier/data/TCGA_BRCA_Filtered/Annotations/TCGA-AR-A24Q-01Z-00-DX1.xml\n",
      "Mask shape: (77013, 124711)\n",
      "Loaded WSI backend: cucim\n"
     ]
    },
    {
     "name": "stderr",
     "output_type": "stream",
     "text": [
      "Processing slides:  75%|███████▌  | 354/471 [5:17:12<16:04:28, 494.60s/it]"
     ]
    },
    {
     "name": "stdout",
     "output_type": "stream",
     "text": [
      "Extracted 15791 patches from data/TCGA_BRCA_Filtered/SVS/TCGA-AR-A24Q-01Z-00-DX1.69DC7E35-DC0D-4F20-88DA-04C25F28628C.svs; saved 15791 to outputs/patches/TCGA-AR-A24Q-01Z-00-DX1.69DC7E35-DC0D-4F20-88DA-04C25F28628C\n",
      "Processing slide: data/TCGA_BRCA_Filtered/SVS/TCGA-AR-A24U-01Z-00-DX1.220FD0D0-0DB6-4E3C-92A0-66CD6509F0AD.svs with annotation: /media/thanakornbuath/Phone SSD/her2-attention-classifier/data/TCGA_BRCA_Filtered/Annotations/TCGA-AR-A24U-01Z-00-DX1.xml\n",
      "Mask shape: (65843, 111383)\n",
      "Loaded WSI backend: cucim\n"
     ]
    },
    {
     "name": "stderr",
     "output_type": "stream",
     "text": [
      "Processing slides:  75%|███████▌  | 355/471 [5:21:26<13:36:27, 422.31s/it]"
     ]
    },
    {
     "name": "stdout",
     "output_type": "stream",
     "text": [
      "Extracted 3702 patches from data/TCGA_BRCA_Filtered/SVS/TCGA-AR-A24U-01Z-00-DX1.220FD0D0-0DB6-4E3C-92A0-66CD6509F0AD.svs; saved 3702 to outputs/patches/TCGA-AR-A24U-01Z-00-DX1.220FD0D0-0DB6-4E3C-92A0-66CD6509F0AD\n",
      "Processing slide: data/TCGA_BRCA_Filtered/SVS/TCGA-AR-A250-01Z-00-DX1.572A2F73-6BF5-4932-BFEF-4B8904755ACF.svs with annotation: /media/thanakornbuath/Phone SSD/her2-attention-classifier/data/TCGA_BRCA_Filtered/Annotations/TCGA-AR-A250-01Z-00-DX1.xml\n",
      "Mask shape: (72052, 103767)\n",
      "Loaded WSI backend: cucim\n"
     ]
    },
    {
     "name": "stderr",
     "output_type": "stream",
     "text": [
      "Processing slides:  76%|███████▌  | 356/471 [5:32:12<15:38:23, 489.60s/it]"
     ]
    },
    {
     "name": "stdout",
     "output_type": "stream",
     "text": [
      "Extracted 9963 patches from data/TCGA_BRCA_Filtered/SVS/TCGA-AR-A250-01Z-00-DX1.572A2F73-6BF5-4932-BFEF-4B8904755ACF.svs; saved 9963 to outputs/patches/TCGA-AR-A250-01Z-00-DX1.572A2F73-6BF5-4932-BFEF-4B8904755ACF\n",
      "Processing slide: data/TCGA_BRCA_Filtered/SVS/TCGA-AR-A254-01Z-00-DX1.EA5CD008-1106-41EC-998A-04EF08EEEC9D.svs with annotation: /media/thanakornbuath/Phone SSD/her2-attention-classifier/data/TCGA_BRCA_Filtered/Annotations/TCGA-AR-A254-01Z-00-DX1.xml\n",
      "Mask shape: (66971, 102815)\n",
      "Loaded WSI backend: cucim\n"
     ]
    },
    {
     "name": "stderr",
     "output_type": "stream",
     "text": [
      "Processing slides:  76%|███████▌  | 357/471 [5:42:50<16:54:34, 533.99s/it]"
     ]
    },
    {
     "name": "stdout",
     "output_type": "stream",
     "text": [
      "Extracted 9787 patches from data/TCGA_BRCA_Filtered/SVS/TCGA-AR-A254-01Z-00-DX1.EA5CD008-1106-41EC-998A-04EF08EEEC9D.svs; saved 9787 to outputs/patches/TCGA-AR-A254-01Z-00-DX1.EA5CD008-1106-41EC-998A-04EF08EEEC9D\n",
      "Processing slide: data/TCGA_BRCA_Filtered/SVS/TCGA-AR-A255-01Z-00-DX1.E67C081D-50C9-451C-814B-F097B2671300.svs with annotation: /media/thanakornbuath/Phone SSD/her2-attention-classifier/data/TCGA_BRCA_Filtered/Annotations/TCGA-AR-A255-01Z-00-DX1.xml\n",
      "Mask shape: (59645, 51407)\n",
      "Loaded WSI backend: cucim\n"
     ]
    },
    {
     "name": "stderr",
     "output_type": "stream",
     "text": [
      "Processing slides:  76%|███████▌  | 358/471 [5:44:00<12:23:42, 394.89s/it]"
     ]
    },
    {
     "name": "stdout",
     "output_type": "stream",
     "text": [
      "Extracted 1490 patches from data/TCGA_BRCA_Filtered/SVS/TCGA-AR-A255-01Z-00-DX1.E67C081D-50C9-451C-814B-F097B2671300.svs; saved 1490 to outputs/patches/TCGA-AR-A255-01Z-00-DX1.E67C081D-50C9-451C-814B-F097B2671300\n",
      "Processing slide: data/TCGA_BRCA_Filtered/SVS/TCGA-B6-A0IH-01Z-00-DX1.3463B12E-D1B0-4FB2-B257-BFD63BA2B6BF.svs with annotation: /media/thanakornbuath/Phone SSD/her2-attention-classifier/data/TCGA_BRCA_Filtered/Annotations/TCGA-B6-A0IH-01Z-00-DX1.xml\n",
      "Mask shape: (85528, 123759)\n",
      "Loaded WSI backend: cucim\n"
     ]
    },
    {
     "name": "stderr",
     "output_type": "stream",
     "text": [
      "Processing slides:  76%|███████▌  | 359/471 [5:58:02<16:27:32, 529.04s/it]"
     ]
    },
    {
     "name": "stdout",
     "output_type": "stream",
     "text": [
      "Extracted 11465 patches from data/TCGA_BRCA_Filtered/SVS/TCGA-B6-A0IH-01Z-00-DX1.3463B12E-D1B0-4FB2-B257-BFD63BA2B6BF.svs; saved 11465 to outputs/patches/TCGA-B6-A0IH-01Z-00-DX1.3463B12E-D1B0-4FB2-B257-BFD63BA2B6BF\n",
      "Processing slide: data/TCGA_BRCA_Filtered/SVS/TCGA-B6-A0IK-01Z-00-DX1.1640DB44-4AC0-4A34-9E21-4673C4289A99.svs with annotation: /media/thanakornbuath/Phone SSD/her2-attention-classifier/data/TCGA_BRCA_Filtered/Annotations/TCGA-B6-A0IK-01Z-00-DX1.xml\n",
      "Mask shape: (72522, 97673)\n",
      "Loaded WSI backend: cucim\n"
     ]
    },
    {
     "name": "stderr",
     "output_type": "stream",
     "text": [
      "Processing slides:  76%|███████▋  | 360/471 [6:00:17<12:39:45, 410.68s/it]"
     ]
    },
    {
     "name": "stdout",
     "output_type": "stream",
     "text": [
      "Extracted 889 patches from data/TCGA_BRCA_Filtered/SVS/TCGA-B6-A0IK-01Z-00-DX1.1640DB44-4AC0-4A34-9E21-4673C4289A99.svs; saved 889 to outputs/patches/TCGA-B6-A0IK-01Z-00-DX1.1640DB44-4AC0-4A34-9E21-4673C4289A99\n",
      "Processing slide: data/TCGA_BRCA_Filtered/SVS/TCGA-B6-A0RH-01Z-00-DX1.33DB5CF9-AC87-435B-A8AF-C4F84BEF15F1.svs with annotation: /media/thanakornbuath/Phone SSD/her2-attention-classifier/data/TCGA_BRCA_Filtered/Annotations/TCGA-B6-A0RH-01Z-00-DX1.xml\n",
      "Mask shape: (92237, 119951)\n",
      "Loaded WSI backend: cucim\n"
     ]
    },
    {
     "name": "stderr",
     "output_type": "stream",
     "text": [
      "Processing slides:  77%|███████▋  | 361/471 [6:28:56<24:32:46, 803.33s/it]"
     ]
    },
    {
     "name": "stdout",
     "output_type": "stream",
     "text": [
      "Extracted 17307 patches from data/TCGA_BRCA_Filtered/SVS/TCGA-B6-A0RH-01Z-00-DX1.33DB5CF9-AC87-435B-A8AF-C4F84BEF15F1.svs; saved 17307 to outputs/patches/TCGA-B6-A0RH-01Z-00-DX1.33DB5CF9-AC87-435B-A8AF-C4F84BEF15F1\n",
      "Processing slide: data/TCGA_BRCA_Filtered/SVS/TCGA-B6-A0RV-01Z-00-DX1.C46C2937-868D-47B7-B9B9-E51F5433BE97.svs with annotation: /media/thanakornbuath/Phone SSD/her2-attention-classifier/data/TCGA_BRCA_Filtered/Annotations/TCGA-B6-A0RV-01Z-00-DX1.xml\n",
      "Mask shape: (91781, 119698)\n",
      "Loaded WSI backend: cucim\n"
     ]
    },
    {
     "name": "stderr",
     "output_type": "stream",
     "text": [
      "Processing slides:  77%|███████▋  | 362/471 [6:45:12<25:53:10, 854.96s/it]"
     ]
    },
    {
     "name": "stdout",
     "output_type": "stream",
     "text": [
      "Extracted 12699 patches from data/TCGA_BRCA_Filtered/SVS/TCGA-B6-A0RV-01Z-00-DX1.C46C2937-868D-47B7-B9B9-E51F5433BE97.svs; saved 12699 to outputs/patches/TCGA-B6-A0RV-01Z-00-DX1.C46C2937-868D-47B7-B9B9-E51F5433BE97\n",
      "Processing slide: data/TCGA_BRCA_Filtered/SVS/TCGA-B6-A0WV-01Z-00-DX1.A8B9E114-A8CF-4389-B47C-2E1B842F7FF9.svs with annotation: /media/thanakornbuath/Phone SSD/her2-attention-classifier/data/TCGA_BRCA_Filtered/Annotations/TCGA-B6-A0WV-01Z-00-DX1.xml\n",
      "Mask shape: (91239, 124486)\n",
      "Loaded WSI backend: cucim\n"
     ]
    },
    {
     "name": "stderr",
     "output_type": "stream",
     "text": [
      "Processing slides:  77%|███████▋  | 363/471 [7:00:28<26:11:51, 873.26s/it]"
     ]
    },
    {
     "name": "stdout",
     "output_type": "stream",
     "text": [
      "Extracted 13067 patches from data/TCGA_BRCA_Filtered/SVS/TCGA-B6-A0WV-01Z-00-DX1.A8B9E114-A8CF-4389-B47C-2E1B842F7FF9.svs; saved 13067 to outputs/patches/TCGA-B6-A0WV-01Z-00-DX1.A8B9E114-A8CF-4389-B47C-2E1B842F7FF9\n",
      "Processing slide: data/TCGA_BRCA_Filtered/SVS/TCGA-B6-A1KF-01Z-00-DX1.2E08E830-4216-4CD0-9646-1F489300E11D.svs with annotation: /media/thanakornbuath/Phone SSD/her2-attention-classifier/data/TCGA_BRCA_Filtered/Annotations/TCGA-B6-A1KF-01Z-00-DX1.xml\n",
      "Mask shape: (89104, 121856)\n",
      "Loaded WSI backend: cucim\n"
     ]
    },
    {
     "name": "stderr",
     "output_type": "stream",
     "text": [
      "Processing slides:  77%|███████▋  | 364/471 [7:03:59<20:03:09, 674.66s/it]"
     ]
    },
    {
     "name": "stdout",
     "output_type": "stream",
     "text": [
      "Extracted 3583 patches from data/TCGA_BRCA_Filtered/SVS/TCGA-B6-A1KF-01Z-00-DX1.2E08E830-4216-4CD0-9646-1F489300E11D.svs; saved 3583 to outputs/patches/TCGA-B6-A1KF-01Z-00-DX1.2E08E830-4216-4CD0-9646-1F489300E11D\n",
      "Processing slide: data/TCGA_BRCA_Filtered/SVS/TCGA-B6-A1KN-01Z-00-DX1.E769FD65-E5CE-4CA4-8BBE-6FC54A2ED870.svs with annotation: /media/thanakornbuath/Phone SSD/her2-attention-classifier/data/TCGA_BRCA_Filtered/Annotations/TCGA-B6-A1KN-01Z-00-DX1.xml\n",
      "Mask shape: (92010, 137088)\n",
      "Loaded WSI backend: cucim\n"
     ]
    },
    {
     "name": "stderr",
     "output_type": "stream",
     "text": [
      "Processing slides:  77%|███████▋  | 365/471 [7:15:09<19:49:09, 673.11s/it]"
     ]
    },
    {
     "name": "stdout",
     "output_type": "stream",
     "text": [
      "Extracted 7281 patches from data/TCGA_BRCA_Filtered/SVS/TCGA-B6-A1KN-01Z-00-DX1.E769FD65-E5CE-4CA4-8BBE-6FC54A2ED870.svs; saved 7281 to outputs/patches/TCGA-B6-A1KN-01Z-00-DX1.E769FD65-E5CE-4CA4-8BBE-6FC54A2ED870\n",
      "Processing slide: data/TCGA_BRCA_Filtered/SVS/TCGA-BH-A0AW-01Z-00-DX1.9D50A0D2-B103-411C-831E-8520C3D50173.svs with annotation: /media/thanakornbuath/Phone SSD/her2-attention-classifier/data/TCGA_BRCA_Filtered/Annotations/TCGA-BH-A0AW-01Z-00-DX1.xml\n",
      "Mask shape: (90300, 111080)\n",
      "Loaded WSI backend: cucim\n"
     ]
    },
    {
     "name": "stderr",
     "output_type": "stream",
     "text": [
      "Processing slides:  78%|███████▊  | 366/471 [7:23:00<17:52:12, 612.69s/it]"
     ]
    },
    {
     "name": "stdout",
     "output_type": "stream",
     "text": [
      "Extracted 7035 patches from data/TCGA_BRCA_Filtered/SVS/TCGA-BH-A0AW-01Z-00-DX1.9D50A0D2-B103-411C-831E-8520C3D50173.svs; saved 7035 to outputs/patches/TCGA-BH-A0AW-01Z-00-DX1.9D50A0D2-B103-411C-831E-8520C3D50173\n",
      "Processing slide: data/TCGA_BRCA_Filtered/SVS/TCGA-BH-A0B0-01Z-00-DX1.316D35DB-7F13-4AE5-82A7-5716D2519669.svs with annotation: /media/thanakornbuath/Phone SSD/her2-attention-classifier/data/TCGA_BRCA_Filtered/Annotations/TCGA-BH-A0B0-01Z-00-DX1.xml\n",
      "Mask shape: (83830, 92171)\n",
      "Loaded WSI backend: cucim\n"
     ]
    },
    {
     "name": "stderr",
     "output_type": "stream",
     "text": [
      "Processing slides:  78%|███████▊  | 367/471 [7:26:42<14:18:51, 495.50s/it]"
     ]
    },
    {
     "name": "stdout",
     "output_type": "stream",
     "text": [
      "Extracted 2203 patches from data/TCGA_BRCA_Filtered/SVS/TCGA-BH-A0B0-01Z-00-DX1.316D35DB-7F13-4AE5-82A7-5716D2519669.svs; saved 2203 to outputs/patches/TCGA-BH-A0B0-01Z-00-DX1.316D35DB-7F13-4AE5-82A7-5716D2519669\n",
      "Processing slide: data/TCGA_BRCA_Filtered/SVS/TCGA-BH-A0B4-01Z-00-DX1.A2CB0BF4-32F9-48FD-9B96-A744013BADDB.svs with annotation: /media/thanakornbuath/Phone SSD/her2-attention-classifier/data/TCGA_BRCA_Filtered/Annotations/TCGA-BH-A0B4-01Z-00-DX1.xml\n",
      "Mask shape: (86323, 136935)\n",
      "Loaded WSI backend: cucim\n"
     ]
    },
    {
     "name": "stderr",
     "output_type": "stream",
     "text": [
      "Processing slides:  78%|███████▊  | 368/471 [7:34:31<13:56:39, 487.37s/it]"
     ]
    },
    {
     "name": "stdout",
     "output_type": "stream",
     "text": [
      "Extracted 6539 patches from data/TCGA_BRCA_Filtered/SVS/TCGA-BH-A0B4-01Z-00-DX1.A2CB0BF4-32F9-48FD-9B96-A744013BADDB.svs; saved 6539 to outputs/patches/TCGA-BH-A0B4-01Z-00-DX1.A2CB0BF4-32F9-48FD-9B96-A744013BADDB\n",
      "Processing slide: data/TCGA_BRCA_Filtered/SVS/TCGA-BH-A0B9-01Z-00-DX1.C23ADB4C-52D4-4DFD-B8E3-156E43F0E645.svs with annotation: /media/thanakornbuath/Phone SSD/her2-attention-classifier/data/TCGA_BRCA_Filtered/Annotations/TCGA-BH-A0B9-01Z-00-DX1.xml\n",
      "Mask shape: (83210, 102461)\n",
      "Loaded WSI backend: cucim\n"
     ]
    },
    {
     "name": "stderr",
     "output_type": "stream",
     "text": [
      "Processing slides:  78%|███████▊  | 369/471 [7:41:22<13:09:37, 464.48s/it]"
     ]
    },
    {
     "name": "stdout",
     "output_type": "stream",
     "text": [
      "Extracted 5938 patches from data/TCGA_BRCA_Filtered/SVS/TCGA-BH-A0B9-01Z-00-DX1.C23ADB4C-52D4-4DFD-B8E3-156E43F0E645.svs; saved 5938 to outputs/patches/TCGA-BH-A0B9-01Z-00-DX1.C23ADB4C-52D4-4DFD-B8E3-156E43F0E645\n",
      "Processing slide: data/TCGA_BRCA_Filtered/SVS/TCGA-BH-A0BA-01Z-00-DX1.579E11C9-437C-4D49-8811-DD94D8454712.svs with annotation: /media/thanakornbuath/Phone SSD/her2-attention-classifier/data/TCGA_BRCA_Filtered/Annotations/TCGA-BH-A0BA-01Z-00-DX1.xml\n",
      "Mask shape: (89565, 106292)\n",
      "Loaded WSI backend: cucim\n"
     ]
    },
    {
     "name": "stderr",
     "output_type": "stream",
     "text": [
      "Processing slides:  79%|███████▊  | 370/471 [7:54:20<15:40:06, 558.48s/it]"
     ]
    },
    {
     "name": "stdout",
     "output_type": "stream",
     "text": [
      "Extracted 11924 patches from data/TCGA_BRCA_Filtered/SVS/TCGA-BH-A0BA-01Z-00-DX1.579E11C9-437C-4D49-8811-DD94D8454712.svs; saved 11924 to outputs/patches/TCGA-BH-A0BA-01Z-00-DX1.579E11C9-437C-4D49-8811-DD94D8454712\n",
      "Processing slide: data/TCGA_BRCA_Filtered/SVS/TCGA-BH-A0BC-01Z-00-DX1.7A91831D-9625-49FC-B783-C633F80F898C.svs with annotation: /media/thanakornbuath/Phone SSD/her2-attention-classifier/data/TCGA_BRCA_Filtered/Annotations/TCGA-BH-A0BC-01Z-00-DX1.xml\n",
      "Mask shape: (87795, 103419)\n",
      "Loaded WSI backend: cucim\n"
     ]
    },
    {
     "name": "stderr",
     "output_type": "stream",
     "text": [
      "Processing slides:  79%|███████▉  | 371/471 [8:01:18<14:20:40, 516.40s/it]"
     ]
    },
    {
     "name": "stdout",
     "output_type": "stream",
     "text": [
      "Extracted 6005 patches from data/TCGA_BRCA_Filtered/SVS/TCGA-BH-A0BC-01Z-00-DX1.7A91831D-9625-49FC-B783-C633F80F898C.svs; saved 6005 to outputs/patches/TCGA-BH-A0BC-01Z-00-DX1.7A91831D-9625-49FC-B783-C633F80F898C\n",
      "Processing slide: data/TCGA_BRCA_Filtered/SVS/TCGA-BH-A0BF-01Z-00-DX1.934DF984-9054-4B20-B85B-9CF94B8DC3D4.svs with annotation: /media/thanakornbuath/Phone SSD/her2-attention-classifier/data/TCGA_BRCA_Filtered/Annotations/TCGA-BH-A0BF-01Z-00-DX1.xml\n",
      "Mask shape: (88814, 121935)\n",
      "Loaded WSI backend: cucim\n"
     ]
    },
    {
     "name": "stderr",
     "output_type": "stream",
     "text": [
      "Processing slides:  79%|███████▉  | 372/471 [8:24:34<21:27:31, 780.32s/it]"
     ]
    },
    {
     "name": "stdout",
     "output_type": "stream",
     "text": [
      "Extracted 13596 patches from data/TCGA_BRCA_Filtered/SVS/TCGA-BH-A0BF-01Z-00-DX1.934DF984-9054-4B20-B85B-9CF94B8DC3D4.svs; saved 13596 to outputs/patches/TCGA-BH-A0BF-01Z-00-DX1.934DF984-9054-4B20-B85B-9CF94B8DC3D4\n",
      "Processing slide: data/TCGA_BRCA_Filtered/SVS/TCGA-BH-A0BP-01Z-00-DX1.63A87C1D-87FA-494D-9836-74290B5DC30D.svs with annotation: /media/thanakornbuath/Phone SSD/her2-attention-classifier/data/TCGA_BRCA_Filtered/Annotations/TCGA-BH-A0BP-01Z-00-DX1.xml\n",
      "Mask shape: (74506, 80650)\n",
      "Loaded WSI backend: cucim\n"
     ]
    },
    {
     "name": "stderr",
     "output_type": "stream",
     "text": [
      "Processing slides:  79%|███████▉  | 373/471 [8:29:40<17:22:18, 638.14s/it]"
     ]
    },
    {
     "name": "stdout",
     "output_type": "stream",
     "text": [
      "Extracted 3323 patches from data/TCGA_BRCA_Filtered/SVS/TCGA-BH-A0BP-01Z-00-DX1.63A87C1D-87FA-494D-9836-74290B5DC30D.svs; saved 3323 to outputs/patches/TCGA-BH-A0BP-01Z-00-DX1.63A87C1D-87FA-494D-9836-74290B5DC30D\n",
      "Processing slide: data/TCGA_BRCA_Filtered/SVS/TCGA-BH-A0BR-01Z-00-DX1.F7912887-8AE9-4391-9B83-9AC7B4FF38EF.svs with annotation: /media/thanakornbuath/Phone SSD/her2-attention-classifier/data/TCGA_BRCA_Filtered/Annotations/TCGA-BH-A0BR-01Z-00-DX1.xml\n",
      "Mask shape: (76466, 107533)\n",
      "Loaded WSI backend: cucim\n"
     ]
    },
    {
     "name": "stderr",
     "output_type": "stream",
     "text": [
      "Processing slides:  79%|███████▉  | 374/471 [8:37:46<15:57:35, 592.33s/it]"
     ]
    },
    {
     "name": "stdout",
     "output_type": "stream",
     "text": [
      "Extracted 4287 patches from data/TCGA_BRCA_Filtered/SVS/TCGA-BH-A0BR-01Z-00-DX1.F7912887-8AE9-4391-9B83-9AC7B4FF38EF.svs; saved 4287 to outputs/patches/TCGA-BH-A0BR-01Z-00-DX1.F7912887-8AE9-4391-9B83-9AC7B4FF38EF\n",
      "Processing slide: data/TCGA_BRCA_Filtered/SVS/TCGA-BH-A0C0-01Z-00-DX1.2D32D35A-EB7E-4D0E-BE5F-E56F7B930463.svs with annotation: /media/thanakornbuath/Phone SSD/her2-attention-classifier/data/TCGA_BRCA_Filtered/Annotations/TCGA-BH-A0C0-01Z-00-DX1.xml\n",
      "Mask shape: (80638, 105334)\n",
      "Loaded WSI backend: cucim\n"
     ]
    },
    {
     "name": "stderr",
     "output_type": "stream",
     "text": [
      "Processing slides:  80%|███████▉  | 375/471 [8:45:53<14:57:24, 560.88s/it]"
     ]
    },
    {
     "name": "stdout",
     "output_type": "stream",
     "text": [
      "Extracted 6036 patches from data/TCGA_BRCA_Filtered/SVS/TCGA-BH-A0C0-01Z-00-DX1.2D32D35A-EB7E-4D0E-BE5F-E56F7B930463.svs; saved 6036 to outputs/patches/TCGA-BH-A0C0-01Z-00-DX1.2D32D35A-EB7E-4D0E-BE5F-E56F7B930463\n",
      "Processing slide: data/TCGA_BRCA_Filtered/SVS/TCGA-BH-A0C7-01Z-00-DX1.C70D358E-C48F-4F69-86CE-3218E9C95837.svs with annotation: /media/thanakornbuath/Phone SSD/her2-attention-classifier/data/TCGA_BRCA_Filtered/Annotations/TCGA-BH-A0C7-01Z-00-DX1.xml\n",
      "Mask shape: (88812, 122895)\n",
      "Loaded WSI backend: cucim\n"
     ]
    },
    {
     "name": "stderr",
     "output_type": "stream",
     "text": [
      "Processing slides:  80%|███████▉  | 376/471 [9:08:30<21:06:06, 799.64s/it]"
     ]
    },
    {
     "name": "stdout",
     "output_type": "stream",
     "text": [
      "Extracted 11890 patches from data/TCGA_BRCA_Filtered/SVS/TCGA-BH-A0C7-01Z-00-DX1.C70D358E-C48F-4F69-86CE-3218E9C95837.svs; saved 11890 to outputs/patches/TCGA-BH-A0C7-01Z-00-DX1.C70D358E-C48F-4F69-86CE-3218E9C95837\n",
      "Processing slide: data/TCGA_BRCA_Filtered/SVS/TCGA-BH-A0DD-01Z-00-DX1.2242DD1F-0B7C-4B43-A7A9-8130D2BDEE78.svs with annotation: /media/thanakornbuath/Phone SSD/her2-attention-classifier/data/TCGA_BRCA_Filtered/Annotations/TCGA-BH-A0DD-01Z-00-DX1.xml\n",
      "Mask shape: (83541, 107533)\n",
      "Loaded WSI backend: cucim\n"
     ]
    },
    {
     "name": "stderr",
     "output_type": "stream",
     "text": [
      "Processing slides:  80%|████████  | 377/471 [9:24:12<21:59:36, 842.31s/it]"
     ]
    },
    {
     "name": "stdout",
     "output_type": "stream",
     "text": [
      "Extracted 9230 patches from data/TCGA_BRCA_Filtered/SVS/TCGA-BH-A0DD-01Z-00-DX1.2242DD1F-0B7C-4B43-A7A9-8130D2BDEE78.svs; saved 9230 to outputs/patches/TCGA-BH-A0DD-01Z-00-DX1.2242DD1F-0B7C-4B43-A7A9-8130D2BDEE78\n",
      "Processing slide: data/TCGA_BRCA_Filtered/SVS/TCGA-BH-A0DG-01Z-00-DX1.D3C4F57F-608F-46AA-A978-B558117C9DFB.svs with annotation: /media/thanakornbuath/Phone SSD/her2-attention-classifier/data/TCGA_BRCA_Filtered/Annotations/TCGA-BH-A0DG-01Z-00-DX1.xml\n",
      "Mask shape: (88832, 114254)\n",
      "Loaded WSI backend: cucim\n"
     ]
    },
    {
     "name": "stderr",
     "output_type": "stream",
     "text": [
      "Processing slides:  80%|████████  | 378/471 [9:32:43<19:11:41, 743.02s/it]"
     ]
    },
    {
     "name": "stdout",
     "output_type": "stream",
     "text": [
      "Extracted 5794 patches from data/TCGA_BRCA_Filtered/SVS/TCGA-BH-A0DG-01Z-00-DX1.D3C4F57F-608F-46AA-A978-B558117C9DFB.svs; saved 5794 to outputs/patches/TCGA-BH-A0DG-01Z-00-DX1.D3C4F57F-608F-46AA-A978-B558117C9DFB\n",
      "Processing slide: data/TCGA_BRCA_Filtered/SVS/TCGA-BH-A0DK-01Z-00-DX1.0CFED53C-BAD9-4E35-B12F-57E64F3FEF1C.svs with annotation: /media/thanakornbuath/Phone SSD/her2-attention-classifier/data/TCGA_BRCA_Filtered/Annotations/TCGA-BH-A0DK-01Z-00-DX1.xml\n",
      "Mask shape: (77492, 120656)\n",
      "Loaded WSI backend: cucim\n"
     ]
    },
    {
     "name": "stderr",
     "output_type": "stream",
     "text": [
      "Processing slides:  80%|████████  | 379/471 [9:40:16<16:45:42, 655.90s/it]"
     ]
    },
    {
     "name": "stdout",
     "output_type": "stream",
     "text": [
      "Extracted 8657 patches from data/TCGA_BRCA_Filtered/SVS/TCGA-BH-A0DK-01Z-00-DX1.0CFED53C-BAD9-4E35-B12F-57E64F3FEF1C.svs; saved 8657 to outputs/patches/TCGA-BH-A0DK-01Z-00-DX1.0CFED53C-BAD9-4E35-B12F-57E64F3FEF1C\n",
      "Processing slide: data/TCGA_BRCA_Filtered/SVS/TCGA-BH-A0DZ-01Z-00-DX1.138BAEC2-589E-4960-B94E-DF48DDAA5490.svs with annotation: /media/thanakornbuath/Phone SSD/her2-attention-classifier/data/TCGA_BRCA_Filtered/Annotations/TCGA-BH-A0DZ-01Z-00-DX1.xml\n",
      "Mask shape: (91802, 115868)\n",
      "Loaded WSI backend: cucim\n"
     ]
    },
    {
     "name": "stderr",
     "output_type": "stream",
     "text": [
      "Processing slides:  81%|████████  | 380/471 [9:48:08<15:11:02, 600.68s/it]"
     ]
    },
    {
     "name": "stdout",
     "output_type": "stream",
     "text": [
      "Extracted 8405 patches from data/TCGA_BRCA_Filtered/SVS/TCGA-BH-A0DZ-01Z-00-DX1.138BAEC2-589E-4960-B94E-DF48DDAA5490.svs; saved 8405 to outputs/patches/TCGA-BH-A0DZ-01Z-00-DX1.138BAEC2-589E-4960-B94E-DF48DDAA5490\n",
      "Processing slide: data/TCGA_BRCA_Filtered/SVS/TCGA-BH-A0E2-01Z-00-DX1.5F6FA19C-D59F-45BE-80CE-F738CAB1EF0B.svs with annotation: /media/thanakornbuath/Phone SSD/her2-attention-classifier/data/TCGA_BRCA_Filtered/Annotations/TCGA-BH-A0E2-01Z-00-DX1.xml\n",
      "Mask shape: (77417, 133104)\n",
      "Loaded WSI backend: cucim\n"
     ]
    },
    {
     "name": "stderr",
     "output_type": "stream",
     "text": [
      "Processing slides:  81%|████████  | 381/471 [9:55:05<13:38:28, 545.65s/it]"
     ]
    },
    {
     "name": "stdout",
     "output_type": "stream",
     "text": [
      "Extracted 7766 patches from data/TCGA_BRCA_Filtered/SVS/TCGA-BH-A0E2-01Z-00-DX1.5F6FA19C-D59F-45BE-80CE-F738CAB1EF0B.svs; saved 7766 to outputs/patches/TCGA-BH-A0E2-01Z-00-DX1.5F6FA19C-D59F-45BE-80CE-F738CAB1EF0B\n",
      "Processing slide: data/TCGA_BRCA_Filtered/SVS/TCGA-BH-A0EE-01Z-00-DX1.872EA586-25C8-4835-A138-152DFA1EBF30.svs with annotation: /media/thanakornbuath/Phone SSD/her2-attention-classifier/data/TCGA_BRCA_Filtered/Annotations/TCGA-BH-A0EE-01Z-00-DX1.xml\n",
      "Mask shape: (93788, 125444)\n",
      "Loaded WSI backend: cucim\n"
     ]
    },
    {
     "name": "stderr",
     "output_type": "stream",
     "text": [
      "Processing slides:  81%|████████  | 381/471 [10:12:26<2:24:40, 96.45s/it] \n"
     ]
    },
    {
     "ename": "KeyboardInterrupt",
     "evalue": "",
     "output_type": "error",
     "traceback": [
      "\u001b[31m---------------------------------------------------------------------------\u001b[39m",
      "\u001b[31mKeyboardInterrupt\u001b[39m                         Traceback (most recent call last)",
      "\u001b[36mCell\u001b[39m\u001b[36m \u001b[39m\u001b[32mIn[6]\u001b[39m\u001b[32m, line 40\u001b[39m\n\u001b[32m     38\u001b[39m out_dir_patches = os.path.join(\u001b[33m'\u001b[39m\u001b[33moutputs\u001b[39m\u001b[33m'\u001b[39m, \u001b[33m'\u001b[39m\u001b[33mpatches\u001b[39m\u001b[33m'\u001b[39m, slide_base)\n\u001b[32m     39\u001b[39m \u001b[38;5;28;01mtry\u001b[39;00m:\n\u001b[32m---> \u001b[39m\u001b[32m40\u001b[39m     patches = \u001b[43mextract_patches\u001b[49m\u001b[43m(\u001b[49m\n\u001b[32m     41\u001b[39m \u001b[43m        \u001b[49m\u001b[43mwsi_slide\u001b[49m\u001b[43m,\u001b[49m\n\u001b[32m     42\u001b[39m \u001b[43m        \u001b[49m\u001b[43mmask\u001b[49m\u001b[43m=\u001b[49m\u001b[43mmask\u001b[49m\u001b[43m,\u001b[49m\n\u001b[32m     43\u001b[39m \u001b[43m        \u001b[49m\u001b[43msize\u001b[49m\u001b[43m=\u001b[49m\u001b[32;43m512\u001b[39;49m\u001b[43m,\u001b[49m\n\u001b[32m     44\u001b[39m \u001b[43m        \u001b[49m\u001b[43mstride\u001b[49m\u001b[43m=\u001b[49m\u001b[32;43m512\u001b[39;49m\u001b[43m,\u001b[49m\n\u001b[32m     45\u001b[39m \u001b[43m        \u001b[49m\u001b[43msave_dir\u001b[49m\u001b[43m=\u001b[49m\u001b[43mout_dir_patches\u001b[49m\u001b[43m,\u001b[49m\n\u001b[32m     46\u001b[39m \u001b[43m        \u001b[49m\u001b[43msave_prefix\u001b[49m\u001b[43m=\u001b[49m\u001b[43mslide_base\u001b[49m\u001b[43m,\u001b[49m\n\u001b[32m     47\u001b[39m \u001b[43m        \u001b[49m\u001b[43msave_format\u001b[49m\u001b[43m=\u001b[49m\u001b[33;43m'\u001b[39;49m\u001b[33;43mpng\u001b[39;49m\u001b[33;43m'\u001b[39;49m\n\u001b[32m     48\u001b[39m \u001b[43m    \u001b[49m\u001b[43m)\u001b[49m\n\u001b[32m     49\u001b[39m \u001b[38;5;28;01mexcept\u001b[39;00m \u001b[38;5;167;01mException\u001b[39;00m \u001b[38;5;28;01mas\u001b[39;00m e:\n\u001b[32m     50\u001b[39m     log(\u001b[33mf\u001b[39m\u001b[33m\"\u001b[39m\u001b[33mFailed to extract patches for \u001b[39m\u001b[38;5;132;01m{\u001b[39;00mwsi_path\u001b[38;5;132;01m}\u001b[39;00m\u001b[33m: \u001b[39m\u001b[38;5;132;01m{\u001b[39;00me\u001b[38;5;132;01m}\u001b[39;00m\u001b[33m\"\u001b[39m)\n",
      "\u001b[36mFile \u001b[39m\u001b[32m/media/thanakornbuath/Phone SSD/her2-attention-classifier/src/preprocessing/extract_patches.py:110\u001b[39m, in \u001b[36mextract_patches\u001b[39m\u001b[34m(wsi_slide, mask, size, stride, tissue_threshold, level, save_dir, save_prefix, save_format)\u001b[39m\n\u001b[32m    107\u001b[39m out_path = os.path.join(save_dir, fname)\n\u001b[32m    108\u001b[39m \u001b[38;5;28;01mtry\u001b[39;00m:\n\u001b[32m    109\u001b[39m     \u001b[38;5;66;03m# PIL will infer format from extension; pass explicit format for clarity\u001b[39;00m\n\u001b[32m--> \u001b[39m\u001b[32m110\u001b[39m     \u001b[43mpatch\u001b[49m\u001b[43m.\u001b[49m\u001b[43msave\u001b[49m\u001b[43m(\u001b[49m\u001b[43mout_path\u001b[49m\u001b[43m)\u001b[49m\n\u001b[32m    111\u001b[39m     entry[\u001b[33m'\u001b[39m\u001b[33mpath\u001b[39m\u001b[33m'\u001b[39m] = out_path\n\u001b[32m    112\u001b[39m     \u001b[38;5;66;03m# Close the image to free memory when saving\u001b[39;00m\n",
      "\u001b[36mFile \u001b[39m\u001b[32m~/anaconda3/envs/her2-class/lib/python3.12/site-packages/PIL/Image.py:2459\u001b[39m, in \u001b[36mImage.save\u001b[39m\u001b[34m(self, fp, format, **params)\u001b[39m\n\u001b[32m   2456\u001b[39m         fp = builtins.open(filename, \u001b[33m\"\u001b[39m\u001b[33mw+b\u001b[39m\u001b[33m\"\u001b[39m)\n\u001b[32m   2458\u001b[39m \u001b[38;5;28;01mtry\u001b[39;00m:\n\u001b[32m-> \u001b[39m\u001b[32m2459\u001b[39m     \u001b[43msave_handler\u001b[49m\u001b[43m(\u001b[49m\u001b[38;5;28;43mself\u001b[39;49m\u001b[43m,\u001b[49m\u001b[43m \u001b[49m\u001b[43mfp\u001b[49m\u001b[43m,\u001b[49m\u001b[43m \u001b[49m\u001b[43mfilename\u001b[49m\u001b[43m)\u001b[49m\n\u001b[32m   2460\u001b[39m \u001b[38;5;28;01mexcept\u001b[39;00m \u001b[38;5;167;01mException\u001b[39;00m:\n\u001b[32m   2461\u001b[39m     \u001b[38;5;28;01mif\u001b[39;00m open_fp:\n",
      "\u001b[36mFile \u001b[39m\u001b[32m~/anaconda3/envs/her2-class/lib/python3.12/site-packages/PIL/PngImagePlugin.py:1426\u001b[39m, in \u001b[36m_save\u001b[39m\u001b[34m(im, fp, filename, chunk, save_all)\u001b[39m\n\u001b[32m   1423\u001b[39m chunk(fp, \u001b[33mb\u001b[39m\u001b[33m\"\u001b[39m\u001b[33mIEND\u001b[39m\u001b[33m\"\u001b[39m, \u001b[33mb\u001b[39m\u001b[33m\"\u001b[39m\u001b[33m\"\u001b[39m)\n\u001b[32m   1425\u001b[39m \u001b[38;5;28;01mif\u001b[39;00m \u001b[38;5;28mhasattr\u001b[39m(fp, \u001b[33m\"\u001b[39m\u001b[33mflush\u001b[39m\u001b[33m\"\u001b[39m):\n\u001b[32m-> \u001b[39m\u001b[32m1426\u001b[39m     \u001b[43mfp\u001b[49m\u001b[43m.\u001b[49m\u001b[43mflush\u001b[49m\u001b[43m(\u001b[49m\u001b[43m)\u001b[49m\n",
      "\u001b[31mKeyboardInterrupt\u001b[39m: "
     ]
    }
   ],
   "source": [
    "for idx, row in tqdm(df.iterrows(), total=len(df), desc='Processing slides'):\n",
    "    wsi_path = row['wsi_path']\n",
    "    # Resolve annotation path using helper (handles pandas NA, relative paths, and glob fallback)\n",
    "    annotation_path = resolve_annotation_path(row.get('annotation_path', None), wsi_path, base_dir=BASE_DIR)\n",
    "    if not annotation_path:\n",
    "        log(f\"Skipping slide without annotation: {wsi_path}\")\n",
    "        continue\n",
    "\n",
    "    log(f\"Processing slide: {wsi_path} with annotation: {annotation_path}\")\n",
    "    try:\n",
    "        mask = get_mask(annotation_path, wsi_path)\n",
    "    except Exception as e:\n",
    "        log(f\"Failed to generate mask for {wsi_path}: {e}\")\n",
    "        continue\n",
    "    if mask is None:\n",
    "        log(f\"No mask generated for {wsi_path}\")\n",
    "        continue\n",
    "\n",
    "    # At this point mask should be a 2D uint8 array (0 or 255)\n",
    "    log(f'Mask shape: {mask.shape}')\n",
    "\n",
    "    # Load WSI using the wrapper which prefers CuCIM when available\n",
    "    try:\n",
    "        wsi_slide = load_wsi(wsi_path)\n",
    "    except Exception as e:\n",
    "        log(f\"Failed to load WSI ({wsi_path}): {e}\")\n",
    "        continue\n",
    "    if wsi_slide is None:\n",
    "        log(f\"Failed to load WSI: {wsi_path}\")\n",
    "        continue\n",
    "\n",
    "    # Log which backend the loader selected (cucim or openslide)\n",
    "    backend = getattr(wsi_slide, 'backend', None)\n",
    "    log(f'Loaded WSI backend: {backend}')\n",
    "\n",
    "    # Extract patches (extract_patches can optionally save patches to disk)\n",
    "    slide_base = os.path.splitext(os.path.basename(wsi_path))[0]\n",
    "    out_dir_patches = os.path.join('outputs', 'patches', slide_base)\n",
    "    try:\n",
    "        patches = extract_patches(\n",
    "            wsi_slide,\n",
    "            mask=mask,\n",
    "            size=512,\n",
    "            stride=512,\n",
    "            save_dir=out_dir_patches,\n",
    "            save_prefix=slide_base,\n",
    "            save_format='png'\n",
    "        )\n",
    "    except Exception as e:\n",
    "        log(f\"Failed to extract patches for {wsi_path}: {e}\")\n",
    "        continue\n",
    "\n",
    "    saved = sum(1 for p in patches if p.get('path'))\n",
    "    log(f'Extracted {len(patches)} patches from {wsi_path}; saved {saved} to {out_dir_patches}')"
   ]
  },
  {
   "cell_type": "markdown",
   "id": "25674e6e",
   "metadata": {},
   "source": [
    "# Phase 1 — Train ResNet-50 (module)\n",
    "This trains a patch-level HER2 classifier using ResNet-50.\n",
    "\n",
    "Inputs: two CSV files with columns `path` and `label` (0 = negative, 1 = positive).\n",
    "Outputs:\n",
    "- Best model: `outputs/phase1/models/model_phase1.pth`\n",
    "- Logs/metrics: `outputs/phase1/logs`"
   ]
  },
  {
   "cell_type": "code",
   "execution_count": null,
   "id": "2cfef79c",
   "metadata": {},
   "outputs": [],
   "source": [
    "# CSV Detail: path (image path), label (0=negative, 1=positive)\n",
    "CFG = {\n",
    "    'train_csv': 'outputs/patches_index_train.csv',\n",
    "    'val_csv': 'outputs/patches_index_val.csv',\n",
    "    'output_dir': 'outputs/phase1',\n",
    "    'pretrained': True,\n",
    "    'input_size': 512,\n",
    "    'batch_size': 32,\n",
    "    'num_workers': 4,\n",
    "    'epochs': 10,\n",
    "    'lr': 1e-4,\n",
    "    'weight_decay': 1e-4,\n",
    "    'label_col': 'label',\n",
    "    'path_col': 'path',\n",
    "    'save_best_by': 'auc',\n",
    "    'seed': 42,\n",
    "}\n",
    "\n",
    "results = train_phase1(CFG)\n",
    "print('Best model:', results['best_model_path'])\n",
    "print('Logs dir:', results['logs_dir'])"
   ]
  }
 ],
 "metadata": {
  "kernelspec": {
   "display_name": "her2-class",
   "language": "python",
   "name": "python3"
  },
  "language_info": {
   "codemirror_mode": {
    "name": "ipython",
    "version": 3
   },
   "file_extension": ".py",
   "mimetype": "text/x-python",
   "name": "python",
   "nbconvert_exporter": "python",
   "pygments_lexer": "ipython3",
   "version": "3.12.0"
  }
 },
 "nbformat": 4,
 "nbformat_minor": 5
}
