from src.preprocessing.xml_to_mask import process_all

wsi_path = "data/Yale_trastuzumab_response_cohort/SVS/O09-03495.svs"
xml_path = "data/Yale_trastuzumab_response_cohort/Annotations/O09-03495.xml"
output_path = "data/Yale_trastuzumab_response_cohort/Masks/O09-03495_mask.png"

process_all([xml_path], [wsi_path], [output_path])



